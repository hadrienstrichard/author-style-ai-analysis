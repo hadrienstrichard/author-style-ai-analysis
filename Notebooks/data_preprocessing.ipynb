{
 "cells": [
  {
   "cell_type": "markdown",
   "id": "90165023",
   "metadata": {},
   "source": [
    "# Data Preprocessing\n",
    "\n",
    "This notebook cleans, tokenizes and augments data"
   ]
  },
  {
   "cell_type": "code",
   "execution_count": 1,
   "id": "ecc9ace0",
   "metadata": {},
   "outputs": [
    {
     "name": "stderr",
     "output_type": "stream",
     "text": [
      "[nltk_data] Downloading package punkt to\n",
      "[nltk_data]     /Users/hadrienstrichard/nltk_data...\n",
      "[nltk_data]   Package punkt is already up-to-date!\n",
      "[nltk_data] Downloading package punkt_tab to\n",
      "[nltk_data]     /Users/hadrienstrichard/nltk_data...\n",
      "[nltk_data]   Package punkt_tab is already up-to-date!\n"
     ]
    }
   ],
   "source": [
    "import pandas as pd\n",
    "import re\n",
    "import os\n",
    "from dotenv import load_dotenv\n",
    "from tqdm import tqdm\n",
    "import random\n",
    "import numpy as np\n",
    "import warnings\n",
    "\n",
    "# Tokenization\n",
    "import nltk\n",
    "nltk.download('punkt')\n",
    "nltk.download('punkt_tab')\n",
    "from nltk.tokenize import word_tokenize\n",
    "from nltk.tokenize.punkt import PunktSentenceTokenizer, PunktParameters\n",
    "\n",
    "# Data Augmentation\n",
    "import openai\n",
    "\n",
    "# Burrow's Delta Score\n",
    "from sklearn.preprocessing import StandardScaler\n",
    "from sklearn.feature_extraction.text import CountVectorizer\n",
    "from scipy.spatial.distance import cityblock  # Burrows' Delta uses Manhattan distance\n"
   ]
  },
  {
   "cell_type": "markdown",
   "id": "812f545e",
   "metadata": {},
   "source": [
    "## Cleaning and tokenizing"
   ]
  },
  {
   "cell_type": "code",
   "execution_count": 2,
   "id": "766e14d6",
   "metadata": {},
   "outputs": [],
   "source": [
    "# Load initial data\n",
    "\n",
    "texts = pd.read_parquet('../Data/excerpts_df.parquet')\n",
    "final_authors = pd.read_csv('../Data/final_authors.csv')"
   ]
  },
  {
   "cell_type": "code",
   "execution_count": 3,
   "id": "a280d983",
   "metadata": {},
   "outputs": [],
   "source": [
    "# Basic cleaning function tailored for stylometry (preserving punctuation, no lemmatization)\n",
    "def clean_text(text):\n",
    "    text = text.lower()\n",
    "    text = re.sub(r\"http\\S+|www\\S+|https\\S+\", '', text)  # remove URLs\n",
    "    text = re.sub(r'\\S+@\\S+', '', text)  # remove emails\n",
    "    text = re.sub(r'\\d+', '', text)  # remove digits\n",
    "    text = re.sub(r'\\s+', ' ', text)  # normalize whitespace\n",
    "    text = re.sub(r'[“”«»]', '\"', text)  # normalize quotes\n",
    "    text = re.sub(r\"[’]\", \"'\", text)  # normalize apostrophes\n",
    "    return text.strip()"
   ]
  },
  {
   "cell_type": "code",
   "execution_count": 4,
   "id": "b8c598a4",
   "metadata": {},
   "outputs": [],
   "source": [
    "# Apply cleaning\n",
    "texts['Cleaned_Text'] = texts['Excerpt_Text'].apply(clean_text)"
   ]
  },
  {
   "cell_type": "code",
   "execution_count": 5,
   "id": "4a0807b9",
   "metadata": {},
   "outputs": [
    {
     "name": "stdout",
     "output_type": "stream",
     "text": [
      "0                                                                              n'est souvent déterminée que par un mot. en ce point même, cependant, il n'a fait que se conformer au caprice piquant de la nature, qui se joue à nous faire parcourir dans la durée d'un seul rêve, plusieurs fois interrompu par des épisodes étrangers à son objet, tous les développements d'une action régulière, complète et plus ou moins vraisemblable. les personnes qui ont lu apulée s'apercevront facilement que la fable du premier livre de l'_âne d'or_ de cet ingénieux conteur a beaucoup de rapports avec celle-ci, et qu'elles se ressemblent par le fond presque autant qu'elles diffèrent par la forme. l'auteur paraît même avoir affecté de solliciter ce rapprochement en conservant à son principal personnage le nom de lucius. le récit du philosophe de madaure et celui du prêtre dalmate, cité par fortis, tome i, page , ont en effet une origine commune dans les chants traditionnels d'une contrée qu'apulée avait curieusement visitée, mais dont il a dédaigné de retracer le caractère, ce qui n'empêche pas qu'apulée ne soit un des écrivains les plus romantiques des temps anciens. il florissait à l'époque même qui sépare les âges du goût des âges de l'imagination. je dois avouer en finissant que, si j'avais apprécié les difficultés de cette traduction avant de l'entreprendre, je ne m'en serais jamais occupé. séduit par l'effet général du poème sans me rendre compte des combinaisons qui le produisaient, j'en avais attribué le mérite à la composition qui est cependant tout à fait nulle, et dont le faible intérêt ne soutiendrait pas longtemps l'attention, si l'auteur ne l'avait relevé par l'emploi des prestiges d'une imagination qui étonne, et surtout par la hardiesse incroyable d'un style qui ne cesse jamais cependant d'être élevé, pittoresque, harmonieux. voilà précisément ce qu'il ne m'était pas donné de reproduire, et ce que je n'aurais pu essayer de faire passer dans notre langue sans une présomption ridicule. certain que les lecteurs qui connaissent l'ouvrage original ne verront dans cette faible copie qu'une tentative impuissante, j'avais du moins à coeur qu'ils ne crussent pas y voir l'effort trompé d'une vanité malheureuse. j'ai en littérature des juges si sévèrement inflexibles et des amis si religieusement impartiaux, que je suis persuadé d'avance que cette explication ne sera pas inutile pour les uns et pour les autres. sur des sujets nouveaux faisons des vers antiques, a dit andré chénier. cette idée me préoccupait singulièrement dans ma jeunesse; et il faut dire, pour expliquer mes inductions et pour les excuser, que j'étais seul, dans ma jeunesse, à pressentir l'infaillible avènement d'une littérature nouvelle. pour le génie, ce pouvait être une révélation. pour moi, ce n'était qu'un tourment. je savais bien que les sujets n'étaient pas épuisés, et qu'il restait encore des domaines immenses à exploiter à l'imagination; mais je le savais obscurément, à la manière des hommes médiocres, et je louvoyais de loin sur les parages de l'amérique, sans m'apercevoir qu'il y avait là un monde. j'attendais qu'une voix aimée criât: terre! une chose m'avait frappé: c'est qu'à la fin de toutes les littératures, l'invention semblait s'enrichir en proportion des pertes du goût, et que les écrivains en qui elle surgissait, toute neuve et toute brillante, retenus par quelque étrange pudeur, n'avaient jamais osé la livrer à la multitude que sous un masque de cynisme et de dérision, comme la folie des joies populaires ou la ménade des bacchanales. ceci est le signalement distinctif des génies trigémeaux de lucien, d'apulée et de voltaire. si on cherche maintenant quelle était l'âme de cette création des temps achevés, on la trouvera dans la fantaisie. les grands hommes des vieux peuples retournent comme les vieillards aux jeux des petits enfants, en affectant de les dédaigner devant les sages; mais c'est là qu'ils laissent déborder en riant tout ce que la nature leur avait donné de puissance. apulée, philosophe platonicien, et voltaire poète épique, sont des nains à faire pitié. l'auteur de l'âne d'or, celui de la pucelle et de zadig, voilà des géants! je m'avisai un jour que la voie du fantastique, pris au sérieux, serait tout à fait nouvelle, autant que l'idée de nouveauté peut se présenter sous une acception absolue dans une civilisation usée. l'odyssée d'homère est du fantastique sérieux, mais elle a un caractère qui est propre aux conceptions des premiers âges, celui de la naïveté. il ne me restait plus, pour satisfaire à cet instinct curieux et inutile de mon faible esprit, que de découvrir dans l'homme la source d'un fantastique vraisemblable ou vrai, qui ne résulterait que d'impressions naturelles ou de croyances répandues, même parmi les hauts esprits de notre siècle incrédule, si profondément déchu de la naïveté antique. ce que je cherchais, plusieurs hommes l'ont trouvé depuis; walter scott et victor hugo, dans des types extraordinaires mais possibles, circonstance aujourd'hui essentielle qui manque à la réalité poétique de circé et de polyphème; hoffmann, dans la frénésie nerveuse de l'artiste enthousiaste, ou dans les phénomènes plus ou moins démontrés du magnétisme. schiller, qui se jouait de toutes les difficultés, avait déjà fait jaillir des émotions graves et terribles d'une combinaison encore plus commune dans ses moyens, de la collusion de deux charlatans de place, experts en fantasmagorie. le mauvais succès de smarra ne m'a pas prouvé que je me fusse entièrement trompé sur un autre ressort du fantastique moderne, plus merveilleux, selon moi, que les autres. ce qu'il m'aurait prouvé, c'est que je manquais de puissance pour m'en servir, et je n'avais pas besoin de l'apprendre. je le savais. la vie d'un homme organisé poétiquement se divise en deux séries de sensations à peu près égales, même en valeur, l'une qui résulte des illusions de la vie éveillée, l'autre qui se forme des illusions du sommeil. je ne disputerai pas sur l'avantage relatif de l'une ou de l'autre de ces deux manières de percevoir le monde imaginaire, mais je suis souverainement convaincu qu'elles n'ont rien à s'envier réciproquement à l'heure de la mort. le songeur n'aurait rien à gagner à se donner pour le poète, ni le poète pour le songeur. ce qui m'étonne, c'est que le poète éveillé ait si rarement profité dans ses oeuvres des fantaisies du poète endormi, ou du moins qu'il ait si rarement avoué son emprunt, car la réalité de cet emprunt dans les conceptions les plus audacieuses du génie est une chose qu'on ne peut pas contester. la descente d'ulysse aux enfers est un rêve. ce partage de facultés alternatives était probablement compris par les écrivains primitifs. les songes tiennent une grande place dans l'écriture. l'idée même de leur influence sur les développements de la pensée, dans son action extérieure, s'est conservée par une singulière tradition à travers toutes les circonspections de l'école classique. il n'y a pas vingt ans que le songe était de rigueur quand on composait une tragédie; j'en ai entendu cinquante, et malheureusement il semblait à les entendre que leurs auteurs n'eussent jamais rêvé. a force de m'étonner que la moitié et la plus forte moitié sans doute des imaginations de l'esprit ne fussent jamais devenues le sujet d'une fable idéale si propre à la poésie, je pensai à l'essayer pour moi seul, car je n'aspirais guère à jamais occuper les autres de mes livres et de mes préfaces, dont ils ne s'occupent pas beaucoup. un accident assez vulgaire d'organisation qui m'a livré toute ma vie à ces féeries du sommeil, cent fois plus lucides pour moi que mes amours, mes intérêts et mes ambitions, m'entraînait vers ce sujet. une seule chose m'en rebutait presque invinciblement, et il faut que je la dise. j'étais admirateur passionné des classiques, les seuls auteurs que j'eusse lus sous les yeux de mon père, et j'aurais renoncé à mon projet si je n'avais trouvé à l'exécuter dans la paraphrase poétique du premier livre d'apulée, auquel je devais tant de rêves étranges qui avaient fini par préoccuper mes jours du souvenir de mes nuits. cependant ce n'était pas tout. j'avais besoin aussi pour moi (cela est bien entendu) de l'expression vive et cependant élégante et harmonieuse de ces caprices du rêve qui n'avaient jamais été écrits, et dont le conte de fées d'apulée n'était que le canevas. comme le cadre de cette étude ne paraissait pas encore illimité à ma jeune et vigoureuse patience, je m'exerçai intrépidement à traduire et à retraduire toutes les phrases presque intraduisibles des classiques qui se rapportaient à mon plan, à les fondre, à les malléer, à les assouplir à la forme du premier auteur, comme je l'avais appris de klosptock, ou comme je l'avais appris d'horace: tout ceci serait fort ridicule à l'occasion de smarra, s'il n'en sortait une leçon assez utile pour les jeunes gens qui se forment à écrire la langue littéraire, et qui ne l'écriront jamais bien, si je ne me trompe, sans cette élaboration consciencieuse de la phrase bien faite et de l'expression bien trouvée. je souhaite qu'elle leur soit plus favorable qu'à moi. un jour ma vie changea, et passa de l'âge délicieux de l'espérance à l'âge impérieux de la nécessité. je ne rêvais plus mes livres à venir, et je vendais même mes rêves aux libraires. c'est ainsi que parut smarra, qui n'aurait jamais paru sous cette forme si j'avais été libre de lui en donner une autre. tel qu'il est, je crois que smarra, qui n'est qu'une étude, et je ne saurais trop le répéter, ne sera pas une étude inutile pour les grammairiens un peu philologues, et c'est peut-être une raison qui m'excuse de le reproduire. ils verront que j'ai cherché à y épuiser toutes les formes de la phraséologie française, en luttant de toute ma puissance d'écolier contre les difficultés de la construction grecque et latine, travail immense et minutieux comme celui de cet homme qui faisait passer des grains de mil par le trou d'une aiguille, mais qui mériterait peut-être un boisseau de mil chez les peuples civilisés.\n",
      "1                                                                                                                                                                                                                                                                                                                                                                                                                                                                                                                                                                                                                                                                                                                                                                       le reste ne me regarde point. j'ai dit de qui était la fable: sauf quelques phrases de transition, tout appartient à homère, à théocrite, à virgile, à catulle, à stace, à lucien, à dante, à shakespeare, à milton. je ne lisais pas autre chose. le défaut criant de smarra était donc de paraître ce qu'il était réellement, une étude, un centon, un pastiche des classiques, le plus mauvais volumen de l'école d'alexandrie échappé à l'incendie de la bibliothèque des ptolémées. personne ne s'en avisa. devineriez-vous ce qu'on fit de smarra, de cette fiction d'apulée, peut-être gauchement parfumée des roses d'anacréon? oh! livre studieux, livre méticuleux, livre d'innocence et de pudeur scolaire, livre écrit sous l'inspiration de l'antiquité la plus pure! on en fit un livre romantique! et henri estienne, scapula et schrevelius ne se levèrent pas de leurs tombeaux pour les démentir! pauvres gens!--ce n'est pas de schrevelius, de scapula et d'henri estienne que je parle. j'avais alors quelques amis illustres dans les lettres, qui répugnaient à m'abandonner sous le poids d'une accusation aussi capitale. ils auraient bien fait quelques concessions, mais romantique était un peu fort. ils avaient tenu bon longtemps. quand on leur parla de smarra, ils lâchèrent pied. la thessalie sonnait plus rudement à leurs oreilles que le scotland.\"larisse et le pénée, où diable a-t-il pris cela?\" disait ce bon lémontey (dieu l'ait en sa sainte garde!)--c'étaient de rudes classiques, je vous en réponds! ce qu'il y a de particulier et de risible dans ce jugement, c'est qu'on ne fit grâce tout au plus qu'à certaines parties du style, et c'était à ma honte la seule chose qui fût de moi dans le livre. des conceptions fantastiques de l'esprit le plus éminent de la décadence, de l'image homérique, du tour virgilien, de ces figures de construction si laborieusement, et quelquefois si artistement calquées, il n'en fut pas question. on leur accorda d'être écrites, et c'était tout. imaginez, je vous prie, une statue comme l'apollon ou l'antinous sur laquelle un méchant manoeuvre a jeté en passant, pour s'en débarrasser, quelque pan de haillon, et que l'académie des beaux-arts trouve mauvaise, mais assez proprement drapée!... mon travail sur smarra n'est donc qu'un travail verbal, l'oeuvre d'un écolier attentif; il vaut tout au plus un prix de composition au collège, mais il ne valait pas tant de mépris; j'adressai quelques jours après à mon malheureux ami auger un exemplaire de smarra avec les renvois aux classiques, et je pense qu'il peut s'être trouvé dans sa bibliothèque. le lendemain, m. ponthieu, mon libraire, me fit la grâce de m'annoncer qu'il avait vendu l'édition au poids. j'avais tellement redouté de me mesurer avec la haute puissance d'expression qui caractérise l'antiquité, que je m'étais caché sous le rôle obscur de traducteur. les pièces qui suivaient smarra, et que je n'ai pas cru devoir supprimer, favorisaient cette supposition, que mon séjour assez long dans des provinces esclavonnes rendait d'ailleurs vraisemblable. c'étaient d'autres études que j'avais faites, jeune encore, sur une langue primitive, ou au moins autochtone, qui a pourtant son iliade, la belle osmanide de gondola, mais je ne pensais pas que cette précaution mal entendue fût précisément ce qui soulèverait contre moi, à la seule inspection du titre de mon livre, l'indignation des littérateurs de ce temps-là, hommes d'une érudition modeste et tempérée dont les sages études n'avaient jamais passé la portée du père pomey dans l'investigation des histoires mythologiques, et celle de m. l'abbé valart dans l'analyse philosophique des langues. le nom sauvage de l'esclavonie les prévint contre tout ce qui pouvait arriver d'une contrée de barbares. on ne savait pas encore en france, mais aujourd'hui on le sait même à l'institut, que raguse est le dernier temple des muses grecques et latines; que les boscovich, les stay, les bernard de zamagna, les urbain appendini, les sorgo, ont brillé à son horizon comme une constellation classique, du temps même où paris se pâmait à la prose de m. de louvet et aux vers de m. demoustier; et que les savants esclavons, fort réservés d'ailleurs dans leurs prétentions, se permettent quelquefois de sourire assez malignement quand on leur parle des nôtres. ce pays est le dernier, dit-on, qui ait conservé le culte d'esculape, et on croirait qu'apollon reconnaissant a trouvé quelque charme à exhaler les derniers sons de sa lyre aux lieux où l'on aimait encore le souvenir de son fils. un autre que moi aurait gardé pour sa péroraison la phrase que vous venez de lire et qui exciterait un murmure extrêmement flatteur à la fin d'un discours d'apparat, mais je ne suis pas si fier, et il me reste quelque chose à dire: c'est que j'ai précisément oublié jusqu'ici la critique la plus sévère qu'ait essuyée ce malheureux smarra. on a jugé que la fable n'en était pas claire; qu'elle ne laissait à la fin de la lecture qu'une idée vague et presque inextricable; que l'esprit narrateur, continuellement distrait par les détails les plus fugitifs, se perdait à tout propos dans des digressions sans objet; que les transitions du récit n'étaient jamais déterminées par la liaison naturelle des pensées, junctura mixturaque, mais paraissaient abandonnées au caprice de la parole comme une chance du jeu de dés; qu'il était impossible enfin d'y discerner un plan rationnel et une intention écrite. j'ai dit que ces observations avaient été faites sous une forme qui n'était pas celle de l'éloge; on pourrait aisément s'y tromper; car c'est l'éloge que j'aurais voulu. ces caractères sont précisément ceux du rêve; et quiconque s'est résigné à lire smarra d'un bout à l'autre, sans s'apercevoir qu'il lisait un rêve, a pris une peine inutile. _\"somnia fallaci ludunt temeraria nocte,_ _et pavidas mentes falsa timere jubent\"_ _\"les songes, dans la nuit trompeuse, se jouent de nous à la légère, ils font trembler nos âmes en leur inspirant de fausses terreurs.\"_ [note : noter que nodier attribue cette citation à catulle, en réalité elle vient des élégies, iii, , v.-, de tibulle. lgs] _\"l'île est remplie de bruits, de sons et de doux airs qui donnent du plaisir sans jamais nuire. quelquefois des milliers d'instruments tintent confusément à mon oreille; quelquefois ce sont des voix telles que, si je m'éveillais, après un long sommeil, elle me feraient dormir encore; et quelquefois en dormant il m'a semblé voir les nuées s'ouvrir, et montrer toutes sortes de biens qui pleuvaient sur moi, de façon qu'en me réveillant je pleurais comme un enfant de l'envie de toujours rêver.\"_ ah! qu'il est doux, ma lisidis, quand le dernier tintement de cloche, qui expire dans les tours d'arona vient nommer minuit,--qu'il est doux de venir partager avec toi la couche longtemps solitaire où je te rêvais depuis un an! tu es à moi, lisidis, et les mauvais génies qui séparaient de ton gracieux sommeil le sommeil de lorenzo ne m'épouvanteront plus de leurs prestiges! on disait avec raison, sois-en sûre, que ces nocturnes terreurs qui assaillaient, qui brisaient mon âme pendant le cours des heures destinées au repos, n'étaient qu'un résultat naturel de mes études obstinées sur la merveilleuse poésie des anciens, et de l'impression que m'avaient laissée quelques fables fantastiques d'apulée, car le premier livre d'apulée saisit l'imagination d'une étreinte si vive et si douloureuse, que je ne voudrais pas, au prix de mes yeux, qu'il tombât sous les tiens. qu'on ne me parle plus aujourd'hui d'apulée et de ses visions; qu'on ne me parle plus ni des latins ni des grecs, ni des éblouissants caprices de leurs génies! n'es-tu pas pour moi, lisidis, une poésie plus belle que la poésie, et plus riche en divins enchantements que la nature toute entière? mais vous dormez, enfant, et vous ne m'entendez plus! vous avez dansé trop tard ce soir au bal de l'île belle!... vous avez trop dansé, surtout quand vous ne dansiez pas avec moi, et vous voilà fatiguée comme une rose que les brises ont balancée tout le jour, et qui attend pour se relever, plus vermeille sur sa tige à demi penchée, le premier regard du matin! dormez donc ainsi près de moi, le front appuyé sur mon épaule, et réchauffant mon coeur de la tiédeur parfumée de votre haleine. le sommeil me gagne aussi, mais il descend cette fois sur mes paupières, presque aussi gracieux qu'un de vos baisers. dormez, lisidis, dormez. il y a un moment où l'esprit suspendu dans le vague de ses pensées.... paix! la nuit est tout à fait sur la terre. vous n'entendez plus retentir sur le pavé sonore les pas du citadin qui gagne sa maison, ou la sole armée des mules qui arrivent au gîte du soir. le bruit du vent qui pleure ou siffle entre les ais mal joints de la croisée, voilà tout ce qui reste des impressions ordinaires de vos sens, et au bout de quelques instants, vous imaginez que ce murmure lui-même existe en vous. il devient une voix de votre âme, l'écho d'une idée indéfinissable, mais fixe, qui se confond avec les premières perceptions du sommeil. vous commencez cette vie nocturne qui se passe (ô prodige!) dans les mondes toujours nouveaux, parmi d'innombrables créatures dont le grand esprit a conçu la forme sans daigner l'accomplir, et qu'il s'est contenté de semer, volages et mystérieux fantômes, dans l'univers illimité des songes.\n",
      "2    les sylphes, tout étourdis du bruit de la veillée, descendent autour de vous en bourdonnant. ils frappent du battement monotone de leurs ailes de phalène vos yeux appesantis, et vous voyez longtemps flotter dans l'obscurité profonde la poussière transparente et bigarrée qui s'en échappe, comme un petit nuage lumineux au milieu d'un ciel éteint. ils se pressent, ils s'embrassent, ils se confondent, impatients de renouer la conversation magique des nuits précédentes, et de se raconter des événements inouïs qui se présentent cependant à votre esprit sous l'aspect d'une réminiscence merveilleuse. peu à peu leur voix s'affaiblit, ou bien elle ne vous parvient que par un organe inconnu qui transforme leurs récits en tableaux vivants, et qui vous rend acteur involontaire des scènes qu'ils ont préparées; car l'imagination de l'homme endormi, dans la puissance de son âme indépendante et solitaire, participe en quelque chose à la perfection des esprits. elle s'élance avec eux, et, portée par miracle au milieu du coeur aérien des songes, elle vole de surprise en surprise jusqu'à l'instant où le chant d'un oiseau matinal avertit son escorte aventureuse du retour de la lumière. effrayés du cri précurseur, ils se rassemblent comme un essaim d'abeilles au premier grondement du tonnerre, quand les larges gouttes de pluie font pencher la couronne des fleurs que l'hirondelle caresse sans les toucher. ils tombent, rebondissent, remontent, se croisent comme des atomes entraînés par des puissances contraires, et disparaissent en désordre dans un rayon du soleil. _\"o rebus meis_ _non infideles arbitrae,_ _nox, et diana, quae silentium regis,_ _arcana cum fiunt sacra;_ _nunc, nunc adeste\"_ _\"o fidèles témoins de mes oeuvres, nuit et toi, diane qui entoures de silence nos sacrés mystères, venez maintenant, venez.\"_ _\"par quel ordre ces esprits irrités viennent-ils m'effrayer de leurs clameurs et de leurs figures de lutins? qui roule devant moi ces rayons de feu? qui me fait perdre mon chemin dans la forêt? des singes hideux dont les dents grincent et mordent, ou bien des hérissons qui traversent exprès les sentiers pour se trouver sous mes pas et me blesser de leurs piquants.\"_ je venais d'achever mes études à l'école des philosophes d'athènes, et, curieux des beautés de la grèce, je visitais pour la première fois la poétique thessalie. mes esclaves m'attendaient à larisse dans un palais disposé pour me recevoir. j'avais voulu parcourir seul, et dans les heures imposantes de la nuit, cette forêt fameuse par les prestiges des magiciennes, qui étend de longs rideaux d'arbres verts sur les rives du pénée. les ombres épaisses qui s'accumulaient sur le dais immense des bois laissaient à peine s'échapper à travers quelques rameaux plus rares, dans une clairière ouverte sans doute par la cognée du bûcheron, le rayon tremblant d'une étoile pâle et cernée de brouillards. mes paupières appesanties se rabaissaient malgré moi sur mes yeux fatigués de chercher la trace blanchâtre du sentier qui s'effaçait dans le taillis, et je ne résistais au sommeil qu'en suivant d'une attention pénible le bruit des pieds de mon cheval, qui tantôt faisait crier l'arène, et tantôt gémir l'herbe sèche en retombant symétriquement sur la route. s'il s'arrêtait quelquefois, réveillé par son repos, je le nommais d'une voix forte, et je pressais sa marche devenue trop lente au gré de ma lassitude et de mon impatience. étonné de je ne sais quel obstacle inconnu, il s'élançait par bonds, roulant dans ses narines des hennissements de feu, se cabrait de terreur et reculait plus effrayé par les éclairs que les cailloux brisés faisaient jaillir sous ses pas.... --phlégon! phlégon, lui dis-je en frappant de ma tête accablée son cou qui se dressait d'épouvante, ô mon cher phlégon! n'est-il pas temps d'arriver à larisse où attendent les plaisirs et surtout le sommeil si doux! un instant de courage encore, et tu dormiras sur une litière de fleurs choisies; car la paille dorée qu'on recueille pour les boeufs de cérès n'est pas assez fraîche pour toi!...--tu ne vois pas, tu ne vois pas, dit-il en tressaillant... les torches qu'elles secouent devant nous dévorent la bruyère et mêlent des vapeurs mortelles à l'air que je respire.... comment veux-tu que je traverse leurs cercles magiques et leurs danses menaçantes, qui feraient reculer jusqu'aux chevaux du soleil? et cependant le pas cadencé de mon cheval continuait toujours à raisonner à mon oreille, et le sommeil plus profond suspendait plus longtemps mes inquiétudes. seulement, il arrivait d'un instant à l'autre qu'un groupe éclairé de flammes bizarres passait en riant sur ma tête... qu'un esprit difforme, sous l'apparence d'un mendiant ou d'un blessé, s'attachait à mon pied et se laissait entraîner à ma suite avec une horrible joie, ou bien qu'un vieillard hideux, qui joignait la laideur honteuse du crime à celle de la caducité, s'élançait en croupe derrière moi et me liait de ses bras décharné comme ceux de la mort. --allons! phlégon! m'écriais-je, allons le plus beau des coursiers qu'ait nourri le mont ida, brave les pernicieuses terreurs qui enchaînent ton courage! ces démons ne sont que de vaines apparences. mon épée, tournée en cercle autour de ta tête, divise leurs formes trompeuses, qui se dissipent comme un nuage. quand les vapeurs du matin flottent au-dessous des cimes de nos montagnes, et que, frappées par le soleil levant, elles les enveloppent d'une ceinture à demi transparente, le sommet, séparé de la base, paraît suspendu dans les cieux par une main invisible. c'est ainsi phlégon, que les sorcières de thessalie se divisent sous le tranchant de mon épée. n'entends-tu pas au loin les cris de plaisir qui s'élèvent des murs de larisse?... voilà, voilà les tours superbes de la ville de thessalie, si chère à la volupté; et cette musique qui vole dans l'air, c'est le chant de ses jeunes filles! qui me rendra d'entre vous, songes séducteurs qui bercez l'âme enivrée dans les souvenirs ineffables du plaisir, qui me rendra le chant des jeunes filles de thessalie et les nuits voluptueuses de larisse? entre des colonnes d'un marbre à demi transparent, sous douze coupoles brillantes qui réfléchissent dans l'or et le cristal les feux de cent mille flambeaux, les jeunes filles de thessalie, enveloppées de la vapeur colorée qui s'exhale de tous les parfums, n'offrent aux yeux qu'une forme indécise et charmante qui semble prête à s'évanouir. le nuage merveilleux balance autour d'elles ou promène sur leur groupe enchanteur tous les jeux inconstants de sa lumière, les teintes fraîches de la rose, les reflets animés de l'aurore, le cliquetis éblouissant des rayons de l'opale capricieuse. ce sont quelquefois des pluies de perles qui roulent sur leurs tuniques légères, ce sont quelquefois des aigrettes de feu qui jaillissent de tous les noeuds du lien d'or qui attache leurs cheveux. ne vous effrayez pas de les voir plus pâles que les autres filles de la grèce. elles appartiennent à peine à la terre, et semble se réveiller d'une vie passée. elles sont tristes aussi, soit parce qu'elles viennent d'un monde où elles ont quitté l'amour d'un esprit ou d'un dieu, soit parce qu'il y a dans le coeur d'une femme qui commence à aimer un immense besoin de souffrir. écoutez cependant. voilà les chants des jeunes filles de thessalie, la musique qui monte, qui monte dans l'air, qui émeut, en passant comme une nue harmonieuse, les vitraux solitaires des ruines chères aux poètes. écoutez! elles embrassent leurs lyres d'ivoire, interrogent les cordes sonores qui répondent une fois, vibrent un moment, s'arrêtent, et, devenues immobiles, prolongent encore je ne sais quelle harmonie sans fin que l'âme entend par tous les sens: mélodie pure comme la douce pensée d'une âme heureuse, comme le premier baiser de l'amour avant que l'amour se soit compris lui-même; comme le regard d'une mère qui caresse le berceau de l'enfant dont elle a rêvé la mort, et qu'on vient de lui rapporter, tranquille et beau dans son sommeil. ainsi s'évanouit, abandonné aux airs, égaré dans les échos, suspendu au milieu du silence du lac, ou mourant avec la vague au pied du rocher insensible, le dernier soupir du sistre d'une jeune femme qui pleure parce que son amant n'est pas venu. elles se regardent, se penchent, se consolent, croisent leurs bras élégants, confondent leurs chevelures flottantes, dansent pour donner de la jalousie aux nymphes, et font jaillir sous leurs pas une poussière enflammée qui vole, qui blanchit, qui s'éteint, qui tombe en cendres d'argent; et l'harmonie de leurs chants coule toujours comme un fleuve de miel, comme le ruisseau gracieux qui embellit de ses murmures si doux des rives aimées du soleil et riche de secrets détours, de baies fraîches et ombragées, de papillon et de fleurs. elles chantent.... une seule peut-être... grande, immobile, debout, pensive.... dieux! qu'elle est sombre et affligée derrière ses compagnes, et que veut-elle de moi? ah! ne poursuit pas ma pensée, apparence imparfaite de la bien-aimée qui n'est plus, ne trouble pas le doux charme de mes veillées du reproche effrayant de ta vue? laisse-moi, car je t'ai pleurée sept ans, laisse-moi oublier les pleurs qui brûlent encore mes joues dans les innocentes délices de la danse des sylphides et de la musique des fées. tu vois bien qu'elles viennent, tu vois leurs groupes se lier, s'arrondir en festons mobiles, inconstants, qui se disputent, qui se succèdent, qui s'approchent, qui fuient, qui montent comme la vague apportée par le flux, et descendent comme elle, en roulant sur les ondes fugitives toutes les couleurs de l'écharpe qui embrasse le ciel et la mer à la fin des tempêtes, quand elle vient briser en expirant le dernier point de son cercle immense contre la proue du vaisseau. et que m'importent à moi les accidents de la mer et les curieuses inquiétudes du voyageur, à moi qu'une faveur divine, qui fut peut-être dans une ancienne vie un des privilèges de l'homme, affranchit quand je le veux (bénéfice délicieux du sommeil) de tous les périls qui vous menacent?\n",
      "Name: Cleaned_Text, dtype: object\n"
     ]
    }
   ],
   "source": [
    "# Display first 3 cleaned text for verification\n",
    "pd.set_option('display.max_colwidth', None)\n",
    "print(texts['Cleaned_Text'][:3])"
   ]
  },
  {
   "cell_type": "code",
   "execution_count": 6,
   "id": "b27c7170",
   "metadata": {},
   "outputs": [],
   "source": [
    "# Load French tokenizer\n",
    "punkt_param = PunktParameters()\n",
    "tokenizer = PunktSentenceTokenizer(punkt_param)"
   ]
  },
  {
   "cell_type": "code",
   "execution_count": 7,
   "id": "fdc90ae4",
   "metadata": {},
   "outputs": [],
   "source": [
    "# Apply word tokenization\n",
    "texts['Tokens'] = texts['Cleaned_Text'].apply(lambda x: word_tokenize(x, language='french'))"
   ]
  },
  {
   "cell_type": "code",
   "execution_count": 8,
   "id": "4fdaedce",
   "metadata": {},
   "outputs": [
    {
     "name": "stdout",
     "output_type": "stream",
     "text": [
      "0                                                                     [n'est, souvent, déterminée, que, par, un, mot, ., en, ce, point, même, ,, cependant, ,, il, n, ', a, fait, que, se, conformer, au, caprice, piquant, de, la, nature, ,, qui, se, joue, à, nous, faire, parcourir, dans, la, durée, d'un, seul, rêve, ,, plusieurs, fois, interrompu, par, des, épisodes, étrangers, à, son, objet, ,, tous, les, développements, d'une, action, régulière, ,, complète, et, plus, ou, moins, vraisemblable, ., les, personnes, qui, ont, lu, apulée, s'apercevront, facilement, que, la, fable, du, premier, livre, de, l'_âne, d'or_, de, cet, ingénieux, conteur, a, beaucoup, de, rapports, avec, celle-ci, ,, et, qu'elles, se, ...]\n",
      "1                                                                                                              [le, reste, ne, me, regarde, point, ., j'ai, dit, de, qui, était, la, fable, :, sauf, quelques, phrases, de, transition, ,, tout, appartient, à, homère, ,, à, théocrite, ,, à, virgile, ,, à, catulle, ,, à, stace, ,, à, lucien, ,, à, dante, ,, à, shakespeare, ,, à, milton, ., je, ne, lisais, pas, autre, chose, ., le, défaut, criant, de, smarra, était, donc, de, paraître, ce, qu'il, était, réellement, ,, une, étude, ,, un, centon, ,, un, pastiche, des, classiques, ,, le, plus, mauvais, volumen, de, l'école, d'alexandrie, échappé, à, l'incendie, de, la, bibliothèque, des, ptolémées, ., personne, ne, ...]\n",
      "2    [les, sylphes, ,, tout, étourdis, du, bruit, de, la, veillée, ,, descendent, autour, de, vous, en, bourdonnant, ., ils, frappent, du, battement, monotone, de, leurs, ailes, de, phalène, vos, yeux, appesantis, ,, et, vous, voyez, longtemps, flotter, dans, l'obscurité, profonde, la, poussière, transparente, et, bigarrée, qui, s'en, échappe, ,, comme, un, petit, nuage, lumineux, au, milieu, d'un, ciel, éteint, ., ils, se, pressent, ,, ils, s'embrassent, ,, ils, se, confondent, ,, impatients, de, renouer, la, conversation, magique, des, nuits, précédentes, ,, et, de, se, raconter, des, événements, inouïs, qui, se, présentent, cependant, à, votre, esprit, sous, l'aspect, d'une, réminiscence, merveilleuse, ...]\n",
      "Name: Tokens, dtype: object\n"
     ]
    }
   ],
   "source": [
    "# Display first 3 tokenized text for verification\n",
    "print(texts['Tokens'][:3])"
   ]
  },
  {
   "cell_type": "code",
   "execution_count": 9,
   "id": "d5c6f523",
   "metadata": {},
   "outputs": [],
   "source": [
    "# Drop authors and excerpts with < 25 excerpts\n",
    "author_counts = texts['Author'].value_counts()\n",
    "valid_authors = author_counts[author_counts > 25].index\n",
    "texts = texts[texts['Author'].isin(valid_authors)]\n",
    "\n",
    "# Filter final_authors\n",
    "final_authors = final_authors[final_authors['Name'].isin(valid_authors)]\n",
    "\n",
    "# Update books.csv\n",
    "books = pd.read_csv('../Data/books.csv')\n",
    "books = books[books['Author'].isin(valid_authors)]\n",
    "books.to_csv('../Data/books.csv', index=False)\n",
    "\n",
    "# Save updated data\n",
    "texts.to_parquet('../Data/excerpts_df.parquet')\n",
    "final_authors.to_csv('../Data/final_authors.csv', index=False)"
   ]
  },
  {
   "cell_type": "code",
   "execution_count": 10,
   "id": "c9cd5b33",
   "metadata": {},
   "outputs": [
    {
     "name": "stdout",
     "output_type": "stream",
     "text": [
      "<class 'pandas.core.frame.DataFrame'>\n",
      "RangeIndex: 28 entries, 0 to 27\n",
      "Data columns (total 7 columns):\n",
      " #   Column      Non-Null Count  Dtype \n",
      "---  ------      --------------  ----- \n",
      " 0   Name        28 non-null     object\n",
      " 1   birth_date  28 non-null     object\n",
      " 2   death_date  28 non-null     object\n",
      " 3   n_books     28 non-null     int64 \n",
      " 4   Mouvement   28 non-null     object\n",
      " 5   Genres      28 non-null     object\n",
      " 6   n_excerpts  28 non-null     int64 \n",
      "dtypes: int64(2), object(5)\n",
      "memory usage: 1.7+ KB\n"
     ]
    }
   ],
   "source": [
    "final_authors.info()"
   ]
  },
  {
   "cell_type": "code",
   "execution_count": 11,
   "id": "e620934b",
   "metadata": {},
   "outputs": [
    {
     "name": "stdout",
     "output_type": "stream",
     "text": [
      "<class 'pandas.core.frame.DataFrame'>\n",
      "RangeIndex: 299 entries, 0 to 298\n",
      "Data columns (total 9 columns):\n",
      " #   Column     Non-Null Count  Dtype  \n",
      "---  ------     --------------  -----  \n",
      " 0   Author     299 non-null    object \n",
      " 1   Title      299 non-null    object \n",
      " 2   Language   299 non-null    object \n",
      " 3   EBook-No   299 non-null    int64  \n",
      " 4   URL        299 non-null    object \n",
      " 5   Roman      299 non-null    bool   \n",
      " 6   Genres     299 non-null    object \n",
      " 7   Mouvement  299 non-null    object \n",
      " 8   Date       298 non-null    float64\n",
      "dtypes: bool(1), float64(1), int64(1), object(6)\n",
      "memory usage: 19.1+ KB\n"
     ]
    }
   ],
   "source": [
    "books.info()"
   ]
  },
  {
   "cell_type": "code",
   "execution_count": 12,
   "id": "90586481",
   "metadata": {},
   "outputs": [
    {
     "name": "stdout",
     "output_type": "stream",
     "text": [
      "<class 'pandas.core.frame.DataFrame'>\n",
      "RangeIndex: 14680 entries, 0 to 14679\n",
      "Data columns (total 9 columns):\n",
      " #   Column              Non-Null Count  Dtype \n",
      "---  ------              --------------  ----- \n",
      " 0   Author              14680 non-null  object\n",
      " 1   Title               14680 non-null  object\n",
      " 2   URL                 14680 non-null  object\n",
      " 3   Excerpt_ID          14680 non-null  object\n",
      " 4   Excerpt_Text        14680 non-null  object\n",
      " 5   Cleaned_Text        14680 non-null  object\n",
      " 6   Tokens              14680 non-null  object\n",
      " 7   Tokenized_Text      55 non-null     object\n",
      " 8   of_which_generated  55 non-null     object\n",
      "dtypes: object(9)\n",
      "memory usage: 1.0+ MB\n"
     ]
    }
   ],
   "source": [
    "texts.info()"
   ]
  },
  {
   "cell_type": "markdown",
   "id": "611f08f6",
   "metadata": {},
   "source": [
    "## Data Aug"
   ]
  },
  {
   "cell_type": "code",
   "execution_count": 13,
   "id": "1130db25",
   "metadata": {},
   "outputs": [],
   "source": [
    "# Load OpenAI key\n",
    "\n",
    "load_dotenv()\n",
    "openai.api_key = os.getenv(\"OPENAI_API_KEY\")"
   ]
  },
  {
   "cell_type": "code",
   "execution_count": 14,
   "id": "149a02a2",
   "metadata": {},
   "outputs": [],
   "source": [
    "# Delta Score Calculation\n",
    "\n",
    "def compute_author_profiles(texts_df):\n",
    "    \"\"\"Creates stylometric profiles per author\"\"\"\n",
    "    vectorizer = CountVectorizer(max_features=300, analyzer='word', lowercase=True)\n",
    "    X = vectorizer.fit_transform(texts_df[\"Cleaned_Text\"])\n",
    "    features = pd.DataFrame(X.toarray(), columns=vectorizer.get_feature_names_out())\n",
    "    features[\"Author\"] = texts_df[\"Author\"].values\n",
    "\n",
    "    # Compute mean frequencies per author\n",
    "    author_profiles = features.groupby(\"Author\").mean()\n",
    "\n",
    "    # Z-score normalization (feature-wise)\n",
    "    scaler = StandardScaler()\n",
    "    scaled_profiles = pd.DataFrame(\n",
    "        scaler.fit_transform(author_profiles),\n",
    "        index=author_profiles.index,\n",
    "        columns=author_profiles.columns\n",
    "    )\n",
    "    return scaled_profiles, scaler, vectorizer\n",
    "\n",
    "def delta_score(text, scaled_author_profiles, scaler, vectorizer):\n",
    "    \"\"\"Compute Delta between one excerpt and all author profiles\"\"\"\n",
    "    vec = vectorizer.transform([text])\n",
    "    vec_df = pd.DataFrame(vec.toarray(), columns=vectorizer.get_feature_names_out())\n",
    "\n",
    "    # Align columns\n",
    "    for col in scaled_author_profiles.columns:\n",
    "        if col not in vec_df.columns:\n",
    "            vec_df[col] = 0\n",
    "    vec_df = vec_df[scaled_author_profiles.columns]\n",
    "\n",
    "    # Normalize using same scaler as author profiles\n",
    "    vec_scaled = pd.DataFrame(\n",
    "        scaler.transform(vec_df),\n",
    "        columns=vec_df.columns\n",
    "    ).iloc[0]\n",
    "\n",
    "    # Compute Manhattan (L1) distance: Burrows’ Delta\n",
    "    deltas = {}\n",
    "    for author in scaled_author_profiles.index:\n",
    "        profile = scaled_author_profiles.loc[author]\n",
    "        deltas[author] = cityblock(vec_scaled, profile)\n",
    "\n",
    "    return deltas\n",
    "\n",
    "\n",
    "def get_delta_distribution_for_author(author, texts_df, profiles, scaler, vectorizer):\n",
    "    subset = texts_df[texts_df[\"Author\"] == author][\"Cleaned_Text\"]\n",
    "    deltas = [delta_score(text, profiles, scaler, vectorizer)[author] for text in subset]\n",
    "    return deltas"
   ]
  },
  {
   "cell_type": "code",
   "execution_count": 15,
   "id": "ff82cd6f",
   "metadata": {},
   "outputs": [],
   "source": [
    "def build_prompt(target_author, example_1, example_2, input_excerpt, author_metadata):\n",
    "    bio = (\n",
    "        f\"{target_author} est un écrivain français du {author_metadata['birth_date'][:4]}–{author_metadata['death_date'][:4]} siècle. \"\n",
    "        f\"Appartenant au mouvement {author_metadata['Mouvement']}, il a principalement écrit dans les genres suivants : \"\n",
    "        f\"{author_metadata['Genres']}.\"\n",
    "    )\n",
    "\n",
    "    return f\"\"\"\n",
    "Tu es un modèle de génération de texte littéraire spécialisé dans l'augmentation de données pour la classification d'auteurs.\n",
    "\n",
    "Ton rôle :\n",
    "- Générer des extraits de fiction de 1500 mots (+/- 10%) en français.\n",
    "- Respecter scrupuleusement le style de l’auteur : vocabulaire, syntaxe, ponctuation, ton, époque.\n",
    "- Ne pas inclure de dialogues, titres ou en-têtes : que du texte narratif ou descriptif.\n",
    "- Générer un passage qui suit naturellement celui donné, comme s’il s’agissait de la suite immédiate dans le livre.\n",
    "\n",
    "Informations :\n",
    "{bio}\n",
    "\n",
    "Exemple de suite entre deux extraits d’un même livre de cet auteur:\n",
    "--- Extrait A ---\n",
    "{example_1}\n",
    "--- Extrait B (suite de A) ---\n",
    "{example_2}\n",
    "\n",
    "Tâche :\n",
    "Voici un extrait tiré de l’œuvre suivante : \"{input_excerpt['Title']}\". Génére la suite immédiate de cet extrait dans le même style, sans introduire de coupure ou de résumé.\n",
    "\n",
    "--- Extrait donné ---\n",
    "{input_excerpt['Excerpt_Text']}\n",
    "--- Ta réponse (suite de l'extrait) ---\n",
    "\"\"\"\n"
   ]
  },
  {
   "cell_type": "code",
   "execution_count": 16,
   "id": "933aa061",
   "metadata": {},
   "outputs": [],
   "source": [
    "def generate_and_validate(author_row, texts_df, n_needed, author_profiles, vectorizer, scaler, client):\n",
    "\n",
    "    author_name = author_row[\"Name\"]\n",
    "    subset = texts_df[texts_df[\"Author\"] == author_name].copy()\n",
    "\n",
    "    # Extract book ID and position\n",
    "    subset[[\"Book_ID\", \"Book_Pos\"]] = subset[\"Excerpt_ID\"].str.extract(r\"(\\d+)_(\\d+)\")\n",
    "    subset[\"Book_Pos\"] = subset[\"Book_Pos\"].astype(int)\n",
    "\n",
    "    # For each book, keep middle 50% of excerpts\n",
    "    middle_excerpts = []\n",
    "    for book_id, group in subset.groupby(\"Book_ID\"):\n",
    "        group_sorted = group.sort_values(\"Book_Pos\")\n",
    "        n = len(group_sorted)\n",
    "        if n >= 4:\n",
    "            middle = group_sorted.iloc[n // 4: 3 * n // 4]\n",
    "            middle_excerpts.append(middle)\n",
    "        else:\n",
    "            # If too few excerpts, keep them all (fallback)\n",
    "            middle_excerpts.append(group_sorted)\n",
    "\n",
    "    middle_subset = pd.concat(middle_excerpts).reset_index(drop=True)\n",
    "\n",
    "\n",
    "    new_excerpts = []\n",
    "    attempts = 0\n",
    "    max_attempts = 5 * n_needed \n",
    "\n",
    "    while len(new_excerpts) < n_needed and attempts < max_attempts:\n",
    "        attempts += 1\n",
    "\n",
    "        # Random consecutive excerpts for example\n",
    "        examples = middle_subset.sample(2).sort_values(\"Excerpt_ID\")\n",
    "        example_1, example_2 = examples.iloc[0][\"Excerpt_Text\"], examples.iloc[1][\"Excerpt_Text\"]\n",
    "\n",
    "        # Input excerpt also from middle\n",
    "        input_excerpt = middle_subset.sample(1).iloc[0]\n",
    "\n",
    "        prompt = build_prompt(\n",
    "            target_author=author_name,\n",
    "            example_1=example_1,\n",
    "            example_2=example_2,\n",
    "            input_excerpt=input_excerpt,\n",
    "            author_metadata=author_row\n",
    "        )\n",
    "\n",
    "        try:\n",
    "            print(f\"Generating excerpt for {author_name}... (Attempt {attempts})\")\n",
    "            response = client.chat.completions.create(\n",
    "                model=\"gpt-4.1-2025-04-14\",\n",
    "                messages=[{\"role\": \"user\", \"content\": prompt}],\n",
    "                temperature=0.5,\n",
    "                max_tokens=2048\n",
    "            )\n",
    "            generated = response.choices[0].message.content\n",
    "            print(f\"Generated excerpt for {author_name}: {generated[:100]}...\")\n",
    "\n",
    "            cleaned_gen = clean_text(generated)\n",
    "            tokenized_gen = word_tokenize(cleaned_gen, language='french')\n",
    "            print(len(tokenized_gen), \"tokens in generated excerpt\")\n",
    "            length_ok = 1350 <= len(tokenized_gen) <= 1650\n",
    "\n",
    "            delta_scores = delta_score(cleaned_gen, author_profiles, scaler, vectorizer)\n",
    "            print(f\"Delta scores for {author_name}: {delta_scores}\")\n",
    "            sorted_authors = sorted(delta_scores.items(), key=lambda x: x[1])\n",
    "            closest_author, closest_score = sorted_authors[0]\n",
    "            target_score = delta_scores[author_name]\n",
    "            print(f\"Closest author: {closest_author} ({closest_score:.2f}), Target author ({author_name}): {target_score:.2f}\")\n",
    "\n",
    "            # Allow small tolerance if author is nearly the closest\n",
    "            tolerance = attempts / 100  # Make the tolerance increase with attempts\n",
    "            delta_gap = abs(closest_score - target_score)\n",
    "            is_closest_or_near = (\n",
    "                closest_author == author_name or\n",
    "                (target_score - closest_score) / closest_score <= tolerance\n",
    "            )\n",
    "\n",
    "            # Delta range check\n",
    "            real_deltas = get_delta_distribution_for_author(\n",
    "                author_name, texts_df, author_profiles, scaler, vectorizer\n",
    "            )\n",
    "            threshold = np.percentile(real_deltas, 90)\n",
    "            within_range = target_score <= threshold\n",
    "\n",
    "            print(f\"Delta to {author_name}: {target_score:.2f} | 90th percentile: {threshold:.2f}\")\n",
    "            good_style = is_closest_or_near and within_range\n",
    "            print(f\"Excerpt length OK: {length_ok}, Good style: {good_style}\")\n",
    "\n",
    "            if length_ok and good_style:\n",
    "                new_excerpts.append({\n",
    "                    \"Author\": author_name,\n",
    "                    \"Title\": input_excerpt[\"Title\"],\n",
    "                    \"URL\": input_excerpt[\"URL\"],\n",
    "                    \"Excerpt_ID\": f\"{input_excerpt['Excerpt_ID']}_gen{len(new_excerpts)}\",\n",
    "                    \"Excerpt_Text\": generated,\n",
    "                    \"Cleaned_Text\": cleaned_gen,\n",
    "                    \"Tokens\": tokenized_gen,\n",
    "                    \"of_which_generated\": input_excerpt[\"Excerpt_ID\"]\n",
    "                })\n",
    "                print(f\"✅ Accepted excerpt for {author_name}: {len(new_excerpts)} / {n_needed}\")\n",
    "\n",
    "        except Exception as e:\n",
    "            print(f\"Error (attempt {attempts}):\", e)\n",
    "            continue\n",
    "\n",
    "    if len(new_excerpts) < n_needed:\n",
    "        warnings.warn(\n",
    "            f\"⚠️ Could not generate all excerpts for {author_name}. Only {len(new_excerpts)} out of {n_needed} were accepted. Review needed.\"\n",
    "        )\n",
    "\n",
    "    return pd.DataFrame(new_excerpts)\n"
   ]
  },
  {
   "cell_type": "code",
   "execution_count": 17,
   "id": "2204935f",
   "metadata": {},
   "outputs": [
    {
     "name": "stdout",
     "output_type": "stream",
     "text": [
      "Authors needing augmentation: 0\n"
     ]
    }
   ],
   "source": [
    "# Precompute author profiles\n",
    "author_profiles, scaler, vectorizer = compute_author_profiles(texts)\n",
    "\n",
    "# Get underrepresented authors\n",
    "need_aug = final_authors[final_authors[\"n_excerpts\"] < 50]\n",
    "\n",
    "print(f\"Authors needing augmentation: {len(need_aug)}\")"
   ]
  },
  {
   "cell_type": "code",
   "execution_count": 18,
   "id": "cf15e739",
   "metadata": {},
   "outputs": [
    {
     "name": "stderr",
     "output_type": "stream",
     "text": [
      "0it [00:00, ?it/s]\n"
     ]
    },
    {
     "ename": "ValueError",
     "evalue": "No objects to concatenate",
     "output_type": "error",
     "traceback": [
      "\u001b[31m---------------------------------------------------------------------------\u001b[39m",
      "\u001b[31mValueError\u001b[39m                                Traceback (most recent call last)",
      "\u001b[36mCell\u001b[39m\u001b[36m \u001b[39m\u001b[32mIn[18]\u001b[39m\u001b[32m, line 10\u001b[39m\n\u001b[32m      7\u001b[39m     df_aug = generate_and_validate(author_row, texts, n_needed, author_profiles, vectorizer, scaler, client)\n\u001b[32m      8\u001b[39m     augmented_all.append(df_aug)\n\u001b[32m---> \u001b[39m\u001b[32m10\u001b[39m augmented_df = \u001b[43mpd\u001b[49m\u001b[43m.\u001b[49m\u001b[43mconcat\u001b[49m\u001b[43m(\u001b[49m\u001b[43maugmented_all\u001b[49m\u001b[43m,\u001b[49m\u001b[43m \u001b[49m\u001b[43mignore_index\u001b[49m\u001b[43m=\u001b[49m\u001b[38;5;28;43;01mTrue\u001b[39;49;00m\u001b[43m)\u001b[49m\n\u001b[32m     12\u001b[39m \u001b[38;5;66;03m# Add new excerpts\u001b[39;00m\n\u001b[32m     13\u001b[39m texts = pd.concat([texts, augmented_df], ignore_index=\u001b[38;5;28;01mTrue\u001b[39;00m)\n",
      "\u001b[36mFile \u001b[39m\u001b[32m~/Library/Caches/pypoetry/virtualenvs/research-paper-9dnSQuhV-py3.11/lib/python3.11/site-packages/pandas/core/reshape/concat.py:382\u001b[39m, in \u001b[36mconcat\u001b[39m\u001b[34m(objs, axis, join, ignore_index, keys, levels, names, verify_integrity, sort, copy)\u001b[39m\n\u001b[32m    379\u001b[39m \u001b[38;5;28;01melif\u001b[39;00m copy \u001b[38;5;129;01mand\u001b[39;00m using_copy_on_write():\n\u001b[32m    380\u001b[39m     copy = \u001b[38;5;28;01mFalse\u001b[39;00m\n\u001b[32m--> \u001b[39m\u001b[32m382\u001b[39m op = \u001b[43m_Concatenator\u001b[49m\u001b[43m(\u001b[49m\n\u001b[32m    383\u001b[39m \u001b[43m    \u001b[49m\u001b[43mobjs\u001b[49m\u001b[43m,\u001b[49m\n\u001b[32m    384\u001b[39m \u001b[43m    \u001b[49m\u001b[43maxis\u001b[49m\u001b[43m=\u001b[49m\u001b[43maxis\u001b[49m\u001b[43m,\u001b[49m\n\u001b[32m    385\u001b[39m \u001b[43m    \u001b[49m\u001b[43mignore_index\u001b[49m\u001b[43m=\u001b[49m\u001b[43mignore_index\u001b[49m\u001b[43m,\u001b[49m\n\u001b[32m    386\u001b[39m \u001b[43m    \u001b[49m\u001b[43mjoin\u001b[49m\u001b[43m=\u001b[49m\u001b[43mjoin\u001b[49m\u001b[43m,\u001b[49m\n\u001b[32m    387\u001b[39m \u001b[43m    \u001b[49m\u001b[43mkeys\u001b[49m\u001b[43m=\u001b[49m\u001b[43mkeys\u001b[49m\u001b[43m,\u001b[49m\n\u001b[32m    388\u001b[39m \u001b[43m    \u001b[49m\u001b[43mlevels\u001b[49m\u001b[43m=\u001b[49m\u001b[43mlevels\u001b[49m\u001b[43m,\u001b[49m\n\u001b[32m    389\u001b[39m \u001b[43m    \u001b[49m\u001b[43mnames\u001b[49m\u001b[43m=\u001b[49m\u001b[43mnames\u001b[49m\u001b[43m,\u001b[49m\n\u001b[32m    390\u001b[39m \u001b[43m    \u001b[49m\u001b[43mverify_integrity\u001b[49m\u001b[43m=\u001b[49m\u001b[43mverify_integrity\u001b[49m\u001b[43m,\u001b[49m\n\u001b[32m    391\u001b[39m \u001b[43m    \u001b[49m\u001b[43mcopy\u001b[49m\u001b[43m=\u001b[49m\u001b[43mcopy\u001b[49m\u001b[43m,\u001b[49m\n\u001b[32m    392\u001b[39m \u001b[43m    \u001b[49m\u001b[43msort\u001b[49m\u001b[43m=\u001b[49m\u001b[43msort\u001b[49m\u001b[43m,\u001b[49m\n\u001b[32m    393\u001b[39m \u001b[43m\u001b[49m\u001b[43m)\u001b[49m\n\u001b[32m    395\u001b[39m \u001b[38;5;28;01mreturn\u001b[39;00m op.get_result()\n",
      "\u001b[36mFile \u001b[39m\u001b[32m~/Library/Caches/pypoetry/virtualenvs/research-paper-9dnSQuhV-py3.11/lib/python3.11/site-packages/pandas/core/reshape/concat.py:445\u001b[39m, in \u001b[36m_Concatenator.__init__\u001b[39m\u001b[34m(self, objs, axis, join, keys, levels, names, ignore_index, verify_integrity, copy, sort)\u001b[39m\n\u001b[32m    442\u001b[39m \u001b[38;5;28mself\u001b[39m.verify_integrity = verify_integrity\n\u001b[32m    443\u001b[39m \u001b[38;5;28mself\u001b[39m.copy = copy\n\u001b[32m--> \u001b[39m\u001b[32m445\u001b[39m objs, keys = \u001b[38;5;28;43mself\u001b[39;49m\u001b[43m.\u001b[49m\u001b[43m_clean_keys_and_objs\u001b[49m\u001b[43m(\u001b[49m\u001b[43mobjs\u001b[49m\u001b[43m,\u001b[49m\u001b[43m \u001b[49m\u001b[43mkeys\u001b[49m\u001b[43m)\u001b[49m\n\u001b[32m    447\u001b[39m \u001b[38;5;66;03m# figure out what our result ndim is going to be\u001b[39;00m\n\u001b[32m    448\u001b[39m ndims = \u001b[38;5;28mself\u001b[39m._get_ndims(objs)\n",
      "\u001b[36mFile \u001b[39m\u001b[32m~/Library/Caches/pypoetry/virtualenvs/research-paper-9dnSQuhV-py3.11/lib/python3.11/site-packages/pandas/core/reshape/concat.py:507\u001b[39m, in \u001b[36m_Concatenator._clean_keys_and_objs\u001b[39m\u001b[34m(self, objs, keys)\u001b[39m\n\u001b[32m    504\u001b[39m     objs_list = \u001b[38;5;28mlist\u001b[39m(objs)\n\u001b[32m    506\u001b[39m \u001b[38;5;28;01mif\u001b[39;00m \u001b[38;5;28mlen\u001b[39m(objs_list) == \u001b[32m0\u001b[39m:\n\u001b[32m--> \u001b[39m\u001b[32m507\u001b[39m     \u001b[38;5;28;01mraise\u001b[39;00m \u001b[38;5;167;01mValueError\u001b[39;00m(\u001b[33m\"\u001b[39m\u001b[33mNo objects to concatenate\u001b[39m\u001b[33m\"\u001b[39m)\n\u001b[32m    509\u001b[39m \u001b[38;5;28;01mif\u001b[39;00m keys \u001b[38;5;129;01mis\u001b[39;00m \u001b[38;5;28;01mNone\u001b[39;00m:\n\u001b[32m    510\u001b[39m     objs_list = \u001b[38;5;28mlist\u001b[39m(com.not_none(*objs_list))\n",
      "\u001b[31mValueError\u001b[39m: No objects to concatenate"
     ]
    }
   ],
   "source": [
    "augmented_all = []\n",
    "\n",
    "client = client = openai.OpenAI()\n",
    "\n",
    "for _, author_row in tqdm(need_aug.iterrows(), total=need_aug.shape[0]):\n",
    "    n_needed = 50 - author_row[\"n_excerpts\"]\n",
    "    df_aug = generate_and_validate(author_row, texts, n_needed, author_profiles, vectorizer, scaler, client)\n",
    "    augmented_all.append(df_aug)\n",
    "\n",
    "augmented_df = pd.concat(augmented_all, ignore_index=True)\n",
    "\n",
    "# Add new excerpts\n",
    "texts = pd.concat([texts, augmented_df], ignore_index=True)\n",
    "\n",
    "# Update author excerpt count\n",
    "updated_counts = texts[\"Author\"].value_counts().reset_index()\n",
    "updated_counts.columns = [\"Name\", \"n_excerpts\"]\n",
    "final_authors.update(updated_counts)\n",
    "\n",
    "# Fill missing \"of_which_generated\" for real texts\n",
    "texts[\"of_which_generated\"] = texts.get(\"of_which_generated\", np.nan)"
   ]
  },
  {
   "cell_type": "code",
   "execution_count": null,
   "id": "6d4e3116",
   "metadata": {},
   "outputs": [
    {
     "name": "stdout",
     "output_type": "stream",
     "text": [
      "<class 'pandas.core.frame.DataFrame'>\n",
      "RangeIndex: 14680 entries, 0 to 14679\n",
      "Data columns (total 9 columns):\n",
      " #   Column              Non-Null Count  Dtype \n",
      "---  ------              --------------  ----- \n",
      " 0   Author              14680 non-null  object\n",
      " 1   Title               14680 non-null  object\n",
      " 2   URL                 14680 non-null  object\n",
      " 3   Excerpt_ID          14680 non-null  object\n",
      " 4   Excerpt_Text        14680 non-null  object\n",
      " 5   Cleaned_Text        14680 non-null  object\n",
      " 6   Tokens              14625 non-null  object\n",
      " 7   Tokenized_Text      55 non-null     object\n",
      " 8   of_which_generated  55 non-null     object\n",
      "dtypes: object(9)\n",
      "memory usage: 1.0+ MB\n"
     ]
    }
   ],
   "source": [
    "texts.info()"
   ]
  },
  {
   "cell_type": "code",
   "execution_count": null,
   "id": "bf123656",
   "metadata": {},
   "outputs": [
    {
     "data": {
      "text/plain": [
       "count           55\n",
       "unique          38\n",
       "top       16239_18\n",
       "freq             3\n",
       "Name: of_which_generated, dtype: object"
      ]
     },
     "execution_count": 31,
     "metadata": {},
     "output_type": "execute_result"
    }
   ],
   "source": [
    "texts['of_which_generated'].describe()"
   ]
  },
  {
   "cell_type": "code",
   "execution_count": null,
   "id": "1933cc42",
   "metadata": {},
   "outputs": [],
   "source": [
    "# Save final versions\n",
    "texts.to_parquet('../Data/excerpts_df.parquet', index=False)\n",
    "final_authors.to_csv('../Data/final_authors.csv', index=False)\n"
   ]
  }
 ],
 "metadata": {
  "kernelspec": {
   "display_name": "research-paper-9dnSQuhV-py3.11",
   "language": "python",
   "name": "python3"
  },
  "language_info": {
   "codemirror_mode": {
    "name": "ipython",
    "version": 3
   },
   "file_extension": ".py",
   "mimetype": "text/x-python",
   "name": "python",
   "nbconvert_exporter": "python",
   "pygments_lexer": "ipython3",
   "version": "3.11.4"
  }
 },
 "nbformat": 4,
 "nbformat_minor": 5
}
