{
 "cells": [
  {
   "cell_type": "code",
   "execution_count": 43,
   "id": "86b9964c",
   "metadata": {},
   "outputs": [],
   "source": [
    "import pandas as pd\n",
    "import numpy as np\n",
    "import matplotlib.pyplot as plt\n",
    "\n",
    "import nltk\n",
    "from nltk.corpus import stopwords\n",
    "from nltk.tokenize import sent_tokenize\n",
    "import spacy\n",
    "\n",
    "from collections import Counter\n",
    "from collections import defaultdict\n",
    "\n",
    "import os\n",
    "from tqdm import tqdm\n",
    "import math\n",
    "from math import log2\n",
    "import re\n",
    "import json\n",
    "\n",
    "import openai\n",
    "from dotenv import load_dotenv\n",
    "from typing import List\n",
    "\n",
    "from sklearn.metrics import accuracy_score, f1_score, classification_report"
   ]
  },
  {
   "cell_type": "markdown",
   "id": "c9bb209f",
   "metadata": {},
   "source": [
    "## Load data and models"
   ]
  },
  {
   "cell_type": "markdown",
   "id": "78e904a5",
   "metadata": {},
   "source": [
    "Models"
   ]
  },
  {
   "cell_type": "code",
   "execution_count": 2,
   "id": "8f155e8e",
   "metadata": {},
   "outputs": [
    {
     "name": "stderr",
     "output_type": "stream",
     "text": [
      "[nltk_data] Downloading package stopwords to\n",
      "[nltk_data]     /Users/hadrienstrichard/nltk_data...\n",
      "[nltk_data]   Package stopwords is already up-to-date!\n"
     ]
    },
    {
     "data": {
      "text/plain": [
       "True"
      ]
     },
     "execution_count": 2,
     "metadata": {},
     "output_type": "execute_result"
    }
   ],
   "source": [
    "nltk.download('stopwords') "
   ]
  },
  {
   "cell_type": "code",
   "execution_count": 3,
   "id": "66619d47",
   "metadata": {},
   "outputs": [],
   "source": [
    "nlp_fr = spacy.load(\"fr_core_news_sm\") "
   ]
  },
  {
   "cell_type": "markdown",
   "id": "31b5d5d3",
   "metadata": {},
   "source": [
    "Data"
   ]
  },
  {
   "cell_type": "code",
   "execution_count": 4,
   "id": "35aa90c8",
   "metadata": {},
   "outputs": [
    {
     "data": {
      "text/html": [
       "<div>\n",
       "<style scoped>\n",
       "    .dataframe tbody tr th:only-of-type {\n",
       "        vertical-align: middle;\n",
       "    }\n",
       "\n",
       "    .dataframe tbody tr th {\n",
       "        vertical-align: top;\n",
       "    }\n",
       "\n",
       "    .dataframe thead th {\n",
       "        text-align: right;\n",
       "    }\n",
       "</style>\n",
       "<table border=\"1\" class=\"dataframe\">\n",
       "  <thead>\n",
       "    <tr style=\"text-align: right;\">\n",
       "      <th></th>\n",
       "      <th>Author</th>\n",
       "      <th>Title</th>\n",
       "      <th>URL</th>\n",
       "      <th>Excerpt_ID</th>\n",
       "      <th>Excerpt_Text</th>\n",
       "      <th>Cleaned_Text</th>\n",
       "      <th>Tokens</th>\n",
       "    </tr>\n",
       "  </thead>\n",
       "  <tbody>\n",
       "    <tr>\n",
       "      <th>0</th>\n",
       "      <td>George Sand</td>\n",
       "      <td>Le péché de Monsieur Antoine, Tome 1</td>\n",
       "      <td>https://www.gutenberg.org/ebooks/12367</td>\n",
       "      <td>12367_21</td>\n",
       "      <td>«--Hé! hé! monsieur Antoine; voulez-vous venir...</td>\n",
       "      <td>\"--hé! hé! monsieur antoine; voulez-vous venir...</td>\n",
       "      <td>[``, --, hé, !, hé, !, monsieur, antoine, ;, v...</td>\n",
       "    </tr>\n",
       "    <tr>\n",
       "      <th>1</th>\n",
       "      <td>George Sand</td>\n",
       "      <td>Le péché de Monsieur Antoine, Tome 1</td>\n",
       "      <td>https://www.gutenberg.org/ebooks/12367</td>\n",
       "      <td>12367_51</td>\n",
       "      <td>«Cette demoiselle est fort taquine, pensa-t-il...</td>\n",
       "      <td>\"cette demoiselle est fort taquine, pensa-t-il...</td>\n",
       "      <td>[``, cette, demoiselle, est, fort, taquine, ,,...</td>\n",
       "    </tr>\n",
       "    <tr>\n",
       "      <th>2</th>\n",
       "      <td>George Sand</td>\n",
       "      <td>Le péché de Monsieur Antoine, Tome 1</td>\n",
       "      <td>https://www.gutenberg.org/ebooks/12367</td>\n",
       "      <td>12367_50</td>\n",
       "      <td>Mais l'accent, mais le regard, trouvent dans l...</td>\n",
       "      <td>mais l'accent, mais le regard, trouvent dans l...</td>\n",
       "      <td>[mais, l'accent, ,, mais, le, regard, ,, trouv...</td>\n",
       "    </tr>\n",
       "    <tr>\n",
       "      <th>3</th>\n",
       "      <td>George Sand</td>\n",
       "      <td>Le péché de Monsieur Antoine, Tome 1</td>\n",
       "      <td>https://www.gutenberg.org/ebooks/12367</td>\n",
       "      <td>12367_14</td>\n",
       "      <td>--Qu'il s'en aille! et toi ... garde ta place,...</td>\n",
       "      <td>--qu'il s'en aille! et toi ... garde ta place,...</td>\n",
       "      <td>[--, qu'il, s'en, aille, !, et, toi, ..., gard...</td>\n",
       "    </tr>\n",
       "    <tr>\n",
       "      <th>4</th>\n",
       "      <td>George Sand</td>\n",
       "      <td>Pauline</td>\n",
       "      <td>https://www.gutenberg.org/ebooks/12447</td>\n",
       "      <td>12447_11</td>\n",
       "      <td>Mais, quoiqu'elle y mît de l'affection et de l...</td>\n",
       "      <td>mais, quoiqu'elle y mît de l'affection et de l...</td>\n",
       "      <td>[mais, ,, quoiqu'elle, y, mît, de, l'affection...</td>\n",
       "    </tr>\n",
       "  </tbody>\n",
       "</table>\n",
       "</div>"
      ],
      "text/plain": [
       "        Author                                 Title  \\\n",
       "0  George Sand  Le péché de Monsieur Antoine, Tome 1   \n",
       "1  George Sand  Le péché de Monsieur Antoine, Tome 1   \n",
       "2  George Sand  Le péché de Monsieur Antoine, Tome 1   \n",
       "3  George Sand  Le péché de Monsieur Antoine, Tome 1   \n",
       "4  George Sand                               Pauline   \n",
       "\n",
       "                                      URL Excerpt_ID  \\\n",
       "0  https://www.gutenberg.org/ebooks/12367   12367_21   \n",
       "1  https://www.gutenberg.org/ebooks/12367   12367_51   \n",
       "2  https://www.gutenberg.org/ebooks/12367   12367_50   \n",
       "3  https://www.gutenberg.org/ebooks/12367   12367_14   \n",
       "4  https://www.gutenberg.org/ebooks/12447   12447_11   \n",
       "\n",
       "                                        Excerpt_Text  \\\n",
       "0  «--Hé! hé! monsieur Antoine; voulez-vous venir...   \n",
       "1  «Cette demoiselle est fort taquine, pensa-t-il...   \n",
       "2  Mais l'accent, mais le regard, trouvent dans l...   \n",
       "3  --Qu'il s'en aille! et toi ... garde ta place,...   \n",
       "4  Mais, quoiqu'elle y mît de l'affection et de l...   \n",
       "\n",
       "                                        Cleaned_Text  \\\n",
       "0  \"--hé! hé! monsieur antoine; voulez-vous venir...   \n",
       "1  \"cette demoiselle est fort taquine, pensa-t-il...   \n",
       "2  mais l'accent, mais le regard, trouvent dans l...   \n",
       "3  --qu'il s'en aille! et toi ... garde ta place,...   \n",
       "4  mais, quoiqu'elle y mît de l'affection et de l...   \n",
       "\n",
       "                                              Tokens  \n",
       "0  [``, --, hé, !, hé, !, monsieur, antoine, ;, v...  \n",
       "1  [``, cette, demoiselle, est, fort, taquine, ,,...  \n",
       "2  [mais, l'accent, ,, mais, le, regard, ,, trouv...  \n",
       "3  [--, qu'il, s'en, aille, !, et, toi, ..., gard...  \n",
       "4  [mais, ,, quoiqu'elle, y, mît, de, l'affection...  "
      ]
     },
     "execution_count": 4,
     "metadata": {},
     "output_type": "execute_result"
    }
   ],
   "source": [
    "texts = pd.read_parquet('../Data/excerpts_processed.parquet')\n",
    "\n",
    "texts.head()"
   ]
  },
  {
   "cell_type": "code",
   "execution_count": 5,
   "id": "9cd8481d",
   "metadata": {},
   "outputs": [
    {
     "name": "stdout",
     "output_type": "stream",
     "text": [
      "<class 'pandas.core.frame.DataFrame'>\n",
      "RangeIndex: 3858 entries, 0 to 3857\n",
      "Data columns (total 7 columns):\n",
      " #   Column        Non-Null Count  Dtype \n",
      "---  ------        --------------  ----- \n",
      " 0   Author        3858 non-null   object\n",
      " 1   Title         3858 non-null   object\n",
      " 2   URL           3858 non-null   object\n",
      " 3   Excerpt_ID    3858 non-null   object\n",
      " 4   Excerpt_Text  3858 non-null   object\n",
      " 5   Cleaned_Text  3858 non-null   object\n",
      " 6   Tokens        3858 non-null   object\n",
      "dtypes: object(7)\n",
      "memory usage: 211.1+ KB\n"
     ]
    }
   ],
   "source": [
    "texts.info()"
   ]
  },
  {
   "cell_type": "markdown",
   "id": "b081f503",
   "metadata": {},
   "source": [
    "## Function words"
   ]
  },
  {
   "cell_type": "code",
   "execution_count": 6,
   "id": "5526b2c8",
   "metadata": {},
   "outputs": [
    {
     "name": "stdout",
     "output_type": "stream",
     "text": [
      "Number of French function words: 157\n",
      "Sample function words: ['eûtes', 'sa', 'fus', 'par', 'ses', 'êtes', 'notre', 'sois', 'fûmes', 'votre']\n"
     ]
    }
   ],
   "source": [
    "# Load French function words (common stopwords in French) as our function word list.\n",
    "french_function_words = set(stopwords.words('french'))\n",
    "print(f\"Number of French function words: {len(french_function_words)}\")\n",
    "# Optionally, inspect a few function words\n",
    "print(\"Sample function words:\", list(french_function_words)[:10])"
   ]
  },
  {
   "cell_type": "code",
   "execution_count": 7,
   "id": "717aa38f",
   "metadata": {},
   "outputs": [],
   "source": [
    "# Define a set of punctuation marks we will consider for certain features.\n",
    "punct_set = {'.', ',', ';', '!', '?', ':', '-', '—', '(', ')', '[', ']', '{', '}', '\"', \"'\", '«', '»'}"
   ]
  },
  {
   "cell_type": "code",
   "execution_count": 8,
   "id": "7e3eb410",
   "metadata": {},
   "outputs": [
    {
     "name": "stderr",
     "output_type": "stream",
     "text": [
      "/var/folders/xn/v7b7dbbn6xg3hzr5h4395gbc0000gn/T/ipykernel_93036/3428490745.py:8: PerformanceWarning: DataFrame is highly fragmented.  This is usually the result of calling `frame.insert` many times, which has poor performance.  Consider joining all columns at once using pd.concat(axis=1) instead. To get a de-fragmented frame, use `newframe = frame.copy()`\n",
      "  texts[col_name] = texts.apply(\n",
      "/var/folders/xn/v7b7dbbn6xg3hzr5h4395gbc0000gn/T/ipykernel_93036/3428490745.py:8: PerformanceWarning: DataFrame is highly fragmented.  This is usually the result of calling `frame.insert` many times, which has poor performance.  Consider joining all columns at once using pd.concat(axis=1) instead. To get a de-fragmented frame, use `newframe = frame.copy()`\n",
      "  texts[col_name] = texts.apply(\n",
      "/var/folders/xn/v7b7dbbn6xg3hzr5h4395gbc0000gn/T/ipykernel_93036/3428490745.py:8: PerformanceWarning: DataFrame is highly fragmented.  This is usually the result of calling `frame.insert` many times, which has poor performance.  Consider joining all columns at once using pd.concat(axis=1) instead. To get a de-fragmented frame, use `newframe = frame.copy()`\n",
      "  texts[col_name] = texts.apply(\n",
      "/var/folders/xn/v7b7dbbn6xg3hzr5h4395gbc0000gn/T/ipykernel_93036/3428490745.py:8: PerformanceWarning: DataFrame is highly fragmented.  This is usually the result of calling `frame.insert` many times, which has poor performance.  Consider joining all columns at once using pd.concat(axis=1) instead. To get a de-fragmented frame, use `newframe = frame.copy()`\n",
      "  texts[col_name] = texts.apply(\n",
      "/var/folders/xn/v7b7dbbn6xg3hzr5h4395gbc0000gn/T/ipykernel_93036/3428490745.py:8: PerformanceWarning: DataFrame is highly fragmented.  This is usually the result of calling `frame.insert` many times, which has poor performance.  Consider joining all columns at once using pd.concat(axis=1) instead. To get a de-fragmented frame, use `newframe = frame.copy()`\n",
      "  texts[col_name] = texts.apply(\n",
      "/var/folders/xn/v7b7dbbn6xg3hzr5h4395gbc0000gn/T/ipykernel_93036/3428490745.py:8: PerformanceWarning: DataFrame is highly fragmented.  This is usually the result of calling `frame.insert` many times, which has poor performance.  Consider joining all columns at once using pd.concat(axis=1) instead. To get a de-fragmented frame, use `newframe = frame.copy()`\n",
      "  texts[col_name] = texts.apply(\n",
      "/var/folders/xn/v7b7dbbn6xg3hzr5h4395gbc0000gn/T/ipykernel_93036/3428490745.py:8: PerformanceWarning: DataFrame is highly fragmented.  This is usually the result of calling `frame.insert` many times, which has poor performance.  Consider joining all columns at once using pd.concat(axis=1) instead. To get a de-fragmented frame, use `newframe = frame.copy()`\n",
      "  texts[col_name] = texts.apply(\n",
      "/var/folders/xn/v7b7dbbn6xg3hzr5h4395gbc0000gn/T/ipykernel_93036/3428490745.py:8: PerformanceWarning: DataFrame is highly fragmented.  This is usually the result of calling `frame.insert` many times, which has poor performance.  Consider joining all columns at once using pd.concat(axis=1) instead. To get a de-fragmented frame, use `newframe = frame.copy()`\n",
      "  texts[col_name] = texts.apply(\n",
      "/var/folders/xn/v7b7dbbn6xg3hzr5h4395gbc0000gn/T/ipykernel_93036/3428490745.py:8: PerformanceWarning: DataFrame is highly fragmented.  This is usually the result of calling `frame.insert` many times, which has poor performance.  Consider joining all columns at once using pd.concat(axis=1) instead. To get a de-fragmented frame, use `newframe = frame.copy()`\n",
      "  texts[col_name] = texts.apply(\n",
      "/var/folders/xn/v7b7dbbn6xg3hzr5h4395gbc0000gn/T/ipykernel_93036/3428490745.py:8: PerformanceWarning: DataFrame is highly fragmented.  This is usually the result of calling `frame.insert` many times, which has poor performance.  Consider joining all columns at once using pd.concat(axis=1) instead. To get a de-fragmented frame, use `newframe = frame.copy()`\n",
      "  texts[col_name] = texts.apply(\n",
      "/var/folders/xn/v7b7dbbn6xg3hzr5h4395gbc0000gn/T/ipykernel_93036/3428490745.py:8: PerformanceWarning: DataFrame is highly fragmented.  This is usually the result of calling `frame.insert` many times, which has poor performance.  Consider joining all columns at once using pd.concat(axis=1) instead. To get a de-fragmented frame, use `newframe = frame.copy()`\n",
      "  texts[col_name] = texts.apply(\n",
      "/var/folders/xn/v7b7dbbn6xg3hzr5h4395gbc0000gn/T/ipykernel_93036/3428490745.py:8: PerformanceWarning: DataFrame is highly fragmented.  This is usually the result of calling `frame.insert` many times, which has poor performance.  Consider joining all columns at once using pd.concat(axis=1) instead. To get a de-fragmented frame, use `newframe = frame.copy()`\n",
      "  texts[col_name] = texts.apply(\n",
      "/var/folders/xn/v7b7dbbn6xg3hzr5h4395gbc0000gn/T/ipykernel_93036/3428490745.py:8: PerformanceWarning: DataFrame is highly fragmented.  This is usually the result of calling `frame.insert` many times, which has poor performance.  Consider joining all columns at once using pd.concat(axis=1) instead. To get a de-fragmented frame, use `newframe = frame.copy()`\n",
      "  texts[col_name] = texts.apply(\n",
      "/var/folders/xn/v7b7dbbn6xg3hzr5h4395gbc0000gn/T/ipykernel_93036/3428490745.py:8: PerformanceWarning: DataFrame is highly fragmented.  This is usually the result of calling `frame.insert` many times, which has poor performance.  Consider joining all columns at once using pd.concat(axis=1) instead. To get a de-fragmented frame, use `newframe = frame.copy()`\n",
      "  texts[col_name] = texts.apply(\n",
      "/var/folders/xn/v7b7dbbn6xg3hzr5h4395gbc0000gn/T/ipykernel_93036/3428490745.py:8: PerformanceWarning: DataFrame is highly fragmented.  This is usually the result of calling `frame.insert` many times, which has poor performance.  Consider joining all columns at once using pd.concat(axis=1) instead. To get a de-fragmented frame, use `newframe = frame.copy()`\n",
      "  texts[col_name] = texts.apply(\n",
      "/var/folders/xn/v7b7dbbn6xg3hzr5h4395gbc0000gn/T/ipykernel_93036/3428490745.py:8: PerformanceWarning: DataFrame is highly fragmented.  This is usually the result of calling `frame.insert` many times, which has poor performance.  Consider joining all columns at once using pd.concat(axis=1) instead. To get a de-fragmented frame, use `newframe = frame.copy()`\n",
      "  texts[col_name] = texts.apply(\n",
      "/var/folders/xn/v7b7dbbn6xg3hzr5h4395gbc0000gn/T/ipykernel_93036/3428490745.py:8: PerformanceWarning: DataFrame is highly fragmented.  This is usually the result of calling `frame.insert` many times, which has poor performance.  Consider joining all columns at once using pd.concat(axis=1) instead. To get a de-fragmented frame, use `newframe = frame.copy()`\n",
      "  texts[col_name] = texts.apply(\n",
      "/var/folders/xn/v7b7dbbn6xg3hzr5h4395gbc0000gn/T/ipykernel_93036/3428490745.py:8: PerformanceWarning: DataFrame is highly fragmented.  This is usually the result of calling `frame.insert` many times, which has poor performance.  Consider joining all columns at once using pd.concat(axis=1) instead. To get a de-fragmented frame, use `newframe = frame.copy()`\n",
      "  texts[col_name] = texts.apply(\n",
      "/var/folders/xn/v7b7dbbn6xg3hzr5h4395gbc0000gn/T/ipykernel_93036/3428490745.py:8: PerformanceWarning: DataFrame is highly fragmented.  This is usually the result of calling `frame.insert` many times, which has poor performance.  Consider joining all columns at once using pd.concat(axis=1) instead. To get a de-fragmented frame, use `newframe = frame.copy()`\n",
      "  texts[col_name] = texts.apply(\n",
      "/var/folders/xn/v7b7dbbn6xg3hzr5h4395gbc0000gn/T/ipykernel_93036/3428490745.py:8: PerformanceWarning: DataFrame is highly fragmented.  This is usually the result of calling `frame.insert` many times, which has poor performance.  Consider joining all columns at once using pd.concat(axis=1) instead. To get a de-fragmented frame, use `newframe = frame.copy()`\n",
      "  texts[col_name] = texts.apply(\n",
      "/var/folders/xn/v7b7dbbn6xg3hzr5h4395gbc0000gn/T/ipykernel_93036/3428490745.py:8: PerformanceWarning: DataFrame is highly fragmented.  This is usually the result of calling `frame.insert` many times, which has poor performance.  Consider joining all columns at once using pd.concat(axis=1) instead. To get a de-fragmented frame, use `newframe = frame.copy()`\n",
      "  texts[col_name] = texts.apply(\n",
      "/var/folders/xn/v7b7dbbn6xg3hzr5h4395gbc0000gn/T/ipykernel_93036/3428490745.py:8: PerformanceWarning: DataFrame is highly fragmented.  This is usually the result of calling `frame.insert` many times, which has poor performance.  Consider joining all columns at once using pd.concat(axis=1) instead. To get a de-fragmented frame, use `newframe = frame.copy()`\n",
      "  texts[col_name] = texts.apply(\n",
      "/var/folders/xn/v7b7dbbn6xg3hzr5h4395gbc0000gn/T/ipykernel_93036/3428490745.py:8: PerformanceWarning: DataFrame is highly fragmented.  This is usually the result of calling `frame.insert` many times, which has poor performance.  Consider joining all columns at once using pd.concat(axis=1) instead. To get a de-fragmented frame, use `newframe = frame.copy()`\n",
      "  texts[col_name] = texts.apply(\n",
      "/var/folders/xn/v7b7dbbn6xg3hzr5h4395gbc0000gn/T/ipykernel_93036/3428490745.py:8: PerformanceWarning: DataFrame is highly fragmented.  This is usually the result of calling `frame.insert` many times, which has poor performance.  Consider joining all columns at once using pd.concat(axis=1) instead. To get a de-fragmented frame, use `newframe = frame.copy()`\n",
      "  texts[col_name] = texts.apply(\n",
      "/var/folders/xn/v7b7dbbn6xg3hzr5h4395gbc0000gn/T/ipykernel_93036/3428490745.py:8: PerformanceWarning: DataFrame is highly fragmented.  This is usually the result of calling `frame.insert` many times, which has poor performance.  Consider joining all columns at once using pd.concat(axis=1) instead. To get a de-fragmented frame, use `newframe = frame.copy()`\n",
      "  texts[col_name] = texts.apply(\n",
      "/var/folders/xn/v7b7dbbn6xg3hzr5h4395gbc0000gn/T/ipykernel_93036/3428490745.py:8: PerformanceWarning: DataFrame is highly fragmented.  This is usually the result of calling `frame.insert` many times, which has poor performance.  Consider joining all columns at once using pd.concat(axis=1) instead. To get a de-fragmented frame, use `newframe = frame.copy()`\n",
      "  texts[col_name] = texts.apply(\n",
      "/var/folders/xn/v7b7dbbn6xg3hzr5h4395gbc0000gn/T/ipykernel_93036/3428490745.py:8: PerformanceWarning: DataFrame is highly fragmented.  This is usually the result of calling `frame.insert` many times, which has poor performance.  Consider joining all columns at once using pd.concat(axis=1) instead. To get a de-fragmented frame, use `newframe = frame.copy()`\n",
      "  texts[col_name] = texts.apply(\n",
      "/var/folders/xn/v7b7dbbn6xg3hzr5h4395gbc0000gn/T/ipykernel_93036/3428490745.py:8: PerformanceWarning: DataFrame is highly fragmented.  This is usually the result of calling `frame.insert` many times, which has poor performance.  Consider joining all columns at once using pd.concat(axis=1) instead. To get a de-fragmented frame, use `newframe = frame.copy()`\n",
      "  texts[col_name] = texts.apply(\n",
      "/var/folders/xn/v7b7dbbn6xg3hzr5h4395gbc0000gn/T/ipykernel_93036/3428490745.py:8: PerformanceWarning: DataFrame is highly fragmented.  This is usually the result of calling `frame.insert` many times, which has poor performance.  Consider joining all columns at once using pd.concat(axis=1) instead. To get a de-fragmented frame, use `newframe = frame.copy()`\n",
      "  texts[col_name] = texts.apply(\n",
      "/var/folders/xn/v7b7dbbn6xg3hzr5h4395gbc0000gn/T/ipykernel_93036/3428490745.py:8: PerformanceWarning: DataFrame is highly fragmented.  This is usually the result of calling `frame.insert` many times, which has poor performance.  Consider joining all columns at once using pd.concat(axis=1) instead. To get a de-fragmented frame, use `newframe = frame.copy()`\n",
      "  texts[col_name] = texts.apply(\n",
      "/var/folders/xn/v7b7dbbn6xg3hzr5h4395gbc0000gn/T/ipykernel_93036/3428490745.py:8: PerformanceWarning: DataFrame is highly fragmented.  This is usually the result of calling `frame.insert` many times, which has poor performance.  Consider joining all columns at once using pd.concat(axis=1) instead. To get a de-fragmented frame, use `newframe = frame.copy()`\n",
      "  texts[col_name] = texts.apply(\n",
      "/var/folders/xn/v7b7dbbn6xg3hzr5h4395gbc0000gn/T/ipykernel_93036/3428490745.py:8: PerformanceWarning: DataFrame is highly fragmented.  This is usually the result of calling `frame.insert` many times, which has poor performance.  Consider joining all columns at once using pd.concat(axis=1) instead. To get a de-fragmented frame, use `newframe = frame.copy()`\n",
      "  texts[col_name] = texts.apply(\n",
      "/var/folders/xn/v7b7dbbn6xg3hzr5h4395gbc0000gn/T/ipykernel_93036/3428490745.py:8: PerformanceWarning: DataFrame is highly fragmented.  This is usually the result of calling `frame.insert` many times, which has poor performance.  Consider joining all columns at once using pd.concat(axis=1) instead. To get a de-fragmented frame, use `newframe = frame.copy()`\n",
      "  texts[col_name] = texts.apply(\n",
      "/var/folders/xn/v7b7dbbn6xg3hzr5h4395gbc0000gn/T/ipykernel_93036/3428490745.py:8: PerformanceWarning: DataFrame is highly fragmented.  This is usually the result of calling `frame.insert` many times, which has poor performance.  Consider joining all columns at once using pd.concat(axis=1) instead. To get a de-fragmented frame, use `newframe = frame.copy()`\n",
      "  texts[col_name] = texts.apply(\n",
      "/var/folders/xn/v7b7dbbn6xg3hzr5h4395gbc0000gn/T/ipykernel_93036/3428490745.py:8: PerformanceWarning: DataFrame is highly fragmented.  This is usually the result of calling `frame.insert` many times, which has poor performance.  Consider joining all columns at once using pd.concat(axis=1) instead. To get a de-fragmented frame, use `newframe = frame.copy()`\n",
      "  texts[col_name] = texts.apply(\n",
      "/var/folders/xn/v7b7dbbn6xg3hzr5h4395gbc0000gn/T/ipykernel_93036/3428490745.py:8: PerformanceWarning: DataFrame is highly fragmented.  This is usually the result of calling `frame.insert` many times, which has poor performance.  Consider joining all columns at once using pd.concat(axis=1) instead. To get a de-fragmented frame, use `newframe = frame.copy()`\n",
      "  texts[col_name] = texts.apply(\n",
      "/var/folders/xn/v7b7dbbn6xg3hzr5h4395gbc0000gn/T/ipykernel_93036/3428490745.py:8: PerformanceWarning: DataFrame is highly fragmented.  This is usually the result of calling `frame.insert` many times, which has poor performance.  Consider joining all columns at once using pd.concat(axis=1) instead. To get a de-fragmented frame, use `newframe = frame.copy()`\n",
      "  texts[col_name] = texts.apply(\n",
      "/var/folders/xn/v7b7dbbn6xg3hzr5h4395gbc0000gn/T/ipykernel_93036/3428490745.py:8: PerformanceWarning: DataFrame is highly fragmented.  This is usually the result of calling `frame.insert` many times, which has poor performance.  Consider joining all columns at once using pd.concat(axis=1) instead. To get a de-fragmented frame, use `newframe = frame.copy()`\n",
      "  texts[col_name] = texts.apply(\n",
      "/var/folders/xn/v7b7dbbn6xg3hzr5h4395gbc0000gn/T/ipykernel_93036/3428490745.py:8: PerformanceWarning: DataFrame is highly fragmented.  This is usually the result of calling `frame.insert` many times, which has poor performance.  Consider joining all columns at once using pd.concat(axis=1) instead. To get a de-fragmented frame, use `newframe = frame.copy()`\n",
      "  texts[col_name] = texts.apply(\n",
      "/var/folders/xn/v7b7dbbn6xg3hzr5h4395gbc0000gn/T/ipykernel_93036/3428490745.py:8: PerformanceWarning: DataFrame is highly fragmented.  This is usually the result of calling `frame.insert` many times, which has poor performance.  Consider joining all columns at once using pd.concat(axis=1) instead. To get a de-fragmented frame, use `newframe = frame.copy()`\n",
      "  texts[col_name] = texts.apply(\n",
      "/var/folders/xn/v7b7dbbn6xg3hzr5h4395gbc0000gn/T/ipykernel_93036/3428490745.py:8: PerformanceWarning: DataFrame is highly fragmented.  This is usually the result of calling `frame.insert` many times, which has poor performance.  Consider joining all columns at once using pd.concat(axis=1) instead. To get a de-fragmented frame, use `newframe = frame.copy()`\n",
      "  texts[col_name] = texts.apply(\n",
      "/var/folders/xn/v7b7dbbn6xg3hzr5h4395gbc0000gn/T/ipykernel_93036/3428490745.py:8: PerformanceWarning: DataFrame is highly fragmented.  This is usually the result of calling `frame.insert` many times, which has poor performance.  Consider joining all columns at once using pd.concat(axis=1) instead. To get a de-fragmented frame, use `newframe = frame.copy()`\n",
      "  texts[col_name] = texts.apply(\n",
      "/var/folders/xn/v7b7dbbn6xg3hzr5h4395gbc0000gn/T/ipykernel_93036/3428490745.py:8: PerformanceWarning: DataFrame is highly fragmented.  This is usually the result of calling `frame.insert` many times, which has poor performance.  Consider joining all columns at once using pd.concat(axis=1) instead. To get a de-fragmented frame, use `newframe = frame.copy()`\n",
      "  texts[col_name] = texts.apply(\n",
      "/var/folders/xn/v7b7dbbn6xg3hzr5h4395gbc0000gn/T/ipykernel_93036/3428490745.py:8: PerformanceWarning: DataFrame is highly fragmented.  This is usually the result of calling `frame.insert` many times, which has poor performance.  Consider joining all columns at once using pd.concat(axis=1) instead. To get a de-fragmented frame, use `newframe = frame.copy()`\n",
      "  texts[col_name] = texts.apply(\n",
      "/var/folders/xn/v7b7dbbn6xg3hzr5h4395gbc0000gn/T/ipykernel_93036/3428490745.py:8: PerformanceWarning: DataFrame is highly fragmented.  This is usually the result of calling `frame.insert` many times, which has poor performance.  Consider joining all columns at once using pd.concat(axis=1) instead. To get a de-fragmented frame, use `newframe = frame.copy()`\n",
      "  texts[col_name] = texts.apply(\n",
      "/var/folders/xn/v7b7dbbn6xg3hzr5h4395gbc0000gn/T/ipykernel_93036/3428490745.py:8: PerformanceWarning: DataFrame is highly fragmented.  This is usually the result of calling `frame.insert` many times, which has poor performance.  Consider joining all columns at once using pd.concat(axis=1) instead. To get a de-fragmented frame, use `newframe = frame.copy()`\n",
      "  texts[col_name] = texts.apply(\n",
      "/var/folders/xn/v7b7dbbn6xg3hzr5h4395gbc0000gn/T/ipykernel_93036/3428490745.py:8: PerformanceWarning: DataFrame is highly fragmented.  This is usually the result of calling `frame.insert` many times, which has poor performance.  Consider joining all columns at once using pd.concat(axis=1) instead. To get a de-fragmented frame, use `newframe = frame.copy()`\n",
      "  texts[col_name] = texts.apply(\n",
      "/var/folders/xn/v7b7dbbn6xg3hzr5h4395gbc0000gn/T/ipykernel_93036/3428490745.py:8: PerformanceWarning: DataFrame is highly fragmented.  This is usually the result of calling `frame.insert` many times, which has poor performance.  Consider joining all columns at once using pd.concat(axis=1) instead. To get a de-fragmented frame, use `newframe = frame.copy()`\n",
      "  texts[col_name] = texts.apply(\n",
      "/var/folders/xn/v7b7dbbn6xg3hzr5h4395gbc0000gn/T/ipykernel_93036/3428490745.py:8: PerformanceWarning: DataFrame is highly fragmented.  This is usually the result of calling `frame.insert` many times, which has poor performance.  Consider joining all columns at once using pd.concat(axis=1) instead. To get a de-fragmented frame, use `newframe = frame.copy()`\n",
      "  texts[col_name] = texts.apply(\n",
      "/var/folders/xn/v7b7dbbn6xg3hzr5h4395gbc0000gn/T/ipykernel_93036/3428490745.py:8: PerformanceWarning: DataFrame is highly fragmented.  This is usually the result of calling `frame.insert` many times, which has poor performance.  Consider joining all columns at once using pd.concat(axis=1) instead. To get a de-fragmented frame, use `newframe = frame.copy()`\n",
      "  texts[col_name] = texts.apply(\n",
      "/var/folders/xn/v7b7dbbn6xg3hzr5h4395gbc0000gn/T/ipykernel_93036/3428490745.py:8: PerformanceWarning: DataFrame is highly fragmented.  This is usually the result of calling `frame.insert` many times, which has poor performance.  Consider joining all columns at once using pd.concat(axis=1) instead. To get a de-fragmented frame, use `newframe = frame.copy()`\n",
      "  texts[col_name] = texts.apply(\n",
      "/var/folders/xn/v7b7dbbn6xg3hzr5h4395gbc0000gn/T/ipykernel_93036/3428490745.py:8: PerformanceWarning: DataFrame is highly fragmented.  This is usually the result of calling `frame.insert` many times, which has poor performance.  Consider joining all columns at once using pd.concat(axis=1) instead. To get a de-fragmented frame, use `newframe = frame.copy()`\n",
      "  texts[col_name] = texts.apply(\n",
      "/var/folders/xn/v7b7dbbn6xg3hzr5h4395gbc0000gn/T/ipykernel_93036/3428490745.py:8: PerformanceWarning: DataFrame is highly fragmented.  This is usually the result of calling `frame.insert` many times, which has poor performance.  Consider joining all columns at once using pd.concat(axis=1) instead. To get a de-fragmented frame, use `newframe = frame.copy()`\n",
      "  texts[col_name] = texts.apply(\n",
      "/var/folders/xn/v7b7dbbn6xg3hzr5h4395gbc0000gn/T/ipykernel_93036/3428490745.py:8: PerformanceWarning: DataFrame is highly fragmented.  This is usually the result of calling `frame.insert` many times, which has poor performance.  Consider joining all columns at once using pd.concat(axis=1) instead. To get a de-fragmented frame, use `newframe = frame.copy()`\n",
      "  texts[col_name] = texts.apply(\n",
      "/var/folders/xn/v7b7dbbn6xg3hzr5h4395gbc0000gn/T/ipykernel_93036/3428490745.py:8: PerformanceWarning: DataFrame is highly fragmented.  This is usually the result of calling `frame.insert` many times, which has poor performance.  Consider joining all columns at once using pd.concat(axis=1) instead. To get a de-fragmented frame, use `newframe = frame.copy()`\n",
      "  texts[col_name] = texts.apply(\n",
      "/var/folders/xn/v7b7dbbn6xg3hzr5h4395gbc0000gn/T/ipykernel_93036/3428490745.py:8: PerformanceWarning: DataFrame is highly fragmented.  This is usually the result of calling `frame.insert` many times, which has poor performance.  Consider joining all columns at once using pd.concat(axis=1) instead. To get a de-fragmented frame, use `newframe = frame.copy()`\n",
      "  texts[col_name] = texts.apply(\n"
     ]
    },
    {
     "name": "stdout",
     "output_type": "stream",
     "text": [
      "Author      George Sand\n",
      "fw_eûtes            0.0\n",
      "fw_sa          0.000617\n",
      "fw_fus              0.0\n",
      "fw_par         0.004316\n",
      "fw_ses         0.002466\n",
      "Name: 0, dtype: object\n",
      "<class 'pandas.core.frame.DataFrame'>\n",
      "RangeIndex: 3858 entries, 0 to 3857\n",
      "Columns: 165 entries, Author to fw_y\n",
      "dtypes: float64(157), int64(1), object(7)\n",
      "memory usage: 4.9+ MB\n",
      "None\n"
     ]
    },
    {
     "name": "stderr",
     "output_type": "stream",
     "text": [
      "/var/folders/xn/v7b7dbbn6xg3hzr5h4395gbc0000gn/T/ipykernel_93036/3428490745.py:8: PerformanceWarning: DataFrame is highly fragmented.  This is usually the result of calling `frame.insert` many times, which has poor performance.  Consider joining all columns at once using pd.concat(axis=1) instead. To get a de-fragmented frame, use `newframe = frame.copy()`\n",
      "  texts[col_name] = texts.apply(\n",
      "/var/folders/xn/v7b7dbbn6xg3hzr5h4395gbc0000gn/T/ipykernel_93036/3428490745.py:8: PerformanceWarning: DataFrame is highly fragmented.  This is usually the result of calling `frame.insert` many times, which has poor performance.  Consider joining all columns at once using pd.concat(axis=1) instead. To get a de-fragmented frame, use `newframe = frame.copy()`\n",
      "  texts[col_name] = texts.apply(\n",
      "/var/folders/xn/v7b7dbbn6xg3hzr5h4395gbc0000gn/T/ipykernel_93036/3428490745.py:8: PerformanceWarning: DataFrame is highly fragmented.  This is usually the result of calling `frame.insert` many times, which has poor performance.  Consider joining all columns at once using pd.concat(axis=1) instead. To get a de-fragmented frame, use `newframe = frame.copy()`\n",
      "  texts[col_name] = texts.apply(\n"
     ]
    }
   ],
   "source": [
    "# Compute total number of words (excluding punctuation) for each text, to use in normalization\n",
    "texts['WordCount'] = texts['Tokens'].apply(lambda tokens: sum(1 for t in tokens if t not in punct_set))\n",
    "\n",
    "# Add one feature column for each function word in the list\n",
    "for fw in french_function_words:\n",
    "    col_name = f\"fw_{fw}\"\n",
    "    # Normalized frequency: count of fw divided by number of words (avoid division by zero)\n",
    "    texts[col_name] = texts.apply(\n",
    "        lambda row: row['Tokens'].count(fw) / row['WordCount'] if row['WordCount'] > 0 else 0.0,\n",
    "        axis=1\n",
    "    )\n",
    "\n",
    "# Example: check a few function word feature columns for the first text\n",
    "print(texts.loc[0, ['Author'] + [f\"fw_{w}\" for w in list(french_function_words)[:5]]])\n",
    "print(texts.info())"
   ]
  },
  {
   "cell_type": "code",
   "execution_count": 9,
   "id": "f985ff27",
   "metadata": {},
   "outputs": [
    {
     "name": "stderr",
     "output_type": "stream",
     "text": [
      "/var/folders/xn/v7b7dbbn6xg3hzr5h4395gbc0000gn/T/ipykernel_93036/1679231258.py:12: PerformanceWarning: DataFrame is highly fragmented.  This is usually the result of calling `frame.insert` many times, which has poor performance.  Consider joining all columns at once using pd.concat(axis=1) instead. To get a de-fragmented frame, use `newframe = frame.copy()`\n",
      "  texts[group_name] = texts.apply(\n",
      "/var/folders/xn/v7b7dbbn6xg3hzr5h4395gbc0000gn/T/ipykernel_93036/1679231258.py:12: PerformanceWarning: DataFrame is highly fragmented.  This is usually the result of calling `frame.insert` many times, which has poor performance.  Consider joining all columns at once using pd.concat(axis=1) instead. To get a de-fragmented frame, use `newframe = frame.copy()`\n",
      "  texts[group_name] = texts.apply(\n",
      "/var/folders/xn/v7b7dbbn6xg3hzr5h4395gbc0000gn/T/ipykernel_93036/1679231258.py:12: PerformanceWarning: DataFrame is highly fragmented.  This is usually the result of calling `frame.insert` many times, which has poor performance.  Consider joining all columns at once using pd.concat(axis=1) instead. To get a de-fragmented frame, use `newframe = frame.copy()`\n",
      "  texts[group_name] = texts.apply(\n"
     ]
    },
    {
     "name": "stdout",
     "output_type": "stream",
     "text": [
      "gfw_article        0.063502\n",
      "gfw_preposition    0.081998\n",
      "gfw_pronoun        0.130086\n",
      "gfw_conjunction    0.078298\n",
      "gfw_auxiliary      0.003083\n",
      "Name: 0, dtype: object\n"
     ]
    },
    {
     "name": "stderr",
     "output_type": "stream",
     "text": [
      "/var/folders/xn/v7b7dbbn6xg3hzr5h4395gbc0000gn/T/ipykernel_93036/1679231258.py:12: PerformanceWarning: DataFrame is highly fragmented.  This is usually the result of calling `frame.insert` many times, which has poor performance.  Consider joining all columns at once using pd.concat(axis=1) instead. To get a de-fragmented frame, use `newframe = frame.copy()`\n",
      "  texts[group_name] = texts.apply(\n",
      "/var/folders/xn/v7b7dbbn6xg3hzr5h4395gbc0000gn/T/ipykernel_93036/1679231258.py:12: PerformanceWarning: DataFrame is highly fragmented.  This is usually the result of calling `frame.insert` many times, which has poor performance.  Consider joining all columns at once using pd.concat(axis=1) instead. To get a de-fragmented frame, use `newframe = frame.copy()`\n",
      "  texts[group_name] = texts.apply(\n"
     ]
    }
   ],
   "source": [
    "# Define function word groups\n",
    "func_word_groups = {\n",
    "    \"gfw_article\": {\"le\", \"la\", \"les\", \"un\", \"une\", \"du\", \"des\"},\n",
    "    \"gfw_preposition\": {\"à\", \"de\", \"en\", \"dans\", \"avec\", \"sans\", \"sous\", \"sur\", \"chez\"},\n",
    "    \"gfw_pronoun\": {\"je\", \"tu\", \"il\", \"elle\", \"nous\", \"vous\", \"ils\", \"elles\", \"on\", \"lui\", \"leur\", \"se\", \"me\", \"te\", \"moi\", \"toi\", \"qui\", \"que\", \"quoi\"},\n",
    "    \"gfw_conjunction\": {\"et\", \"ou\", \"mais\", \"donc\", \"or\", \"car\", \"puisque\", \"lorsque\", \"parce\", \"que\", \"si\"},\n",
    "    \"gfw_auxiliary\": {\"être\", \"avoir\"}\n",
    "}\n",
    "\n",
    "# Compute per-group normalized frequencies\n",
    "for group_name, word_set in func_word_groups.items():\n",
    "    texts[group_name] = texts.apply(\n",
    "        lambda row: sum(row['Tokens'].count(w) for w in word_set) / row['WordCount']\n",
    "        if row['WordCount'] > 0 else 0.0, axis=1\n",
    "    )\n",
    "\n",
    "# Example: check the computed features for the first text\n",
    "print(texts.loc[0, ['gfw_article', 'gfw_preposition', 'gfw_pronoun', 'gfw_conjunction', 'gfw_auxiliary']])"
   ]
  },
  {
   "cell_type": "code",
   "execution_count": 10,
   "id": "d8e80b5b",
   "metadata": {},
   "outputs": [
    {
     "name": "stdout",
     "output_type": "stream",
     "text": [
      "<class 'pandas.core.frame.DataFrame'>\n",
      "RangeIndex: 3858 entries, 0 to 3857\n",
      "Columns: 170 entries, Author to gfw_auxiliary\n",
      "dtypes: float64(162), int64(1), object(7)\n",
      "memory usage: 5.0+ MB\n",
      "None\n"
     ]
    }
   ],
   "source": [
    "print(texts.info())"
   ]
  },
  {
   "cell_type": "markdown",
   "id": "846fe22b",
   "metadata": {},
   "source": [
    "## Pos tagging"
   ]
  },
  {
   "cell_type": "code",
   "execution_count": 11,
   "id": "80a57413",
   "metadata": {},
   "outputs": [
    {
     "name": "stderr",
     "output_type": "stream",
     "text": [
      "/var/folders/xn/v7b7dbbn6xg3hzr5h4395gbc0000gn/T/ipykernel_93036/3475942309.py:21: PerformanceWarning: DataFrame is highly fragmented.  This is usually the result of calling `frame.insert` many times, which has poor performance.  Consider joining all columns at once using pd.concat(axis=1) instead. To get a de-fragmented frame, use `newframe = frame.copy()`\n",
      "  texts[col] = pos_freqs[pos]\n",
      "/var/folders/xn/v7b7dbbn6xg3hzr5h4395gbc0000gn/T/ipykernel_93036/3475942309.py:21: PerformanceWarning: DataFrame is highly fragmented.  This is usually the result of calling `frame.insert` many times, which has poor performance.  Consider joining all columns at once using pd.concat(axis=1) instead. To get a de-fragmented frame, use `newframe = frame.copy()`\n",
      "  texts[col] = pos_freqs[pos]\n",
      "/var/folders/xn/v7b7dbbn6xg3hzr5h4395gbc0000gn/T/ipykernel_93036/3475942309.py:21: PerformanceWarning: DataFrame is highly fragmented.  This is usually the result of calling `frame.insert` many times, which has poor performance.  Consider joining all columns at once using pd.concat(axis=1) instead. To get a de-fragmented frame, use `newframe = frame.copy()`\n",
      "  texts[col] = pos_freqs[pos]\n",
      "/var/folders/xn/v7b7dbbn6xg3hzr5h4395gbc0000gn/T/ipykernel_93036/3475942309.py:21: PerformanceWarning: DataFrame is highly fragmented.  This is usually the result of calling `frame.insert` many times, which has poor performance.  Consider joining all columns at once using pd.concat(axis=1) instead. To get a de-fragmented frame, use `newframe = frame.copy()`\n",
      "  texts[col] = pos_freqs[pos]\n",
      "/var/folders/xn/v7b7dbbn6xg3hzr5h4395gbc0000gn/T/ipykernel_93036/3475942309.py:21: PerformanceWarning: DataFrame is highly fragmented.  This is usually the result of calling `frame.insert` many times, which has poor performance.  Consider joining all columns at once using pd.concat(axis=1) instead. To get a de-fragmented frame, use `newframe = frame.copy()`\n",
      "  texts[col] = pos_freqs[pos]\n",
      "/var/folders/xn/v7b7dbbn6xg3hzr5h4395gbc0000gn/T/ipykernel_93036/3475942309.py:21: PerformanceWarning: DataFrame is highly fragmented.  This is usually the result of calling `frame.insert` many times, which has poor performance.  Consider joining all columns at once using pd.concat(axis=1) instead. To get a de-fragmented frame, use `newframe = frame.copy()`\n",
      "  texts[col] = pos_freqs[pos]\n",
      "/var/folders/xn/v7b7dbbn6xg3hzr5h4395gbc0000gn/T/ipykernel_93036/3475942309.py:21: PerformanceWarning: DataFrame is highly fragmented.  This is usually the result of calling `frame.insert` many times, which has poor performance.  Consider joining all columns at once using pd.concat(axis=1) instead. To get a de-fragmented frame, use `newframe = frame.copy()`\n",
      "  texts[col] = pos_freqs[pos]\n",
      "/var/folders/xn/v7b7dbbn6xg3hzr5h4395gbc0000gn/T/ipykernel_93036/3475942309.py:21: PerformanceWarning: DataFrame is highly fragmented.  This is usually the result of calling `frame.insert` many times, which has poor performance.  Consider joining all columns at once using pd.concat(axis=1) instead. To get a de-fragmented frame, use `newframe = frame.copy()`\n",
      "  texts[col] = pos_freqs[pos]\n",
      "/var/folders/xn/v7b7dbbn6xg3hzr5h4395gbc0000gn/T/ipykernel_93036/3475942309.py:21: PerformanceWarning: DataFrame is highly fragmented.  This is usually the result of calling `frame.insert` many times, which has poor performance.  Consider joining all columns at once using pd.concat(axis=1) instead. To get a de-fragmented frame, use `newframe = frame.copy()`\n",
      "  texts[col] = pos_freqs[pos]\n",
      "/var/folders/xn/v7b7dbbn6xg3hzr5h4395gbc0000gn/T/ipykernel_93036/3475942309.py:21: PerformanceWarning: DataFrame is highly fragmented.  This is usually the result of calling `frame.insert` many times, which has poor performance.  Consider joining all columns at once using pd.concat(axis=1) instead. To get a de-fragmented frame, use `newframe = frame.copy()`\n",
      "  texts[col] = pos_freqs[pos]\n",
      "/var/folders/xn/v7b7dbbn6xg3hzr5h4395gbc0000gn/T/ipykernel_93036/3475942309.py:21: PerformanceWarning: DataFrame is highly fragmented.  This is usually the result of calling `frame.insert` many times, which has poor performance.  Consider joining all columns at once using pd.concat(axis=1) instead. To get a de-fragmented frame, use `newframe = frame.copy()`\n",
      "  texts[col] = pos_freqs[pos]\n"
     ]
    }
   ],
   "source": [
    "# Define POS tags of interest\n",
    "pos_tags = ['NOUN', 'PROPN', 'VERB', 'AUX', 'ADJ', 'ADV', 'PRON', 'DET', 'ADP', 'CCONJ', 'SCONJ', 'INTJ']\n",
    "\n",
    "# Initialize POS frequency containers\n",
    "pos_freqs = defaultdict(list)\n",
    "\n",
    "for tokens in texts['Tokens']:\n",
    "    doc = nlp_fr(\" \".join(tokens))\n",
    "    total_words = sum(1 for token in doc if token.pos_ != \"PUNCT\")\n",
    "    \n",
    "    pos_counts = Counter(token.pos_ for token in doc if token.pos_ != \"PUNCT\")\n",
    "    pos_counts['NOUN'] += pos_counts.get('PROPN', 0)  # Merge PROPN into NOUN\n",
    "    for pos in pos_tags:\n",
    "        freq = pos_counts.get(pos, 0) / total_words if total_words > 0 else 0.0\n",
    "        pos_freqs[pos].append(freq)\n",
    "\n",
    "# Assign POS frequency features to the DataFrame\n",
    "for pos in pos_tags:\n",
    "    col = 'POS_' + ('NOUN' if pos == 'PROPN' else pos)\n",
    "    if col not in texts.columns:\n",
    "        texts[col] = pos_freqs[pos]\n",
    "        \n",
    "# Example: view the POS distribution for the first text\n"
   ]
  },
  {
   "cell_type": "code",
   "execution_count": 12,
   "id": "ed414d08",
   "metadata": {},
   "outputs": [
    {
     "name": "stdout",
     "output_type": "stream",
     "text": [
      "Author       George Sand\n",
      "POS_NOUN        0.193326\n",
      "POS_VERB        0.135788\n",
      "POS_AUX         0.033947\n",
      "POS_ADJ         0.055811\n",
      "POS_ADV         0.097238\n",
      "POS_PRON        0.164557\n",
      "POS_DET          0.09954\n",
      "POS_ADP          0.11565\n",
      "POS_CCONJ       0.046605\n",
      "POS_SCONJ       0.036824\n",
      "POS_INTJ        0.000575\n",
      "Name: 0, dtype: object\n"
     ]
    }
   ],
   "source": [
    "print(texts.loc[0, ['Author'] + [f\"POS_{w}\" for w in pos_tags if w != 'PROPN']])"
   ]
  },
  {
   "cell_type": "code",
   "execution_count": 13,
   "id": "ace4dfde",
   "metadata": {},
   "outputs": [
    {
     "name": "stdout",
     "output_type": "stream",
     "text": [
      "<class 'pandas.core.frame.DataFrame'>\n",
      "RangeIndex: 3858 entries, 0 to 3857\n",
      "Columns: 181 entries, Author to POS_INTJ\n",
      "dtypes: float64(173), int64(1), object(7)\n",
      "memory usage: 5.3+ MB\n",
      "None\n"
     ]
    }
   ],
   "source": [
    "print(texts.info())"
   ]
  },
  {
   "cell_type": "markdown",
   "id": "928292d0",
   "metadata": {},
   "source": [
    "## Lexical features"
   ]
  },
  {
   "cell_type": "code",
   "execution_count": 14,
   "id": "64ecb6be",
   "metadata": {},
   "outputs": [
    {
     "name": "stdout",
     "output_type": "stream",
     "text": [
      "Author             George Sand\n",
      "WordCount                 1622\n",
      "lex_TTR               0.404537\n",
      "lex_Hapax_Ratio       0.287335\n",
      "lex_AvgWordLen        4.481411\n",
      "Name: 0, dtype: object\n",
      "<class 'pandas.core.frame.DataFrame'>\n",
      "RangeIndex: 3858 entries, 0 to 3857\n",
      "Columns: 184 entries, Author to lex_AvgWordLen\n",
      "dtypes: float64(176), int64(1), object(7)\n",
      "memory usage: 5.4+ MB\n",
      "None\n"
     ]
    }
   ],
   "source": [
    "def compute_lexical_metrics(token_list):\n",
    "    # Remove punctuation and non-word tokens from the list\n",
    "    words = []\n",
    "    for token in token_list:\n",
    "        if token in punct_set:\n",
    "            continue  # skip punctuation tokens\n",
    "        # Remove any punctuation attached to the token (e.g., apostrophes or hyphens) for word length calculation\n",
    "        cleaned_token = re.sub(r'[\\W_]+', '', token, flags=re.UNICODE)  # keep only alphanumeric characters\n",
    "        if cleaned_token == \"\" or cleaned_token.isdigit():\n",
    "            continue  # skip if token is empty or purely numeric after cleaning\n",
    "        words.append(cleaned_token)\n",
    "    if len(words) == 0:\n",
    "        # If no valid word tokens, return zeros\n",
    "        return pd.Series({\"lex_TTR\": 0.0, \"lex_Hapax_Ratio\": 0.0, \"lex_AvgWordLen\": 0.0})\n",
    "    total_words = len(words)\n",
    "    unique_words = set(words)\n",
    "    # Type-Token Ratio\n",
    "    ttr = len(unique_words) / total_words\n",
    "    # Hapax Legomena Ratio\n",
    "    word_freqs = Counter(words)\n",
    "    hapax_count = sum(1 for count in word_freqs.values() if count == 1)\n",
    "    hapax_ratio = hapax_count / total_words\n",
    "    # Average word length (in characters)\n",
    "    total_chars = sum(len(w) for w in words)\n",
    "    avg_word_len = total_chars / total_words\n",
    "    return pd.Series({\"lex_TTR\": ttr, \"lex_Hapax_Ratio\": hapax_ratio, \"lex_AvgWordLen\": avg_word_len})\n",
    "\n",
    "# Apply the lexical metrics function to each text\n",
    "lexical_df = texts['Tokens'].apply(compute_lexical_metrics)\n",
    "# Merge the resulting metrics columns into the main DataFrame\n",
    "texts = pd.concat([texts, lexical_df], axis=1)\n",
    "\n",
    "# Example: show lexical richness metrics for a text\n",
    "print(texts.loc[0, ['Author', 'WordCount', 'lex_TTR', 'lex_Hapax_Ratio', 'lex_AvgWordLen']])\n",
    "print(texts.info())\n"
   ]
  },
  {
   "cell_type": "code",
   "execution_count": 15,
   "id": "37b67529",
   "metadata": {},
   "outputs": [],
   "source": [
    "def compute_extended_lexical_metrics(token_list):\n",
    "    words = []\n",
    "    for token in token_list:\n",
    "        if token in punct_set:\n",
    "            continue\n",
    "        cleaned_token = re.sub(r'[\\W_]+', '', token, flags=re.UNICODE)\n",
    "        if cleaned_token == \"\" or cleaned_token.isdigit():\n",
    "            continue\n",
    "        words.append(cleaned_token)\n",
    "\n",
    "    if len(words) == 0:\n",
    "        return pd.Series({\n",
    "            \"lex_YuleK\": 0.0,\n",
    "            \"lex_SimpsonD\": 0.0,\n",
    "            \"lex_Entropy\": 0.0\n",
    "        })\n",
    "\n",
    "    word_counts = Counter(words)\n",
    "    total = sum(word_counts.values())\n",
    "    M1 = sum(v**2 for v in word_counts.values())\n",
    "    yule_K = 10**4 * (M1 - total) / total**2\n",
    "    simpson_D = sum((freq / total)**2 for freq in word_counts.values())\n",
    "    entropy = -sum((freq / total) * log2(freq / total) for freq in word_counts.values())\n",
    "\n",
    "    return pd.Series({\n",
    "        \"lex_YuleK\": yule_K,\n",
    "        \"lex_SimpsonD\": simpson_D,\n",
    "        \"lex_Entropy\": entropy\n",
    "    })\n",
    "\n",
    "texts = texts.rename(columns={\"WordCount\": \"lex_WordCount\"})\n",
    "texts = pd.concat([texts, texts['Tokens'].apply(compute_extended_lexical_metrics)], axis=1)"
   ]
  },
  {
   "cell_type": "code",
   "execution_count": 16,
   "id": "e5dc086d",
   "metadata": {},
   "outputs": [
    {
     "name": "stdout",
     "output_type": "stream",
     "text": [
      "Author           George Sand\n",
      "lex_WordCount           1622\n",
      "lex_YuleK          82.046591\n",
      "lex_SimpsonD        0.008835\n",
      "lex_Entropy         8.202369\n",
      "Name: 0, dtype: object\n",
      "<class 'pandas.core.frame.DataFrame'>\n",
      "RangeIndex: 3858 entries, 0 to 3857\n",
      "Columns: 187 entries, Author to lex_Entropy\n",
      "dtypes: float64(179), int64(1), object(7)\n",
      "memory usage: 5.5+ MB\n",
      "None\n"
     ]
    }
   ],
   "source": [
    "# Example: show lexical richness metrics for a text\n",
    "print(texts.loc[0, ['Author', 'lex_WordCount', 'lex_YuleK', 'lex_SimpsonD', 'lex_Entropy']])\n",
    "print(texts.info())"
   ]
  },
  {
   "cell_type": "markdown",
   "id": "3560d1b7",
   "metadata": {},
   "source": [
    "## Syntaxic features"
   ]
  },
  {
   "cell_type": "code",
   "execution_count": 17,
   "id": "6aeedc4e",
   "metadata": {},
   "outputs": [],
   "source": [
    "def compute_syntaxic_features(token_list):\n",
    "    doc = nlp_fr(\" \".join(token_list))\n",
    "    pos_counts = Counter(token.pos_ for token in doc if token.pos_ != \"PUNCT\")\n",
    "    nouns = pos_counts.get(\"NOUN\", 0) + pos_counts.get(\"PROPN\", 0)\n",
    "    verbs = pos_counts.get(\"VERB\", 0)\n",
    "    adjs = pos_counts.get(\"ADJ\", 0)\n",
    "    advs = pos_counts.get(\"ADV\", 0)\n",
    "\n",
    "    syn_nom_verb = nouns / verbs if verbs > 0 else 0.0\n",
    "    syn_adj_noun = adjs / nouns if nouns > 0 else 0.0\n",
    "    syn_adv_verb = advs / verbs if verbs > 0 else 0.0\n",
    "\n",
    "    sentence_lengths = [len([tok for tok in sent if not tok.is_punct]) for sent in doc.sents]\n",
    "    complexity_deps = {\"ccomp\", \"xcomp\", \"advcl\", \"relcl\", \"acl\", \"mark\"}\n",
    "    complexity_score = sum(1 for tok in doc if tok.dep_ in complexity_deps) / len(sentence_lengths) if sentence_lengths else 0.0\n",
    "\n",
    "    avg_len = np.mean(sentence_lengths) if sentence_lengths else 0.0\n",
    "    alternance_pattern = [1 if l > avg_len else 0 for l in sentence_lengths]\n",
    "    switches = sum(1 for i in range(1, len(alternance_pattern)) if alternance_pattern[i] != alternance_pattern[i-1])\n",
    "    alternance_rate = switches / len(alternance_pattern) if alternance_pattern else 0.0\n",
    "\n",
    "    return pd.Series({\n",
    "        \"syn_Complexity\": complexity_score,\n",
    "        \"syn_NomVerbRatio\": syn_nom_verb,\n",
    "        \"syn_AdjNounRatio\": syn_adj_noun,\n",
    "        \"syn_AdvVerbRatio\": syn_adv_verb,\n",
    "        \"syn_AlternanceRate\": alternance_rate\n",
    "    })\n",
    "\n",
    "texts = pd.concat([texts, texts['Tokens'].apply(compute_syntaxic_features)], axis=1)"
   ]
  },
  {
   "cell_type": "code",
   "execution_count": 18,
   "id": "c28412c8",
   "metadata": {},
   "outputs": [
    {
     "name": "stdout",
     "output_type": "stream",
     "text": [
      "Author                George Sand\n",
      "syn_Complexity           2.095238\n",
      "syn_NomVerbRatio         1.423729\n",
      "syn_AdjNounRatio          0.28869\n",
      "syn_AdvVerbRatio         0.716102\n",
      "syn_AlternanceRate       0.485714\n",
      "Name: 0, dtype: object\n",
      "<class 'pandas.core.frame.DataFrame'>\n",
      "RangeIndex: 3858 entries, 0 to 3857\n",
      "Columns: 192 entries, Author to syn_AlternanceRate\n",
      "dtypes: float64(184), int64(1), object(7)\n",
      "memory usage: 5.7+ MB\n",
      "None\n"
     ]
    }
   ],
   "source": [
    "# Example: show lexical richness metrics for a text\n",
    "print(texts.loc[0, ['Author', 'syn_Complexity', 'syn_NomVerbRatio', 'syn_AdjNounRatio', 'syn_AdvVerbRatio', 'syn_AlternanceRate']])\n",
    "print(texts.info())"
   ]
  },
  {
   "cell_type": "markdown",
   "id": "36637095",
   "metadata": {},
   "source": [
    "## Punctuation"
   ]
  },
  {
   "cell_type": "code",
   "execution_count": 19,
   "id": "4cabd3a6",
   "metadata": {},
   "outputs": [
    {
     "name": "stdout",
     "output_type": "stream",
     "text": [
      "Author                       George Sand\n",
      "pun_Period_Count                      33\n",
      "pun_Comma_Count                      157\n",
      "pun_Semicolon_Count                   16\n",
      "pun_QuestionMark_Count                15\n",
      "pun_ExclamationMark_Count             12\n",
      "pun_Colon_Count                        5\n",
      "Name: 0, dtype: object\n"
     ]
    }
   ],
   "source": [
    "# Define a mapping of punctuation symbols to descriptive column names\n",
    "punct_marks = {'.': 'Period', ',': 'Comma', ';': 'Semicolon', '?': 'QuestionMark', '!': 'ExclamationMark', ':': 'Colon'}\n",
    "\n",
    "for symbol, name in punct_marks.items():\n",
    "    texts[f\"pun_{name}_Count\"] = texts['Tokens'].apply(lambda tokens: tokens.count(symbol))\n",
    "\n",
    "# Example: show punctuation counts for the first text\n",
    "print(texts.loc[0, ['Author'] + [f\"pun_{name}_Count\" for name in punct_marks.values()]])\n"
   ]
  },
  {
   "cell_type": "code",
   "execution_count": 20,
   "id": "280a5ab6",
   "metadata": {},
   "outputs": [
    {
     "name": "stdout",
     "output_type": "stream",
     "text": [
      "<class 'pandas.core.frame.DataFrame'>\n",
      "RangeIndex: 3858 entries, 0 to 3857\n",
      "Columns: 198 entries, Author to pun_Colon_Count\n",
      "dtypes: float64(184), int64(7), object(7)\n",
      "memory usage: 5.8+ MB\n",
      "None\n"
     ]
    }
   ],
   "source": [
    "print(texts.info())"
   ]
  },
  {
   "cell_type": "markdown",
   "id": "84622446",
   "metadata": {},
   "source": [
    "## Dependencies"
   ]
  },
  {
   "cell_type": "code",
   "execution_count": 21,
   "id": "7949b9f2",
   "metadata": {},
   "outputs": [],
   "source": [
    "def compute_dep_features(token_list):\n",
    "    doc = nlp_fr(\" \".join(token_list))\n",
    "    deps = {\"ccomp\", \"xcomp\", \"advcl\", \"relcl\", \"acl\", \"mark\"}\n",
    "    dep_counts = Counter(token.dep_ for token in doc)\n",
    "    return pd.Series({f\"dep_{d}\": dep_counts.get(d, 0) for d in deps})\n",
    "\n",
    "texts = pd.concat([texts, texts['Tokens'].apply(compute_dep_features)], axis=1)"
   ]
  },
  {
   "cell_type": "code",
   "execution_count": 22,
   "id": "5db392ad",
   "metadata": {},
   "outputs": [
    {
     "name": "stdout",
     "output_type": "stream",
     "text": [
      "Author       George Sand\n",
      "dep_ccomp             29\n",
      "dep_xcomp             54\n",
      "dep_advcl             29\n",
      "dep_relcl              0\n",
      "dep_acl               11\n",
      "dep_mark              97\n",
      "Name: 0, dtype: object\n",
      "<class 'pandas.core.frame.DataFrame'>\n",
      "RangeIndex: 3858 entries, 0 to 3857\n",
      "Columns: 204 entries, Author to dep_relcl\n",
      "dtypes: float64(184), int64(13), object(7)\n",
      "memory usage: 6.0+ MB\n",
      "None\n"
     ]
    }
   ],
   "source": [
    "# Example: show lexical richness metrics for a text\n",
    "print(texts.loc[0, ['Author', 'dep_ccomp', 'dep_xcomp', 'dep_advcl', 'dep_relcl', 'dep_acl', 'dep_mark']])\n",
    "print(texts.info())"
   ]
  },
  {
   "cell_type": "markdown",
   "id": "148761dc",
   "metadata": {},
   "source": [
    "## Sentence metrics"
   ]
  },
  {
   "cell_type": "code",
   "execution_count": 23,
   "id": "3ac16862",
   "metadata": {},
   "outputs": [],
   "source": [
    "def compute_sentence_metrics_with_complexity(token_list):\n",
    "    # Count sentence-ending punctuation marks\n",
    "    sentence_enders = {'.', '!', '?'}\n",
    "    \n",
    "    # Count words (exclude all punctuation tokens)\n",
    "    sent_count = sum(token_list.count(sym) for sym in sentence_enders)\n",
    "    sent_count = max(sent_count, 1 if any(t not in punct_set for t in token_list) else 0)\n",
    "    word_count = sum(1 for t in token_list if t not in punct_set)\n",
    "    avg_sent_len = word_count / sent_count if sent_count > 0 else 0.0\n",
    "\n",
    "\n",
    "    return pd.Series({\n",
    "        \"sent_Count\": sent_count,\n",
    "        \"sent_AvgLength\": avg_sent_len\n",
    "    })\n",
    "\n",
    "sentence_df = texts['Tokens'].apply(compute_sentence_metrics_with_complexity)\n",
    "texts = pd.concat([texts, sentence_df], axis=1)"
   ]
  },
  {
   "cell_type": "code",
   "execution_count": 24,
   "id": "ea5adb01",
   "metadata": {},
   "outputs": [],
   "source": [
    "def compute_sentence_variation_features(token_list):\n",
    "    doc = nlp_fr(\" \".join(token_list))\n",
    "    sentences = list(doc.sents)\n",
    "    sentence_lengths = [len([tok for tok in sent if not tok.is_punct]) for sent in sentences]\n",
    "    sent_count = len(sentences)\n",
    "    total_words = sum(sentence_lengths)\n",
    "\n",
    "    avg_len = total_words / sent_count if sent_count > 0 else 0.0\n",
    "    std_len = np.std(sentence_lengths) if sentence_lengths else 0.0\n",
    "    min_len = min(sentence_lengths) if sentence_lengths else 0\n",
    "    max_len = max(sentence_lengths) if sentence_lengths else 0\n",
    "\n",
    "    passive_count = sum(\n",
    "        1 for tok in doc\n",
    "        if tok.dep_ == \"aux:pass\" or \n",
    "           (tok.head.lemma_ == \"être\" and tok.pos_ == \"VERB\" and \"VerbForm=Part\" in tok.morph)\n",
    "    )\n",
    "\n",
    "    intj_start = sum(1 for sent in sentences if len(sent) > 0 and sent[0].pos_ == \"INTJ\")\n",
    "    questions = sum(1 for sent in sentences if any(tok.text == \"?\" for tok in sent))\n",
    "    exclamations = sum(1 for sent in sentences if any(tok.text == \"!\" for tok in sent))\n",
    "\n",
    "    return pd.Series({\n",
    "        \"sent_MinLength\": min_len,\n",
    "        \"sent_MaxLength\": max_len,\n",
    "        \"sent_StdLength\": std_len,\n",
    "        \"sent_PassiveRatio\": passive_count / sent_count if sent_count > 0 else 0.0,\n",
    "        \"sent_Interrogative\": questions / sent_count if sent_count > 0 else 0.0,\n",
    "        \"sent_Exclamative\": exclamations / sent_count if sent_count > 0 else 0.0,\n",
    "        \"sent_Exclamative_INTJ\": intj_start / sent_count if sent_count > 0 else 0.0\n",
    "    })\n",
    "\n",
    "texts = pd.concat([texts, texts['Tokens'].apply(compute_sentence_variation_features)], axis=1)"
   ]
  },
  {
   "cell_type": "code",
   "execution_count": 25,
   "id": "b704c458",
   "metadata": {},
   "outputs": [
    {
     "name": "stdout",
     "output_type": "stream",
     "text": [
      "<class 'pandas.core.frame.DataFrame'>\n",
      "RangeIndex: 3858 entries, 0 to 3857\n",
      "Columns: 213 entries, Author to sent_Exclamative_INTJ\n",
      "dtypes: float64(193), int64(13), object(7)\n",
      "memory usage: 6.3+ MB\n"
     ]
    }
   ],
   "source": [
    "texts.info()"
   ]
  },
  {
   "cell_type": "markdown",
   "id": "6839461a",
   "metadata": {},
   "source": [
    "## Verb Tenses"
   ]
  },
  {
   "cell_type": "code",
   "execution_count": 26,
   "id": "d4aeb671",
   "metadata": {},
   "outputs": [],
   "source": [
    "# Define tense/mood patterns to track\n",
    "tense_patterns = {\n",
    "    \"tense_pres_ind\": (\"Tense=Pres\", \"Mood=Ind\"),\n",
    "    \"tense_past_ind\": (\"Tense=Past\", \"Mood=Ind\"),\n",
    "    \"tense_imp_ind\": (\"Tense=Imp\", \"Mood=Ind\"),\n",
    "    \"tense_cond\": (\"Mood=Cnd\",),\n",
    "    \"tense_subj\": (\"Mood=Sub\",),\n",
    "    \"tense_inf\": (\"VerbForm=Inf\",)\n",
    "}\n",
    "\n",
    "# Initialize dict of lists\n",
    "tense_counts = {k: [] for k in tense_patterns.keys()}\n",
    "\n",
    "for tokens in texts['Tokens']:\n",
    "    doc = nlp_fr(\" \".join(tokens))\n",
    "    verb_tokens = [t for t in doc if t.pos_ in {\"VERB\", \"AUX\"}]\n",
    "    total_verbs = len(verb_tokens)\n",
    "    \n",
    "    for label, conditions in tense_patterns.items():\n",
    "        count = sum(\n",
    "            all(cond in t.morph.to_json() for cond in conditions)\n",
    "            for t in verb_tokens\n",
    "        )\n",
    "        tense_counts[label].append(count / total_verbs if total_verbs > 0 else 0.0)\n",
    "\n",
    "# Add to DataFrame\n",
    "for label, vals in tense_counts.items():\n",
    "    texts[label] = vals\n"
   ]
  },
  {
   "cell_type": "code",
   "execution_count": 27,
   "id": "4c0f9247",
   "metadata": {},
   "outputs": [
    {
     "name": "stdout",
     "output_type": "stream",
     "text": [
      "<class 'pandas.core.frame.DataFrame'>\n",
      "RangeIndex: 3858 entries, 0 to 3857\n",
      "Columns: 219 entries, Author to tense_inf\n",
      "dtypes: float64(199), int64(13), object(7)\n",
      "memory usage: 6.4+ MB\n",
      "None\n"
     ]
    }
   ],
   "source": [
    "print(texts.info())"
   ]
  },
  {
   "cell_type": "markdown",
   "id": "3ee2dc03",
   "metadata": {},
   "source": [
    "## Others"
   ]
  },
  {
   "cell_type": "code",
   "execution_count": 28,
   "id": "ad45c021",
   "metadata": {},
   "outputs": [],
   "source": [
    "coord_conjs = {\"et\", \"ou\", \"mais\", \"ni\", \"donc\", \"or\", \"car\"}\n",
    "subord_conjs = {\"que\", \"quand\", \"si\", \"comme\", \"lorsque\", \"puisque\", \"bien que\", \"afin que\", \"parce que\"}\n",
    "discursive_markers = {\"donc\", \"cependant\", \"toutefois\", \"néanmoins\", \"ainsi\", \"en effet\", \"or\", \"en revanche\", \"par conséquent\", \"en outre\"}\n",
    "\n",
    "def compute_discursive_features(token_list):\n",
    "    coord_count = sum(1 for t in token_list if t.lower() in coord_conjs)\n",
    "    subord_count = sum(1 for t in token_list if t.lower() in subord_conjs)\n",
    "    disc_count = sum(1 for t in token_list if t.lower() in discursive_markers)\n",
    "    ratio = subord_count / (coord_count + 1)\n",
    "    return pd.Series({\n",
    "        \"syn_CoordCount\": coord_count,\n",
    "        \"syn_SubordCount\": subord_count,\n",
    "        \"syn_SubCoordRatio\": ratio,\n",
    "        \"lex_MarkerCount\": disc_count\n",
    "    })\n",
    "\n",
    "texts = pd.concat([texts, texts['Tokens'].apply(compute_discursive_features)], axis=1)"
   ]
  },
  {
   "cell_type": "markdown",
   "id": "d1b91c31",
   "metadata": {},
   "source": [
    "## Character Metrics - ngrams"
   ]
  },
  {
   "cell_type": "code",
   "execution_count": 29,
   "id": "22bc7b27",
   "metadata": {},
   "outputs": [
    {
     "data": {
      "text/plain": [
       "'\\n\\ndef reconstruct_text(token_list):\\n    \"\"\"Reconstruct text string from tokens, inserting spaces appropriately.\"\"\"\\n    text = \"\"\\n    for token in token_list:\\n        if token in punct_set:\\n            # Attach punctuation directly to the text (no preceding space)\\n            text += token\\n        else:\\n            # If not the first token, add a space before adding the word\\n            if text:\\n                text += \" \"\\n            text += token\\n    return text\\n\\n# List to collect n-gram frequency dictionaries for each text\\nchar_ngram_features = []\\n\\nfor token_list in texts[\\'Tokens\\']:\\n    text = reconstruct_text(token_list)\\n    # Initialize a dict for this text\\'s n-grams\\n    ngram_counts = {}\\n    # Character bigrams (2-grams)\\n    for i in range(len(text) - 1):\\n        bigram = text[i:i+2]\\n        # Use an underscore to represent spaces in feature names for clarity\\n        feat_name = \"bi_\" + bigram.replace(\" \", \"_\")\\n        ngram_counts[feat_name] = ngram_counts.get(feat_name, 0) + 1\\n    # Character trigrams (3-grams)\\n    for i in range(len(text) - 2):\\n        trigram = text[i:i+3]\\n        feat_name = \"tri_\" + trigram.replace(\" \", \"_\")\\n        ngram_counts[feat_name] = ngram_counts.get(feat_name, 0) + 1\\n    char_ngram_features.append(ngram_counts)\\n\\n# Convert list of dicts to DataFrame (each n-gram becomes a column, fill missing with 0)\\nchar_ngram_df = pd.DataFrame(char_ngram_features).fillna(0).astype(int)\\n# Merge the n-gram features into the main DataFrame\\ntexts = pd.concat([texts, char_ngram_df], axis=1)\\n\\n# Example: number of character n-gram feature columns\\nprint(f\"Total character n-gram features: {char_ngram_df.shape[1]}\")\\n# Show a small sample of character n-gram features for the first text\\nprint(texts.loc[0, [col for col in texts.columns if col.startswith(\\'bi_\\')][:5]])\\n\\n\\n\\n'"
      ]
     },
     "execution_count": 29,
     "metadata": {},
     "output_type": "execute_result"
    }
   ],
   "source": [
    "# Commented out as it added too much features for too little gain\n",
    "\n",
    "'''\n",
    "\n",
    "def reconstruct_text(token_list):\n",
    "    \"\"\"Reconstruct text string from tokens, inserting spaces appropriately.\"\"\"\n",
    "    text = \"\"\n",
    "    for token in token_list:\n",
    "        if token in punct_set:\n",
    "            # Attach punctuation directly to the text (no preceding space)\n",
    "            text += token\n",
    "        else:\n",
    "            # If not the first token, add a space before adding the word\n",
    "            if text:\n",
    "                text += \" \"\n",
    "            text += token\n",
    "    return text\n",
    "\n",
    "# List to collect n-gram frequency dictionaries for each text\n",
    "char_ngram_features = []\n",
    "\n",
    "for token_list in texts['Tokens']:\n",
    "    text = reconstruct_text(token_list)\n",
    "    # Initialize a dict for this text's n-grams\n",
    "    ngram_counts = {}\n",
    "    # Character bigrams (2-grams)\n",
    "    for i in range(len(text) - 1):\n",
    "        bigram = text[i:i+2]\n",
    "        # Use an underscore to represent spaces in feature names for clarity\n",
    "        feat_name = \"bi_\" + bigram.replace(\" \", \"_\")\n",
    "        ngram_counts[feat_name] = ngram_counts.get(feat_name, 0) + 1\n",
    "    # Character trigrams (3-grams)\n",
    "    for i in range(len(text) - 2):\n",
    "        trigram = text[i:i+3]\n",
    "        feat_name = \"tri_\" + trigram.replace(\" \", \"_\")\n",
    "        ngram_counts[feat_name] = ngram_counts.get(feat_name, 0) + 1\n",
    "    char_ngram_features.append(ngram_counts)\n",
    "\n",
    "# Convert list of dicts to DataFrame (each n-gram becomes a column, fill missing with 0)\n",
    "char_ngram_df = pd.DataFrame(char_ngram_features).fillna(0).astype(int)\n",
    "# Merge the n-gram features into the main DataFrame\n",
    "texts = pd.concat([texts, char_ngram_df], axis=1)\n",
    "\n",
    "# Example: number of character n-gram feature columns\n",
    "print(f\"Total character n-gram features: {char_ngram_df.shape[1]}\")\n",
    "# Show a small sample of character n-gram features for the first text\n",
    "print(texts.loc[0, [col for col in texts.columns if col.startswith('bi_')][:5]])\n",
    "\n",
    "\n",
    "\n",
    "'''\n",
    "\n"
   ]
  },
  {
   "cell_type": "markdown",
   "id": "c4e2566b",
   "metadata": {},
   "source": [
    "## Figure of Speech Tagging"
   ]
  },
  {
   "cell_type": "markdown",
   "id": "50e3f82e",
   "metadata": {},
   "source": [
    "Create function for LLM Figure of Speech labeling"
   ]
  },
  {
   "cell_type": "code",
   "execution_count": 54,
   "id": "d77d534f",
   "metadata": {},
   "outputs": [],
   "source": [
    "load_dotenv()\n",
    "openai.api_key = os.getenv(\"OPENAI_API_KEY\")"
   ]
  },
  {
   "cell_type": "code",
   "execution_count": 56,
   "id": "6515d294",
   "metadata": {},
   "outputs": [],
   "source": [
    "def call_llm(phrases_input: List[str], retry_context: str = None) -> str:\n",
    "   if retry_context:\n",
    "      prompt = (\n",
    "         f\"J'ai tenté d'analyser ta réponse comme un JSON, mais j'ai obtenu l'erreur suivante :\\n\"\n",
    "         f\"{retry_context}\\n\\n\"\n",
    "         \"Corrige uniquement le **format JSON** de ta réponse précédente. Ne modifie en rien le contenu, même s'il contient des erreurs logiques.\\n\\n\"\n",
    "         \"La structure attendue est une **liste de dictionnaires**, comme ceci :\\n\"\n",
    "         '[\\n'\n",
    "         '  {\"phrase\": \"...\", \"Comparaison\": ..., \"Métaphore\": ..., \"Personnification\": ..., ..., \"Euphémisme\": ...},\\n'\n",
    "         '  ...\\n'\n",
    "         ']\\n\\n'\n",
    "         \"⚠️ Important : Ne renvoie **aucun texte en dehors du JSON**. Pas d'explication, pas d'introduction, pas de commentaire. Juste un JSON pur et bien formé.\"\n",
    "      )\n",
    "   else:\n",
    "      prompt = f\"\"\"\n",
    "Tu es un expert en analyse littéraire. Analyse les phrases suivantes et indique pour chacune quelles figures de style elle contient, en te basant sur cette liste. Pour chaque phrase, renvoie un dictionnaire avec les figures suivantes comme clés, et `true` ou `false` comme valeur.\n",
    "\n",
    "Voici les figures à analyser avec à chaque fois leur définition et un exemple :\n",
    "1. **Comparaison** : Mise en relation d’un comparé et d’un comparant avec un outil (comme, tel, semblable à, etc.).\n",
    "   Exemple : « Cet homme est bête comme ses pieds »\n",
    "2. **Métaphore** : Comparaison sans outil de comparaison.\n",
    "   Exemple : « Ses cheveux de miel. »\n",
    "3. **Personnification** : Attribution de caractéristiques humaines à un objet ou un animal.\n",
    "   Exemple : « Le stylo saute de la table »\n",
    "4. **Hyperbole** : Exagération dans le but de frapper l’imagination.\n",
    "   Exemple : « Je meurs de faim »\n",
    "5. **Litote** : Dire moins pour faire entendre plus.\n",
    "   Exemple : « Je ne te hais point »\n",
    "6. **Antithèse** : Opposition très forte entre deux idées.\n",
    "   Exemple : « Je vis, je meurs »\n",
    "7. **Oxymore** : Réunion de deux termes opposés dans un même groupe de mots.\n",
    "   Exemple : « Une obscure clarté »\n",
    "8. **Répétition** : Reprise d’un même mot plusieurs fois.\n",
    "   Exemple : « La guerre, la guerre, la guerre ! »\n",
    "9. **Énumération** : Accumulation de mots de même nature grammaticale.\n",
    "   Exemple : « Il mange des pommes, des poires, des bananes et des kiwis. »\n",
    "10. **Euphémisme** : Expression atténuée d’une idée jugée brutale.\n",
    "   Exemple : « Il nous a quittés » (pour \"il est mort\")\n",
    "\n",
    "Exemple de sortie attendue pour une phrase :\n",
    "{{\"phrase\": \"Je meurs de faim\", \"Hyperbole\": true, \"Comparaison\": false, ..., \"Euphémisme\": false}}\n",
    "\n",
    "Analyse les phrases suivantes :\n",
    "{json.dumps(phrases_input, ensure_ascii=False, indent=2)}\n",
    "\n",
    "Réponds uniquement avec une liste de dictionnaires JSON, un par phrase, au format :\n",
    "[\n",
    "  {{\"phrase\": \"...\", \"Comparaison\": ..., \"Métaphore\": ..., ...}},\n",
    "  ...\n",
    "]\n",
    "\n",
    "Réponds uniquement avec une liste JSON sans aucun commentaire ni explication. Chaque élément doit être un dictionnaire contenant les clés demandées.\n",
    "\"\"\"\n",
    "   response = openai.chat.completions.create(\n",
    "      model=\"gpt-4.1-nano-2025-04-14\",\n",
    "      messages=[{\"role\": \"user\", \"content\": prompt}],\n",
    "      temperature=0,\n",
    "      max_tokens=2000\n",
    "   )\n",
    "   return response.choices[0].message.content\n",
    "     \n",
    "def detect_figures_batch(phrases: List[str]) -> List[dict]:\n",
    "\n",
    "   retries = 3\n",
    "   generated = \"\"\n",
    "   error_message = \"\"\n",
    "\n",
    "   for attempt in range(retries):\n",
    "      try:\n",
    "         generated = call_llm(phrases, error_message if attempt > 0 else None)\n",
    "         result = json.loads(generated)\n",
    "\n",
    "         # ✅ Vérifie que chaque élément de la liste est bien un dict\n",
    "         if isinstance(result, list) and all(isinstance(x, dict) for x in result):\n",
    "               return result  # ✅ Parsing réussi\n",
    "         else:\n",
    "               raise json.JSONDecodeError(\n",
    "                  \"Certains éléments ne sont pas des dictionnaires\", generated, 0\n",
    "               )\n",
    "\n",
    "      except json.JSONDecodeError as e:\n",
    "         error_message = f\"JSONDecodeError: {str(e)}\\nContenu reçu :\\n{generated}\"\n",
    "         print(f\"⚠️ Tentative {attempt+1} — erreur de parsing : {str(e)}\")\n",
    "\n",
    "   # ❌ Si toujours pas bon après 3 tentatives, stocke pour inspection\n",
    "   print(\"❌ Parsing échoué après 3 tentatives. Contenu mis de côté pour inspection.\")\n",
    "   with open(\"parsing_failures.log\", \"a\", encoding=\"utf-8\") as f:\n",
    "      f.write(f\"\\n\\n--- Échec sur batch ---\\nEntrée :\\n{json.dumps(phrases, ensure_ascii=False)}\\nSortie brute :\\n{generated}\\n\")\n",
    "\n",
    "   return []\n"
   ]
  },
  {
   "cell_type": "code",
   "execution_count": 57,
   "id": "011d07eb",
   "metadata": {},
   "outputs": [
    {
     "name": "stdout",
     "output_type": "stream",
     "text": [
      "                                              phrase  Comparaison  Métaphore  \\\n",
      "0                               Je ne te hais point.        False      False   \n",
      "1                La terre est ronde comme un orange.         True      False   \n",
      "2          Son regard sombre est un soleil nocturne.        False       True   \n",
      "3                              Il est parti au ciel.        False      False   \n",
      "4             Je n'ai jamais rien mangé d'aussi bon!        False      False   \n",
      "5            Je suis français, polonais et français.        False      False   \n",
      "6   Le chien me parla de ses impots, puis il se tut.        False      False   \n",
      "7                                     C'est un test.        False      False   \n",
      "8  Un petit pas pour l'homme, un grand pas pour l...        False      False   \n",
      "9                         Elle a les yeux revolvers.        False       True   \n",
      "\n",
      "   Personnification  Hyperbole  Litote  Antithèse  Oxymore  Répétition  \\\n",
      "0             False      False    True      False    False       False   \n",
      "1             False      False   False      False    False       False   \n",
      "2             False      False   False      False    False       False   \n",
      "3             False      False   False      False    False       False   \n",
      "4             False       True   False      False    False       False   \n",
      "5             False      False   False      False    False        True   \n",
      "6              True      False   False      False    False       False   \n",
      "7             False      False   False      False    False       False   \n",
      "8             False      False   False       True    False       False   \n",
      "9             False      False   False      False    False       False   \n",
      "\n",
      "   Énumération  Euphémisme  \n",
      "0        False       False  \n",
      "1        False       False  \n",
      "2        False       False  \n",
      "3        False        True  \n",
      "4        False       False  \n",
      "5         True       False  \n",
      "6        False       False  \n",
      "7        False       False  \n",
      "8        False       False  \n",
      "9        False       False  \n"
     ]
    }
   ],
   "source": [
    "print(pd.DataFrame(detect_figures_batch(['Je ne te hais point.', 'La terre est ronde comme un orange.', \n",
    "                      'Son regard sombre est un soleil nocturne.', 'Il est parti au ciel.',\n",
    "                      'Je n\\'ai jamais rien mangé d\\'aussi bon!', 'Je suis français, polonais et français.',\n",
    "                      'Le chien me parla de ses impots, puis il se tut.', 'C\\'est un test.',\n",
    "                      'Un petit pas pour l\\'homme, un grand pas pour l\\'humanité.', 'Elle a les yeux revolvers.'])))  # Example usage"
   ]
  },
  {
   "cell_type": "markdown",
   "id": "08c6eba7",
   "metadata": {},
   "source": [
    "Evaluate the LLM labeling function"
   ]
  },
  {
   "cell_type": "code",
   "execution_count": null,
   "id": "cb7473cf",
   "metadata": {},
   "outputs": [
    {
     "name": "stdout",
     "output_type": "stream",
     "text": [
      "28\n",
      "<class 'pandas.core.frame.DataFrame'>\n",
      "RangeIndex: 28 entries, 0 to 27\n",
      "Data columns (total 2 columns):\n",
      " #   Column  Non-Null Count  Dtype \n",
      "---  ------  --------------  ----- \n",
      " 0   Texte   28 non-null     object\n",
      " 1   Figure  28 non-null     object\n",
      "dtypes: object(2)\n",
      "memory usage: 580.0+ bytes\n",
      "None\n",
      "                                               Texte            Figure\n",
      "0                 Cette journée a duré une éternité.         Hyperbole\n",
      "1    C'est un coin de verdure où chante une rivière.  Personnification\n",
      "2           Tu n'as pas été malchanceux à ce jeu-là.            Litote\n",
      "3                Pierre est rouge comme une pivoine.       Comparaison\n",
      "4  Paris est tout petit, c'est là sa vraie grandeur.         Antithèse\n",
      "                                     Texte       Figure\n",
      "count                                   28           28\n",
      "unique                                  28           10\n",
      "top     Cette journée a duré une éternité.  Comparaison\n",
      "freq                                     1            5\n"
     ]
    }
   ],
   "source": [
    "# Load the test dataset\n",
    "fig_df = pd.read_csv(\"../Data/figures.csv\", encoding=\"MacRoman\", sep=\";\",)\n",
    "print(len(fig_df))\n",
    "print(fig_df.info())\n",
    "print(fig_df.head())\n",
    "print(fig_df.describe())"
   ]
  },
  {
   "cell_type": "code",
   "execution_count": 62,
   "id": "1edff8ed",
   "metadata": {},
   "outputs": [],
   "source": [
    "# En attendant le vrai fig_df\n",
    "\n",
    "fig_df = pd.DataFrame(detect_figures_batch(['Je ne te hais point.', 'La terre est ronde comme un orange.', \n",
    "                      'Son regard sombre est un soleil nocturne.', 'Il est parti au ciel.',\n",
    "                      'Je n\\'ai jamais rien mangé d\\'aussi bon!', 'Je suis français, polonais et français.',\n",
    "                      'Le chien me parla de ses impots, puis il se tut.', 'C\\'est un test.',\n",
    "                      'Un petit pas pour l\\'homme, un grand pas pour l\\'humanité.', 'Elle a les yeux revolvers.']))"
   ]
  },
  {
   "cell_type": "code",
   "execution_count": 63,
   "id": "4396a837",
   "metadata": {},
   "outputs": [
    {
     "name": "stdout",
     "output_type": "stream",
     "text": [
      "10\n",
      "<class 'pandas.core.frame.DataFrame'>\n",
      "RangeIndex: 10 entries, 0 to 9\n",
      "Data columns (total 11 columns):\n",
      " #   Column            Non-Null Count  Dtype \n",
      "---  ------            --------------  ----- \n",
      " 0   phrase            10 non-null     object\n",
      " 1   Comparaison       10 non-null     bool  \n",
      " 2   Métaphore         10 non-null     bool  \n",
      " 3   Personnification  10 non-null     bool  \n",
      " 4   Hyperbole         10 non-null     bool  \n",
      " 5   Litote            10 non-null     bool  \n",
      " 6   Antithèse         10 non-null     bool  \n",
      " 7   Oxymore           10 non-null     bool  \n",
      " 8   Répétition        10 non-null     bool  \n",
      " 9   Énumération       10 non-null     bool  \n",
      " 10  Euphémisme        10 non-null     bool  \n",
      "dtypes: bool(10), object(1)\n",
      "memory usage: 312.0+ bytes\n",
      "None\n",
      "                                      phrase  Comparaison  Métaphore  \\\n",
      "0                       Je ne te hais point.        False      False   \n",
      "1        La terre est ronde comme un orange.         True      False   \n",
      "2  Son regard sombre est un soleil nocturne.        False       True   \n",
      "3                      Il est parti au ciel.        False      False   \n",
      "4     Je n'ai jamais rien mangé d'aussi bon!        False      False   \n",
      "\n",
      "   Personnification  Hyperbole  Litote  Antithèse  Oxymore  Répétition  \\\n",
      "0             False      False    True      False    False       False   \n",
      "1             False      False   False      False    False       False   \n",
      "2             False      False   False      False    False       False   \n",
      "3             False      False   False      False    False       False   \n",
      "4             False       True   False      False    False       False   \n",
      "\n",
      "   Énumération  Euphémisme  \n",
      "0        False       False  \n",
      "1        False       False  \n",
      "2        False       False  \n",
      "3        False        True  \n",
      "4        False       False  \n",
      "                      phrase Comparaison Métaphore Personnification Hyperbole  \\\n",
      "count                     10          10        10               10        10   \n",
      "unique                    10           2         2                2         2   \n",
      "top     Je ne te hais point.       False     False            False     False   \n",
      "freq                       1           9         8                9         9   \n",
      "\n",
      "       Litote Antithèse Oxymore Répétition Énumération Euphémisme  \n",
      "count      10        10      10         10          10         10  \n",
      "unique      2         2       1          2           2          2  \n",
      "top     False     False   False      False       False      False  \n",
      "freq        9         9      10          9           9          9  \n"
     ]
    }
   ],
   "source": [
    "print(len(fig_df))\n",
    "print(fig_df.info())\n",
    "print(fig_df.head())\n",
    "print(fig_df.describe())"
   ]
  },
  {
   "cell_type": "code",
   "execution_count": 64,
   "id": "608402ec",
   "metadata": {},
   "outputs": [],
   "source": [
    "# List of figures (columns, excluding 'phrase')\n",
    "FIGURES = [\n",
    "    \"Comparaison\", \"Métaphore\", \"Personnification\", \"Hyperbole\", \"Litote\",\n",
    "    \"Antithèse\", \"Oxymore\", \"Répétition\", \"Énumération\", \"Euphémisme\"\n",
    "]\n",
    "\n",
    "# Evaluation function\n",
    "def evaluate_figure_detector(fig_df: pd.DataFrame, batch_size: int = 10):\n",
    "    all_preds = []\n",
    "    all_truths = []\n",
    "\n",
    "    for i in tqdm(range(0, len(fig_df), batch_size)):\n",
    "        batch = fig_df.iloc[i:i+batch_size]\n",
    "        phrases = batch[\"phrase\"].tolist()\n",
    "        truths = batch[FIGURES].astype(bool).values.tolist()\n",
    "\n",
    "        try:\n",
    "            preds = detect_figures_batch(phrases)\n",
    "        except Exception as e:\n",
    "            print(f\"Error during prediction for batch {i}: {e}\")\n",
    "            continue\n",
    "\n",
    "        # Ensure alignment of predictions and formatting\n",
    "        pred_values = [[pred[fig] for fig in FIGURES] for pred in preds]\n",
    "        all_preds.extend(pred_values)\n",
    "        all_truths.extend(truths)\n",
    "\n",
    "    # Convert to numpy arrays\n",
    "    y_true = np.array(all_truths, dtype=bool)\n",
    "    y_pred = np.array(all_preds, dtype=bool)\n",
    "\n",
    "    # Overall macro metrics\n",
    "    macro_accuracy = accuracy_score(y_true, y_pred)\n",
    "    macro_f1 = f1_score(y_true, y_pred, average='macro')\n",
    "\n",
    "    # Per-label metrics\n",
    "    report = classification_report(y_true, y_pred, target_names=FIGURES, output_dict=True)\n",
    "\n",
    "    return {\n",
    "        \"macro_accuracy\": macro_accuracy,\n",
    "        \"macro_f1\": macro_f1,\n",
    "        \"per_figure_metrics\": report\n",
    "    }\n",
    "\n",
    "def print_evaluation_results(results, figures):\n",
    "    print(\"\\n🔍 Evaluation Results\")\n",
    "    print(\"-\" * 40)\n",
    "    print(f\"✅ Macro Accuracy: {results['macro_accuracy']:.2f}\")\n",
    "    print(f\"✅ Macro F1 Score: {results['macro_f1']:.2f}\")\n",
    "    print(\"-\" * 40)\n",
    "\n",
    "    print(\"\\n📊 Per-Figure Metrics:\")\n",
    "    rows = []\n",
    "    for fig in figures:\n",
    "        fig_metrics = results[\"per_figure_metrics\"].get(fig, {})\n",
    "        precision = fig_metrics.get(\"precision\", 0.0)\n",
    "        recall = fig_metrics.get(\"recall\", 0.0)\n",
    "        f1 = fig_metrics.get(\"f1-score\", 0.0)\n",
    "        support = fig_metrics.get(\"support\", 0)\n",
    "        rows.append({\n",
    "            \"Figure\": fig,\n",
    "            \"Precision\": f\"{precision:.2f}\",\n",
    "            \"Recall\": f\"{recall:.2f}\",\n",
    "            \"F1-Score\": f\"{f1:.2f}\",\n",
    "            \"Support\": int(support),\n",
    "        })\n",
    "\n",
    "    df = pd.DataFrame(rows)\n",
    "    print(df.to_markdown(index=False))\n"
   ]
  },
  {
   "cell_type": "code",
   "execution_count": 65,
   "id": "e6a33d50",
   "metadata": {},
   "outputs": [
    {
     "name": "stderr",
     "output_type": "stream",
     "text": [
      "100%|██████████| 1/1 [00:05<00:00,  5.30s/it]"
     ]
    },
    {
     "name": "stdout",
     "output_type": "stream",
     "text": [
      "\n",
      "🔍 Evaluation Results\n",
      "----------------------------------------\n",
      "✅ Macro Accuracy: 0.90\n",
      "✅ Macro F1 Score: 0.78\n",
      "----------------------------------------\n",
      "\n",
      "📊 Per-Figure Metrics:\n",
      "| Figure           |   Precision |   Recall |   F1-Score |   Support |\n",
      "|:-----------------|------------:|---------:|-----------:|----------:|\n",
      "| Comparaison      |        1    |        1 |        1   |         1 |\n",
      "| Métaphore        |        0.67 |        1 |        0.8 |         2 |\n",
      "| Personnification |        1    |        1 |        1   |         1 |\n",
      "| Hyperbole        |        1    |        1 |        1   |         1 |\n",
      "| Litote           |        1    |        1 |        1   |         1 |\n",
      "| Antithèse        |        1    |        1 |        1   |         1 |\n",
      "| Oxymore          |        0    |        0 |        0   |         0 |\n",
      "| Répétition       |        1    |        1 |        1   |         1 |\n",
      "| Énumération      |        1    |        1 |        1   |         1 |\n",
      "| Euphémisme       |        0    |        0 |        0   |         1 |\n"
     ]
    },
    {
     "name": "stderr",
     "output_type": "stream",
     "text": [
      "\n",
      "/Users/hadrienstrichard/Library/Caches/pypoetry/virtualenvs/research-paper-9dnSQuhV-py3.12/lib/python3.12/site-packages/sklearn/metrics/_classification.py:1565: UndefinedMetricWarning: F-score is ill-defined and being set to 0.0 in labels with no true nor predicted samples. Use `zero_division` parameter to control this behavior.\n",
      "  _warn_prf(average, modifier, f\"{metric.capitalize()} is\", len(result))\n",
      "/Users/hadrienstrichard/Library/Caches/pypoetry/virtualenvs/research-paper-9dnSQuhV-py3.12/lib/python3.12/site-packages/sklearn/metrics/_classification.py:1565: UndefinedMetricWarning: Precision is ill-defined and being set to 0.0 in labels with no predicted samples. Use `zero_division` parameter to control this behavior.\n",
      "  _warn_prf(average, modifier, f\"{metric.capitalize()} is\", len(result))\n",
      "/Users/hadrienstrichard/Library/Caches/pypoetry/virtualenvs/research-paper-9dnSQuhV-py3.12/lib/python3.12/site-packages/sklearn/metrics/_classification.py:1565: UndefinedMetricWarning: Recall is ill-defined and being set to 0.0 in labels with no true samples. Use `zero_division` parameter to control this behavior.\n",
      "  _warn_prf(average, modifier, f\"{metric.capitalize()} is\", len(result))\n",
      "/Users/hadrienstrichard/Library/Caches/pypoetry/virtualenvs/research-paper-9dnSQuhV-py3.12/lib/python3.12/site-packages/sklearn/metrics/_classification.py:1565: UndefinedMetricWarning: F-score is ill-defined and being set to 0.0 in labels with no true nor predicted samples. Use `zero_division` parameter to control this behavior.\n",
      "  _warn_prf(average, modifier, f\"{metric.capitalize()} is\", len(result))\n",
      "/Users/hadrienstrichard/Library/Caches/pypoetry/virtualenvs/research-paper-9dnSQuhV-py3.12/lib/python3.12/site-packages/sklearn/metrics/_classification.py:1565: UndefinedMetricWarning: Precision is ill-defined and being set to 0.0 in samples with no predicted labels. Use `zero_division` parameter to control this behavior.\n",
      "  _warn_prf(average, modifier, f\"{metric.capitalize()} is\", len(result))\n",
      "/Users/hadrienstrichard/Library/Caches/pypoetry/virtualenvs/research-paper-9dnSQuhV-py3.12/lib/python3.12/site-packages/sklearn/metrics/_classification.py:1565: UndefinedMetricWarning: Recall is ill-defined and being set to 0.0 in samples with no true labels. Use `zero_division` parameter to control this behavior.\n",
      "  _warn_prf(average, modifier, f\"{metric.capitalize()} is\", len(result))\n",
      "/Users/hadrienstrichard/Library/Caches/pypoetry/virtualenvs/research-paper-9dnSQuhV-py3.12/lib/python3.12/site-packages/sklearn/metrics/_classification.py:1565: UndefinedMetricWarning: F-score is ill-defined and being set to 0.0 in samples with no true nor predicted labels. Use `zero_division` parameter to control this behavior.\n",
      "  _warn_prf(average, modifier, f\"{metric.capitalize()} is\", len(result))\n"
     ]
    }
   ],
   "source": [
    "results = evaluate_figure_detector(fig_df, batch_size=10)\n",
    "print_evaluation_results(results, FIGURES)"
   ]
  },
  {
   "cell_type": "markdown",
   "id": "ed22bbaf",
   "metadata": {},
   "source": [
    "Tuning batch size"
   ]
  },
  {
   "cell_type": "code",
   "execution_count": 66,
   "id": "38b0eddd",
   "metadata": {},
   "outputs": [],
   "source": [
    "def batch_size_tuning(fig_df, max_batch_size=10):\n",
    "    batch_sizes = list(range(1, max_batch_size + 1))\n",
    "    accuracies = []\n",
    "    f1_scores = []\n",
    "\n",
    "    for bsize in batch_sizes:\n",
    "        print(f\"🔄 Evaluating with batch_size = {bsize}\")\n",
    "        results = evaluate_figure_detector(fig_df, batch_size=bsize)\n",
    "        accuracies.append(results[\"macro_accuracy\"])\n",
    "        f1_scores.append(results[\"macro_f1\"])\n",
    "\n",
    "    # Plot results\n",
    "    plt.figure(figsize=(10, 5))\n",
    "    plt.plot(batch_sizes, accuracies, marker='o', label=\"Macro Accuracy\")\n",
    "    plt.plot(batch_sizes, f1_scores, marker='s', label=\"Macro F1 Score\")\n",
    "    plt.title(\"Impact of Batch Size on Evaluation Metrics\")\n",
    "    plt.xlabel(\"Batch Size\")\n",
    "    plt.ylabel(\"Score\")\n",
    "    plt.xticks(batch_sizes)\n",
    "    plt.ylim(0, 1.05)\n",
    "    plt.grid(True)\n",
    "    plt.legend()\n",
    "    plt.tight_layout()\n",
    "    plt.show()\n",
    "\n",
    "    return {\n",
    "        \"batch_sizes\": batch_sizes,\n",
    "        \"macro_accuracy\": accuracies,\n",
    "        \"macro_f1\": f1_scores\n",
    "    }\n"
   ]
  },
  {
   "cell_type": "code",
   "execution_count": 67,
   "id": "b4eca6cb",
   "metadata": {},
   "outputs": [
    {
     "name": "stdout",
     "output_type": "stream",
     "text": [
      "🔄 Evaluating with batch_size = 1\n"
     ]
    },
    {
     "name": "stderr",
     "output_type": "stream",
     "text": [
      "100%|██████████| 10/10 [00:09<00:00,  1.01it/s]\n",
      "/Users/hadrienstrichard/Library/Caches/pypoetry/virtualenvs/research-paper-9dnSQuhV-py3.12/lib/python3.12/site-packages/sklearn/metrics/_classification.py:1565: UndefinedMetricWarning: Precision is ill-defined and being set to 0.0 in labels with no predicted samples. Use `zero_division` parameter to control this behavior.\n",
      "  _warn_prf(average, modifier, f\"{metric.capitalize()} is\", len(result))\n",
      "/Users/hadrienstrichard/Library/Caches/pypoetry/virtualenvs/research-paper-9dnSQuhV-py3.12/lib/python3.12/site-packages/sklearn/metrics/_classification.py:1565: UndefinedMetricWarning: Recall is ill-defined and being set to 0.0 in labels with no true samples. Use `zero_division` parameter to control this behavior.\n",
      "  _warn_prf(average, modifier, f\"{metric.capitalize()} is\", len(result))\n",
      "/Users/hadrienstrichard/Library/Caches/pypoetry/virtualenvs/research-paper-9dnSQuhV-py3.12/lib/python3.12/site-packages/sklearn/metrics/_classification.py:1565: UndefinedMetricWarning: Precision is ill-defined and being set to 0.0 in samples with no predicted labels. Use `zero_division` parameter to control this behavior.\n",
      "  _warn_prf(average, modifier, f\"{metric.capitalize()} is\", len(result))\n",
      "/Users/hadrienstrichard/Library/Caches/pypoetry/virtualenvs/research-paper-9dnSQuhV-py3.12/lib/python3.12/site-packages/sklearn/metrics/_classification.py:1565: UndefinedMetricWarning: Recall is ill-defined and being set to 0.0 in samples with no true labels. Use `zero_division` parameter to control this behavior.\n",
      "  _warn_prf(average, modifier, f\"{metric.capitalize()} is\", len(result))\n",
      "/Users/hadrienstrichard/Library/Caches/pypoetry/virtualenvs/research-paper-9dnSQuhV-py3.12/lib/python3.12/site-packages/sklearn/metrics/_classification.py:1565: UndefinedMetricWarning: F-score is ill-defined and being set to 0.0 in samples with no true nor predicted labels. Use `zero_division` parameter to control this behavior.\n",
      "  _warn_prf(average, modifier, f\"{metric.capitalize()} is\", len(result))\n"
     ]
    },
    {
     "name": "stdout",
     "output_type": "stream",
     "text": [
      "🔄 Evaluating with batch_size = 2\n"
     ]
    },
    {
     "name": "stderr",
     "output_type": "stream",
     "text": [
      "100%|██████████| 5/5 [00:07<00:00,  1.52s/it]\n",
      "/Users/hadrienstrichard/Library/Caches/pypoetry/virtualenvs/research-paper-9dnSQuhV-py3.12/lib/python3.12/site-packages/sklearn/metrics/_classification.py:1565: UndefinedMetricWarning: Precision is ill-defined and being set to 0.0 in labels with no predicted samples. Use `zero_division` parameter to control this behavior.\n",
      "  _warn_prf(average, modifier, f\"{metric.capitalize()} is\", len(result))\n",
      "/Users/hadrienstrichard/Library/Caches/pypoetry/virtualenvs/research-paper-9dnSQuhV-py3.12/lib/python3.12/site-packages/sklearn/metrics/_classification.py:1565: UndefinedMetricWarning: Recall is ill-defined and being set to 0.0 in labels with no true samples. Use `zero_division` parameter to control this behavior.\n",
      "  _warn_prf(average, modifier, f\"{metric.capitalize()} is\", len(result))\n",
      "/Users/hadrienstrichard/Library/Caches/pypoetry/virtualenvs/research-paper-9dnSQuhV-py3.12/lib/python3.12/site-packages/sklearn/metrics/_classification.py:1565: UndefinedMetricWarning: Precision is ill-defined and being set to 0.0 in samples with no predicted labels. Use `zero_division` parameter to control this behavior.\n",
      "  _warn_prf(average, modifier, f\"{metric.capitalize()} is\", len(result))\n",
      "/Users/hadrienstrichard/Library/Caches/pypoetry/virtualenvs/research-paper-9dnSQuhV-py3.12/lib/python3.12/site-packages/sklearn/metrics/_classification.py:1565: UndefinedMetricWarning: Recall is ill-defined and being set to 0.0 in samples with no true labels. Use `zero_division` parameter to control this behavior.\n",
      "  _warn_prf(average, modifier, f\"{metric.capitalize()} is\", len(result))\n",
      "/Users/hadrienstrichard/Library/Caches/pypoetry/virtualenvs/research-paper-9dnSQuhV-py3.12/lib/python3.12/site-packages/sklearn/metrics/_classification.py:1565: UndefinedMetricWarning: F-score is ill-defined and being set to 0.0 in samples with no true nor predicted labels. Use `zero_division` parameter to control this behavior.\n",
      "  _warn_prf(average, modifier, f\"{metric.capitalize()} is\", len(result))\n"
     ]
    },
    {
     "name": "stdout",
     "output_type": "stream",
     "text": [
      "🔄 Evaluating with batch_size = 3\n"
     ]
    },
    {
     "name": "stderr",
     "output_type": "stream",
     "text": [
      "100%|██████████| 4/4 [00:08<00:00,  2.07s/it]\n",
      "/Users/hadrienstrichard/Library/Caches/pypoetry/virtualenvs/research-paper-9dnSQuhV-py3.12/lib/python3.12/site-packages/sklearn/metrics/_classification.py:1565: UndefinedMetricWarning: F-score is ill-defined and being set to 0.0 in labels with no true nor predicted samples. Use `zero_division` parameter to control this behavior.\n",
      "  _warn_prf(average, modifier, f\"{metric.capitalize()} is\", len(result))\n",
      "/Users/hadrienstrichard/Library/Caches/pypoetry/virtualenvs/research-paper-9dnSQuhV-py3.12/lib/python3.12/site-packages/sklearn/metrics/_classification.py:1565: UndefinedMetricWarning: Precision is ill-defined and being set to 0.0 in labels with no predicted samples. Use `zero_division` parameter to control this behavior.\n",
      "  _warn_prf(average, modifier, f\"{metric.capitalize()} is\", len(result))\n",
      "/Users/hadrienstrichard/Library/Caches/pypoetry/virtualenvs/research-paper-9dnSQuhV-py3.12/lib/python3.12/site-packages/sklearn/metrics/_classification.py:1565: UndefinedMetricWarning: Recall is ill-defined and being set to 0.0 in labels with no true samples. Use `zero_division` parameter to control this behavior.\n",
      "  _warn_prf(average, modifier, f\"{metric.capitalize()} is\", len(result))\n",
      "/Users/hadrienstrichard/Library/Caches/pypoetry/virtualenvs/research-paper-9dnSQuhV-py3.12/lib/python3.12/site-packages/sklearn/metrics/_classification.py:1565: UndefinedMetricWarning: F-score is ill-defined and being set to 0.0 in labels with no true nor predicted samples. Use `zero_division` parameter to control this behavior.\n",
      "  _warn_prf(average, modifier, f\"{metric.capitalize()} is\", len(result))\n",
      "/Users/hadrienstrichard/Library/Caches/pypoetry/virtualenvs/research-paper-9dnSQuhV-py3.12/lib/python3.12/site-packages/sklearn/metrics/_classification.py:1565: UndefinedMetricWarning: Precision is ill-defined and being set to 0.0 in samples with no predicted labels. Use `zero_division` parameter to control this behavior.\n",
      "  _warn_prf(average, modifier, f\"{metric.capitalize()} is\", len(result))\n",
      "/Users/hadrienstrichard/Library/Caches/pypoetry/virtualenvs/research-paper-9dnSQuhV-py3.12/lib/python3.12/site-packages/sklearn/metrics/_classification.py:1565: UndefinedMetricWarning: Recall is ill-defined and being set to 0.0 in samples with no true labels. Use `zero_division` parameter to control this behavior.\n",
      "  _warn_prf(average, modifier, f\"{metric.capitalize()} is\", len(result))\n",
      "/Users/hadrienstrichard/Library/Caches/pypoetry/virtualenvs/research-paper-9dnSQuhV-py3.12/lib/python3.12/site-packages/sklearn/metrics/_classification.py:1565: UndefinedMetricWarning: F-score is ill-defined and being set to 0.0 in samples with no true nor predicted labels. Use `zero_division` parameter to control this behavior.\n",
      "  _warn_prf(average, modifier, f\"{metric.capitalize()} is\", len(result))\n"
     ]
    },
    {
     "name": "stdout",
     "output_type": "stream",
     "text": [
      "🔄 Evaluating with batch_size = 4\n"
     ]
    },
    {
     "name": "stderr",
     "output_type": "stream",
     "text": [
      "100%|██████████| 3/3 [00:06<00:00,  2.31s/it]\n",
      "/Users/hadrienstrichard/Library/Caches/pypoetry/virtualenvs/research-paper-9dnSQuhV-py3.12/lib/python3.12/site-packages/sklearn/metrics/_classification.py:1565: UndefinedMetricWarning: F-score is ill-defined and being set to 0.0 in labels with no true nor predicted samples. Use `zero_division` parameter to control this behavior.\n",
      "  _warn_prf(average, modifier, f\"{metric.capitalize()} is\", len(result))\n",
      "/Users/hadrienstrichard/Library/Caches/pypoetry/virtualenvs/research-paper-9dnSQuhV-py3.12/lib/python3.12/site-packages/sklearn/metrics/_classification.py:1565: UndefinedMetricWarning: Precision is ill-defined and being set to 0.0 in labels with no predicted samples. Use `zero_division` parameter to control this behavior.\n",
      "  _warn_prf(average, modifier, f\"{metric.capitalize()} is\", len(result))\n",
      "/Users/hadrienstrichard/Library/Caches/pypoetry/virtualenvs/research-paper-9dnSQuhV-py3.12/lib/python3.12/site-packages/sklearn/metrics/_classification.py:1565: UndefinedMetricWarning: Recall is ill-defined and being set to 0.0 in labels with no true samples. Use `zero_division` parameter to control this behavior.\n",
      "  _warn_prf(average, modifier, f\"{metric.capitalize()} is\", len(result))\n",
      "/Users/hadrienstrichard/Library/Caches/pypoetry/virtualenvs/research-paper-9dnSQuhV-py3.12/lib/python3.12/site-packages/sklearn/metrics/_classification.py:1565: UndefinedMetricWarning: F-score is ill-defined and being set to 0.0 in labels with no true nor predicted samples. Use `zero_division` parameter to control this behavior.\n",
      "  _warn_prf(average, modifier, f\"{metric.capitalize()} is\", len(result))\n",
      "/Users/hadrienstrichard/Library/Caches/pypoetry/virtualenvs/research-paper-9dnSQuhV-py3.12/lib/python3.12/site-packages/sklearn/metrics/_classification.py:1565: UndefinedMetricWarning: Precision is ill-defined and being set to 0.0 in samples with no predicted labels. Use `zero_division` parameter to control this behavior.\n",
      "  _warn_prf(average, modifier, f\"{metric.capitalize()} is\", len(result))\n",
      "/Users/hadrienstrichard/Library/Caches/pypoetry/virtualenvs/research-paper-9dnSQuhV-py3.12/lib/python3.12/site-packages/sklearn/metrics/_classification.py:1565: UndefinedMetricWarning: Recall is ill-defined and being set to 0.0 in samples with no true labels. Use `zero_division` parameter to control this behavior.\n",
      "  _warn_prf(average, modifier, f\"{metric.capitalize()} is\", len(result))\n",
      "/Users/hadrienstrichard/Library/Caches/pypoetry/virtualenvs/research-paper-9dnSQuhV-py3.12/lib/python3.12/site-packages/sklearn/metrics/_classification.py:1565: UndefinedMetricWarning: F-score is ill-defined and being set to 0.0 in samples with no true nor predicted labels. Use `zero_division` parameter to control this behavior.\n",
      "  _warn_prf(average, modifier, f\"{metric.capitalize()} is\", len(result))\n"
     ]
    },
    {
     "name": "stdout",
     "output_type": "stream",
     "text": [
      "🔄 Evaluating with batch_size = 5\n"
     ]
    },
    {
     "name": "stderr",
     "output_type": "stream",
     "text": [
      "100%|██████████| 2/2 [00:05<00:00,  2.94s/it]\n",
      "/Users/hadrienstrichard/Library/Caches/pypoetry/virtualenvs/research-paper-9dnSQuhV-py3.12/lib/python3.12/site-packages/sklearn/metrics/_classification.py:1565: UndefinedMetricWarning: F-score is ill-defined and being set to 0.0 in labels with no true nor predicted samples. Use `zero_division` parameter to control this behavior.\n",
      "  _warn_prf(average, modifier, f\"{metric.capitalize()} is\", len(result))\n",
      "/Users/hadrienstrichard/Library/Caches/pypoetry/virtualenvs/research-paper-9dnSQuhV-py3.12/lib/python3.12/site-packages/sklearn/metrics/_classification.py:1565: UndefinedMetricWarning: Precision is ill-defined and being set to 0.0 in labels with no predicted samples. Use `zero_division` parameter to control this behavior.\n",
      "  _warn_prf(average, modifier, f\"{metric.capitalize()} is\", len(result))\n",
      "/Users/hadrienstrichard/Library/Caches/pypoetry/virtualenvs/research-paper-9dnSQuhV-py3.12/lib/python3.12/site-packages/sklearn/metrics/_classification.py:1565: UndefinedMetricWarning: Recall is ill-defined and being set to 0.0 in labels with no true samples. Use `zero_division` parameter to control this behavior.\n",
      "  _warn_prf(average, modifier, f\"{metric.capitalize()} is\", len(result))\n",
      "/Users/hadrienstrichard/Library/Caches/pypoetry/virtualenvs/research-paper-9dnSQuhV-py3.12/lib/python3.12/site-packages/sklearn/metrics/_classification.py:1565: UndefinedMetricWarning: F-score is ill-defined and being set to 0.0 in labels with no true nor predicted samples. Use `zero_division` parameter to control this behavior.\n",
      "  _warn_prf(average, modifier, f\"{metric.capitalize()} is\", len(result))\n",
      "/Users/hadrienstrichard/Library/Caches/pypoetry/virtualenvs/research-paper-9dnSQuhV-py3.12/lib/python3.12/site-packages/sklearn/metrics/_classification.py:1565: UndefinedMetricWarning: Precision is ill-defined and being set to 0.0 in samples with no predicted labels. Use `zero_division` parameter to control this behavior.\n",
      "  _warn_prf(average, modifier, f\"{metric.capitalize()} is\", len(result))\n",
      "/Users/hadrienstrichard/Library/Caches/pypoetry/virtualenvs/research-paper-9dnSQuhV-py3.12/lib/python3.12/site-packages/sklearn/metrics/_classification.py:1565: UndefinedMetricWarning: Recall is ill-defined and being set to 0.0 in samples with no true labels. Use `zero_division` parameter to control this behavior.\n",
      "  _warn_prf(average, modifier, f\"{metric.capitalize()} is\", len(result))\n",
      "/Users/hadrienstrichard/Library/Caches/pypoetry/virtualenvs/research-paper-9dnSQuhV-py3.12/lib/python3.12/site-packages/sklearn/metrics/_classification.py:1565: UndefinedMetricWarning: F-score is ill-defined and being set to 0.0 in samples with no true nor predicted labels. Use `zero_division` parameter to control this behavior.\n",
      "  _warn_prf(average, modifier, f\"{metric.capitalize()} is\", len(result))\n"
     ]
    },
    {
     "name": "stdout",
     "output_type": "stream",
     "text": [
      "🔄 Evaluating with batch_size = 6\n"
     ]
    },
    {
     "name": "stderr",
     "output_type": "stream",
     "text": [
      "100%|██████████| 2/2 [00:05<00:00,  2.74s/it]\n",
      "/Users/hadrienstrichard/Library/Caches/pypoetry/virtualenvs/research-paper-9dnSQuhV-py3.12/lib/python3.12/site-packages/sklearn/metrics/_classification.py:1565: UndefinedMetricWarning: F-score is ill-defined and being set to 0.0 in labels with no true nor predicted samples. Use `zero_division` parameter to control this behavior.\n",
      "  _warn_prf(average, modifier, f\"{metric.capitalize()} is\", len(result))\n",
      "/Users/hadrienstrichard/Library/Caches/pypoetry/virtualenvs/research-paper-9dnSQuhV-py3.12/lib/python3.12/site-packages/sklearn/metrics/_classification.py:1565: UndefinedMetricWarning: Precision is ill-defined and being set to 0.0 in labels with no predicted samples. Use `zero_division` parameter to control this behavior.\n",
      "  _warn_prf(average, modifier, f\"{metric.capitalize()} is\", len(result))\n",
      "/Users/hadrienstrichard/Library/Caches/pypoetry/virtualenvs/research-paper-9dnSQuhV-py3.12/lib/python3.12/site-packages/sklearn/metrics/_classification.py:1565: UndefinedMetricWarning: Recall is ill-defined and being set to 0.0 in labels with no true samples. Use `zero_division` parameter to control this behavior.\n",
      "  _warn_prf(average, modifier, f\"{metric.capitalize()} is\", len(result))\n",
      "/Users/hadrienstrichard/Library/Caches/pypoetry/virtualenvs/research-paper-9dnSQuhV-py3.12/lib/python3.12/site-packages/sklearn/metrics/_classification.py:1565: UndefinedMetricWarning: F-score is ill-defined and being set to 0.0 in labels with no true nor predicted samples. Use `zero_division` parameter to control this behavior.\n",
      "  _warn_prf(average, modifier, f\"{metric.capitalize()} is\", len(result))\n",
      "/Users/hadrienstrichard/Library/Caches/pypoetry/virtualenvs/research-paper-9dnSQuhV-py3.12/lib/python3.12/site-packages/sklearn/metrics/_classification.py:1565: UndefinedMetricWarning: Precision is ill-defined and being set to 0.0 in samples with no predicted labels. Use `zero_division` parameter to control this behavior.\n",
      "  _warn_prf(average, modifier, f\"{metric.capitalize()} is\", len(result))\n",
      "/Users/hadrienstrichard/Library/Caches/pypoetry/virtualenvs/research-paper-9dnSQuhV-py3.12/lib/python3.12/site-packages/sklearn/metrics/_classification.py:1565: UndefinedMetricWarning: Recall is ill-defined and being set to 0.0 in samples with no true labels. Use `zero_division` parameter to control this behavior.\n",
      "  _warn_prf(average, modifier, f\"{metric.capitalize()} is\", len(result))\n",
      "/Users/hadrienstrichard/Library/Caches/pypoetry/virtualenvs/research-paper-9dnSQuhV-py3.12/lib/python3.12/site-packages/sklearn/metrics/_classification.py:1565: UndefinedMetricWarning: F-score is ill-defined and being set to 0.0 in samples with no true nor predicted labels. Use `zero_division` parameter to control this behavior.\n",
      "  _warn_prf(average, modifier, f\"{metric.capitalize()} is\", len(result))\n"
     ]
    },
    {
     "name": "stdout",
     "output_type": "stream",
     "text": [
      "🔄 Evaluating with batch_size = 7\n"
     ]
    },
    {
     "name": "stderr",
     "output_type": "stream",
     "text": [
      "100%|██████████| 2/2 [00:06<00:00,  3.15s/it]\n",
      "/Users/hadrienstrichard/Library/Caches/pypoetry/virtualenvs/research-paper-9dnSQuhV-py3.12/lib/python3.12/site-packages/sklearn/metrics/_classification.py:1565: UndefinedMetricWarning: F-score is ill-defined and being set to 0.0 in labels with no true nor predicted samples. Use `zero_division` parameter to control this behavior.\n",
      "  _warn_prf(average, modifier, f\"{metric.capitalize()} is\", len(result))\n",
      "/Users/hadrienstrichard/Library/Caches/pypoetry/virtualenvs/research-paper-9dnSQuhV-py3.12/lib/python3.12/site-packages/sklearn/metrics/_classification.py:1565: UndefinedMetricWarning: Precision is ill-defined and being set to 0.0 in labels with no predicted samples. Use `zero_division` parameter to control this behavior.\n",
      "  _warn_prf(average, modifier, f\"{metric.capitalize()} is\", len(result))\n",
      "/Users/hadrienstrichard/Library/Caches/pypoetry/virtualenvs/research-paper-9dnSQuhV-py3.12/lib/python3.12/site-packages/sklearn/metrics/_classification.py:1565: UndefinedMetricWarning: Recall is ill-defined and being set to 0.0 in labels with no true samples. Use `zero_division` parameter to control this behavior.\n",
      "  _warn_prf(average, modifier, f\"{metric.capitalize()} is\", len(result))\n",
      "/Users/hadrienstrichard/Library/Caches/pypoetry/virtualenvs/research-paper-9dnSQuhV-py3.12/lib/python3.12/site-packages/sklearn/metrics/_classification.py:1565: UndefinedMetricWarning: F-score is ill-defined and being set to 0.0 in labels with no true nor predicted samples. Use `zero_division` parameter to control this behavior.\n",
      "  _warn_prf(average, modifier, f\"{metric.capitalize()} is\", len(result))\n",
      "/Users/hadrienstrichard/Library/Caches/pypoetry/virtualenvs/research-paper-9dnSQuhV-py3.12/lib/python3.12/site-packages/sklearn/metrics/_classification.py:1565: UndefinedMetricWarning: Precision is ill-defined and being set to 0.0 in samples with no predicted labels. Use `zero_division` parameter to control this behavior.\n",
      "  _warn_prf(average, modifier, f\"{metric.capitalize()} is\", len(result))\n",
      "/Users/hadrienstrichard/Library/Caches/pypoetry/virtualenvs/research-paper-9dnSQuhV-py3.12/lib/python3.12/site-packages/sklearn/metrics/_classification.py:1565: UndefinedMetricWarning: Recall is ill-defined and being set to 0.0 in samples with no true labels. Use `zero_division` parameter to control this behavior.\n",
      "  _warn_prf(average, modifier, f\"{metric.capitalize()} is\", len(result))\n",
      "/Users/hadrienstrichard/Library/Caches/pypoetry/virtualenvs/research-paper-9dnSQuhV-py3.12/lib/python3.12/site-packages/sklearn/metrics/_classification.py:1565: UndefinedMetricWarning: F-score is ill-defined and being set to 0.0 in samples with no true nor predicted labels. Use `zero_division` parameter to control this behavior.\n",
      "  _warn_prf(average, modifier, f\"{metric.capitalize()} is\", len(result))\n"
     ]
    },
    {
     "name": "stdout",
     "output_type": "stream",
     "text": [
      "🔄 Evaluating with batch_size = 8\n"
     ]
    },
    {
     "name": "stderr",
     "output_type": "stream",
     "text": [
      "100%|██████████| 2/2 [00:05<00:00,  2.67s/it]\n",
      "/Users/hadrienstrichard/Library/Caches/pypoetry/virtualenvs/research-paper-9dnSQuhV-py3.12/lib/python3.12/site-packages/sklearn/metrics/_classification.py:1565: UndefinedMetricWarning: F-score is ill-defined and being set to 0.0 in labels with no true nor predicted samples. Use `zero_division` parameter to control this behavior.\n",
      "  _warn_prf(average, modifier, f\"{metric.capitalize()} is\", len(result))\n",
      "/Users/hadrienstrichard/Library/Caches/pypoetry/virtualenvs/research-paper-9dnSQuhV-py3.12/lib/python3.12/site-packages/sklearn/metrics/_classification.py:1565: UndefinedMetricWarning: Precision is ill-defined and being set to 0.0 in labels with no predicted samples. Use `zero_division` parameter to control this behavior.\n",
      "  _warn_prf(average, modifier, f\"{metric.capitalize()} is\", len(result))\n",
      "/Users/hadrienstrichard/Library/Caches/pypoetry/virtualenvs/research-paper-9dnSQuhV-py3.12/lib/python3.12/site-packages/sklearn/metrics/_classification.py:1565: UndefinedMetricWarning: Recall is ill-defined and being set to 0.0 in labels with no true samples. Use `zero_division` parameter to control this behavior.\n",
      "  _warn_prf(average, modifier, f\"{metric.capitalize()} is\", len(result))\n",
      "/Users/hadrienstrichard/Library/Caches/pypoetry/virtualenvs/research-paper-9dnSQuhV-py3.12/lib/python3.12/site-packages/sklearn/metrics/_classification.py:1565: UndefinedMetricWarning: F-score is ill-defined and being set to 0.0 in labels with no true nor predicted samples. Use `zero_division` parameter to control this behavior.\n",
      "  _warn_prf(average, modifier, f\"{metric.capitalize()} is\", len(result))\n",
      "/Users/hadrienstrichard/Library/Caches/pypoetry/virtualenvs/research-paper-9dnSQuhV-py3.12/lib/python3.12/site-packages/sklearn/metrics/_classification.py:1565: UndefinedMetricWarning: Precision is ill-defined and being set to 0.0 in samples with no predicted labels. Use `zero_division` parameter to control this behavior.\n",
      "  _warn_prf(average, modifier, f\"{metric.capitalize()} is\", len(result))\n",
      "/Users/hadrienstrichard/Library/Caches/pypoetry/virtualenvs/research-paper-9dnSQuhV-py3.12/lib/python3.12/site-packages/sklearn/metrics/_classification.py:1565: UndefinedMetricWarning: Recall is ill-defined and being set to 0.0 in samples with no true labels. Use `zero_division` parameter to control this behavior.\n",
      "  _warn_prf(average, modifier, f\"{metric.capitalize()} is\", len(result))\n",
      "/Users/hadrienstrichard/Library/Caches/pypoetry/virtualenvs/research-paper-9dnSQuhV-py3.12/lib/python3.12/site-packages/sklearn/metrics/_classification.py:1565: UndefinedMetricWarning: F-score is ill-defined and being set to 0.0 in samples with no true nor predicted labels. Use `zero_division` parameter to control this behavior.\n",
      "  _warn_prf(average, modifier, f\"{metric.capitalize()} is\", len(result))\n"
     ]
    },
    {
     "name": "stdout",
     "output_type": "stream",
     "text": [
      "🔄 Evaluating with batch_size = 9\n"
     ]
    },
    {
     "name": "stderr",
     "output_type": "stream",
     "text": [
      "100%|██████████| 2/2 [00:05<00:00,  2.67s/it]\n",
      "/Users/hadrienstrichard/Library/Caches/pypoetry/virtualenvs/research-paper-9dnSQuhV-py3.12/lib/python3.12/site-packages/sklearn/metrics/_classification.py:1565: UndefinedMetricWarning: F-score is ill-defined and being set to 0.0 in labels with no true nor predicted samples. Use `zero_division` parameter to control this behavior.\n",
      "  _warn_prf(average, modifier, f\"{metric.capitalize()} is\", len(result))\n",
      "/Users/hadrienstrichard/Library/Caches/pypoetry/virtualenvs/research-paper-9dnSQuhV-py3.12/lib/python3.12/site-packages/sklearn/metrics/_classification.py:1565: UndefinedMetricWarning: Precision is ill-defined and being set to 0.0 in labels with no predicted samples. Use `zero_division` parameter to control this behavior.\n",
      "  _warn_prf(average, modifier, f\"{metric.capitalize()} is\", len(result))\n",
      "/Users/hadrienstrichard/Library/Caches/pypoetry/virtualenvs/research-paper-9dnSQuhV-py3.12/lib/python3.12/site-packages/sklearn/metrics/_classification.py:1565: UndefinedMetricWarning: Recall is ill-defined and being set to 0.0 in labels with no true samples. Use `zero_division` parameter to control this behavior.\n",
      "  _warn_prf(average, modifier, f\"{metric.capitalize()} is\", len(result))\n",
      "/Users/hadrienstrichard/Library/Caches/pypoetry/virtualenvs/research-paper-9dnSQuhV-py3.12/lib/python3.12/site-packages/sklearn/metrics/_classification.py:1565: UndefinedMetricWarning: F-score is ill-defined and being set to 0.0 in labels with no true nor predicted samples. Use `zero_division` parameter to control this behavior.\n",
      "  _warn_prf(average, modifier, f\"{metric.capitalize()} is\", len(result))\n",
      "/Users/hadrienstrichard/Library/Caches/pypoetry/virtualenvs/research-paper-9dnSQuhV-py3.12/lib/python3.12/site-packages/sklearn/metrics/_classification.py:1565: UndefinedMetricWarning: Precision is ill-defined and being set to 0.0 in samples with no predicted labels. Use `zero_division` parameter to control this behavior.\n",
      "  _warn_prf(average, modifier, f\"{metric.capitalize()} is\", len(result))\n",
      "/Users/hadrienstrichard/Library/Caches/pypoetry/virtualenvs/research-paper-9dnSQuhV-py3.12/lib/python3.12/site-packages/sklearn/metrics/_classification.py:1565: UndefinedMetricWarning: Recall is ill-defined and being set to 0.0 in samples with no true labels. Use `zero_division` parameter to control this behavior.\n",
      "  _warn_prf(average, modifier, f\"{metric.capitalize()} is\", len(result))\n",
      "/Users/hadrienstrichard/Library/Caches/pypoetry/virtualenvs/research-paper-9dnSQuhV-py3.12/lib/python3.12/site-packages/sklearn/metrics/_classification.py:1565: UndefinedMetricWarning: F-score is ill-defined and being set to 0.0 in samples with no true nor predicted labels. Use `zero_division` parameter to control this behavior.\n",
      "  _warn_prf(average, modifier, f\"{metric.capitalize()} is\", len(result))\n"
     ]
    },
    {
     "name": "stdout",
     "output_type": "stream",
     "text": [
      "🔄 Evaluating with batch_size = 10\n"
     ]
    },
    {
     "name": "stderr",
     "output_type": "stream",
     "text": [
      "100%|██████████| 1/1 [00:04<00:00,  4.97s/it]\n",
      "/Users/hadrienstrichard/Library/Caches/pypoetry/virtualenvs/research-paper-9dnSQuhV-py3.12/lib/python3.12/site-packages/sklearn/metrics/_classification.py:1565: UndefinedMetricWarning: F-score is ill-defined and being set to 0.0 in labels with no true nor predicted samples. Use `zero_division` parameter to control this behavior.\n",
      "  _warn_prf(average, modifier, f\"{metric.capitalize()} is\", len(result))\n",
      "/Users/hadrienstrichard/Library/Caches/pypoetry/virtualenvs/research-paper-9dnSQuhV-py3.12/lib/python3.12/site-packages/sklearn/metrics/_classification.py:1565: UndefinedMetricWarning: Precision is ill-defined and being set to 0.0 in labels with no predicted samples. Use `zero_division` parameter to control this behavior.\n",
      "  _warn_prf(average, modifier, f\"{metric.capitalize()} is\", len(result))\n",
      "/Users/hadrienstrichard/Library/Caches/pypoetry/virtualenvs/research-paper-9dnSQuhV-py3.12/lib/python3.12/site-packages/sklearn/metrics/_classification.py:1565: UndefinedMetricWarning: Recall is ill-defined and being set to 0.0 in labels with no true samples. Use `zero_division` parameter to control this behavior.\n",
      "  _warn_prf(average, modifier, f\"{metric.capitalize()} is\", len(result))\n",
      "/Users/hadrienstrichard/Library/Caches/pypoetry/virtualenvs/research-paper-9dnSQuhV-py3.12/lib/python3.12/site-packages/sklearn/metrics/_classification.py:1565: UndefinedMetricWarning: F-score is ill-defined and being set to 0.0 in labels with no true nor predicted samples. Use `zero_division` parameter to control this behavior.\n",
      "  _warn_prf(average, modifier, f\"{metric.capitalize()} is\", len(result))\n",
      "/Users/hadrienstrichard/Library/Caches/pypoetry/virtualenvs/research-paper-9dnSQuhV-py3.12/lib/python3.12/site-packages/sklearn/metrics/_classification.py:1565: UndefinedMetricWarning: Precision is ill-defined and being set to 0.0 in samples with no predicted labels. Use `zero_division` parameter to control this behavior.\n",
      "  _warn_prf(average, modifier, f\"{metric.capitalize()} is\", len(result))\n",
      "/Users/hadrienstrichard/Library/Caches/pypoetry/virtualenvs/research-paper-9dnSQuhV-py3.12/lib/python3.12/site-packages/sklearn/metrics/_classification.py:1565: UndefinedMetricWarning: Recall is ill-defined and being set to 0.0 in samples with no true labels. Use `zero_division` parameter to control this behavior.\n",
      "  _warn_prf(average, modifier, f\"{metric.capitalize()} is\", len(result))\n",
      "/Users/hadrienstrichard/Library/Caches/pypoetry/virtualenvs/research-paper-9dnSQuhV-py3.12/lib/python3.12/site-packages/sklearn/metrics/_classification.py:1565: UndefinedMetricWarning: F-score is ill-defined and being set to 0.0 in samples with no true nor predicted labels. Use `zero_division` parameter to control this behavior.\n",
      "  _warn_prf(average, modifier, f\"{metric.capitalize()} is\", len(result))\n"
     ]
    },
    {
     "data": {
      "image/png": "[encoded data removed]",
      "text/plain": [
       "<Figure size 1000x500 with 1 Axes>"
      ]
     },
     "metadata": {},
     "output_type": "display_data"
    }
   ],
   "source": [
    "tuning_results = batch_size_tuning(fig_df, max_batch_size=10)\n"
   ]
  },
  {
   "cell_type": "markdown",
   "id": "ff166778",
   "metadata": {},
   "source": [
    "Apply Figure of Speech tagging to the text corpus"
   ]
  },
  {
   "cell_type": "code",
   "execution_count": 40,
   "id": "3ccd0366",
   "metadata": {},
   "outputs": [
    {
     "name": "stderr",
     "output_type": "stream",
     "text": [
      "[nltk_data] Downloading package punkt to\n",
      "[nltk_data]     /Users/hadrienstrichard/nltk_data...\n",
      "[nltk_data]   Package punkt is already up-to-date!\n"
     ]
    },
    {
     "data": {
      "text/plain": [
       "True"
      ]
     },
     "execution_count": 40,
     "metadata": {},
     "output_type": "execute_result"
    }
   ],
   "source": [
    "nltk.download('punkt')"
   ]
  },
  {
   "cell_type": "code",
   "execution_count": 70,
   "id": "ac5c623d",
   "metadata": {},
   "outputs": [],
   "source": [
    "def detect_figures_in_text_batched(text: str, batch_size: int = 10) -> dict:\n",
    "    \"\"\"\n",
    "    Tokenizes text into sentences, processes them in batches, and returns figure counts.\n",
    "    \"\"\"\n",
    "    sentences = sent_tokenize(text, language='french')\n",
    "    counts = {f\"fig_{fig}\": 0 for fig in FIGURES}\n",
    "\n",
    "    for i in range(0, len(sentences), batch_size):\n",
    "        batch = sentences[i:i + batch_size]\n",
    "        try:\n",
    "            results = detect_figures_batch(batch)\n",
    "        except Exception as e:\n",
    "            print(f\"❌ Erreur API sur le batch {i}-{i + batch_size}: {e}\")\n",
    "            continue\n",
    "\n",
    "        for result in results:\n",
    "            if isinstance(result, dict):\n",
    "                for fig in FIGURES:\n",
    "                    try:\n",
    "                        if result.get(fig, False):\n",
    "                            counts[f\"fig_{fig}\"] += 1\n",
    "                    except Exception as e:\n",
    "                        print(f\"⚠️ Erreur lors du comptage sur '{fig}': {e}\")\n",
    "            else:\n",
    "                print(f\"⚠️ Résultat inattendu ignoré (non-dict): {result}\")\n",
    "\n",
    "    return counts\n",
    "\n",
    "\n",
    "def add_figure_counts_to_df_batched(df, text_column=\"Cleaned_Text\", batch_size=10, output_path=\"figures_results.csv\"):\n",
    "    \"\"\"\n",
    "    Applies batched figure detection to each row of the DataFrame.\n",
    "    Returns full DataFrame with detection columns.\n",
    "    Uses output_path to save partial progress and support resume.\n",
    "    \"\"\"\n",
    "    tqdm.pandas()\n",
    "\n",
    "    # Charger les données déjà traitées si elles existent\n",
    "    if os.path.exists(output_path):\n",
    "        processed_df = pd.read_csv(output_path)\n",
    "        already_processed_ids = set(processed_df.index)\n",
    "        print(f\"✅ Reprise : {len(already_processed_ids)} lignes déjà traitées.\")\n",
    "    else:\n",
    "        processed_df = pd.DataFrame()\n",
    "        already_processed_ids = set()\n",
    "\n",
    "    results = []\n",
    "\n",
    "    for idx, row in tqdm(df.iterrows(), total=len(df), desc=\"🔍 Détection figures\"):\n",
    "        if idx in already_processed_ids:\n",
    "            continue\n",
    "\n",
    "        try:\n",
    "            result = detect_figures_in_text_batched(row[text_column], batch_size=batch_size)\n",
    "        except Exception as e:\n",
    "            print(f\"❌ Erreur sur index {idx}: {e}\")\n",
    "            result = {f\"fig_{fig}\": None for fig in FIGURES}  # ou 0 si tu préfères\n",
    "\n",
    "        result[\"index\"] = idx\n",
    "        results.append(result)\n",
    "\n",
    "        # Sauvegarder en temps réel\n",
    "        if len(results) >= 1:\n",
    "            partial_df = pd.DataFrame(results).set_index(\"index\")\n",
    "            processed_df = pd.concat([processed_df, partial_df])\n",
    "            processed_df.to_csv(output_path)\n",
    "            results = []  # vider pour ne pas re-sauvegarder\n",
    "\n",
    "    # Fusion finale\n",
    "    full_df = df.copy()\n",
    "    processed_df = processed_df.sort_index()\n",
    "    for col in processed_df.columns:\n",
    "        full_df[col] = processed_df[col]\n",
    "\n",
    "    return full_df\n"
   ]
  },
  {
   "cell_type": "code",
   "execution_count": 72,
   "id": "c36c2101",
   "metadata": {},
   "outputs": [
    {
     "name": "stdout",
     "output_type": "stream",
     "text": [
      "✅ Reprise : 195 lignes déjà traitées.\n"
     ]
    },
    {
     "name": "stderr",
     "output_type": "stream",
     "text": [
      "🔍 Détection figures:   6%|▌         | 217/3858 [21:14<57:52:32, 57.22s/it]"
     ]
    },
    {
     "name": "stdout",
     "output_type": "stream",
     "text": [
      "⚠️ Tentative 1 — erreur de parsing : Expecting ',' delimiter: line 6 column 30 (char 1293)\n"
     ]
    },
    {
     "name": "stderr",
     "output_type": "stream",
     "text": [
      "🔍 Détection figures:   6%|▌         | 237/3858 [40:03<55:50:38, 55.52s/it]"
     ]
    },
    {
     "name": "stdout",
     "output_type": "stream",
     "text": [
      "⚠️ Tentative 1 — erreur de parsing : Expecting ',' delimiter: line 4 column 25 (char 693)\n"
     ]
    },
    {
     "name": "stderr",
     "output_type": "stream",
     "text": [
      "🔍 Détection figures:   6%|▋         | 243/3858 [45:34<53:11:21, 52.97s/it]"
     ]
    },
    {
     "name": "stdout",
     "output_type": "stream",
     "text": [
      "⚠️ Tentative 1 — erreur de parsing : Expecting ',' delimiter: line 7 column 59 (char 1532)\n"
     ]
    },
    {
     "name": "stderr",
     "output_type": "stream",
     "text": [
      "🔍 Détection figures:   6%|▋         | 246/3858 [49:07<64:51:47, 64.65s/it]"
     ]
    },
    {
     "name": "stdout",
     "output_type": "stream",
     "text": [
      "⚠️ Tentative 1 — erreur de parsing : Extra data: line 133 column 1 (char 4943)\n"
     ]
    },
    {
     "name": "stderr",
     "output_type": "stream",
     "text": [
      "🔍 Détection figures:   8%|▊         | 297/3858 [1:33:47<51:15:51, 51.83s/it]"
     ]
    },
    {
     "name": "stdout",
     "output_type": "stream",
     "text": [
      "⚠️ Tentative 1 — erreur de parsing : Expecting ',' delimiter: line 10 column 496 (char 2788)\n"
     ]
    },
    {
     "name": "stderr",
     "output_type": "stream",
     "text": [
      "🔍 Détection figures:   8%|▊         | 298/3858 [1:34:47<53:36:39, 54.21s/it]"
     ]
    },
    {
     "name": "stdout",
     "output_type": "stream",
     "text": [
      "⚠️ Tentative 1 — erreur de parsing : Expecting ',' delimiter: line 4 column 404 (char 912)\n"
     ]
    },
    {
     "name": "stderr",
     "output_type": "stream",
     "text": [
      "🔍 Détection figures:  10%|▉         | 383/3858 [2:48:38<52:05:02, 53.96s/it]"
     ]
    },
    {
     "name": "stdout",
     "output_type": "stream",
     "text": [
      "⚠️ Tentative 1 — erreur de parsing : Expecting ',' delimiter: line 55 column 18 (char 1408)\n"
     ]
    },
    {
     "name": "stderr",
     "output_type": "stream",
     "text": [
      "🔍 Détection figures:  11%|█         | 419/3858 [3:20:31<27:25:54, 28.72s/it]\n"
     ]
    },
    {
     "ename": "KeyboardInterrupt",
     "evalue": "",
     "output_type": "error",
     "traceback": [
      "\u001b[31m---------------------------------------------------------------------------\u001b[39m",
      "\u001b[31mKeyboardInterrupt\u001b[39m                         Traceback (most recent call last)",
      "\u001b[36mCell\u001b[39m\u001b[36m \u001b[39m\u001b[32mIn[72]\u001b[39m\u001b[32m, line 1\u001b[39m\n\u001b[32m----> \u001b[39m\u001b[32m1\u001b[39m fos_df = \u001b[43madd_figure_counts_to_df_batched\u001b[49m\u001b[43m(\u001b[49m\u001b[43mtexts\u001b[49m\u001b[43m,\u001b[49m\u001b[43m \u001b[49m\u001b[43mtext_column\u001b[49m\u001b[43m=\u001b[49m\u001b[33;43m\"\u001b[39;49m\u001b[33;43mCleaned_Text\u001b[39;49m\u001b[33;43m\"\u001b[39;49m\u001b[43m,\u001b[49m\u001b[43m \u001b[49m\u001b[43mbatch_size\u001b[49m\u001b[43m=\u001b[49m\u001b[32;43m10\u001b[39;49m\u001b[43m)\u001b[49m\n",
      "\u001b[36mCell\u001b[39m\u001b[36m \u001b[39m\u001b[32mIn[70]\u001b[39m\u001b[32m, line 54\u001b[39m, in \u001b[36madd_figure_counts_to_df_batched\u001b[39m\u001b[34m(df, text_column, batch_size, output_path)\u001b[39m\n\u001b[32m     51\u001b[39m     \u001b[38;5;28;01mcontinue\u001b[39;00m\n\u001b[32m     53\u001b[39m \u001b[38;5;28;01mtry\u001b[39;00m:\n\u001b[32m---> \u001b[39m\u001b[32m54\u001b[39m     result = \u001b[43mdetect_figures_in_text_batched\u001b[49m\u001b[43m(\u001b[49m\u001b[43mrow\u001b[49m\u001b[43m[\u001b[49m\u001b[43mtext_column\u001b[49m\u001b[43m]\u001b[49m\u001b[43m,\u001b[49m\u001b[43m \u001b[49m\u001b[43mbatch_size\u001b[49m\u001b[43m=\u001b[49m\u001b[43mbatch_size\u001b[49m\u001b[43m)\u001b[49m\n\u001b[32m     55\u001b[39m \u001b[38;5;28;01mexcept\u001b[39;00m \u001b[38;5;167;01mException\u001b[39;00m \u001b[38;5;28;01mas\u001b[39;00m e:\n\u001b[32m     56\u001b[39m     \u001b[38;5;28mprint\u001b[39m(\u001b[33mf\u001b[39m\u001b[33m\"\u001b[39m\u001b[33m❌ Erreur sur index \u001b[39m\u001b[38;5;132;01m{\u001b[39;00midx\u001b[38;5;132;01m}\u001b[39;00m\u001b[33m: \u001b[39m\u001b[38;5;132;01m{\u001b[39;00me\u001b[38;5;132;01m}\u001b[39;00m\u001b[33m\"\u001b[39m)\n",
      "\u001b[36mCell\u001b[39m\u001b[36m \u001b[39m\u001b[32mIn[70]\u001b[39m\u001b[32m, line 11\u001b[39m, in \u001b[36mdetect_figures_in_text_batched\u001b[39m\u001b[34m(text, batch_size)\u001b[39m\n\u001b[32m      9\u001b[39m batch = sentences[i:i + batch_size]\n\u001b[32m     10\u001b[39m \u001b[38;5;28;01mtry\u001b[39;00m:\n\u001b[32m---> \u001b[39m\u001b[32m11\u001b[39m     results = \u001b[43mdetect_figures_batch\u001b[49m\u001b[43m(\u001b[49m\u001b[43mbatch\u001b[49m\u001b[43m)\u001b[49m\n\u001b[32m     12\u001b[39m \u001b[38;5;28;01mexcept\u001b[39;00m \u001b[38;5;167;01mException\u001b[39;00m \u001b[38;5;28;01mas\u001b[39;00m e:\n\u001b[32m     13\u001b[39m     \u001b[38;5;28mprint\u001b[39m(\u001b[33mf\u001b[39m\u001b[33m\"\u001b[39m\u001b[33m❌ Erreur API sur le batch \u001b[39m\u001b[38;5;132;01m{\u001b[39;00mi\u001b[38;5;132;01m}\u001b[39;00m\u001b[33m-\u001b[39m\u001b[38;5;132;01m{\u001b[39;00mi\u001b[38;5;250m \u001b[39m+\u001b[38;5;250m \u001b[39mbatch_size\u001b[38;5;132;01m}\u001b[39;00m\u001b[33m: \u001b[39m\u001b[38;5;132;01m{\u001b[39;00me\u001b[38;5;132;01m}\u001b[39;00m\u001b[33m\"\u001b[39m)\n",
      "\u001b[36mCell\u001b[39m\u001b[36m \u001b[39m\u001b[32mIn[56]\u001b[39m\u001b[32m, line 70\u001b[39m, in \u001b[36mdetect_figures_batch\u001b[39m\u001b[34m(phrases)\u001b[39m\n\u001b[32m     68\u001b[39m \u001b[38;5;28;01mfor\u001b[39;00m attempt \u001b[38;5;129;01min\u001b[39;00m \u001b[38;5;28mrange\u001b[39m(retries):\n\u001b[32m     69\u001b[39m    \u001b[38;5;28;01mtry\u001b[39;00m:\n\u001b[32m---> \u001b[39m\u001b[32m70\u001b[39m       generated = \u001b[43mcall_llm\u001b[49m\u001b[43m(\u001b[49m\u001b[43mphrases\u001b[49m\u001b[43m,\u001b[49m\u001b[43m \u001b[49m\u001b[43merror_message\u001b[49m\u001b[43m \u001b[49m\u001b[38;5;28;43;01mif\u001b[39;49;00m\u001b[43m \u001b[49m\u001b[43mattempt\u001b[49m\u001b[43m \u001b[49m\u001b[43m>\u001b[49m\u001b[43m \u001b[49m\u001b[32;43m0\u001b[39;49m\u001b[43m \u001b[49m\u001b[38;5;28;43;01melse\u001b[39;49;00m\u001b[43m \u001b[49m\u001b[38;5;28;43;01mNone\u001b[39;49;00m\u001b[43m)\u001b[49m\n\u001b[32m     71\u001b[39m       result = json.loads(generated)\n\u001b[32m     73\u001b[39m       \u001b[38;5;66;03m# ✅ Vérifie que chaque élément de la liste est bien un dict\u001b[39;00m\n",
      "\u001b[36mCell\u001b[39m\u001b[36m \u001b[39m\u001b[32mIn[56]\u001b[39m\u001b[32m, line 54\u001b[39m, in \u001b[36mcall_llm\u001b[39m\u001b[34m(phrases_input, retry_context)\u001b[39m\n\u001b[32m     14\u001b[39m    \u001b[38;5;28;01melse\u001b[39;00m:\n\u001b[32m     15\u001b[39m       prompt = \u001b[33mf\u001b[39m\u001b[33m\"\"\"\u001b[39m\n\u001b[32m     16\u001b[39m \u001b[33mTu es un expert en analyse littéraire. Analyse les phrases suivantes et indique pour chacune quelles figures de style elle contient, en te basant sur cette liste. Pour chaque phrase, renvoie un dictionnaire avec les figures suivantes comme clés, et `true` ou `false` comme valeur.\u001b[39m\n\u001b[32m     17\u001b[39m \n\u001b[32m   (...)\u001b[39m\u001b[32m     52\u001b[39m \u001b[33mRéponds uniquement avec une liste JSON sans aucun commentaire ni explication. Chaque élément doit être un dictionnaire contenant les clés demandées.\u001b[39m\n\u001b[32m     53\u001b[39m \u001b[33m\"\"\"\u001b[39m\n\u001b[32m---> \u001b[39m\u001b[32m54\u001b[39m    response = \u001b[43mopenai\u001b[49m\u001b[43m.\u001b[49m\u001b[43mchat\u001b[49m\u001b[43m.\u001b[49m\u001b[43mcompletions\u001b[49m\u001b[43m.\u001b[49m\u001b[43mcreate\u001b[49m\u001b[43m(\u001b[49m\n\u001b[32m     55\u001b[39m \u001b[43m      \u001b[49m\u001b[43mmodel\u001b[49m\u001b[43m=\u001b[49m\u001b[33;43m\"\u001b[39;49m\u001b[33;43mgpt-4.1-nano-2025-04-14\u001b[39;49m\u001b[33;43m\"\u001b[39;49m\u001b[43m,\u001b[49m\n\u001b[32m     56\u001b[39m \u001b[43m      \u001b[49m\u001b[43mmessages\u001b[49m\u001b[43m=\u001b[49m\u001b[43m[\u001b[49m\u001b[43m{\u001b[49m\u001b[33;43m\"\u001b[39;49m\u001b[33;43mrole\u001b[39;49m\u001b[33;43m\"\u001b[39;49m\u001b[43m:\u001b[49m\u001b[43m \u001b[49m\u001b[33;43m\"\u001b[39;49m\u001b[33;43muser\u001b[39;49m\u001b[33;43m\"\u001b[39;49m\u001b[43m,\u001b[49m\u001b[43m \u001b[49m\u001b[33;43m\"\u001b[39;49m\u001b[33;43mcontent\u001b[39;49m\u001b[33;43m\"\u001b[39;49m\u001b[43m:\u001b[49m\u001b[43m \u001b[49m\u001b[43mprompt\u001b[49m\u001b[43m}\u001b[49m\u001b[43m]\u001b[49m\u001b[43m,\u001b[49m\n\u001b[32m     57\u001b[39m \u001b[43m      \u001b[49m\u001b[43mtemperature\u001b[49m\u001b[43m=\u001b[49m\u001b[32;43m0\u001b[39;49m\u001b[43m,\u001b[49m\n\u001b[32m     58\u001b[39m \u001b[43m      \u001b[49m\u001b[43mmax_tokens\u001b[49m\u001b[43m=\u001b[49m\u001b[32;43m2000\u001b[39;49m\n\u001b[32m     59\u001b[39m \u001b[43m   \u001b[49m\u001b[43m)\u001b[49m\n\u001b[32m     60\u001b[39m    \u001b[38;5;28;01mreturn\u001b[39;00m response.choices[\u001b[32m0\u001b[39m].message.content\n",
      "\u001b[36mFile \u001b[39m\u001b[32m~/Library/Caches/pypoetry/virtualenvs/research-paper-9dnSQuhV-py3.12/lib/python3.12/site-packages/openai/_utils/_utils.py:287\u001b[39m, in \u001b[36mrequired_args.<locals>.inner.<locals>.wrapper\u001b[39m\u001b[34m(*args, **kwargs)\u001b[39m\n\u001b[32m    285\u001b[39m             msg = \u001b[33mf\u001b[39m\u001b[33m\"\u001b[39m\u001b[33mMissing required argument: \u001b[39m\u001b[38;5;132;01m{\u001b[39;00mquote(missing[\u001b[32m0\u001b[39m])\u001b[38;5;132;01m}\u001b[39;00m\u001b[33m\"\u001b[39m\n\u001b[32m    286\u001b[39m     \u001b[38;5;28;01mraise\u001b[39;00m \u001b[38;5;167;01mTypeError\u001b[39;00m(msg)\n\u001b[32m--> \u001b[39m\u001b[32m287\u001b[39m \u001b[38;5;28;01mreturn\u001b[39;00m \u001b[43mfunc\u001b[49m\u001b[43m(\u001b[49m\u001b[43m*\u001b[49m\u001b[43margs\u001b[49m\u001b[43m,\u001b[49m\u001b[43m \u001b[49m\u001b[43m*\u001b[49m\u001b[43m*\u001b[49m\u001b[43mkwargs\u001b[49m\u001b[43m)\u001b[49m\n",
      "\u001b[36mFile \u001b[39m\u001b[32m~/Library/Caches/pypoetry/virtualenvs/research-paper-9dnSQuhV-py3.12/lib/python3.12/site-packages/openai/resources/chat/completions/completions.py:925\u001b[39m, in \u001b[36mCompletions.create\u001b[39m\u001b[34m(self, messages, model, audio, frequency_penalty, function_call, functions, logit_bias, logprobs, max_completion_tokens, max_tokens, metadata, modalities, n, parallel_tool_calls, prediction, presence_penalty, reasoning_effort, response_format, seed, service_tier, stop, store, stream, stream_options, temperature, tool_choice, tools, top_logprobs, top_p, user, web_search_options, extra_headers, extra_query, extra_body, timeout)\u001b[39m\n\u001b[32m    882\u001b[39m \u001b[38;5;129m@required_args\u001b[39m([\u001b[33m\"\u001b[39m\u001b[33mmessages\u001b[39m\u001b[33m\"\u001b[39m, \u001b[33m\"\u001b[39m\u001b[33mmodel\u001b[39m\u001b[33m\"\u001b[39m], [\u001b[33m\"\u001b[39m\u001b[33mmessages\u001b[39m\u001b[33m\"\u001b[39m, \u001b[33m\"\u001b[39m\u001b[33mmodel\u001b[39m\u001b[33m\"\u001b[39m, \u001b[33m\"\u001b[39m\u001b[33mstream\u001b[39m\u001b[33m\"\u001b[39m])\n\u001b[32m    883\u001b[39m \u001b[38;5;28;01mdef\u001b[39;00m\u001b[38;5;250m \u001b[39m\u001b[34mcreate\u001b[39m(\n\u001b[32m    884\u001b[39m     \u001b[38;5;28mself\u001b[39m,\n\u001b[32m   (...)\u001b[39m\u001b[32m    922\u001b[39m     timeout: \u001b[38;5;28mfloat\u001b[39m | httpx.Timeout | \u001b[38;5;28;01mNone\u001b[39;00m | NotGiven = NOT_GIVEN,\n\u001b[32m    923\u001b[39m ) -> ChatCompletion | Stream[ChatCompletionChunk]:\n\u001b[32m    924\u001b[39m     validate_response_format(response_format)\n\u001b[32m--> \u001b[39m\u001b[32m925\u001b[39m     \u001b[38;5;28;01mreturn\u001b[39;00m \u001b[38;5;28;43mself\u001b[39;49m\u001b[43m.\u001b[49m\u001b[43m_post\u001b[49m\u001b[43m(\u001b[49m\n\u001b[32m    926\u001b[39m \u001b[43m        \u001b[49m\u001b[33;43m\"\u001b[39;49m\u001b[33;43m/chat/completions\u001b[39;49m\u001b[33;43m\"\u001b[39;49m\u001b[43m,\u001b[49m\n\u001b[32m    927\u001b[39m \u001b[43m        \u001b[49m\u001b[43mbody\u001b[49m\u001b[43m=\u001b[49m\u001b[43mmaybe_transform\u001b[49m\u001b[43m(\u001b[49m\n\u001b[32m    928\u001b[39m \u001b[43m            \u001b[49m\u001b[43m{\u001b[49m\n\u001b[32m    929\u001b[39m \u001b[43m                \u001b[49m\u001b[33;43m\"\u001b[39;49m\u001b[33;43mmessages\u001b[39;49m\u001b[33;43m\"\u001b[39;49m\u001b[43m:\u001b[49m\u001b[43m \u001b[49m\u001b[43mmessages\u001b[49m\u001b[43m,\u001b[49m\n\u001b[32m    930\u001b[39m \u001b[43m                \u001b[49m\u001b[33;43m\"\u001b[39;49m\u001b[33;43mmodel\u001b[39;49m\u001b[33;43m\"\u001b[39;49m\u001b[43m:\u001b[49m\u001b[43m \u001b[49m\u001b[43mmodel\u001b[49m\u001b[43m,\u001b[49m\n\u001b[32m    931\u001b[39m \u001b[43m                \u001b[49m\u001b[33;43m\"\u001b[39;49m\u001b[33;43maudio\u001b[39;49m\u001b[33;43m\"\u001b[39;49m\u001b[43m:\u001b[49m\u001b[43m \u001b[49m\u001b[43maudio\u001b[49m\u001b[43m,\u001b[49m\n\u001b[32m    932\u001b[39m \u001b[43m                \u001b[49m\u001b[33;43m\"\u001b[39;49m\u001b[33;43mfrequency_penalty\u001b[39;49m\u001b[33;43m\"\u001b[39;49m\u001b[43m:\u001b[49m\u001b[43m \u001b[49m\u001b[43mfrequency_penalty\u001b[49m\u001b[43m,\u001b[49m\n\u001b[32m    933\u001b[39m \u001b[43m                \u001b[49m\u001b[33;43m\"\u001b[39;49m\u001b[33;43mfunction_call\u001b[39;49m\u001b[33;43m\"\u001b[39;49m\u001b[43m:\u001b[49m\u001b[43m \u001b[49m\u001b[43mfunction_call\u001b[49m\u001b[43m,\u001b[49m\n\u001b[32m    934\u001b[39m \u001b[43m                \u001b[49m\u001b[33;43m\"\u001b[39;49m\u001b[33;43mfunctions\u001b[39;49m\u001b[33;43m\"\u001b[39;49m\u001b[43m:\u001b[49m\u001b[43m \u001b[49m\u001b[43mfunctions\u001b[49m\u001b[43m,\u001b[49m\n\u001b[32m    935\u001b[39m \u001b[43m                \u001b[49m\u001b[33;43m\"\u001b[39;49m\u001b[33;43mlogit_bias\u001b[39;49m\u001b[33;43m\"\u001b[39;49m\u001b[43m:\u001b[49m\u001b[43m \u001b[49m\u001b[43mlogit_bias\u001b[49m\u001b[43m,\u001b[49m\n\u001b[32m    936\u001b[39m \u001b[43m                \u001b[49m\u001b[33;43m\"\u001b[39;49m\u001b[33;43mlogprobs\u001b[39;49m\u001b[33;43m\"\u001b[39;49m\u001b[43m:\u001b[49m\u001b[43m \u001b[49m\u001b[43mlogprobs\u001b[49m\u001b[43m,\u001b[49m\n\u001b[32m    937\u001b[39m \u001b[43m                \u001b[49m\u001b[33;43m\"\u001b[39;49m\u001b[33;43mmax_completion_tokens\u001b[39;49m\u001b[33;43m\"\u001b[39;49m\u001b[43m:\u001b[49m\u001b[43m \u001b[49m\u001b[43mmax_completion_tokens\u001b[49m\u001b[43m,\u001b[49m\n\u001b[32m    938\u001b[39m \u001b[43m                \u001b[49m\u001b[33;43m\"\u001b[39;49m\u001b[33;43mmax_tokens\u001b[39;49m\u001b[33;43m\"\u001b[39;49m\u001b[43m:\u001b[49m\u001b[43m \u001b[49m\u001b[43mmax_tokens\u001b[49m\u001b[43m,\u001b[49m\n\u001b[32m    939\u001b[39m \u001b[43m                \u001b[49m\u001b[33;43m\"\u001b[39;49m\u001b[33;43mmetadata\u001b[39;49m\u001b[33;43m\"\u001b[39;49m\u001b[43m:\u001b[49m\u001b[43m \u001b[49m\u001b[43mmetadata\u001b[49m\u001b[43m,\u001b[49m\n\u001b[32m    940\u001b[39m \u001b[43m                \u001b[49m\u001b[33;43m\"\u001b[39;49m\u001b[33;43mmodalities\u001b[39;49m\u001b[33;43m\"\u001b[39;49m\u001b[43m:\u001b[49m\u001b[43m \u001b[49m\u001b[43mmodalities\u001b[49m\u001b[43m,\u001b[49m\n\u001b[32m    941\u001b[39m \u001b[43m                \u001b[49m\u001b[33;43m\"\u001b[39;49m\u001b[33;43mn\u001b[39;49m\u001b[33;43m\"\u001b[39;49m\u001b[43m:\u001b[49m\u001b[43m \u001b[49m\u001b[43mn\u001b[49m\u001b[43m,\u001b[49m\n\u001b[32m    942\u001b[39m \u001b[43m                \u001b[49m\u001b[33;43m\"\u001b[39;49m\u001b[33;43mparallel_tool_calls\u001b[39;49m\u001b[33;43m\"\u001b[39;49m\u001b[43m:\u001b[49m\u001b[43m \u001b[49m\u001b[43mparallel_tool_calls\u001b[49m\u001b[43m,\u001b[49m\n\u001b[32m    943\u001b[39m \u001b[43m                \u001b[49m\u001b[33;43m\"\u001b[39;49m\u001b[33;43mprediction\u001b[39;49m\u001b[33;43m\"\u001b[39;49m\u001b[43m:\u001b[49m\u001b[43m \u001b[49m\u001b[43mprediction\u001b[49m\u001b[43m,\u001b[49m\n\u001b[32m    944\u001b[39m \u001b[43m                \u001b[49m\u001b[33;43m\"\u001b[39;49m\u001b[33;43mpresence_penalty\u001b[39;49m\u001b[33;43m\"\u001b[39;49m\u001b[43m:\u001b[49m\u001b[43m \u001b[49m\u001b[43mpresence_penalty\u001b[49m\u001b[43m,\u001b[49m\n\u001b[32m    945\u001b[39m \u001b[43m                \u001b[49m\u001b[33;43m\"\u001b[39;49m\u001b[33;43mreasoning_effort\u001b[39;49m\u001b[33;43m\"\u001b[39;49m\u001b[43m:\u001b[49m\u001b[43m \u001b[49m\u001b[43mreasoning_effort\u001b[49m\u001b[43m,\u001b[49m\n\u001b[32m    946\u001b[39m \u001b[43m                \u001b[49m\u001b[33;43m\"\u001b[39;49m\u001b[33;43mresponse_format\u001b[39;49m\u001b[33;43m\"\u001b[39;49m\u001b[43m:\u001b[49m\u001b[43m \u001b[49m\u001b[43mresponse_format\u001b[49m\u001b[43m,\u001b[49m\n\u001b[32m    947\u001b[39m \u001b[43m                \u001b[49m\u001b[33;43m\"\u001b[39;49m\u001b[33;43mseed\u001b[39;49m\u001b[33;43m\"\u001b[39;49m\u001b[43m:\u001b[49m\u001b[43m \u001b[49m\u001b[43mseed\u001b[49m\u001b[43m,\u001b[49m\n\u001b[32m    948\u001b[39m \u001b[43m                \u001b[49m\u001b[33;43m\"\u001b[39;49m\u001b[33;43mservice_tier\u001b[39;49m\u001b[33;43m\"\u001b[39;49m\u001b[43m:\u001b[49m\u001b[43m \u001b[49m\u001b[43mservice_tier\u001b[49m\u001b[43m,\u001b[49m\n\u001b[32m    949\u001b[39m \u001b[43m                \u001b[49m\u001b[33;43m\"\u001b[39;49m\u001b[33;43mstop\u001b[39;49m\u001b[33;43m\"\u001b[39;49m\u001b[43m:\u001b[49m\u001b[43m \u001b[49m\u001b[43mstop\u001b[49m\u001b[43m,\u001b[49m\n\u001b[32m    950\u001b[39m \u001b[43m                \u001b[49m\u001b[33;43m\"\u001b[39;49m\u001b[33;43mstore\u001b[39;49m\u001b[33;43m\"\u001b[39;49m\u001b[43m:\u001b[49m\u001b[43m \u001b[49m\u001b[43mstore\u001b[49m\u001b[43m,\u001b[49m\n\u001b[32m    951\u001b[39m \u001b[43m                \u001b[49m\u001b[33;43m\"\u001b[39;49m\u001b[33;43mstream\u001b[39;49m\u001b[33;43m\"\u001b[39;49m\u001b[43m:\u001b[49m\u001b[43m \u001b[49m\u001b[43mstream\u001b[49m\u001b[43m,\u001b[49m\n\u001b[32m    952\u001b[39m \u001b[43m                \u001b[49m\u001b[33;43m\"\u001b[39;49m\u001b[33;43mstream_options\u001b[39;49m\u001b[33;43m\"\u001b[39;49m\u001b[43m:\u001b[49m\u001b[43m \u001b[49m\u001b[43mstream_options\u001b[49m\u001b[43m,\u001b[49m\n\u001b[32m    953\u001b[39m \u001b[43m                \u001b[49m\u001b[33;43m\"\u001b[39;49m\u001b[33;43mtemperature\u001b[39;49m\u001b[33;43m\"\u001b[39;49m\u001b[43m:\u001b[49m\u001b[43m \u001b[49m\u001b[43mtemperature\u001b[49m\u001b[43m,\u001b[49m\n\u001b[32m    954\u001b[39m \u001b[43m                \u001b[49m\u001b[33;43m\"\u001b[39;49m\u001b[33;43mtool_choice\u001b[39;49m\u001b[33;43m\"\u001b[39;49m\u001b[43m:\u001b[49m\u001b[43m \u001b[49m\u001b[43mtool_choice\u001b[49m\u001b[43m,\u001b[49m\n\u001b[32m    955\u001b[39m \u001b[43m                \u001b[49m\u001b[33;43m\"\u001b[39;49m\u001b[33;43mtools\u001b[39;49m\u001b[33;43m\"\u001b[39;49m\u001b[43m:\u001b[49m\u001b[43m \u001b[49m\u001b[43mtools\u001b[49m\u001b[43m,\u001b[49m\n\u001b[32m    956\u001b[39m \u001b[43m                \u001b[49m\u001b[33;43m\"\u001b[39;49m\u001b[33;43mtop_logprobs\u001b[39;49m\u001b[33;43m\"\u001b[39;49m\u001b[43m:\u001b[49m\u001b[43m \u001b[49m\u001b[43mtop_logprobs\u001b[49m\u001b[43m,\u001b[49m\n\u001b[32m    957\u001b[39m \u001b[43m                \u001b[49m\u001b[33;43m\"\u001b[39;49m\u001b[33;43mtop_p\u001b[39;49m\u001b[33;43m\"\u001b[39;49m\u001b[43m:\u001b[49m\u001b[43m \u001b[49m\u001b[43mtop_p\u001b[49m\u001b[43m,\u001b[49m\n\u001b[32m    958\u001b[39m \u001b[43m                \u001b[49m\u001b[33;43m\"\u001b[39;49m\u001b[33;43muser\u001b[39;49m\u001b[33;43m\"\u001b[39;49m\u001b[43m:\u001b[49m\u001b[43m \u001b[49m\u001b[43muser\u001b[49m\u001b[43m,\u001b[49m\n\u001b[32m    959\u001b[39m \u001b[43m                \u001b[49m\u001b[33;43m\"\u001b[39;49m\u001b[33;43mweb_search_options\u001b[39;49m\u001b[33;43m\"\u001b[39;49m\u001b[43m:\u001b[49m\u001b[43m \u001b[49m\u001b[43mweb_search_options\u001b[49m\u001b[43m,\u001b[49m\n\u001b[32m    960\u001b[39m \u001b[43m            \u001b[49m\u001b[43m}\u001b[49m\u001b[43m,\u001b[49m\n\u001b[32m    961\u001b[39m \u001b[43m            \u001b[49m\u001b[43mcompletion_create_params\u001b[49m\u001b[43m.\u001b[49m\u001b[43mCompletionCreateParamsStreaming\u001b[49m\n\u001b[32m    962\u001b[39m \u001b[43m            \u001b[49m\u001b[38;5;28;43;01mif\u001b[39;49;00m\u001b[43m \u001b[49m\u001b[43mstream\u001b[49m\n\u001b[32m    963\u001b[39m \u001b[43m            \u001b[49m\u001b[38;5;28;43;01melse\u001b[39;49;00m\u001b[43m \u001b[49m\u001b[43mcompletion_create_params\u001b[49m\u001b[43m.\u001b[49m\u001b[43mCompletionCreateParamsNonStreaming\u001b[49m\u001b[43m,\u001b[49m\n\u001b[32m    964\u001b[39m \u001b[43m        \u001b[49m\u001b[43m)\u001b[49m\u001b[43m,\u001b[49m\n\u001b[32m    965\u001b[39m \u001b[43m        \u001b[49m\u001b[43moptions\u001b[49m\u001b[43m=\u001b[49m\u001b[43mmake_request_options\u001b[49m\u001b[43m(\u001b[49m\n\u001b[32m    966\u001b[39m \u001b[43m            \u001b[49m\u001b[43mextra_headers\u001b[49m\u001b[43m=\u001b[49m\u001b[43mextra_headers\u001b[49m\u001b[43m,\u001b[49m\u001b[43m \u001b[49m\u001b[43mextra_query\u001b[49m\u001b[43m=\u001b[49m\u001b[43mextra_query\u001b[49m\u001b[43m,\u001b[49m\u001b[43m \u001b[49m\u001b[43mextra_body\u001b[49m\u001b[43m=\u001b[49m\u001b[43mextra_body\u001b[49m\u001b[43m,\u001b[49m\u001b[43m \u001b[49m\u001b[43mtimeout\u001b[49m\u001b[43m=\u001b[49m\u001b[43mtimeout\u001b[49m\n\u001b[32m    967\u001b[39m \u001b[43m        \u001b[49m\u001b[43m)\u001b[49m\u001b[43m,\u001b[49m\n\u001b[32m    968\u001b[39m \u001b[43m        \u001b[49m\u001b[43mcast_to\u001b[49m\u001b[43m=\u001b[49m\u001b[43mChatCompletion\u001b[49m\u001b[43m,\u001b[49m\n\u001b[32m    969\u001b[39m \u001b[43m        \u001b[49m\u001b[43mstream\u001b[49m\u001b[43m=\u001b[49m\u001b[43mstream\u001b[49m\u001b[43m \u001b[49m\u001b[38;5;129;43;01mor\u001b[39;49;00m\u001b[43m \u001b[49m\u001b[38;5;28;43;01mFalse\u001b[39;49;00m\u001b[43m,\u001b[49m\n\u001b[32m    970\u001b[39m \u001b[43m        \u001b[49m\u001b[43mstream_cls\u001b[49m\u001b[43m=\u001b[49m\u001b[43mStream\u001b[49m\u001b[43m[\u001b[49m\u001b[43mChatCompletionChunk\u001b[49m\u001b[43m]\u001b[49m\u001b[43m,\u001b[49m\n\u001b[32m    971\u001b[39m \u001b[43m    \u001b[49m\u001b[43m)\u001b[49m\n",
      "\u001b[36mFile \u001b[39m\u001b[32m~/Library/Caches/pypoetry/virtualenvs/research-paper-9dnSQuhV-py3.12/lib/python3.12/site-packages/openai/_base_client.py:1239\u001b[39m, in \u001b[36mSyncAPIClient.post\u001b[39m\u001b[34m(self, path, cast_to, body, options, files, stream, stream_cls)\u001b[39m\n\u001b[32m   1225\u001b[39m \u001b[38;5;28;01mdef\u001b[39;00m\u001b[38;5;250m \u001b[39m\u001b[34mpost\u001b[39m(\n\u001b[32m   1226\u001b[39m     \u001b[38;5;28mself\u001b[39m,\n\u001b[32m   1227\u001b[39m     path: \u001b[38;5;28mstr\u001b[39m,\n\u001b[32m   (...)\u001b[39m\u001b[32m   1234\u001b[39m     stream_cls: \u001b[38;5;28mtype\u001b[39m[_StreamT] | \u001b[38;5;28;01mNone\u001b[39;00m = \u001b[38;5;28;01mNone\u001b[39;00m,\n\u001b[32m   1235\u001b[39m ) -> ResponseT | _StreamT:\n\u001b[32m   1236\u001b[39m     opts = FinalRequestOptions.construct(\n\u001b[32m   1237\u001b[39m         method=\u001b[33m\"\u001b[39m\u001b[33mpost\u001b[39m\u001b[33m\"\u001b[39m, url=path, json_data=body, files=to_httpx_files(files), **options\n\u001b[32m   1238\u001b[39m     )\n\u001b[32m-> \u001b[39m\u001b[32m1239\u001b[39m     \u001b[38;5;28;01mreturn\u001b[39;00m cast(ResponseT, \u001b[38;5;28;43mself\u001b[39;49m\u001b[43m.\u001b[49m\u001b[43mrequest\u001b[49m\u001b[43m(\u001b[49m\u001b[43mcast_to\u001b[49m\u001b[43m,\u001b[49m\u001b[43m \u001b[49m\u001b[43mopts\u001b[49m\u001b[43m,\u001b[49m\u001b[43m \u001b[49m\u001b[43mstream\u001b[49m\u001b[43m=\u001b[49m\u001b[43mstream\u001b[49m\u001b[43m,\u001b[49m\u001b[43m \u001b[49m\u001b[43mstream_cls\u001b[49m\u001b[43m=\u001b[49m\u001b[43mstream_cls\u001b[49m\u001b[43m)\u001b[49m)\n",
      "\u001b[36mFile \u001b[39m\u001b[32m~/Library/Caches/pypoetry/virtualenvs/research-paper-9dnSQuhV-py3.12/lib/python3.12/site-packages/openai/_base_client.py:969\u001b[39m, in \u001b[36mSyncAPIClient.request\u001b[39m\u001b[34m(self, cast_to, options, stream, stream_cls)\u001b[39m\n\u001b[32m    967\u001b[39m response = \u001b[38;5;28;01mNone\u001b[39;00m\n\u001b[32m    968\u001b[39m \u001b[38;5;28;01mtry\u001b[39;00m:\n\u001b[32m--> \u001b[39m\u001b[32m969\u001b[39m     response = \u001b[38;5;28;43mself\u001b[39;49m\u001b[43m.\u001b[49m\u001b[43m_client\u001b[49m\u001b[43m.\u001b[49m\u001b[43msend\u001b[49m\u001b[43m(\u001b[49m\n\u001b[32m    970\u001b[39m \u001b[43m        \u001b[49m\u001b[43mrequest\u001b[49m\u001b[43m,\u001b[49m\n\u001b[32m    971\u001b[39m \u001b[43m        \u001b[49m\u001b[43mstream\u001b[49m\u001b[43m=\u001b[49m\u001b[43mstream\u001b[49m\u001b[43m \u001b[49m\u001b[38;5;129;43;01mor\u001b[39;49;00m\u001b[43m \u001b[49m\u001b[38;5;28;43mself\u001b[39;49m\u001b[43m.\u001b[49m\u001b[43m_should_stream_response_body\u001b[49m\u001b[43m(\u001b[49m\u001b[43mrequest\u001b[49m\u001b[43m=\u001b[49m\u001b[43mrequest\u001b[49m\u001b[43m)\u001b[49m\u001b[43m,\u001b[49m\n\u001b[32m    972\u001b[39m \u001b[43m        \u001b[49m\u001b[43m*\u001b[49m\u001b[43m*\u001b[49m\u001b[43mkwargs\u001b[49m\u001b[43m,\u001b[49m\n\u001b[32m    973\u001b[39m \u001b[43m    \u001b[49m\u001b[43m)\u001b[49m\n\u001b[32m    974\u001b[39m \u001b[38;5;28;01mexcept\u001b[39;00m httpx.TimeoutException \u001b[38;5;28;01mas\u001b[39;00m err:\n\u001b[32m    975\u001b[39m     log.debug(\u001b[33m\"\u001b[39m\u001b[33mEncountered httpx.TimeoutException\u001b[39m\u001b[33m\"\u001b[39m, exc_info=\u001b[38;5;28;01mTrue\u001b[39;00m)\n",
      "\u001b[36mFile \u001b[39m\u001b[32m~/Library/Caches/pypoetry/virtualenvs/research-paper-9dnSQuhV-py3.12/lib/python3.12/site-packages/httpx/_client.py:914\u001b[39m, in \u001b[36mClient.send\u001b[39m\u001b[34m(self, request, stream, auth, follow_redirects)\u001b[39m\n\u001b[32m    910\u001b[39m \u001b[38;5;28mself\u001b[39m._set_timeout(request)\n\u001b[32m    912\u001b[39m auth = \u001b[38;5;28mself\u001b[39m._build_request_auth(request, auth)\n\u001b[32m--> \u001b[39m\u001b[32m914\u001b[39m response = \u001b[38;5;28;43mself\u001b[39;49m\u001b[43m.\u001b[49m\u001b[43m_send_handling_auth\u001b[49m\u001b[43m(\u001b[49m\n\u001b[32m    915\u001b[39m \u001b[43m    \u001b[49m\u001b[43mrequest\u001b[49m\u001b[43m,\u001b[49m\n\u001b[32m    916\u001b[39m \u001b[43m    \u001b[49m\u001b[43mauth\u001b[49m\u001b[43m=\u001b[49m\u001b[43mauth\u001b[49m\u001b[43m,\u001b[49m\n\u001b[32m    917\u001b[39m \u001b[43m    \u001b[49m\u001b[43mfollow_redirects\u001b[49m\u001b[43m=\u001b[49m\u001b[43mfollow_redirects\u001b[49m\u001b[43m,\u001b[49m\n\u001b[32m    918\u001b[39m \u001b[43m    \u001b[49m\u001b[43mhistory\u001b[49m\u001b[43m=\u001b[49m\u001b[43m[\u001b[49m\u001b[43m]\u001b[49m\u001b[43m,\u001b[49m\n\u001b[32m    919\u001b[39m \u001b[43m\u001b[49m\u001b[43m)\u001b[49m\n\u001b[32m    920\u001b[39m \u001b[38;5;28;01mtry\u001b[39;00m:\n\u001b[32m    921\u001b[39m     \u001b[38;5;28;01mif\u001b[39;00m \u001b[38;5;129;01mnot\u001b[39;00m stream:\n",
      "\u001b[36mFile \u001b[39m\u001b[32m~/Library/Caches/pypoetry/virtualenvs/research-paper-9dnSQuhV-py3.12/lib/python3.12/site-packages/httpx/_client.py:942\u001b[39m, in \u001b[36mClient._send_handling_auth\u001b[39m\u001b[34m(self, request, auth, follow_redirects, history)\u001b[39m\n\u001b[32m    939\u001b[39m request = \u001b[38;5;28mnext\u001b[39m(auth_flow)\n\u001b[32m    941\u001b[39m \u001b[38;5;28;01mwhile\u001b[39;00m \u001b[38;5;28;01mTrue\u001b[39;00m:\n\u001b[32m--> \u001b[39m\u001b[32m942\u001b[39m     response = \u001b[38;5;28;43mself\u001b[39;49m\u001b[43m.\u001b[49m\u001b[43m_send_handling_redirects\u001b[49m\u001b[43m(\u001b[49m\n\u001b[32m    943\u001b[39m \u001b[43m        \u001b[49m\u001b[43mrequest\u001b[49m\u001b[43m,\u001b[49m\n\u001b[32m    944\u001b[39m \u001b[43m        \u001b[49m\u001b[43mfollow_redirects\u001b[49m\u001b[43m=\u001b[49m\u001b[43mfollow_redirects\u001b[49m\u001b[43m,\u001b[49m\n\u001b[32m    945\u001b[39m \u001b[43m        \u001b[49m\u001b[43mhistory\u001b[49m\u001b[43m=\u001b[49m\u001b[43mhistory\u001b[49m\u001b[43m,\u001b[49m\n\u001b[32m    946\u001b[39m \u001b[43m    \u001b[49m\u001b[43m)\u001b[49m\n\u001b[32m    947\u001b[39m     \u001b[38;5;28;01mtry\u001b[39;00m:\n\u001b[32m    948\u001b[39m         \u001b[38;5;28;01mtry\u001b[39;00m:\n",
      "\u001b[36mFile \u001b[39m\u001b[32m~/Library/Caches/pypoetry/virtualenvs/research-paper-9dnSQuhV-py3.12/lib/python3.12/site-packages/httpx/_client.py:979\u001b[39m, in \u001b[36mClient._send_handling_redirects\u001b[39m\u001b[34m(self, request, follow_redirects, history)\u001b[39m\n\u001b[32m    976\u001b[39m \u001b[38;5;28;01mfor\u001b[39;00m hook \u001b[38;5;129;01min\u001b[39;00m \u001b[38;5;28mself\u001b[39m._event_hooks[\u001b[33m\"\u001b[39m\u001b[33mrequest\u001b[39m\u001b[33m\"\u001b[39m]:\n\u001b[32m    977\u001b[39m     hook(request)\n\u001b[32m--> \u001b[39m\u001b[32m979\u001b[39m response = \u001b[38;5;28;43mself\u001b[39;49m\u001b[43m.\u001b[49m\u001b[43m_send_single_request\u001b[49m\u001b[43m(\u001b[49m\u001b[43mrequest\u001b[49m\u001b[43m)\u001b[49m\n\u001b[32m    980\u001b[39m \u001b[38;5;28;01mtry\u001b[39;00m:\n\u001b[32m    981\u001b[39m     \u001b[38;5;28;01mfor\u001b[39;00m hook \u001b[38;5;129;01min\u001b[39;00m \u001b[38;5;28mself\u001b[39m._event_hooks[\u001b[33m\"\u001b[39m\u001b[33mresponse\u001b[39m\u001b[33m\"\u001b[39m]:\n",
      "\u001b[36mFile \u001b[39m\u001b[32m~/Library/Caches/pypoetry/virtualenvs/research-paper-9dnSQuhV-py3.12/lib/python3.12/site-packages/httpx/_client.py:1014\u001b[39m, in \u001b[36mClient._send_single_request\u001b[39m\u001b[34m(self, request)\u001b[39m\n\u001b[32m   1009\u001b[39m     \u001b[38;5;28;01mraise\u001b[39;00m \u001b[38;5;167;01mRuntimeError\u001b[39;00m(\n\u001b[32m   1010\u001b[39m         \u001b[33m\"\u001b[39m\u001b[33mAttempted to send an async request with a sync Client instance.\u001b[39m\u001b[33m\"\u001b[39m\n\u001b[32m   1011\u001b[39m     )\n\u001b[32m   1013\u001b[39m \u001b[38;5;28;01mwith\u001b[39;00m request_context(request=request):\n\u001b[32m-> \u001b[39m\u001b[32m1014\u001b[39m     response = \u001b[43mtransport\u001b[49m\u001b[43m.\u001b[49m\u001b[43mhandle_request\u001b[49m\u001b[43m(\u001b[49m\u001b[43mrequest\u001b[49m\u001b[43m)\u001b[49m\n\u001b[32m   1016\u001b[39m \u001b[38;5;28;01massert\u001b[39;00m \u001b[38;5;28misinstance\u001b[39m(response.stream, SyncByteStream)\n\u001b[32m   1018\u001b[39m response.request = request\n",
      "\u001b[36mFile \u001b[39m\u001b[32m~/Library/Caches/pypoetry/virtualenvs/research-paper-9dnSQuhV-py3.12/lib/python3.12/site-packages/httpx/_transports/default.py:250\u001b[39m, in \u001b[36mHTTPTransport.handle_request\u001b[39m\u001b[34m(self, request)\u001b[39m\n\u001b[32m    237\u001b[39m req = httpcore.Request(\n\u001b[32m    238\u001b[39m     method=request.method,\n\u001b[32m    239\u001b[39m     url=httpcore.URL(\n\u001b[32m   (...)\u001b[39m\u001b[32m    247\u001b[39m     extensions=request.extensions,\n\u001b[32m    248\u001b[39m )\n\u001b[32m    249\u001b[39m \u001b[38;5;28;01mwith\u001b[39;00m map_httpcore_exceptions():\n\u001b[32m--> \u001b[39m\u001b[32m250\u001b[39m     resp = \u001b[38;5;28;43mself\u001b[39;49m\u001b[43m.\u001b[49m\u001b[43m_pool\u001b[49m\u001b[43m.\u001b[49m\u001b[43mhandle_request\u001b[49m\u001b[43m(\u001b[49m\u001b[43mreq\u001b[49m\u001b[43m)\u001b[49m\n\u001b[32m    252\u001b[39m \u001b[38;5;28;01massert\u001b[39;00m \u001b[38;5;28misinstance\u001b[39m(resp.stream, typing.Iterable)\n\u001b[32m    254\u001b[39m \u001b[38;5;28;01mreturn\u001b[39;00m Response(\n\u001b[32m    255\u001b[39m     status_code=resp.status,\n\u001b[32m    256\u001b[39m     headers=resp.headers,\n\u001b[32m    257\u001b[39m     stream=ResponseStream(resp.stream),\n\u001b[32m    258\u001b[39m     extensions=resp.extensions,\n\u001b[32m    259\u001b[39m )\n",
      "\u001b[36mFile \u001b[39m\u001b[32m~/Library/Caches/pypoetry/virtualenvs/research-paper-9dnSQuhV-py3.12/lib/python3.12/site-packages/httpcore/_sync/connection_pool.py:256\u001b[39m, in \u001b[36mConnectionPool.handle_request\u001b[39m\u001b[34m(self, request)\u001b[39m\n\u001b[32m    253\u001b[39m         closing = \u001b[38;5;28mself\u001b[39m._assign_requests_to_connections()\n\u001b[32m    255\u001b[39m     \u001b[38;5;28mself\u001b[39m._close_connections(closing)\n\u001b[32m--> \u001b[39m\u001b[32m256\u001b[39m     \u001b[38;5;28;01mraise\u001b[39;00m exc \u001b[38;5;28;01mfrom\u001b[39;00m\u001b[38;5;250m \u001b[39m\u001b[38;5;28;01mNone\u001b[39;00m\n\u001b[32m    258\u001b[39m \u001b[38;5;66;03m# Return the response. Note that in this case we still have to manage\u001b[39;00m\n\u001b[32m    259\u001b[39m \u001b[38;5;66;03m# the point at which the response is closed.\u001b[39;00m\n\u001b[32m    260\u001b[39m \u001b[38;5;28;01massert\u001b[39;00m \u001b[38;5;28misinstance\u001b[39m(response.stream, typing.Iterable)\n",
      "\u001b[36mFile \u001b[39m\u001b[32m~/Library/Caches/pypoetry/virtualenvs/research-paper-9dnSQuhV-py3.12/lib/python3.12/site-packages/httpcore/_sync/connection_pool.py:236\u001b[39m, in \u001b[36mConnectionPool.handle_request\u001b[39m\u001b[34m(self, request)\u001b[39m\n\u001b[32m    232\u001b[39m connection = pool_request.wait_for_connection(timeout=timeout)\n\u001b[32m    234\u001b[39m \u001b[38;5;28;01mtry\u001b[39;00m:\n\u001b[32m    235\u001b[39m     \u001b[38;5;66;03m# Send the request on the assigned connection.\u001b[39;00m\n\u001b[32m--> \u001b[39m\u001b[32m236\u001b[39m     response = \u001b[43mconnection\u001b[49m\u001b[43m.\u001b[49m\u001b[43mhandle_request\u001b[49m\u001b[43m(\u001b[49m\n\u001b[32m    237\u001b[39m \u001b[43m        \u001b[49m\u001b[43mpool_request\u001b[49m\u001b[43m.\u001b[49m\u001b[43mrequest\u001b[49m\n\u001b[32m    238\u001b[39m \u001b[43m    \u001b[49m\u001b[43m)\u001b[49m\n\u001b[32m    239\u001b[39m \u001b[38;5;28;01mexcept\u001b[39;00m ConnectionNotAvailable:\n\u001b[32m    240\u001b[39m     \u001b[38;5;66;03m# In some cases a connection may initially be available to\u001b[39;00m\n\u001b[32m    241\u001b[39m     \u001b[38;5;66;03m# handle a request, but then become unavailable.\u001b[39;00m\n\u001b[32m    242\u001b[39m     \u001b[38;5;66;03m#\u001b[39;00m\n\u001b[32m    243\u001b[39m     \u001b[38;5;66;03m# In this case we clear the connection and try again.\u001b[39;00m\n\u001b[32m    244\u001b[39m     pool_request.clear_connection()\n",
      "\u001b[36mFile \u001b[39m\u001b[32m~/Library/Caches/pypoetry/virtualenvs/research-paper-9dnSQuhV-py3.12/lib/python3.12/site-packages/httpcore/_sync/connection.py:103\u001b[39m, in \u001b[36mHTTPConnection.handle_request\u001b[39m\u001b[34m(self, request)\u001b[39m\n\u001b[32m    100\u001b[39m     \u001b[38;5;28mself\u001b[39m._connect_failed = \u001b[38;5;28;01mTrue\u001b[39;00m\n\u001b[32m    101\u001b[39m     \u001b[38;5;28;01mraise\u001b[39;00m exc\n\u001b[32m--> \u001b[39m\u001b[32m103\u001b[39m \u001b[38;5;28;01mreturn\u001b[39;00m \u001b[38;5;28;43mself\u001b[39;49m\u001b[43m.\u001b[49m\u001b[43m_connection\u001b[49m\u001b[43m.\u001b[49m\u001b[43mhandle_request\u001b[49m\u001b[43m(\u001b[49m\u001b[43mrequest\u001b[49m\u001b[43m)\u001b[49m\n",
      "\u001b[36mFile \u001b[39m\u001b[32m~/Library/Caches/pypoetry/virtualenvs/research-paper-9dnSQuhV-py3.12/lib/python3.12/site-packages/httpcore/_sync/http11.py:136\u001b[39m, in \u001b[36mHTTP11Connection.handle_request\u001b[39m\u001b[34m(self, request)\u001b[39m\n\u001b[32m    134\u001b[39m     \u001b[38;5;28;01mwith\u001b[39;00m Trace(\u001b[33m\"\u001b[39m\u001b[33mresponse_closed\u001b[39m\u001b[33m\"\u001b[39m, logger, request) \u001b[38;5;28;01mas\u001b[39;00m trace:\n\u001b[32m    135\u001b[39m         \u001b[38;5;28mself\u001b[39m._response_closed()\n\u001b[32m--> \u001b[39m\u001b[32m136\u001b[39m \u001b[38;5;28;01mraise\u001b[39;00m exc\n",
      "\u001b[36mFile \u001b[39m\u001b[32m~/Library/Caches/pypoetry/virtualenvs/research-paper-9dnSQuhV-py3.12/lib/python3.12/site-packages/httpcore/_sync/http11.py:106\u001b[39m, in \u001b[36mHTTP11Connection.handle_request\u001b[39m\u001b[34m(self, request)\u001b[39m\n\u001b[32m     95\u001b[39m     \u001b[38;5;28;01mpass\u001b[39;00m\n\u001b[32m     97\u001b[39m \u001b[38;5;28;01mwith\u001b[39;00m Trace(\n\u001b[32m     98\u001b[39m     \u001b[33m\"\u001b[39m\u001b[33mreceive_response_headers\u001b[39m\u001b[33m\"\u001b[39m, logger, request, kwargs\n\u001b[32m     99\u001b[39m ) \u001b[38;5;28;01mas\u001b[39;00m trace:\n\u001b[32m    100\u001b[39m     (\n\u001b[32m    101\u001b[39m         http_version,\n\u001b[32m    102\u001b[39m         status,\n\u001b[32m    103\u001b[39m         reason_phrase,\n\u001b[32m    104\u001b[39m         headers,\n\u001b[32m    105\u001b[39m         trailing_data,\n\u001b[32m--> \u001b[39m\u001b[32m106\u001b[39m     ) = \u001b[38;5;28;43mself\u001b[39;49m\u001b[43m.\u001b[49m\u001b[43m_receive_response_headers\u001b[49m\u001b[43m(\u001b[49m\u001b[43m*\u001b[49m\u001b[43m*\u001b[49m\u001b[43mkwargs\u001b[49m\u001b[43m)\u001b[49m\n\u001b[32m    107\u001b[39m     trace.return_value = (\n\u001b[32m    108\u001b[39m         http_version,\n\u001b[32m    109\u001b[39m         status,\n\u001b[32m    110\u001b[39m         reason_phrase,\n\u001b[32m    111\u001b[39m         headers,\n\u001b[32m    112\u001b[39m     )\n\u001b[32m    114\u001b[39m network_stream = \u001b[38;5;28mself\u001b[39m._network_stream\n",
      "\u001b[36mFile \u001b[39m\u001b[32m~/Library/Caches/pypoetry/virtualenvs/research-paper-9dnSQuhV-py3.12/lib/python3.12/site-packages/httpcore/_sync/http11.py:177\u001b[39m, in \u001b[36mHTTP11Connection._receive_response_headers\u001b[39m\u001b[34m(self, request)\u001b[39m\n\u001b[32m    174\u001b[39m timeout = timeouts.get(\u001b[33m\"\u001b[39m\u001b[33mread\u001b[39m\u001b[33m\"\u001b[39m, \u001b[38;5;28;01mNone\u001b[39;00m)\n\u001b[32m    176\u001b[39m \u001b[38;5;28;01mwhile\u001b[39;00m \u001b[38;5;28;01mTrue\u001b[39;00m:\n\u001b[32m--> \u001b[39m\u001b[32m177\u001b[39m     event = \u001b[38;5;28;43mself\u001b[39;49m\u001b[43m.\u001b[49m\u001b[43m_receive_event\u001b[49m\u001b[43m(\u001b[49m\u001b[43mtimeout\u001b[49m\u001b[43m=\u001b[49m\u001b[43mtimeout\u001b[49m\u001b[43m)\u001b[49m\n\u001b[32m    178\u001b[39m     \u001b[38;5;28;01mif\u001b[39;00m \u001b[38;5;28misinstance\u001b[39m(event, h11.Response):\n\u001b[32m    179\u001b[39m         \u001b[38;5;28;01mbreak\u001b[39;00m\n",
      "\u001b[36mFile \u001b[39m\u001b[32m~/Library/Caches/pypoetry/virtualenvs/research-paper-9dnSQuhV-py3.12/lib/python3.12/site-packages/httpcore/_sync/http11.py:217\u001b[39m, in \u001b[36mHTTP11Connection._receive_event\u001b[39m\u001b[34m(self, timeout)\u001b[39m\n\u001b[32m    214\u001b[39m     event = \u001b[38;5;28mself\u001b[39m._h11_state.next_event()\n\u001b[32m    216\u001b[39m \u001b[38;5;28;01mif\u001b[39;00m event \u001b[38;5;129;01mis\u001b[39;00m h11.NEED_DATA:\n\u001b[32m--> \u001b[39m\u001b[32m217\u001b[39m     data = \u001b[38;5;28;43mself\u001b[39;49m\u001b[43m.\u001b[49m\u001b[43m_network_stream\u001b[49m\u001b[43m.\u001b[49m\u001b[43mread\u001b[49m\u001b[43m(\u001b[49m\n\u001b[32m    218\u001b[39m \u001b[43m        \u001b[49m\u001b[38;5;28;43mself\u001b[39;49m\u001b[43m.\u001b[49m\u001b[43mREAD_NUM_BYTES\u001b[49m\u001b[43m,\u001b[49m\u001b[43m \u001b[49m\u001b[43mtimeout\u001b[49m\u001b[43m=\u001b[49m\u001b[43mtimeout\u001b[49m\n\u001b[32m    219\u001b[39m \u001b[43m    \u001b[49m\u001b[43m)\u001b[49m\n\u001b[32m    221\u001b[39m     \u001b[38;5;66;03m# If we feed this case through h11 we'll raise an exception like:\u001b[39;00m\n\u001b[32m    222\u001b[39m     \u001b[38;5;66;03m#\u001b[39;00m\n\u001b[32m    223\u001b[39m     \u001b[38;5;66;03m#     httpcore.RemoteProtocolError: can't handle event type\u001b[39;00m\n\u001b[32m   (...)\u001b[39m\u001b[32m    227\u001b[39m     \u001b[38;5;66;03m# perspective. Instead we handle this case distinctly and treat\u001b[39;00m\n\u001b[32m    228\u001b[39m     \u001b[38;5;66;03m# it as a ConnectError.\u001b[39;00m\n\u001b[32m    229\u001b[39m     \u001b[38;5;28;01mif\u001b[39;00m data == \u001b[33mb\u001b[39m\u001b[33m\"\u001b[39m\u001b[33m\"\u001b[39m \u001b[38;5;129;01mand\u001b[39;00m \u001b[38;5;28mself\u001b[39m._h11_state.their_state == h11.SEND_RESPONSE:\n",
      "\u001b[36mFile \u001b[39m\u001b[32m~/Library/Caches/pypoetry/virtualenvs/research-paper-9dnSQuhV-py3.12/lib/python3.12/site-packages/httpcore/_backends/sync.py:128\u001b[39m, in \u001b[36mSyncStream.read\u001b[39m\u001b[34m(self, max_bytes, timeout)\u001b[39m\n\u001b[32m    126\u001b[39m \u001b[38;5;28;01mwith\u001b[39;00m map_exceptions(exc_map):\n\u001b[32m    127\u001b[39m     \u001b[38;5;28mself\u001b[39m._sock.settimeout(timeout)\n\u001b[32m--> \u001b[39m\u001b[32m128\u001b[39m     \u001b[38;5;28;01mreturn\u001b[39;00m \u001b[38;5;28;43mself\u001b[39;49m\u001b[43m.\u001b[49m\u001b[43m_sock\u001b[49m\u001b[43m.\u001b[49m\u001b[43mrecv\u001b[49m\u001b[43m(\u001b[49m\u001b[43mmax_bytes\u001b[49m\u001b[43m)\u001b[49m\n",
      "\u001b[36mFile \u001b[39m\u001b[32m~/.pyenv/versions/3.12.3/lib/python3.12/ssl.py:1233\u001b[39m, in \u001b[36mSSLSocket.recv\u001b[39m\u001b[34m(self, buflen, flags)\u001b[39m\n\u001b[32m   1229\u001b[39m     \u001b[38;5;28;01mif\u001b[39;00m flags != \u001b[32m0\u001b[39m:\n\u001b[32m   1230\u001b[39m         \u001b[38;5;28;01mraise\u001b[39;00m \u001b[38;5;167;01mValueError\u001b[39;00m(\n\u001b[32m   1231\u001b[39m             \u001b[33m\"\u001b[39m\u001b[33mnon-zero flags not allowed in calls to recv() on \u001b[39m\u001b[38;5;132;01m%s\u001b[39;00m\u001b[33m\"\u001b[39m %\n\u001b[32m   1232\u001b[39m             \u001b[38;5;28mself\u001b[39m.\u001b[34m__class__\u001b[39m)\n\u001b[32m-> \u001b[39m\u001b[32m1233\u001b[39m     \u001b[38;5;28;01mreturn\u001b[39;00m \u001b[38;5;28;43mself\u001b[39;49m\u001b[43m.\u001b[49m\u001b[43mread\u001b[49m\u001b[43m(\u001b[49m\u001b[43mbuflen\u001b[49m\u001b[43m)\u001b[49m\n\u001b[32m   1234\u001b[39m \u001b[38;5;28;01melse\u001b[39;00m:\n\u001b[32m   1235\u001b[39m     \u001b[38;5;28;01mreturn\u001b[39;00m \u001b[38;5;28msuper\u001b[39m().recv(buflen, flags)\n",
      "\u001b[36mFile \u001b[39m\u001b[32m~/.pyenv/versions/3.12.3/lib/python3.12/ssl.py:1106\u001b[39m, in \u001b[36mSSLSocket.read\u001b[39m\u001b[34m(self, len, buffer)\u001b[39m\n\u001b[32m   1104\u001b[39m         \u001b[38;5;28;01mreturn\u001b[39;00m \u001b[38;5;28mself\u001b[39m._sslobj.read(\u001b[38;5;28mlen\u001b[39m, buffer)\n\u001b[32m   1105\u001b[39m     \u001b[38;5;28;01melse\u001b[39;00m:\n\u001b[32m-> \u001b[39m\u001b[32m1106\u001b[39m         \u001b[38;5;28;01mreturn\u001b[39;00m \u001b[38;5;28;43mself\u001b[39;49m\u001b[43m.\u001b[49m\u001b[43m_sslobj\u001b[49m\u001b[43m.\u001b[49m\u001b[43mread\u001b[49m\u001b[43m(\u001b[49m\u001b[38;5;28;43mlen\u001b[39;49m\u001b[43m)\u001b[49m\n\u001b[32m   1107\u001b[39m \u001b[38;5;28;01mexcept\u001b[39;00m SSLError \u001b[38;5;28;01mas\u001b[39;00m x:\n\u001b[32m   1108\u001b[39m     \u001b[38;5;28;01mif\u001b[39;00m x.args[\u001b[32m0\u001b[39m] == SSL_ERROR_EOF \u001b[38;5;129;01mand\u001b[39;00m \u001b[38;5;28mself\u001b[39m.suppress_ragged_eofs:\n",
      "\u001b[31mKeyboardInterrupt\u001b[39m: "
     ]
    }
   ],
   "source": [
    "fos_df = add_figure_counts_to_df_batched(texts, text_column=\"Cleaned_Text\", batch_size=10)"
   ]
  },
  {
   "cell_type": "code",
   "execution_count": null,
   "id": "2b6e9dd1",
   "metadata": {},
   "outputs": [
    {
     "data": {
      "text/html": [
       "<div>\n",
       "<style scoped>\n",
       "    .dataframe tbody tr th:only-of-type {\n",
       "        vertical-align: middle;\n",
       "    }\n",
       "\n",
       "    .dataframe tbody tr th {\n",
       "        vertical-align: top;\n",
       "    }\n",
       "\n",
       "    .dataframe thead th {\n",
       "        text-align: right;\n",
       "    }\n",
       "</style>\n",
       "<table border=\"1\" class=\"dataframe\">\n",
       "  <thead>\n",
       "    <tr style=\"text-align: right;\">\n",
       "      <th></th>\n",
       "      <th>Author</th>\n",
       "      <th>Title</th>\n",
       "      <th>URL</th>\n",
       "      <th>Excerpt_ID</th>\n",
       "      <th>Excerpt_Text</th>\n",
       "      <th>Cleaned_Text</th>\n",
       "      <th>Tokens</th>\n",
       "      <th>fig_Comparaison</th>\n",
       "      <th>fig_Métaphore</th>\n",
       "      <th>fig_Personnification</th>\n",
       "      <th>fig_Hyperbole</th>\n",
       "      <th>fig_Litote</th>\n",
       "      <th>fig_Antithèse</th>\n",
       "      <th>fig_Oxymore</th>\n",
       "      <th>fig_Répétition</th>\n",
       "      <th>fig_Énumération</th>\n",
       "      <th>fig_Euphémisme</th>\n",
       "    </tr>\n",
       "  </thead>\n",
       "  <tbody>\n",
       "    <tr>\n",
       "      <th>0</th>\n",
       "      <td>George Sand</td>\n",
       "      <td>Le péché de Monsieur Antoine, Tome 1</td>\n",
       "      <td>https://www.gutenberg.org/ebooks/12367</td>\n",
       "      <td>12367_21</td>\n",
       "      <td>«--Hé! hé! monsieur Antoine; voulez-vous venir...</td>\n",
       "      <td>\"--hé! hé! monsieur antoine; voulez-vous venir...</td>\n",
       "      <td>[``, --, hé, !, hé, !, monsieur, antoine, ;, v...</td>\n",
       "      <td>5</td>\n",
       "      <td>2</td>\n",
       "      <td>0</td>\n",
       "      <td>1</td>\n",
       "      <td>4</td>\n",
       "      <td>0</td>\n",
       "      <td>0</td>\n",
       "      <td>2</td>\n",
       "      <td>12</td>\n",
       "      <td>0</td>\n",
       "    </tr>\n",
       "  </tbody>\n",
       "</table>\n",
       "</div>"
      ],
      "text/plain": [
       "        Author                                 Title  \\\n",
       "0  George Sand  Le péché de Monsieur Antoine, Tome 1   \n",
       "\n",
       "                                      URL Excerpt_ID  \\\n",
       "0  https://www.gutenberg.org/ebooks/12367   12367_21   \n",
       "\n",
       "                                        Excerpt_Text  \\\n",
       "0  «--Hé! hé! monsieur Antoine; voulez-vous venir...   \n",
       "\n",
       "                                        Cleaned_Text  \\\n",
       "0  \"--hé! hé! monsieur antoine; voulez-vous venir...   \n",
       "\n",
       "                                              Tokens  fig_Comparaison  \\\n",
       "0  [``, --, hé, !, hé, !, monsieur, antoine, ;, v...                5   \n",
       "\n",
       "   fig_Métaphore  fig_Personnification  fig_Hyperbole  fig_Litote  \\\n",
       "0              2                     0              1           4   \n",
       "\n",
       "   fig_Antithèse  fig_Oxymore  fig_Répétition  fig_Énumération  fig_Euphémisme  \n",
       "0              0            0               2               12               0  "
      ]
     },
     "execution_count": 72,
     "metadata": {},
     "output_type": "execute_result"
    }
   ],
   "source": [
    "fos_df.head()"
   ]
  },
  {
   "cell_type": "code",
   "execution_count": null,
   "id": "ef21ab46",
   "metadata": {},
   "outputs": [
    {
     "name": "stdout",
     "output_type": "stream",
     "text": [
      "<class 'pandas.core.frame.DataFrame'>\n",
      "Index: 1 entries, 0 to 0\n",
      "Data columns (total 10 columns):\n",
      " #   Column                Non-Null Count  Dtype\n",
      "---  ------                --------------  -----\n",
      " 0   fig_Comparaison       1 non-null      int64\n",
      " 1   fig_Métaphore         1 non-null      int64\n",
      " 2   fig_Personnification  1 non-null      int64\n",
      " 3   fig_Hyperbole         1 non-null      int64\n",
      " 4   fig_Litote            1 non-null      int64\n",
      " 5   fig_Antithèse         1 non-null      int64\n",
      " 6   fig_Oxymore           1 non-null      int64\n",
      " 7   fig_Répétition        1 non-null      int64\n",
      " 8   fig_Énumération       1 non-null      int64\n",
      " 9   fig_Euphémisme        1 non-null      int64\n",
      "dtypes: int64(10)\n",
      "memory usage: 88.0 bytes\n"
     ]
    }
   ],
   "source": [
    "fos_df.filter(like=\"fig_\").info()"
   ]
  },
  {
   "cell_type": "code",
   "execution_count": null,
   "id": "54a31ab4",
   "metadata": {},
   "outputs": [
    {
     "data": {
      "text/html": [
       "<div>\n",
       "<style scoped>\n",
       "    .dataframe tbody tr th:only-of-type {\n",
       "        vertical-align: middle;\n",
       "    }\n",
       "\n",
       "    .dataframe tbody tr th {\n",
       "        vertical-align: top;\n",
       "    }\n",
       "\n",
       "    .dataframe thead th {\n",
       "        text-align: right;\n",
       "    }\n",
       "</style>\n",
       "<table border=\"1\" class=\"dataframe\">\n",
       "  <thead>\n",
       "    <tr style=\"text-align: right;\">\n",
       "      <th></th>\n",
       "      <th>fig_Comparaison</th>\n",
       "      <th>fig_Métaphore</th>\n",
       "      <th>fig_Personnification</th>\n",
       "      <th>fig_Hyperbole</th>\n",
       "      <th>fig_Litote</th>\n",
       "      <th>fig_Antithèse</th>\n",
       "      <th>fig_Oxymore</th>\n",
       "      <th>fig_Répétition</th>\n",
       "      <th>fig_Énumération</th>\n",
       "      <th>fig_Euphémisme</th>\n",
       "    </tr>\n",
       "  </thead>\n",
       "  <tbody>\n",
       "    <tr>\n",
       "      <th>count</th>\n",
       "      <td>1.0</td>\n",
       "      <td>1.0</td>\n",
       "      <td>1.0</td>\n",
       "      <td>1.0</td>\n",
       "      <td>1.0</td>\n",
       "      <td>1.0</td>\n",
       "      <td>1.0</td>\n",
       "      <td>1.0</td>\n",
       "      <td>1.0</td>\n",
       "      <td>1.0</td>\n",
       "    </tr>\n",
       "    <tr>\n",
       "      <th>mean</th>\n",
       "      <td>5.0</td>\n",
       "      <td>2.0</td>\n",
       "      <td>0.0</td>\n",
       "      <td>1.0</td>\n",
       "      <td>4.0</td>\n",
       "      <td>0.0</td>\n",
       "      <td>0.0</td>\n",
       "      <td>2.0</td>\n",
       "      <td>12.0</td>\n",
       "      <td>0.0</td>\n",
       "    </tr>\n",
       "    <tr>\n",
       "      <th>std</th>\n",
       "      <td>NaN</td>\n",
       "      <td>NaN</td>\n",
       "      <td>NaN</td>\n",
       "      <td>NaN</td>\n",
       "      <td>NaN</td>\n",
       "      <td>NaN</td>\n",
       "      <td>NaN</td>\n",
       "      <td>NaN</td>\n",
       "      <td>NaN</td>\n",
       "      <td>NaN</td>\n",
       "    </tr>\n",
       "    <tr>\n",
       "      <th>min</th>\n",
       "      <td>5.0</td>\n",
       "      <td>2.0</td>\n",
       "      <td>0.0</td>\n",
       "      <td>1.0</td>\n",
       "      <td>4.0</td>\n",
       "      <td>0.0</td>\n",
       "      <td>0.0</td>\n",
       "      <td>2.0</td>\n",
       "      <td>12.0</td>\n",
       "      <td>0.0</td>\n",
       "    </tr>\n",
       "    <tr>\n",
       "      <th>25%</th>\n",
       "      <td>5.0</td>\n",
       "      <td>2.0</td>\n",
       "      <td>0.0</td>\n",
       "      <td>1.0</td>\n",
       "      <td>4.0</td>\n",
       "      <td>0.0</td>\n",
       "      <td>0.0</td>\n",
       "      <td>2.0</td>\n",
       "      <td>12.0</td>\n",
       "      <td>0.0</td>\n",
       "    </tr>\n",
       "    <tr>\n",
       "      <th>50%</th>\n",
       "      <td>5.0</td>\n",
       "      <td>2.0</td>\n",
       "      <td>0.0</td>\n",
       "      <td>1.0</td>\n",
       "      <td>4.0</td>\n",
       "      <td>0.0</td>\n",
       "      <td>0.0</td>\n",
       "      <td>2.0</td>\n",
       "      <td>12.0</td>\n",
       "      <td>0.0</td>\n",
       "    </tr>\n",
       "    <tr>\n",
       "      <th>75%</th>\n",
       "      <td>5.0</td>\n",
       "      <td>2.0</td>\n",
       "      <td>0.0</td>\n",
       "      <td>1.0</td>\n",
       "      <td>4.0</td>\n",
       "      <td>0.0</td>\n",
       "      <td>0.0</td>\n",
       "      <td>2.0</td>\n",
       "      <td>12.0</td>\n",
       "      <td>0.0</td>\n",
       "    </tr>\n",
       "    <tr>\n",
       "      <th>max</th>\n",
       "      <td>5.0</td>\n",
       "      <td>2.0</td>\n",
       "      <td>0.0</td>\n",
       "      <td>1.0</td>\n",
       "      <td>4.0</td>\n",
       "      <td>0.0</td>\n",
       "      <td>0.0</td>\n",
       "      <td>2.0</td>\n",
       "      <td>12.0</td>\n",
       "      <td>0.0</td>\n",
       "    </tr>\n",
       "  </tbody>\n",
       "</table>\n",
       "</div>"
      ],
      "text/plain": [
       "       fig_Comparaison  fig_Métaphore  fig_Personnification  fig_Hyperbole  \\\n",
       "count              1.0            1.0                   1.0            1.0   \n",
       "mean               5.0            2.0                   0.0            1.0   \n",
       "std                NaN            NaN                   NaN            NaN   \n",
       "min                5.0            2.0                   0.0            1.0   \n",
       "25%                5.0            2.0                   0.0            1.0   \n",
       "50%                5.0            2.0                   0.0            1.0   \n",
       "75%                5.0            2.0                   0.0            1.0   \n",
       "max                5.0            2.0                   0.0            1.0   \n",
       "\n",
       "       fig_Litote  fig_Antithèse  fig_Oxymore  fig_Répétition  \\\n",
       "count         1.0            1.0          1.0             1.0   \n",
       "mean          4.0            0.0          0.0             2.0   \n",
       "std           NaN            NaN          NaN             NaN   \n",
       "min           4.0            0.0          0.0             2.0   \n",
       "25%           4.0            0.0          0.0             2.0   \n",
       "50%           4.0            0.0          0.0             2.0   \n",
       "75%           4.0            0.0          0.0             2.0   \n",
       "max           4.0            0.0          0.0             2.0   \n",
       "\n",
       "       fig_Énumération  fig_Euphémisme  \n",
       "count              1.0             1.0  \n",
       "mean              12.0             0.0  \n",
       "std                NaN             NaN  \n",
       "min               12.0             0.0  \n",
       "25%               12.0             0.0  \n",
       "50%               12.0             0.0  \n",
       "75%               12.0             0.0  \n",
       "max               12.0             0.0  "
      ]
     },
     "execution_count": 76,
     "metadata": {},
     "output_type": "execute_result"
    }
   ],
   "source": [
    "fos_df.filter(like=\"fig_\").describe()"
   ]
  },
  {
   "cell_type": "markdown",
   "id": "79497473",
   "metadata": {},
   "source": [
    "## Final DF"
   ]
  },
  {
   "cell_type": "code",
   "execution_count": null,
   "id": "b51cfc4c",
   "metadata": {},
   "outputs": [
    {
     "name": "stdout",
     "output_type": "stream",
     "text": [
      "<class 'pandas.core.frame.DataFrame'>\n",
      "RangeIndex: 3858 entries, 0 to 3857\n",
      "Columns: 223 entries, Author to lex_MarkerCount\n",
      "dtypes: float64(203), int64(13), object(7)\n",
      "memory usage: 6.6+ MB\n"
     ]
    }
   ],
   "source": [
    "texts.info()"
   ]
  },
  {
   "cell_type": "code",
   "execution_count": null,
   "id": "977a4b34",
   "metadata": {},
   "outputs": [
    {
     "name": "stdout",
     "output_type": "stream",
     "text": [
      "Shape: (3858, 223)\n",
      "float64    203\n",
      "int64       13\n",
      "object       7\n",
      "Name: count, dtype: int64\n",
      "Missing values total: 0\n",
      "0.0 % of total values are missing\n"
     ]
    }
   ],
   "source": [
    "# Taille du dataset\n",
    "print(\"Shape:\", texts.shape)\n",
    "\n",
    "# Types de données\n",
    "print(texts.dtypes.value_counts())\n",
    "\n",
    "# Nombre total de valeurs manquantes\n",
    "print(\"Missing values total:\", texts.isna().sum().sum())\n",
    "\n",
    "print(texts.isna().sum().sum() / (texts.shape[0] * texts.shape[1]) * 100, \"% of total values are missing\")\n"
   ]
  },
  {
   "cell_type": "code",
   "execution_count": null,
   "id": "b0e84805",
   "metadata": {},
   "outputs": [
    {
     "name": "stdout",
     "output_type": "stream",
     "text": [
      "New shape after column filtering: (3858, 217)\n",
      "Total remaining NaNs: 0\n"
     ]
    }
   ],
   "source": [
    "# Étape 1 : Ne garder que les features + la colonne \"Author\"\n",
    "# On supprime tout sauf \"Author\" et les colonnes de type numérique (features)\n",
    "cols_to_keep = ['Author'] + [col for col in texts.columns if col not in ['Title', 'URL', 'Excerpt_ID', 'Excerpt_Text', 'Cleaned_Text', 'Tokens'] and col != 'Author']\n",
    "texts = texts[cols_to_keep]\n",
    "\n",
    "# Vérification\n",
    "print(\"New shape after column filtering:\", texts.shape)\n",
    "\n",
    "# Étape 2 : Remplir les NaN par la moyenne PAR CLASSE (par 'Author')\n",
    "# Cela suppose que toutes les colonnes sauf 'Author' sont numériques\n",
    "feature_cols = [col for col in texts.columns if col != 'Author']\n",
    "\n",
    "# On remplit les NaN par la moyenne des valeurs pour chaque auteur\n",
    "texts[feature_cols] = texts.groupby('Author')[feature_cols].transform(lambda x: x.fillna(x.mean()))\n",
    "\n",
    "# Vérification post-traitement\n",
    "print(\"Total remaining NaNs:\", texts.isna().sum().sum())\n"
   ]
  },
  {
   "cell_type": "code",
   "execution_count": null,
   "id": "cc819cb1",
   "metadata": {},
   "outputs": [
    {
     "name": "stdout",
     "output_type": "stream",
     "text": [
      "Nombre de colonnes entièrement nulles ou égales à zéro : 9\n",
      "Shape finale du dataset : (3858, 208)\n"
     ]
    }
   ],
   "source": [
    "# Étape 1 : supprimer les colonnes avec uniquement des NaN\n",
    "nan_cols = texts.columns[texts.isna().all()].tolist()\n",
    "print(\"Colonnes supprimées car entièrement nulles (NaN) :\")\n",
    "print(nan_cols)\n",
    "texts = texts.dropna(axis=1, how='all')\n",
    "\n",
    "# Étape 2 : supprimer les colonnes avec uniquement des zéros (sauf colonne 'Author')\n",
    "feature_cols = [col for col in texts.columns if col != 'Author']\n",
    "zero_cols = [col for col in feature_cols if (texts[col] == 0).all()]\n",
    "\n",
    "print(f\"Nombre de colonnes entièrement nulles ou égales à zéro : {len(zero_cols)}\")\n",
    "print(\"Colonnes supprimées car uniquement constituées de zéros :\")\n",
    "print(zero_cols)\n",
    "\n",
    "# Drop them\n",
    "texts.drop(columns=zero_cols, inplace=True)\n",
    "\n",
    "# Vérification\n",
    "print(\"Shape finale du dataset :\", texts.shape)\n"
   ]
  },
  {
   "cell_type": "code",
   "execution_count": null,
   "id": "b521d158",
   "metadata": {},
   "outputs": [],
   "source": [
    "texts.to_parquet(\"../Data/stylo_embedds.parquet\", index=False)"
   ]
  },
  {
   "cell_type": "code",
   "execution_count": null,
   "id": "31a36d7a",
   "metadata": {},
   "outputs": [
    {
     "name": "stdout",
     "output_type": "stream",
     "text": [
      "0\n",
      "fw       149\n",
      "POS       11\n",
      "sent       9\n",
      "lex        8\n",
      "syn        8\n",
      "pun        6\n",
      "tense      6\n",
      "gfw        5\n",
      "dep        5\n",
      "autre      1\n",
      "Name: count, dtype: int64\n",
      "['Author', 'lex_WordCount', 'gfw_article', 'gfw_preposition', 'gfw_pronoun', 'gfw_conjunction', 'gfw_auxiliary', 'POS_NOUN', 'POS_VERB', 'POS_AUX', 'POS_ADJ', 'POS_ADV', 'POS_PRON', 'POS_DET', 'POS_ADP', 'POS_CCONJ', 'POS_SCONJ', 'POS_INTJ', 'lex_TTR', 'lex_Hapax_Ratio', 'lex_AvgWordLen', 'lex_YuleK', 'lex_SimpsonD', 'lex_Entropy', 'syn_Complexity', 'syn_NomVerbRatio', 'syn_AdjNounRatio', 'syn_AdvVerbRatio', 'syn_AlternanceRate', 'pun_Period_Count', 'pun_Comma_Count', 'pun_Semicolon_Count', 'pun_QuestionMark_Count', 'pun_ExclamationMark_Count', 'pun_Colon_Count', 'dep_advcl', 'dep_acl', 'dep_ccomp', 'dep_xcomp', 'dep_mark', 'sent_Count', 'sent_AvgLength', 'sent_MinLength', 'sent_MaxLength', 'sent_StdLength', 'sent_PassiveRatio', 'sent_Interrogative', 'sent_Exclamative', 'sent_Exclamative_INTJ', 'tense_pres_ind', 'tense_past_ind', 'tense_imp_ind', 'tense_cond', 'tense_subj', 'tense_inf', 'syn_CoordCount', 'syn_SubordCount', 'syn_SubCoordRatio', 'lex_MarkerCount']\n"
     ]
    }
   ],
   "source": [
    "# Extraire les préfixes avant le premier underscore\n",
    "prefixes = texts.columns.str.extract(r'^([^_]+)_')[0]\n",
    "\n",
    "# Remplacer les NaN (pas de préfixe) par \"autre\"\n",
    "prefixes = prefixes.fillna(\"autre\")\n",
    "\n",
    "# Compter les occurrences de chaque préfixe (ou \"autre\")\n",
    "prefix_counts = prefixes.value_counts()\n",
    "\n",
    "print(prefix_counts)\n",
    "\n",
    "# Filtrer les colonnes qui ne commencent PAS par \"fw_\"\n",
    "non_fw_columns = [col for col in texts.columns if not col.startswith('fw_')]\n",
    "\n",
    "# Afficher la liste\n",
    "print(non_fw_columns)"
   ]
  },
  {
   "cell_type": "code",
   "execution_count": null,
   "id": "0646dedb",
   "metadata": {},
   "outputs": [
    {
     "data": {
      "image/png": "[encoded data removed]",
      "text/plain": [
       "<Figure size 1000x800 with 1 Axes>"
      ]
     },
     "metadata": {},
     "output_type": "display_data"
    }
   ],
   "source": [
    "from sklearn.decomposition import PCA\n",
    "import matplotlib.pyplot as plt\n",
    "\n",
    "df = texts.copy()\n",
    "\n",
    "# Supposons df est ton DataFrame\n",
    "X = df.drop(columns=[\"Author\"])\n",
    "y = df[\"Author\"]\n",
    "\n",
    "# Réduction à 2 dimensions avec PCA\n",
    "pca = PCA(n_components=2)\n",
    "X_pca = pca.fit_transform(X)\n",
    "\n",
    "# Créer un DataFrame avec les coordonnées PCA et l'auteur\n",
    "df_pca = pd.DataFrame(X_pca, columns=[\"PC1\", \"PC2\"])\n",
    "df_pca[\"Author\"] = y\n",
    "\n",
    "# Moyenne des livres par auteur\n",
    "author_centroids = df_pca.groupby(\"Author\")[[\"PC1\", \"PC2\"]].mean().reset_index()\n",
    "\n",
    "# Affichage\n",
    "plt.figure(figsize=(10, 8))\n",
    "plt.scatter(author_centroids[\"PC1\"], author_centroids[\"PC2\"])\n",
    "\n",
    "for _, row in author_centroids.iterrows():\n",
    "    plt.text(row[\"PC1\"], row[\"PC2\"], row[\"Author\"], fontsize=9)\n",
    "\n",
    "plt.title(\"Projection 2D des auteurs (via PCA + moyenne)\")\n",
    "plt.xlabel(\"PC1\")\n",
    "plt.ylabel(\"PC2\")\n",
    "plt.grid(True)\n",
    "plt.show()"
   ]
  },
  {
   "cell_type": "markdown",
   "id": "fc6febaa",
   "metadata": {},
   "source": [
    "## Final DF with Figure of Speech tagging"
   ]
  },
  {
   "cell_type": "code",
   "execution_count": null,
   "id": "e20ae309",
   "metadata": {},
   "outputs": [
    {
     "name": "stdout",
     "output_type": "stream",
     "text": [
      "<class 'pandas.core.frame.DataFrame'>\n",
      "Index: 1 entries, 0 to 0\n",
      "Data columns (total 17 columns):\n",
      " #   Column                Non-Null Count  Dtype \n",
      "---  ------                --------------  ----- \n",
      " 0   Author                1 non-null      object\n",
      " 1   Title                 1 non-null      object\n",
      " 2   URL                   1 non-null      object\n",
      " 3   Excerpt_ID            1 non-null      object\n",
      " 4   Excerpt_Text          1 non-null      object\n",
      " 5   Cleaned_Text          1 non-null      object\n",
      " 6   Tokens                1 non-null      object\n",
      " 7   fig_Comparaison       1 non-null      int64 \n",
      " 8   fig_Métaphore         1 non-null      int64 \n",
      " 9   fig_Personnification  1 non-null      int64 \n",
      " 10  fig_Hyperbole         1 non-null      int64 \n",
      " 11  fig_Litote            1 non-null      int64 \n",
      " 12  fig_Antithèse         1 non-null      int64 \n",
      " 13  fig_Oxymore           1 non-null      int64 \n",
      " 14  fig_Répétition        1 non-null      int64 \n",
      " 15  fig_Énumération       1 non-null      int64 \n",
      " 16  fig_Euphémisme        1 non-null      int64 \n",
      "dtypes: int64(10), object(7)\n",
      "memory usage: 144.0+ bytes\n"
     ]
    }
   ],
   "source": [
    "fos_df.info()"
   ]
  },
  {
   "cell_type": "code",
   "execution_count": null,
   "id": "2017b82a",
   "metadata": {},
   "outputs": [
    {
     "name": "stdout",
     "output_type": "stream",
     "text": [
      "Shape: (1, 17)\n",
      "int64     10\n",
      "object     7\n",
      "Name: count, dtype: int64\n",
      "Missing values total: 0\n",
      "0.0 % of total values are missing\n"
     ]
    }
   ],
   "source": [
    "# Taille du dataset\n",
    "print(\"Shape:\", fos_df.shape)\n",
    "\n",
    "# Types de données\n",
    "print(fos_df.dtypes.value_counts())\n",
    "\n",
    "# Nombre total de valeurs manquantes\n",
    "print(\"Missing values total:\", fos_df.isna().sum().sum())\n",
    "\n",
    "print(fos_df.isna().sum().sum() / (fos_df.shape[0] * fos_df.shape[1]) * 100, \"% of total values are missing\")\n"
   ]
  },
  {
   "cell_type": "code",
   "execution_count": null,
   "id": "e847a762",
   "metadata": {},
   "outputs": [
    {
     "name": "stdout",
     "output_type": "stream",
     "text": [
      "New shape after column filtering: (3858, 217)\n",
      "Total remaining NaNs: 0\n"
     ]
    }
   ],
   "source": [
    "# Étape 1 : Ne garder que les features + la colonne \"Author\"\n",
    "# On supprime tout sauf \"Author\" et les colonnes de type numérique (features)\n",
    "cols_to_keep = ['Author'] + [col for col in fos_df.columns if col not in ['Title', 'URL', 'Excerpt_ID', 'Excerpt_Text', 'Cleaned_Text', 'Tokens'] and col != 'Author']\n",
    "fos_df = fos_df[cols_to_keep]\n",
    "\n",
    "# Vérification\n",
    "print(\"New shape after column filtering:\", fos_df.shape)\n",
    "\n",
    "# Étape 2 : Remplir les NaN par la moyenne PAR CLASSE (par 'Author')\n",
    "# Cela suppose que toutes les colonnes sauf 'Author' sont numériques\n",
    "feature_cols = [col for col in fos_df.columns if col != 'Author']\n",
    "\n",
    "# On remplit les NaN par la moyenne des valeurs pour chaque auteur\n",
    "fos_df[feature_cols] = fos_df.groupby('Author')[feature_cols].transform(lambda x: x.fillna(x.mean()))\n",
    "\n",
    "# Vérification post-traitement\n",
    "print(\"Total remaining NaNs:\", fos_df.isna().sum().sum())\n"
   ]
  },
  {
   "cell_type": "code",
   "execution_count": null,
   "id": "1fff4bf3",
   "metadata": {},
   "outputs": [
    {
     "name": "stdout",
     "output_type": "stream",
     "text": [
      "Nombre de colonnes entièrement nulles ou égales à zéro : 9\n",
      "Shape finale du dataset : (3858, 208)\n"
     ]
    }
   ],
   "source": [
    "# Étape 1 : supprimer les colonnes avec uniquement des NaN\n",
    "nan_cols = fos_df.columns[fos_df.isna().all()].tolist()\n",
    "print(\"Colonnes supprimées car entièrement nulles (NaN) :\")\n",
    "print(nan_cols)\n",
    "fos_df = fos_df.dropna(axis=1, how='all')\n",
    "\n",
    "# Étape 2 : supprimer les colonnes avec uniquement des zéros (sauf colonne 'Author')\n",
    "feature_cols = [col for col in fos_df.columns if col != 'Author']\n",
    "zero_cols = [col for col in feature_cols if (fos_df[col] == 0).all()]\n",
    "\n",
    "print(f\"Nombre de colonnes entièrement nulles ou égales à zéro : {len(zero_cols)}\")\n",
    "print(\"Colonnes supprimées car uniquement constituées de zéros :\")\n",
    "print(zero_cols)\n",
    "\n",
    "# Drop them\n",
    "fos_df.drop(columns=zero_cols, inplace=True)\n",
    "\n",
    "# Vérification\n",
    "print(\"Shape finale du dataset :\", fos_df.shape)\n"
   ]
  },
  {
   "cell_type": "code",
   "execution_count": null,
   "id": "2e959e69",
   "metadata": {},
   "outputs": [],
   "source": [
    "fos_df.to_parquet(\"../Data/stylo_embedds_with_fos.parquet\", index=False)"
   ]
  },
  {
   "cell_type": "code",
   "execution_count": null,
   "id": "e0132dfe",
   "metadata": {},
   "outputs": [
    {
     "name": "stdout",
     "output_type": "stream",
     "text": [
      "0\n",
      "fw       149\n",
      "POS       11\n",
      "sent       9\n",
      "lex        8\n",
      "syn        8\n",
      "pun        6\n",
      "tense      6\n",
      "gfw        5\n",
      "dep        5\n",
      "autre      1\n",
      "Name: count, dtype: int64\n",
      "['Author', 'lex_WordCount', 'gfw_article', 'gfw_preposition', 'gfw_pronoun', 'gfw_conjunction', 'gfw_auxiliary', 'POS_NOUN', 'POS_VERB', 'POS_AUX', 'POS_ADJ', 'POS_ADV', 'POS_PRON', 'POS_DET', 'POS_ADP', 'POS_CCONJ', 'POS_SCONJ', 'POS_INTJ', 'lex_TTR', 'lex_Hapax_Ratio', 'lex_AvgWordLen', 'lex_YuleK', 'lex_SimpsonD', 'lex_Entropy', 'syn_Complexity', 'syn_NomVerbRatio', 'syn_AdjNounRatio', 'syn_AdvVerbRatio', 'syn_AlternanceRate', 'pun_Period_Count', 'pun_Comma_Count', 'pun_Semicolon_Count', 'pun_QuestionMark_Count', 'pun_ExclamationMark_Count', 'pun_Colon_Count', 'dep_advcl', 'dep_acl', 'dep_ccomp', 'dep_xcomp', 'dep_mark', 'sent_Count', 'sent_AvgLength', 'sent_MinLength', 'sent_MaxLength', 'sent_StdLength', 'sent_PassiveRatio', 'sent_Interrogative', 'sent_Exclamative', 'sent_Exclamative_INTJ', 'tense_pres_ind', 'tense_past_ind', 'tense_imp_ind', 'tense_cond', 'tense_subj', 'tense_inf', 'syn_CoordCount', 'syn_SubordCount', 'syn_SubCoordRatio', 'lex_MarkerCount']\n"
     ]
    }
   ],
   "source": [
    "# Extraire les préfixes avant le premier underscore\n",
    "prefixes = fos_df.columns.str.extract(r'^([^_]+)_')[0]\n",
    "\n",
    "# Remplacer les NaN (pas de préfixe) par \"autre\"\n",
    "prefixes = prefixes.fillna(\"autre\")\n",
    "\n",
    "# Compter les occurrences de chaque préfixe (ou \"autre\")\n",
    "prefix_counts = prefixes.value_counts()\n",
    "\n",
    "print(prefix_counts)\n",
    "\n",
    "# Filtrer les colonnes qui ne commencent PAS par \"fw_\"\n",
    "non_fw_columns = [col for col in fos_df.columns if not col.startswith('fw_')]\n",
    "\n",
    "# Afficher la liste\n",
    "print(non_fw_columns)"
   ]
  },
  {
   "cell_type": "code",
   "execution_count": null,
   "id": "5b4c82fa",
   "metadata": {},
   "outputs": [
    {
     "data": {
      "image/png": "[encoded data removed]",
      "text/plain": [
       "<Figure size 1000x800 with 1 Axes>"
      ]
     },
     "metadata": {},
     "output_type": "display_data"
    }
   ],
   "source": [
    "from sklearn.decomposition import PCA\n",
    "import matplotlib.pyplot as plt\n",
    "\n",
    "df = fos_df.copy()\n",
    "\n",
    "# Supposons df est ton DataFrame\n",
    "X = df.drop(columns=[\"Author\"])\n",
    "y = df[\"Author\"]\n",
    "\n",
    "# Réduction à 2 dimensions avec PCA\n",
    "pca = PCA(n_components=2)\n",
    "X_pca = pca.fit_transform(X)\n",
    "\n",
    "# Créer un DataFrame avec les coordonnées PCA et l'auteur\n",
    "df_pca = pd.DataFrame(X_pca, columns=[\"PC1\", \"PC2\"])\n",
    "df_pca[\"Author\"] = y\n",
    "\n",
    "# Moyenne des livres par auteur\n",
    "author_centroids = df_pca.groupby(\"Author\")[[\"PC1\", \"PC2\"]].mean().reset_index()\n",
    "\n",
    "# Affichage\n",
    "plt.figure(figsize=(10, 8))\n",
    "plt.scatter(author_centroids[\"PC1\"], author_centroids[\"PC2\"])\n",
    "\n",
    "for _, row in author_centroids.iterrows():\n",
    "    plt.text(row[\"PC1\"], row[\"PC2\"], row[\"Author\"], fontsize=9)\n",
    "\n",
    "plt.title(\"Projection 2D des auteurs (via PCA + moyenne)\")\n",
    "plt.xlabel(\"PC1\")\n",
    "plt.ylabel(\"PC2\")\n",
    "plt.grid(True)\n",
    "plt.show()"
   ]
  }
 ],
 "metadata": {
  "kernelspec": {
   "display_name": "research-paper-9dnSQuhV-py3.12",
   "language": "python",
   "name": "python3"
  },
  "language_info": {
   "codemirror_mode": {
    "name": "ipython",
    "version": 3
   },
   "file_extension": ".py",
   "mimetype": "text/x-python",
   "name": "python",
   "nbconvert_exporter": "python",
   "pygments_lexer": "ipython3",
   "version": "3.12.3"
  }
 },
 "nbformat": 4,
 "nbformat_minor": 5
}
