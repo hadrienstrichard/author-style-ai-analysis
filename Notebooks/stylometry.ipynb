{
 "cells": [
  {
   "cell_type": "code",
   "execution_count": 52,
   "id": "86b9964c",
   "metadata": {},
   "outputs": [],
   "source": [
    "import pandas as pd\n",
    "import numpy as np\n",
    "import matplotlib.pyplot as plt\n",
    "import seaborn as sns\n",
    "\n",
    "import nltk\n",
    "from nltk.corpus import stopwords\n",
    "from nltk.tokenize import sent_tokenize\n",
    "import spacy\n",
    "\n",
    "from collections import Counter\n",
    "from collections import defaultdict\n",
    "\n",
    "import os\n",
    "from tqdm import tqdm\n",
    "import math\n",
    "from math import log2\n",
    "import re\n",
    "import json\n",
    "\n",
    "import openai\n",
    "from dotenv import load_dotenv\n",
    "from typing import List\n",
    "\n",
    "from sklearn.metrics import accuracy_score, f1_score, classification_report"
   ]
  },
  {
   "cell_type": "markdown",
   "id": "c9bb209f",
   "metadata": {},
   "source": [
    "## Load data and models"
   ]
  },
  {
   "cell_type": "markdown",
   "id": "78e904a5",
   "metadata": {},
   "source": [
    "Models"
   ]
  },
  {
   "cell_type": "code",
   "execution_count": 5,
   "id": "8f155e8e",
   "metadata": {},
   "outputs": [
    {
     "name": "stderr",
     "output_type": "stream",
     "text": [
      "[nltk_data] Downloading package stopwords to\n",
      "[nltk_data]     /Users/hadrienstrichard/nltk_data...\n",
      "[nltk_data]   Package stopwords is already up-to-date!\n"
     ]
    },
    {
     "data": {
      "text/plain": [
       "True"
      ]
     },
     "execution_count": 5,
     "metadata": {},
     "output_type": "execute_result"
    }
   ],
   "source": [
    "nltk.download('stopwords') "
   ]
  },
  {
   "cell_type": "code",
   "execution_count": 6,
   "id": "66619d47",
   "metadata": {},
   "outputs": [],
   "source": [
    "nlp_fr = spacy.load(\"fr_core_news_sm\") "
   ]
  },
  {
   "cell_type": "markdown",
   "id": "31b5d5d3",
   "metadata": {},
   "source": [
    "Data"
   ]
  },
  {
   "cell_type": "code",
   "execution_count": 7,
   "id": "35aa90c8",
   "metadata": {},
   "outputs": [
    {
     "data": {
      "text/html": [
       "<div>\n",
       "<style scoped>\n",
       "    .dataframe tbody tr th:only-of-type {\n",
       "        vertical-align: middle;\n",
       "    }\n",
       "\n",
       "    .dataframe tbody tr th {\n",
       "        vertical-align: top;\n",
       "    }\n",
       "\n",
       "    .dataframe thead th {\n",
       "        text-align: right;\n",
       "    }\n",
       "</style>\n",
       "<table border=\"1\" class=\"dataframe\">\n",
       "  <thead>\n",
       "    <tr style=\"text-align: right;\">\n",
       "      <th></th>\n",
       "      <th>Author</th>\n",
       "      <th>Title</th>\n",
       "      <th>URL</th>\n",
       "      <th>Excerpt_ID</th>\n",
       "      <th>Excerpt_Text</th>\n",
       "      <th>Cleaned_Text</th>\n",
       "      <th>Tokens</th>\n",
       "    </tr>\n",
       "  </thead>\n",
       "  <tbody>\n",
       "    <tr>\n",
       "      <th>0</th>\n",
       "      <td>George Sand</td>\n",
       "      <td>Le péché de Monsieur Antoine, Tome 1</td>\n",
       "      <td>https://www.gutenberg.org/ebooks/12367</td>\n",
       "      <td>12367_21</td>\n",
       "      <td>«--Hé! hé! monsieur Antoine; voulez-vous venir...</td>\n",
       "      <td>\"--hé! hé! monsieur antoine; voulez-vous venir...</td>\n",
       "      <td>[``, --, hé, !, hé, !, monsieur, antoine, ;, v...</td>\n",
       "    </tr>\n",
       "    <tr>\n",
       "      <th>1</th>\n",
       "      <td>George Sand</td>\n",
       "      <td>Le péché de Monsieur Antoine, Tome 1</td>\n",
       "      <td>https://www.gutenberg.org/ebooks/12367</td>\n",
       "      <td>12367_51</td>\n",
       "      <td>«Cette demoiselle est fort taquine, pensa-t-il...</td>\n",
       "      <td>\"cette demoiselle est fort taquine, pensa-t-il...</td>\n",
       "      <td>[``, cette, demoiselle, est, fort, taquine, ,,...</td>\n",
       "    </tr>\n",
       "    <tr>\n",
       "      <th>2</th>\n",
       "      <td>George Sand</td>\n",
       "      <td>Le péché de Monsieur Antoine, Tome 1</td>\n",
       "      <td>https://www.gutenberg.org/ebooks/12367</td>\n",
       "      <td>12367_50</td>\n",
       "      <td>Mais l'accent, mais le regard, trouvent dans l...</td>\n",
       "      <td>mais l'accent, mais le regard, trouvent dans l...</td>\n",
       "      <td>[mais, l'accent, ,, mais, le, regard, ,, trouv...</td>\n",
       "    </tr>\n",
       "    <tr>\n",
       "      <th>3</th>\n",
       "      <td>George Sand</td>\n",
       "      <td>Le péché de Monsieur Antoine, Tome 1</td>\n",
       "      <td>https://www.gutenberg.org/ebooks/12367</td>\n",
       "      <td>12367_14</td>\n",
       "      <td>--Qu'il s'en aille! et toi ... garde ta place,...</td>\n",
       "      <td>--qu'il s'en aille! et toi ... garde ta place,...</td>\n",
       "      <td>[--, qu'il, s'en, aille, !, et, toi, ..., gard...</td>\n",
       "    </tr>\n",
       "    <tr>\n",
       "      <th>4</th>\n",
       "      <td>George Sand</td>\n",
       "      <td>Pauline</td>\n",
       "      <td>https://www.gutenberg.org/ebooks/12447</td>\n",
       "      <td>12447_11</td>\n",
       "      <td>Mais, quoiqu'elle y mît de l'affection et de l...</td>\n",
       "      <td>mais, quoiqu'elle y mît de l'affection et de l...</td>\n",
       "      <td>[mais, ,, quoiqu'elle, y, mît, de, l'affection...</td>\n",
       "    </tr>\n",
       "  </tbody>\n",
       "</table>\n",
       "</div>"
      ],
      "text/plain": [
       "        Author                                 Title  \\\n",
       "0  George Sand  Le péché de Monsieur Antoine, Tome 1   \n",
       "1  George Sand  Le péché de Monsieur Antoine, Tome 1   \n",
       "2  George Sand  Le péché de Monsieur Antoine, Tome 1   \n",
       "3  George Sand  Le péché de Monsieur Antoine, Tome 1   \n",
       "4  George Sand                               Pauline   \n",
       "\n",
       "                                      URL Excerpt_ID  \\\n",
       "0  https://www.gutenberg.org/ebooks/12367   12367_21   \n",
       "1  https://www.gutenberg.org/ebooks/12367   12367_51   \n",
       "2  https://www.gutenberg.org/ebooks/12367   12367_50   \n",
       "3  https://www.gutenberg.org/ebooks/12367   12367_14   \n",
       "4  https://www.gutenberg.org/ebooks/12447   12447_11   \n",
       "\n",
       "                                        Excerpt_Text  \\\n",
       "0  «--Hé! hé! monsieur Antoine; voulez-vous venir...   \n",
       "1  «Cette demoiselle est fort taquine, pensa-t-il...   \n",
       "2  Mais l'accent, mais le regard, trouvent dans l...   \n",
       "3  --Qu'il s'en aille! et toi ... garde ta place,...   \n",
       "4  Mais, quoiqu'elle y mît de l'affection et de l...   \n",
       "\n",
       "                                        Cleaned_Text  \\\n",
       "0  \"--hé! hé! monsieur antoine; voulez-vous venir...   \n",
       "1  \"cette demoiselle est fort taquine, pensa-t-il...   \n",
       "2  mais l'accent, mais le regard, trouvent dans l...   \n",
       "3  --qu'il s'en aille! et toi ... garde ta place,...   \n",
       "4  mais, quoiqu'elle y mît de l'affection et de l...   \n",
       "\n",
       "                                              Tokens  \n",
       "0  [``, --, hé, !, hé, !, monsieur, antoine, ;, v...  \n",
       "1  [``, cette, demoiselle, est, fort, taquine, ,,...  \n",
       "2  [mais, l'accent, ,, mais, le, regard, ,, trouv...  \n",
       "3  [--, qu'il, s'en, aille, !, et, toi, ..., gard...  \n",
       "4  [mais, ,, quoiqu'elle, y, mît, de, l'affection...  "
      ]
     },
     "execution_count": 7,
     "metadata": {},
     "output_type": "execute_result"
    }
   ],
   "source": [
    "texts = pd.read_parquet('../Data/excerpts_processed.parquet')\n",
    "\n",
    "texts.head()"
   ]
  },
  {
   "cell_type": "code",
   "execution_count": 8,
   "id": "9cd8481d",
   "metadata": {},
   "outputs": [
    {
     "name": "stdout",
     "output_type": "stream",
     "text": [
      "<class 'pandas.core.frame.DataFrame'>\n",
      "RangeIndex: 3858 entries, 0 to 3857\n",
      "Data columns (total 7 columns):\n",
      " #   Column        Non-Null Count  Dtype \n",
      "---  ------        --------------  ----- \n",
      " 0   Author        3858 non-null   object\n",
      " 1   Title         3858 non-null   object\n",
      " 2   URL           3858 non-null   object\n",
      " 3   Excerpt_ID    3858 non-null   object\n",
      " 4   Excerpt_Text  3858 non-null   object\n",
      " 5   Cleaned_Text  3858 non-null   object\n",
      " 6   Tokens        3858 non-null   object\n",
      "dtypes: object(7)\n",
      "memory usage: 211.1+ KB\n"
     ]
    }
   ],
   "source": [
    "texts.info()"
   ]
  },
  {
   "cell_type": "markdown",
   "id": "b081f503",
   "metadata": {},
   "source": [
    "## Function words"
   ]
  },
  {
   "cell_type": "code",
   "execution_count": 9,
   "id": "5526b2c8",
   "metadata": {},
   "outputs": [
    {
     "name": "stdout",
     "output_type": "stream",
     "text": [
      "Number of French function words: 157\n",
      "Sample function words: ['étés', 'moi', 'étions', 'ont', 'auront', 'en', 'eusse', 'nous', 'auriez', 't']\n"
     ]
    }
   ],
   "source": [
    "# Load French function words (common stopwords in French) as our function word list.\n",
    "french_function_words = set(stopwords.words('french'))\n",
    "print(f\"Number of French function words: {len(french_function_words)}\")\n",
    "# Optionally, inspect a few function words\n",
    "print(\"Sample function words:\", list(french_function_words)[:10])"
   ]
  },
  {
   "cell_type": "code",
   "execution_count": 10,
   "id": "717aa38f",
   "metadata": {},
   "outputs": [],
   "source": [
    "# Define a set of punctuation marks we will consider for certain features.\n",
    "punct_set = {'.', ',', ';', '!', '?', ':', '-', '—', '(', ')', '[', ']', '{', '}', '\"', \"'\", '«', '»'}"
   ]
  },
  {
   "cell_type": "code",
   "execution_count": 11,
   "id": "7e3eb410",
   "metadata": {},
   "outputs": [
    {
     "name": "stderr",
     "output_type": "stream",
     "text": [
      "/var/folders/xn/v7b7dbbn6xg3hzr5h4395gbc0000gn/T/ipykernel_38266/3428490745.py:8: PerformanceWarning: DataFrame is highly fragmented.  This is usually the result of calling `frame.insert` many times, which has poor performance.  Consider joining all columns at once using pd.concat(axis=1) instead. To get a de-fragmented frame, use `newframe = frame.copy()`\n",
      "  texts[col_name] = texts.apply(\n",
      "/var/folders/xn/v7b7dbbn6xg3hzr5h4395gbc0000gn/T/ipykernel_38266/3428490745.py:8: PerformanceWarning: DataFrame is highly fragmented.  This is usually the result of calling `frame.insert` many times, which has poor performance.  Consider joining all columns at once using pd.concat(axis=1) instead. To get a de-fragmented frame, use `newframe = frame.copy()`\n",
      "  texts[col_name] = texts.apply(\n",
      "/var/folders/xn/v7b7dbbn6xg3hzr5h4395gbc0000gn/T/ipykernel_38266/3428490745.py:8: PerformanceWarning: DataFrame is highly fragmented.  This is usually the result of calling `frame.insert` many times, which has poor performance.  Consider joining all columns at once using pd.concat(axis=1) instead. To get a de-fragmented frame, use `newframe = frame.copy()`\n",
      "  texts[col_name] = texts.apply(\n",
      "/var/folders/xn/v7b7dbbn6xg3hzr5h4395gbc0000gn/T/ipykernel_38266/3428490745.py:8: PerformanceWarning: DataFrame is highly fragmented.  This is usually the result of calling `frame.insert` many times, which has poor performance.  Consider joining all columns at once using pd.concat(axis=1) instead. To get a de-fragmented frame, use `newframe = frame.copy()`\n",
      "  texts[col_name] = texts.apply(\n",
      "/var/folders/xn/v7b7dbbn6xg3hzr5h4395gbc0000gn/T/ipykernel_38266/3428490745.py:8: PerformanceWarning: DataFrame is highly fragmented.  This is usually the result of calling `frame.insert` many times, which has poor performance.  Consider joining all columns at once using pd.concat(axis=1) instead. To get a de-fragmented frame, use `newframe = frame.copy()`\n",
      "  texts[col_name] = texts.apply(\n",
      "/var/folders/xn/v7b7dbbn6xg3hzr5h4395gbc0000gn/T/ipykernel_38266/3428490745.py:8: PerformanceWarning: DataFrame is highly fragmented.  This is usually the result of calling `frame.insert` many times, which has poor performance.  Consider joining all columns at once using pd.concat(axis=1) instead. To get a de-fragmented frame, use `newframe = frame.copy()`\n",
      "  texts[col_name] = texts.apply(\n",
      "/var/folders/xn/v7b7dbbn6xg3hzr5h4395gbc0000gn/T/ipykernel_38266/3428490745.py:8: PerformanceWarning: DataFrame is highly fragmented.  This is usually the result of calling `frame.insert` many times, which has poor performance.  Consider joining all columns at once using pd.concat(axis=1) instead. To get a de-fragmented frame, use `newframe = frame.copy()`\n",
      "  texts[col_name] = texts.apply(\n",
      "/var/folders/xn/v7b7dbbn6xg3hzr5h4395gbc0000gn/T/ipykernel_38266/3428490745.py:8: PerformanceWarning: DataFrame is highly fragmented.  This is usually the result of calling `frame.insert` many times, which has poor performance.  Consider joining all columns at once using pd.concat(axis=1) instead. To get a de-fragmented frame, use `newframe = frame.copy()`\n",
      "  texts[col_name] = texts.apply(\n",
      "/var/folders/xn/v7b7dbbn6xg3hzr5h4395gbc0000gn/T/ipykernel_38266/3428490745.py:8: PerformanceWarning: DataFrame is highly fragmented.  This is usually the result of calling `frame.insert` many times, which has poor performance.  Consider joining all columns at once using pd.concat(axis=1) instead. To get a de-fragmented frame, use `newframe = frame.copy()`\n",
      "  texts[col_name] = texts.apply(\n",
      "/var/folders/xn/v7b7dbbn6xg3hzr5h4395gbc0000gn/T/ipykernel_38266/3428490745.py:8: PerformanceWarning: DataFrame is highly fragmented.  This is usually the result of calling `frame.insert` many times, which has poor performance.  Consider joining all columns at once using pd.concat(axis=1) instead. To get a de-fragmented frame, use `newframe = frame.copy()`\n",
      "  texts[col_name] = texts.apply(\n",
      "/var/folders/xn/v7b7dbbn6xg3hzr5h4395gbc0000gn/T/ipykernel_38266/3428490745.py:8: PerformanceWarning: DataFrame is highly fragmented.  This is usually the result of calling `frame.insert` many times, which has poor performance.  Consider joining all columns at once using pd.concat(axis=1) instead. To get a de-fragmented frame, use `newframe = frame.copy()`\n",
      "  texts[col_name] = texts.apply(\n",
      "/var/folders/xn/v7b7dbbn6xg3hzr5h4395gbc0000gn/T/ipykernel_38266/3428490745.py:8: PerformanceWarning: DataFrame is highly fragmented.  This is usually the result of calling `frame.insert` many times, which has poor performance.  Consider joining all columns at once using pd.concat(axis=1) instead. To get a de-fragmented frame, use `newframe = frame.copy()`\n",
      "  texts[col_name] = texts.apply(\n",
      "/var/folders/xn/v7b7dbbn6xg3hzr5h4395gbc0000gn/T/ipykernel_38266/3428490745.py:8: PerformanceWarning: DataFrame is highly fragmented.  This is usually the result of calling `frame.insert` many times, which has poor performance.  Consider joining all columns at once using pd.concat(axis=1) instead. To get a de-fragmented frame, use `newframe = frame.copy()`\n",
      "  texts[col_name] = texts.apply(\n",
      "/var/folders/xn/v7b7dbbn6xg3hzr5h4395gbc0000gn/T/ipykernel_38266/3428490745.py:8: PerformanceWarning: DataFrame is highly fragmented.  This is usually the result of calling `frame.insert` many times, which has poor performance.  Consider joining all columns at once using pd.concat(axis=1) instead. To get a de-fragmented frame, use `newframe = frame.copy()`\n",
      "  texts[col_name] = texts.apply(\n",
      "/var/folders/xn/v7b7dbbn6xg3hzr5h4395gbc0000gn/T/ipykernel_38266/3428490745.py:8: PerformanceWarning: DataFrame is highly fragmented.  This is usually the result of calling `frame.insert` many times, which has poor performance.  Consider joining all columns at once using pd.concat(axis=1) instead. To get a de-fragmented frame, use `newframe = frame.copy()`\n",
      "  texts[col_name] = texts.apply(\n",
      "/var/folders/xn/v7b7dbbn6xg3hzr5h4395gbc0000gn/T/ipykernel_38266/3428490745.py:8: PerformanceWarning: DataFrame is highly fragmented.  This is usually the result of calling `frame.insert` many times, which has poor performance.  Consider joining all columns at once using pd.concat(axis=1) instead. To get a de-fragmented frame, use `newframe = frame.copy()`\n",
      "  texts[col_name] = texts.apply(\n",
      "/var/folders/xn/v7b7dbbn6xg3hzr5h4395gbc0000gn/T/ipykernel_38266/3428490745.py:8: PerformanceWarning: DataFrame is highly fragmented.  This is usually the result of calling `frame.insert` many times, which has poor performance.  Consider joining all columns at once using pd.concat(axis=1) instead. To get a de-fragmented frame, use `newframe = frame.copy()`\n",
      "  texts[col_name] = texts.apply(\n",
      "/var/folders/xn/v7b7dbbn6xg3hzr5h4395gbc0000gn/T/ipykernel_38266/3428490745.py:8: PerformanceWarning: DataFrame is highly fragmented.  This is usually the result of calling `frame.insert` many times, which has poor performance.  Consider joining all columns at once using pd.concat(axis=1) instead. To get a de-fragmented frame, use `newframe = frame.copy()`\n",
      "  texts[col_name] = texts.apply(\n",
      "/var/folders/xn/v7b7dbbn6xg3hzr5h4395gbc0000gn/T/ipykernel_38266/3428490745.py:8: PerformanceWarning: DataFrame is highly fragmented.  This is usually the result of calling `frame.insert` many times, which has poor performance.  Consider joining all columns at once using pd.concat(axis=1) instead. To get a de-fragmented frame, use `newframe = frame.copy()`\n",
      "  texts[col_name] = texts.apply(\n",
      "/var/folders/xn/v7b7dbbn6xg3hzr5h4395gbc0000gn/T/ipykernel_38266/3428490745.py:8: PerformanceWarning: DataFrame is highly fragmented.  This is usually the result of calling `frame.insert` many times, which has poor performance.  Consider joining all columns at once using pd.concat(axis=1) instead. To get a de-fragmented frame, use `newframe = frame.copy()`\n",
      "  texts[col_name] = texts.apply(\n",
      "/var/folders/xn/v7b7dbbn6xg3hzr5h4395gbc0000gn/T/ipykernel_38266/3428490745.py:8: PerformanceWarning: DataFrame is highly fragmented.  This is usually the result of calling `frame.insert` many times, which has poor performance.  Consider joining all columns at once using pd.concat(axis=1) instead. To get a de-fragmented frame, use `newframe = frame.copy()`\n",
      "  texts[col_name] = texts.apply(\n",
      "/var/folders/xn/v7b7dbbn6xg3hzr5h4395gbc0000gn/T/ipykernel_38266/3428490745.py:8: PerformanceWarning: DataFrame is highly fragmented.  This is usually the result of calling `frame.insert` many times, which has poor performance.  Consider joining all columns at once using pd.concat(axis=1) instead. To get a de-fragmented frame, use `newframe = frame.copy()`\n",
      "  texts[col_name] = texts.apply(\n",
      "/var/folders/xn/v7b7dbbn6xg3hzr5h4395gbc0000gn/T/ipykernel_38266/3428490745.py:8: PerformanceWarning: DataFrame is highly fragmented.  This is usually the result of calling `frame.insert` many times, which has poor performance.  Consider joining all columns at once using pd.concat(axis=1) instead. To get a de-fragmented frame, use `newframe = frame.copy()`\n",
      "  texts[col_name] = texts.apply(\n",
      "/var/folders/xn/v7b7dbbn6xg3hzr5h4395gbc0000gn/T/ipykernel_38266/3428490745.py:8: PerformanceWarning: DataFrame is highly fragmented.  This is usually the result of calling `frame.insert` many times, which has poor performance.  Consider joining all columns at once using pd.concat(axis=1) instead. To get a de-fragmented frame, use `newframe = frame.copy()`\n",
      "  texts[col_name] = texts.apply(\n",
      "/var/folders/xn/v7b7dbbn6xg3hzr5h4395gbc0000gn/T/ipykernel_38266/3428490745.py:8: PerformanceWarning: DataFrame is highly fragmented.  This is usually the result of calling `frame.insert` many times, which has poor performance.  Consider joining all columns at once using pd.concat(axis=1) instead. To get a de-fragmented frame, use `newframe = frame.copy()`\n",
      "  texts[col_name] = texts.apply(\n",
      "/var/folders/xn/v7b7dbbn6xg3hzr5h4395gbc0000gn/T/ipykernel_38266/3428490745.py:8: PerformanceWarning: DataFrame is highly fragmented.  This is usually the result of calling `frame.insert` many times, which has poor performance.  Consider joining all columns at once using pd.concat(axis=1) instead. To get a de-fragmented frame, use `newframe = frame.copy()`\n",
      "  texts[col_name] = texts.apply(\n",
      "/var/folders/xn/v7b7dbbn6xg3hzr5h4395gbc0000gn/T/ipykernel_38266/3428490745.py:8: PerformanceWarning: DataFrame is highly fragmented.  This is usually the result of calling `frame.insert` many times, which has poor performance.  Consider joining all columns at once using pd.concat(axis=1) instead. To get a de-fragmented frame, use `newframe = frame.copy()`\n",
      "  texts[col_name] = texts.apply(\n",
      "/var/folders/xn/v7b7dbbn6xg3hzr5h4395gbc0000gn/T/ipykernel_38266/3428490745.py:8: PerformanceWarning: DataFrame is highly fragmented.  This is usually the result of calling `frame.insert` many times, which has poor performance.  Consider joining all columns at once using pd.concat(axis=1) instead. To get a de-fragmented frame, use `newframe = frame.copy()`\n",
      "  texts[col_name] = texts.apply(\n",
      "/var/folders/xn/v7b7dbbn6xg3hzr5h4395gbc0000gn/T/ipykernel_38266/3428490745.py:8: PerformanceWarning: DataFrame is highly fragmented.  This is usually the result of calling `frame.insert` many times, which has poor performance.  Consider joining all columns at once using pd.concat(axis=1) instead. To get a de-fragmented frame, use `newframe = frame.copy()`\n",
      "  texts[col_name] = texts.apply(\n",
      "/var/folders/xn/v7b7dbbn6xg3hzr5h4395gbc0000gn/T/ipykernel_38266/3428490745.py:8: PerformanceWarning: DataFrame is highly fragmented.  This is usually the result of calling `frame.insert` many times, which has poor performance.  Consider joining all columns at once using pd.concat(axis=1) instead. To get a de-fragmented frame, use `newframe = frame.copy()`\n",
      "  texts[col_name] = texts.apply(\n",
      "/var/folders/xn/v7b7dbbn6xg3hzr5h4395gbc0000gn/T/ipykernel_38266/3428490745.py:8: PerformanceWarning: DataFrame is highly fragmented.  This is usually the result of calling `frame.insert` many times, which has poor performance.  Consider joining all columns at once using pd.concat(axis=1) instead. To get a de-fragmented frame, use `newframe = frame.copy()`\n",
      "  texts[col_name] = texts.apply(\n",
      "/var/folders/xn/v7b7dbbn6xg3hzr5h4395gbc0000gn/T/ipykernel_38266/3428490745.py:8: PerformanceWarning: DataFrame is highly fragmented.  This is usually the result of calling `frame.insert` many times, which has poor performance.  Consider joining all columns at once using pd.concat(axis=1) instead. To get a de-fragmented frame, use `newframe = frame.copy()`\n",
      "  texts[col_name] = texts.apply(\n",
      "/var/folders/xn/v7b7dbbn6xg3hzr5h4395gbc0000gn/T/ipykernel_38266/3428490745.py:8: PerformanceWarning: DataFrame is highly fragmented.  This is usually the result of calling `frame.insert` many times, which has poor performance.  Consider joining all columns at once using pd.concat(axis=1) instead. To get a de-fragmented frame, use `newframe = frame.copy()`\n",
      "  texts[col_name] = texts.apply(\n",
      "/var/folders/xn/v7b7dbbn6xg3hzr5h4395gbc0000gn/T/ipykernel_38266/3428490745.py:8: PerformanceWarning: DataFrame is highly fragmented.  This is usually the result of calling `frame.insert` many times, which has poor performance.  Consider joining all columns at once using pd.concat(axis=1) instead. To get a de-fragmented frame, use `newframe = frame.copy()`\n",
      "  texts[col_name] = texts.apply(\n",
      "/var/folders/xn/v7b7dbbn6xg3hzr5h4395gbc0000gn/T/ipykernel_38266/3428490745.py:8: PerformanceWarning: DataFrame is highly fragmented.  This is usually the result of calling `frame.insert` many times, which has poor performance.  Consider joining all columns at once using pd.concat(axis=1) instead. To get a de-fragmented frame, use `newframe = frame.copy()`\n",
      "  texts[col_name] = texts.apply(\n",
      "/var/folders/xn/v7b7dbbn6xg3hzr5h4395gbc0000gn/T/ipykernel_38266/3428490745.py:8: PerformanceWarning: DataFrame is highly fragmented.  This is usually the result of calling `frame.insert` many times, which has poor performance.  Consider joining all columns at once using pd.concat(axis=1) instead. To get a de-fragmented frame, use `newframe = frame.copy()`\n",
      "  texts[col_name] = texts.apply(\n",
      "/var/folders/xn/v7b7dbbn6xg3hzr5h4395gbc0000gn/T/ipykernel_38266/3428490745.py:8: PerformanceWarning: DataFrame is highly fragmented.  This is usually the result of calling `frame.insert` many times, which has poor performance.  Consider joining all columns at once using pd.concat(axis=1) instead. To get a de-fragmented frame, use `newframe = frame.copy()`\n",
      "  texts[col_name] = texts.apply(\n",
      "/var/folders/xn/v7b7dbbn6xg3hzr5h4395gbc0000gn/T/ipykernel_38266/3428490745.py:8: PerformanceWarning: DataFrame is highly fragmented.  This is usually the result of calling `frame.insert` many times, which has poor performance.  Consider joining all columns at once using pd.concat(axis=1) instead. To get a de-fragmented frame, use `newframe = frame.copy()`\n",
      "  texts[col_name] = texts.apply(\n",
      "/var/folders/xn/v7b7dbbn6xg3hzr5h4395gbc0000gn/T/ipykernel_38266/3428490745.py:8: PerformanceWarning: DataFrame is highly fragmented.  This is usually the result of calling `frame.insert` many times, which has poor performance.  Consider joining all columns at once using pd.concat(axis=1) instead. To get a de-fragmented frame, use `newframe = frame.copy()`\n",
      "  texts[col_name] = texts.apply(\n",
      "/var/folders/xn/v7b7dbbn6xg3hzr5h4395gbc0000gn/T/ipykernel_38266/3428490745.py:8: PerformanceWarning: DataFrame is highly fragmented.  This is usually the result of calling `frame.insert` many times, which has poor performance.  Consider joining all columns at once using pd.concat(axis=1) instead. To get a de-fragmented frame, use `newframe = frame.copy()`\n",
      "  texts[col_name] = texts.apply(\n",
      "/var/folders/xn/v7b7dbbn6xg3hzr5h4395gbc0000gn/T/ipykernel_38266/3428490745.py:8: PerformanceWarning: DataFrame is highly fragmented.  This is usually the result of calling `frame.insert` many times, which has poor performance.  Consider joining all columns at once using pd.concat(axis=1) instead. To get a de-fragmented frame, use `newframe = frame.copy()`\n",
      "  texts[col_name] = texts.apply(\n",
      "/var/folders/xn/v7b7dbbn6xg3hzr5h4395gbc0000gn/T/ipykernel_38266/3428490745.py:8: PerformanceWarning: DataFrame is highly fragmented.  This is usually the result of calling `frame.insert` many times, which has poor performance.  Consider joining all columns at once using pd.concat(axis=1) instead. To get a de-fragmented frame, use `newframe = frame.copy()`\n",
      "  texts[col_name] = texts.apply(\n",
      "/var/folders/xn/v7b7dbbn6xg3hzr5h4395gbc0000gn/T/ipykernel_38266/3428490745.py:8: PerformanceWarning: DataFrame is highly fragmented.  This is usually the result of calling `frame.insert` many times, which has poor performance.  Consider joining all columns at once using pd.concat(axis=1) instead. To get a de-fragmented frame, use `newframe = frame.copy()`\n",
      "  texts[col_name] = texts.apply(\n",
      "/var/folders/xn/v7b7dbbn6xg3hzr5h4395gbc0000gn/T/ipykernel_38266/3428490745.py:8: PerformanceWarning: DataFrame is highly fragmented.  This is usually the result of calling `frame.insert` many times, which has poor performance.  Consider joining all columns at once using pd.concat(axis=1) instead. To get a de-fragmented frame, use `newframe = frame.copy()`\n",
      "  texts[col_name] = texts.apply(\n",
      "/var/folders/xn/v7b7dbbn6xg3hzr5h4395gbc0000gn/T/ipykernel_38266/3428490745.py:8: PerformanceWarning: DataFrame is highly fragmented.  This is usually the result of calling `frame.insert` many times, which has poor performance.  Consider joining all columns at once using pd.concat(axis=1) instead. To get a de-fragmented frame, use `newframe = frame.copy()`\n",
      "  texts[col_name] = texts.apply(\n",
      "/var/folders/xn/v7b7dbbn6xg3hzr5h4395gbc0000gn/T/ipykernel_38266/3428490745.py:8: PerformanceWarning: DataFrame is highly fragmented.  This is usually the result of calling `frame.insert` many times, which has poor performance.  Consider joining all columns at once using pd.concat(axis=1) instead. To get a de-fragmented frame, use `newframe = frame.copy()`\n",
      "  texts[col_name] = texts.apply(\n",
      "/var/folders/xn/v7b7dbbn6xg3hzr5h4395gbc0000gn/T/ipykernel_38266/3428490745.py:8: PerformanceWarning: DataFrame is highly fragmented.  This is usually the result of calling `frame.insert` many times, which has poor performance.  Consider joining all columns at once using pd.concat(axis=1) instead. To get a de-fragmented frame, use `newframe = frame.copy()`\n",
      "  texts[col_name] = texts.apply(\n",
      "/var/folders/xn/v7b7dbbn6xg3hzr5h4395gbc0000gn/T/ipykernel_38266/3428490745.py:8: PerformanceWarning: DataFrame is highly fragmented.  This is usually the result of calling `frame.insert` many times, which has poor performance.  Consider joining all columns at once using pd.concat(axis=1) instead. To get a de-fragmented frame, use `newframe = frame.copy()`\n",
      "  texts[col_name] = texts.apply(\n",
      "/var/folders/xn/v7b7dbbn6xg3hzr5h4395gbc0000gn/T/ipykernel_38266/3428490745.py:8: PerformanceWarning: DataFrame is highly fragmented.  This is usually the result of calling `frame.insert` many times, which has poor performance.  Consider joining all columns at once using pd.concat(axis=1) instead. To get a de-fragmented frame, use `newframe = frame.copy()`\n",
      "  texts[col_name] = texts.apply(\n",
      "/var/folders/xn/v7b7dbbn6xg3hzr5h4395gbc0000gn/T/ipykernel_38266/3428490745.py:8: PerformanceWarning: DataFrame is highly fragmented.  This is usually the result of calling `frame.insert` many times, which has poor performance.  Consider joining all columns at once using pd.concat(axis=1) instead. To get a de-fragmented frame, use `newframe = frame.copy()`\n",
      "  texts[col_name] = texts.apply(\n",
      "/var/folders/xn/v7b7dbbn6xg3hzr5h4395gbc0000gn/T/ipykernel_38266/3428490745.py:8: PerformanceWarning: DataFrame is highly fragmented.  This is usually the result of calling `frame.insert` many times, which has poor performance.  Consider joining all columns at once using pd.concat(axis=1) instead. To get a de-fragmented frame, use `newframe = frame.copy()`\n",
      "  texts[col_name] = texts.apply(\n",
      "/var/folders/xn/v7b7dbbn6xg3hzr5h4395gbc0000gn/T/ipykernel_38266/3428490745.py:8: PerformanceWarning: DataFrame is highly fragmented.  This is usually the result of calling `frame.insert` many times, which has poor performance.  Consider joining all columns at once using pd.concat(axis=1) instead. To get a de-fragmented frame, use `newframe = frame.copy()`\n",
      "  texts[col_name] = texts.apply(\n",
      "/var/folders/xn/v7b7dbbn6xg3hzr5h4395gbc0000gn/T/ipykernel_38266/3428490745.py:8: PerformanceWarning: DataFrame is highly fragmented.  This is usually the result of calling `frame.insert` many times, which has poor performance.  Consider joining all columns at once using pd.concat(axis=1) instead. To get a de-fragmented frame, use `newframe = frame.copy()`\n",
      "  texts[col_name] = texts.apply(\n",
      "/var/folders/xn/v7b7dbbn6xg3hzr5h4395gbc0000gn/T/ipykernel_38266/3428490745.py:8: PerformanceWarning: DataFrame is highly fragmented.  This is usually the result of calling `frame.insert` many times, which has poor performance.  Consider joining all columns at once using pd.concat(axis=1) instead. To get a de-fragmented frame, use `newframe = frame.copy()`\n",
      "  texts[col_name] = texts.apply(\n",
      "/var/folders/xn/v7b7dbbn6xg3hzr5h4395gbc0000gn/T/ipykernel_38266/3428490745.py:8: PerformanceWarning: DataFrame is highly fragmented.  This is usually the result of calling `frame.insert` many times, which has poor performance.  Consider joining all columns at once using pd.concat(axis=1) instead. To get a de-fragmented frame, use `newframe = frame.copy()`\n",
      "  texts[col_name] = texts.apply(\n",
      "/var/folders/xn/v7b7dbbn6xg3hzr5h4395gbc0000gn/T/ipykernel_38266/3428490745.py:8: PerformanceWarning: DataFrame is highly fragmented.  This is usually the result of calling `frame.insert` many times, which has poor performance.  Consider joining all columns at once using pd.concat(axis=1) instead. To get a de-fragmented frame, use `newframe = frame.copy()`\n",
      "  texts[col_name] = texts.apply(\n",
      "/var/folders/xn/v7b7dbbn6xg3hzr5h4395gbc0000gn/T/ipykernel_38266/3428490745.py:8: PerformanceWarning: DataFrame is highly fragmented.  This is usually the result of calling `frame.insert` many times, which has poor performance.  Consider joining all columns at once using pd.concat(axis=1) instead. To get a de-fragmented frame, use `newframe = frame.copy()`\n",
      "  texts[col_name] = texts.apply(\n"
     ]
    },
    {
     "name": "stdout",
     "output_type": "stream",
     "text": [
      "Author       George Sand\n",
      "fw_étés              0.0\n",
      "fw_moi           0.00185\n",
      "fw_étions            0.0\n",
      "fw_ont               0.0\n",
      "fw_auront            0.0\n",
      "Name: 0, dtype: object\n",
      "<class 'pandas.core.frame.DataFrame'>\n",
      "RangeIndex: 3858 entries, 0 to 3857\n",
      "Columns: 165 entries, Author to fw_serons\n",
      "dtypes: float64(157), int64(1), object(7)\n",
      "memory usage: 4.9+ MB\n",
      "None\n"
     ]
    },
    {
     "name": "stderr",
     "output_type": "stream",
     "text": [
      "/var/folders/xn/v7b7dbbn6xg3hzr5h4395gbc0000gn/T/ipykernel_38266/3428490745.py:8: PerformanceWarning: DataFrame is highly fragmented.  This is usually the result of calling `frame.insert` many times, which has poor performance.  Consider joining all columns at once using pd.concat(axis=1) instead. To get a de-fragmented frame, use `newframe = frame.copy()`\n",
      "  texts[col_name] = texts.apply(\n",
      "/var/folders/xn/v7b7dbbn6xg3hzr5h4395gbc0000gn/T/ipykernel_38266/3428490745.py:8: PerformanceWarning: DataFrame is highly fragmented.  This is usually the result of calling `frame.insert` many times, which has poor performance.  Consider joining all columns at once using pd.concat(axis=1) instead. To get a de-fragmented frame, use `newframe = frame.copy()`\n",
      "  texts[col_name] = texts.apply(\n"
     ]
    }
   ],
   "source": [
    "# Compute total number of words (excluding punctuation) for each text, to use in normalization\n",
    "texts['WordCount'] = texts['Tokens'].apply(lambda tokens: sum(1 for t in tokens if t not in punct_set))\n",
    "\n",
    "# Add one feature column for each function word in the list\n",
    "for fw in french_function_words:\n",
    "    col_name = f\"fw_{fw}\"\n",
    "    # Normalized frequency: count of fw divided by number of words (avoid division by zero)\n",
    "    texts[col_name] = texts.apply(\n",
    "        lambda row: row['Tokens'].count(fw) / row['WordCount'] if row['WordCount'] > 0 else 0.0,\n",
    "        axis=1\n",
    "    )\n",
    "\n",
    "# Example: check a few function word feature columns for the first text\n",
    "print(texts.loc[0, ['Author'] + [f\"fw_{w}\" for w in list(french_function_words)[:5]]])\n",
    "print(texts.info())"
   ]
  },
  {
   "cell_type": "code",
   "execution_count": 12,
   "id": "f985ff27",
   "metadata": {},
   "outputs": [
    {
     "name": "stderr",
     "output_type": "stream",
     "text": [
      "/var/folders/xn/v7b7dbbn6xg3hzr5h4395gbc0000gn/T/ipykernel_38266/1679231258.py:12: PerformanceWarning: DataFrame is highly fragmented.  This is usually the result of calling `frame.insert` many times, which has poor performance.  Consider joining all columns at once using pd.concat(axis=1) instead. To get a de-fragmented frame, use `newframe = frame.copy()`\n",
      "  texts[group_name] = texts.apply(\n",
      "/var/folders/xn/v7b7dbbn6xg3hzr5h4395gbc0000gn/T/ipykernel_38266/1679231258.py:12: PerformanceWarning: DataFrame is highly fragmented.  This is usually the result of calling `frame.insert` many times, which has poor performance.  Consider joining all columns at once using pd.concat(axis=1) instead. To get a de-fragmented frame, use `newframe = frame.copy()`\n",
      "  texts[group_name] = texts.apply(\n",
      "/var/folders/xn/v7b7dbbn6xg3hzr5h4395gbc0000gn/T/ipykernel_38266/1679231258.py:12: PerformanceWarning: DataFrame is highly fragmented.  This is usually the result of calling `frame.insert` many times, which has poor performance.  Consider joining all columns at once using pd.concat(axis=1) instead. To get a de-fragmented frame, use `newframe = frame.copy()`\n",
      "  texts[group_name] = texts.apply(\n",
      "/var/folders/xn/v7b7dbbn6xg3hzr5h4395gbc0000gn/T/ipykernel_38266/1679231258.py:12: PerformanceWarning: DataFrame is highly fragmented.  This is usually the result of calling `frame.insert` many times, which has poor performance.  Consider joining all columns at once using pd.concat(axis=1) instead. To get a de-fragmented frame, use `newframe = frame.copy()`\n",
      "  texts[group_name] = texts.apply(\n"
     ]
    },
    {
     "name": "stdout",
     "output_type": "stream",
     "text": [
      "gfw_article        0.063502\n",
      "gfw_preposition    0.081998\n",
      "gfw_pronoun        0.130086\n",
      "gfw_conjunction    0.078298\n",
      "gfw_auxiliary      0.003083\n",
      "Name: 0, dtype: object\n"
     ]
    },
    {
     "name": "stderr",
     "output_type": "stream",
     "text": [
      "/var/folders/xn/v7b7dbbn6xg3hzr5h4395gbc0000gn/T/ipykernel_38266/1679231258.py:12: PerformanceWarning: DataFrame is highly fragmented.  This is usually the result of calling `frame.insert` many times, which has poor performance.  Consider joining all columns at once using pd.concat(axis=1) instead. To get a de-fragmented frame, use `newframe = frame.copy()`\n",
      "  texts[group_name] = texts.apply(\n"
     ]
    }
   ],
   "source": [
    "# Define function word groups\n",
    "func_word_groups = {\n",
    "    \"gfw_article\": {\"le\", \"la\", \"les\", \"un\", \"une\", \"du\", \"des\"},\n",
    "    \"gfw_preposition\": {\"à\", \"de\", \"en\", \"dans\", \"avec\", \"sans\", \"sous\", \"sur\", \"chez\"},\n",
    "    \"gfw_pronoun\": {\"je\", \"tu\", \"il\", \"elle\", \"nous\", \"vous\", \"ils\", \"elles\", \"on\", \"lui\", \"leur\", \"se\", \"me\", \"te\", \"moi\", \"toi\", \"qui\", \"que\", \"quoi\"},\n",
    "    \"gfw_conjunction\": {\"et\", \"ou\", \"mais\", \"donc\", \"or\", \"car\", \"puisque\", \"lorsque\", \"parce\", \"que\", \"si\"},\n",
    "    \"gfw_auxiliary\": {\"être\", \"avoir\"}\n",
    "}\n",
    "\n",
    "# Compute per-group normalized frequencies\n",
    "for group_name, word_set in func_word_groups.items():\n",
    "    texts[group_name] = texts.apply(\n",
    "        lambda row: sum(row['Tokens'].count(w) for w in word_set) / row['WordCount']\n",
    "        if row['WordCount'] > 0 else 0.0, axis=1\n",
    "    )\n",
    "\n",
    "# Example: check the computed features for the first text\n",
    "print(texts.loc[0, ['gfw_article', 'gfw_preposition', 'gfw_pronoun', 'gfw_conjunction', 'gfw_auxiliary']])"
   ]
  },
  {
   "cell_type": "code",
   "execution_count": 13,
   "id": "d8e80b5b",
   "metadata": {},
   "outputs": [
    {
     "name": "stdout",
     "output_type": "stream",
     "text": [
      "<class 'pandas.core.frame.DataFrame'>\n",
      "RangeIndex: 3858 entries, 0 to 3857\n",
      "Columns: 170 entries, Author to gfw_auxiliary\n",
      "dtypes: float64(162), int64(1), object(7)\n",
      "memory usage: 5.0+ MB\n",
      "None\n"
     ]
    }
   ],
   "source": [
    "print(texts.info())"
   ]
  },
  {
   "cell_type": "markdown",
   "id": "846fe22b",
   "metadata": {},
   "source": [
    "## Pos tagging"
   ]
  },
  {
   "cell_type": "code",
   "execution_count": 14,
   "id": "80a57413",
   "metadata": {},
   "outputs": [
    {
     "name": "stderr",
     "output_type": "stream",
     "text": [
      "/var/folders/xn/v7b7dbbn6xg3hzr5h4395gbc0000gn/T/ipykernel_38266/3475942309.py:21: PerformanceWarning: DataFrame is highly fragmented.  This is usually the result of calling `frame.insert` many times, which has poor performance.  Consider joining all columns at once using pd.concat(axis=1) instead. To get a de-fragmented frame, use `newframe = frame.copy()`\n",
      "  texts[col] = pos_freqs[pos]\n",
      "/var/folders/xn/v7b7dbbn6xg3hzr5h4395gbc0000gn/T/ipykernel_38266/3475942309.py:21: PerformanceWarning: DataFrame is highly fragmented.  This is usually the result of calling `frame.insert` many times, which has poor performance.  Consider joining all columns at once using pd.concat(axis=1) instead. To get a de-fragmented frame, use `newframe = frame.copy()`\n",
      "  texts[col] = pos_freqs[pos]\n",
      "/var/folders/xn/v7b7dbbn6xg3hzr5h4395gbc0000gn/T/ipykernel_38266/3475942309.py:21: PerformanceWarning: DataFrame is highly fragmented.  This is usually the result of calling `frame.insert` many times, which has poor performance.  Consider joining all columns at once using pd.concat(axis=1) instead. To get a de-fragmented frame, use `newframe = frame.copy()`\n",
      "  texts[col] = pos_freqs[pos]\n",
      "/var/folders/xn/v7b7dbbn6xg3hzr5h4395gbc0000gn/T/ipykernel_38266/3475942309.py:21: PerformanceWarning: DataFrame is highly fragmented.  This is usually the result of calling `frame.insert` many times, which has poor performance.  Consider joining all columns at once using pd.concat(axis=1) instead. To get a de-fragmented frame, use `newframe = frame.copy()`\n",
      "  texts[col] = pos_freqs[pos]\n",
      "/var/folders/xn/v7b7dbbn6xg3hzr5h4395gbc0000gn/T/ipykernel_38266/3475942309.py:21: PerformanceWarning: DataFrame is highly fragmented.  This is usually the result of calling `frame.insert` many times, which has poor performance.  Consider joining all columns at once using pd.concat(axis=1) instead. To get a de-fragmented frame, use `newframe = frame.copy()`\n",
      "  texts[col] = pos_freqs[pos]\n",
      "/var/folders/xn/v7b7dbbn6xg3hzr5h4395gbc0000gn/T/ipykernel_38266/3475942309.py:21: PerformanceWarning: DataFrame is highly fragmented.  This is usually the result of calling `frame.insert` many times, which has poor performance.  Consider joining all columns at once using pd.concat(axis=1) instead. To get a de-fragmented frame, use `newframe = frame.copy()`\n",
      "  texts[col] = pos_freqs[pos]\n",
      "/var/folders/xn/v7b7dbbn6xg3hzr5h4395gbc0000gn/T/ipykernel_38266/3475942309.py:21: PerformanceWarning: DataFrame is highly fragmented.  This is usually the result of calling `frame.insert` many times, which has poor performance.  Consider joining all columns at once using pd.concat(axis=1) instead. To get a de-fragmented frame, use `newframe = frame.copy()`\n",
      "  texts[col] = pos_freqs[pos]\n",
      "/var/folders/xn/v7b7dbbn6xg3hzr5h4395gbc0000gn/T/ipykernel_38266/3475942309.py:21: PerformanceWarning: DataFrame is highly fragmented.  This is usually the result of calling `frame.insert` many times, which has poor performance.  Consider joining all columns at once using pd.concat(axis=1) instead. To get a de-fragmented frame, use `newframe = frame.copy()`\n",
      "  texts[col] = pos_freqs[pos]\n",
      "/var/folders/xn/v7b7dbbn6xg3hzr5h4395gbc0000gn/T/ipykernel_38266/3475942309.py:21: PerformanceWarning: DataFrame is highly fragmented.  This is usually the result of calling `frame.insert` many times, which has poor performance.  Consider joining all columns at once using pd.concat(axis=1) instead. To get a de-fragmented frame, use `newframe = frame.copy()`\n",
      "  texts[col] = pos_freqs[pos]\n",
      "/var/folders/xn/v7b7dbbn6xg3hzr5h4395gbc0000gn/T/ipykernel_38266/3475942309.py:21: PerformanceWarning: DataFrame is highly fragmented.  This is usually the result of calling `frame.insert` many times, which has poor performance.  Consider joining all columns at once using pd.concat(axis=1) instead. To get a de-fragmented frame, use `newframe = frame.copy()`\n",
      "  texts[col] = pos_freqs[pos]\n",
      "/var/folders/xn/v7b7dbbn6xg3hzr5h4395gbc0000gn/T/ipykernel_38266/3475942309.py:21: PerformanceWarning: DataFrame is highly fragmented.  This is usually the result of calling `frame.insert` many times, which has poor performance.  Consider joining all columns at once using pd.concat(axis=1) instead. To get a de-fragmented frame, use `newframe = frame.copy()`\n",
      "  texts[col] = pos_freqs[pos]\n"
     ]
    }
   ],
   "source": [
    "# Define POS tags of interest\n",
    "pos_tags = ['NOUN', 'PROPN', 'VERB', 'AUX', 'ADJ', 'ADV', 'PRON', 'DET', 'ADP', 'CCONJ', 'SCONJ', 'INTJ']\n",
    "\n",
    "# Initialize POS frequency containers\n",
    "pos_freqs = defaultdict(list)\n",
    "\n",
    "for tokens in texts['Tokens']:\n",
    "    doc = nlp_fr(\" \".join(tokens))\n",
    "    total_words = sum(1 for token in doc if token.pos_ != \"PUNCT\")\n",
    "    \n",
    "    pos_counts = Counter(token.pos_ for token in doc if token.pos_ != \"PUNCT\")\n",
    "    pos_counts['NOUN'] += pos_counts.get('PROPN', 0)  # Merge PROPN into NOUN\n",
    "    for pos in pos_tags:\n",
    "        freq = pos_counts.get(pos, 0) / total_words if total_words > 0 else 0.0\n",
    "        pos_freqs[pos].append(freq)\n",
    "\n",
    "# Assign POS frequency features to the DataFrame\n",
    "for pos in pos_tags:\n",
    "    col = 'POS_' + ('NOUN' if pos == 'PROPN' else pos)\n",
    "    if col not in texts.columns:\n",
    "        texts[col] = pos_freqs[pos]\n",
    "        \n",
    "# Example: view the POS distribution for the first text\n"
   ]
  },
  {
   "cell_type": "code",
   "execution_count": 15,
   "id": "ed414d08",
   "metadata": {},
   "outputs": [
    {
     "name": "stdout",
     "output_type": "stream",
     "text": [
      "Author       George Sand\n",
      "POS_NOUN        0.193326\n",
      "POS_VERB        0.135788\n",
      "POS_AUX         0.033947\n",
      "POS_ADJ         0.055811\n",
      "POS_ADV         0.097238\n",
      "POS_PRON        0.164557\n",
      "POS_DET          0.09954\n",
      "POS_ADP          0.11565\n",
      "POS_CCONJ       0.046605\n",
      "POS_SCONJ       0.036824\n",
      "POS_INTJ        0.000575\n",
      "Name: 0, dtype: object\n"
     ]
    }
   ],
   "source": [
    "print(texts.loc[0, ['Author'] + [f\"POS_{w}\" for w in pos_tags if w != 'PROPN']])"
   ]
  },
  {
   "cell_type": "code",
   "execution_count": 16,
   "id": "ace4dfde",
   "metadata": {},
   "outputs": [
    {
     "name": "stdout",
     "output_type": "stream",
     "text": [
      "<class 'pandas.core.frame.DataFrame'>\n",
      "RangeIndex: 3858 entries, 0 to 3857\n",
      "Columns: 181 entries, Author to POS_INTJ\n",
      "dtypes: float64(173), int64(1), object(7)\n",
      "memory usage: 5.3+ MB\n",
      "None\n"
     ]
    }
   ],
   "source": [
    "print(texts.info())"
   ]
  },
  {
   "cell_type": "markdown",
   "id": "928292d0",
   "metadata": {},
   "source": [
    "## Lexical features"
   ]
  },
  {
   "cell_type": "code",
   "execution_count": 17,
   "id": "64ecb6be",
   "metadata": {},
   "outputs": [
    {
     "name": "stdout",
     "output_type": "stream",
     "text": [
      "Author             George Sand\n",
      "WordCount                 1622\n",
      "lex_TTR               0.404537\n",
      "lex_Hapax_Ratio       0.287335\n",
      "lex_AvgWordLen        4.481411\n",
      "Name: 0, dtype: object\n",
      "<class 'pandas.core.frame.DataFrame'>\n",
      "RangeIndex: 3858 entries, 0 to 3857\n",
      "Columns: 184 entries, Author to lex_AvgWordLen\n",
      "dtypes: float64(176), int64(1), object(7)\n",
      "memory usage: 5.4+ MB\n",
      "None\n"
     ]
    }
   ],
   "source": [
    "def compute_lexical_metrics(token_list):\n",
    "    # Remove punctuation and non-word tokens from the list\n",
    "    words = []\n",
    "    for token in token_list:\n",
    "        if token in punct_set:\n",
    "            continue  # skip punctuation tokens\n",
    "        # Remove any punctuation attached to the token (e.g., apostrophes or hyphens) for word length calculation\n",
    "        cleaned_token = re.sub(r'[\\W_]+', '', token, flags=re.UNICODE)  # keep only alphanumeric characters\n",
    "        if cleaned_token == \"\" or cleaned_token.isdigit():\n",
    "            continue  # skip if token is empty or purely numeric after cleaning\n",
    "        words.append(cleaned_token)\n",
    "    if len(words) == 0:\n",
    "        # If no valid word tokens, return zeros\n",
    "        return pd.Series({\"lex_TTR\": 0.0, \"lex_Hapax_Ratio\": 0.0, \"lex_AvgWordLen\": 0.0})\n",
    "    total_words = len(words)\n",
    "    unique_words = set(words)\n",
    "    # Type-Token Ratio\n",
    "    ttr = len(unique_words) / total_words\n",
    "    # Hapax Legomena Ratio\n",
    "    word_freqs = Counter(words)\n",
    "    hapax_count = sum(1 for count in word_freqs.values() if count == 1)\n",
    "    hapax_ratio = hapax_count / total_words\n",
    "    # Average word length (in characters)\n",
    "    total_chars = sum(len(w) for w in words)\n",
    "    avg_word_len = total_chars / total_words\n",
    "    return pd.Series({\"lex_TTR\": ttr, \"lex_Hapax_Ratio\": hapax_ratio, \"lex_AvgWordLen\": avg_word_len})\n",
    "\n",
    "# Apply the lexical metrics function to each text\n",
    "lexical_df = texts['Tokens'].apply(compute_lexical_metrics)\n",
    "# Merge the resulting metrics columns into the main DataFrame\n",
    "texts = pd.concat([texts, lexical_df], axis=1)\n",
    "\n",
    "# Example: show lexical richness metrics for a text\n",
    "print(texts.loc[0, ['Author', 'WordCount', 'lex_TTR', 'lex_Hapax_Ratio', 'lex_AvgWordLen']])\n",
    "print(texts.info())\n"
   ]
  },
  {
   "cell_type": "code",
   "execution_count": 18,
   "id": "37b67529",
   "metadata": {},
   "outputs": [],
   "source": [
    "def compute_extended_lexical_metrics(token_list):\n",
    "    words = []\n",
    "    for token in token_list:\n",
    "        if token in punct_set:\n",
    "            continue\n",
    "        cleaned_token = re.sub(r'[\\W_]+', '', token, flags=re.UNICODE)\n",
    "        if cleaned_token == \"\" or cleaned_token.isdigit():\n",
    "            continue\n",
    "        words.append(cleaned_token)\n",
    "\n",
    "    if len(words) == 0:\n",
    "        return pd.Series({\n",
    "            \"lex_YuleK\": 0.0,\n",
    "            \"lex_SimpsonD\": 0.0,\n",
    "            \"lex_Entropy\": 0.0\n",
    "        })\n",
    "\n",
    "    word_counts = Counter(words)\n",
    "    total = sum(word_counts.values())\n",
    "    M1 = sum(v**2 for v in word_counts.values())\n",
    "    yule_K = 10**4 * (M1 - total) / total**2\n",
    "    simpson_D = sum((freq / total)**2 for freq in word_counts.values())\n",
    "    entropy = -sum((freq / total) * log2(freq / total) for freq in word_counts.values())\n",
    "\n",
    "    return pd.Series({\n",
    "        \"lex_YuleK\": yule_K,\n",
    "        \"lex_SimpsonD\": simpson_D,\n",
    "        \"lex_Entropy\": entropy\n",
    "    })\n",
    "\n",
    "texts = texts.rename(columns={\"WordCount\": \"lex_WordCount\"})\n",
    "texts = pd.concat([texts, texts['Tokens'].apply(compute_extended_lexical_metrics)], axis=1)"
   ]
  },
  {
   "cell_type": "code",
   "execution_count": 19,
   "id": "e5dc086d",
   "metadata": {},
   "outputs": [
    {
     "name": "stdout",
     "output_type": "stream",
     "text": [
      "Author           George Sand\n",
      "lex_WordCount           1622\n",
      "lex_YuleK          82.046591\n",
      "lex_SimpsonD        0.008835\n",
      "lex_Entropy         8.202369\n",
      "Name: 0, dtype: object\n",
      "<class 'pandas.core.frame.DataFrame'>\n",
      "RangeIndex: 3858 entries, 0 to 3857\n",
      "Columns: 187 entries, Author to lex_Entropy\n",
      "dtypes: float64(179), int64(1), object(7)\n",
      "memory usage: 5.5+ MB\n",
      "None\n"
     ]
    }
   ],
   "source": [
    "# Example: show lexical richness metrics for a text\n",
    "print(texts.loc[0, ['Author', 'lex_WordCount', 'lex_YuleK', 'lex_SimpsonD', 'lex_Entropy']])\n",
    "print(texts.info())"
   ]
  },
  {
   "cell_type": "markdown",
   "id": "3560d1b7",
   "metadata": {},
   "source": [
    "## Syntaxic features"
   ]
  },
  {
   "cell_type": "code",
   "execution_count": 20,
   "id": "6aeedc4e",
   "metadata": {},
   "outputs": [],
   "source": [
    "def compute_syntaxic_features(token_list):\n",
    "    doc = nlp_fr(\" \".join(token_list))\n",
    "    pos_counts = Counter(token.pos_ for token in doc if token.pos_ != \"PUNCT\")\n",
    "    nouns = pos_counts.get(\"NOUN\", 0) + pos_counts.get(\"PROPN\", 0)\n",
    "    verbs = pos_counts.get(\"VERB\", 0)\n",
    "    adjs = pos_counts.get(\"ADJ\", 0)\n",
    "    advs = pos_counts.get(\"ADV\", 0)\n",
    "\n",
    "    syn_nom_verb = nouns / verbs if verbs > 0 else 0.0\n",
    "    syn_adj_noun = adjs / nouns if nouns > 0 else 0.0\n",
    "    syn_adv_verb = advs / verbs if verbs > 0 else 0.0\n",
    "\n",
    "    sentence_lengths = [len([tok for tok in sent if not tok.is_punct]) for sent in doc.sents]\n",
    "    complexity_deps = {\"ccomp\", \"xcomp\", \"advcl\", \"relcl\", \"acl\", \"mark\"}\n",
    "    complexity_score = sum(1 for tok in doc if tok.dep_ in complexity_deps) / len(sentence_lengths) if sentence_lengths else 0.0\n",
    "\n",
    "    avg_len = np.mean(sentence_lengths) if sentence_lengths else 0.0\n",
    "    alternance_pattern = [1 if l > avg_len else 0 for l in sentence_lengths]\n",
    "    switches = sum(1 for i in range(1, len(alternance_pattern)) if alternance_pattern[i] != alternance_pattern[i-1])\n",
    "    alternance_rate = switches / len(alternance_pattern) if alternance_pattern else 0.0\n",
    "\n",
    "    return pd.Series({\n",
    "        \"syn_Complexity\": complexity_score,\n",
    "        \"syn_NomVerbRatio\": syn_nom_verb,\n",
    "        \"syn_AdjNounRatio\": syn_adj_noun,\n",
    "        \"syn_AdvVerbRatio\": syn_adv_verb,\n",
    "        \"syn_AlternanceRate\": alternance_rate\n",
    "    })\n",
    "\n",
    "texts = pd.concat([texts, texts['Tokens'].apply(compute_syntaxic_features)], axis=1)"
   ]
  },
  {
   "cell_type": "code",
   "execution_count": 21,
   "id": "c28412c8",
   "metadata": {},
   "outputs": [
    {
     "name": "stdout",
     "output_type": "stream",
     "text": [
      "Author                George Sand\n",
      "syn_Complexity           2.095238\n",
      "syn_NomVerbRatio         1.423729\n",
      "syn_AdjNounRatio          0.28869\n",
      "syn_AdvVerbRatio         0.716102\n",
      "syn_AlternanceRate       0.485714\n",
      "Name: 0, dtype: object\n",
      "<class 'pandas.core.frame.DataFrame'>\n",
      "RangeIndex: 3858 entries, 0 to 3857\n",
      "Columns: 192 entries, Author to syn_AlternanceRate\n",
      "dtypes: float64(184), int64(1), object(7)\n",
      "memory usage: 5.7+ MB\n",
      "None\n"
     ]
    }
   ],
   "source": [
    "# Example: show lexical richness metrics for a text\n",
    "print(texts.loc[0, ['Author', 'syn_Complexity', 'syn_NomVerbRatio', 'syn_AdjNounRatio', 'syn_AdvVerbRatio', 'syn_AlternanceRate']])\n",
    "print(texts.info())"
   ]
  },
  {
   "cell_type": "markdown",
   "id": "36637095",
   "metadata": {},
   "source": [
    "## Punctuation"
   ]
  },
  {
   "cell_type": "code",
   "execution_count": 22,
   "id": "4cabd3a6",
   "metadata": {},
   "outputs": [
    {
     "name": "stdout",
     "output_type": "stream",
     "text": [
      "Author                       George Sand\n",
      "pun_Period_Count                      33\n",
      "pun_Comma_Count                      157\n",
      "pun_Semicolon_Count                   16\n",
      "pun_QuestionMark_Count                15\n",
      "pun_ExclamationMark_Count             12\n",
      "pun_Colon_Count                        5\n",
      "Name: 0, dtype: object\n"
     ]
    }
   ],
   "source": [
    "# Define a mapping of punctuation symbols to descriptive column names\n",
    "punct_marks = {'.': 'Period', ',': 'Comma', ';': 'Semicolon', '?': 'QuestionMark', '!': 'ExclamationMark', ':': 'Colon'}\n",
    "\n",
    "for symbol, name in punct_marks.items():\n",
    "    texts[f\"pun_{name}_Count\"] = texts['Tokens'].apply(lambda tokens: tokens.count(symbol))\n",
    "\n",
    "# Example: show punctuation counts for the first text\n",
    "print(texts.loc[0, ['Author'] + [f\"pun_{name}_Count\" for name in punct_marks.values()]])\n"
   ]
  },
  {
   "cell_type": "code",
   "execution_count": 23,
   "id": "280a5ab6",
   "metadata": {},
   "outputs": [
    {
     "name": "stdout",
     "output_type": "stream",
     "text": [
      "<class 'pandas.core.frame.DataFrame'>\n",
      "RangeIndex: 3858 entries, 0 to 3857\n",
      "Columns: 198 entries, Author to pun_Colon_Count\n",
      "dtypes: float64(184), int64(7), object(7)\n",
      "memory usage: 5.8+ MB\n",
      "None\n"
     ]
    }
   ],
   "source": [
    "print(texts.info())"
   ]
  },
  {
   "cell_type": "markdown",
   "id": "84622446",
   "metadata": {},
   "source": [
    "## Dependencies"
   ]
  },
  {
   "cell_type": "code",
   "execution_count": 24,
   "id": "7949b9f2",
   "metadata": {},
   "outputs": [],
   "source": [
    "def compute_dep_features(token_list):\n",
    "    doc = nlp_fr(\" \".join(token_list))\n",
    "    deps = {\"ccomp\", \"xcomp\", \"advcl\", \"relcl\", \"acl\", \"mark\"}\n",
    "    dep_counts = Counter(token.dep_ for token in doc)\n",
    "    return pd.Series({f\"dep_{d}\": dep_counts.get(d, 0) for d in deps})\n",
    "\n",
    "texts = pd.concat([texts, texts['Tokens'].apply(compute_dep_features)], axis=1)"
   ]
  },
  {
   "cell_type": "code",
   "execution_count": 25,
   "id": "5db392ad",
   "metadata": {},
   "outputs": [
    {
     "name": "stdout",
     "output_type": "stream",
     "text": [
      "Author       George Sand\n",
      "dep_ccomp             29\n",
      "dep_xcomp             54\n",
      "dep_advcl             29\n",
      "dep_relcl              0\n",
      "dep_acl               11\n",
      "dep_mark              97\n",
      "Name: 0, dtype: object\n",
      "<class 'pandas.core.frame.DataFrame'>\n",
      "RangeIndex: 3858 entries, 0 to 3857\n",
      "Columns: 204 entries, Author to dep_xcomp\n",
      "dtypes: float64(184), int64(13), object(7)\n",
      "memory usage: 6.0+ MB\n",
      "None\n"
     ]
    }
   ],
   "source": [
    "# Example: show lexical richness metrics for a text\n",
    "print(texts.loc[0, ['Author', 'dep_ccomp', 'dep_xcomp', 'dep_advcl', 'dep_relcl', 'dep_acl', 'dep_mark']])\n",
    "print(texts.info())"
   ]
  },
  {
   "cell_type": "markdown",
   "id": "148761dc",
   "metadata": {},
   "source": [
    "## Sentence metrics"
   ]
  },
  {
   "cell_type": "code",
   "execution_count": 26,
   "id": "3ac16862",
   "metadata": {},
   "outputs": [],
   "source": [
    "def compute_sentence_metrics_with_complexity(token_list):\n",
    "    # Count sentence-ending punctuation marks\n",
    "    sentence_enders = {'.', '!', '?'}\n",
    "    \n",
    "    # Count words (exclude all punctuation tokens)\n",
    "    sent_count = sum(token_list.count(sym) for sym in sentence_enders)\n",
    "    sent_count = max(sent_count, 1 if any(t not in punct_set for t in token_list) else 0)\n",
    "    word_count = sum(1 for t in token_list if t not in punct_set)\n",
    "    avg_sent_len = word_count / sent_count if sent_count > 0 else 0.0\n",
    "\n",
    "\n",
    "    return pd.Series({\n",
    "        \"sent_Count\": sent_count,\n",
    "        \"sent_AvgLength\": avg_sent_len\n",
    "    })\n",
    "\n",
    "sentence_df = texts['Tokens'].apply(compute_sentence_metrics_with_complexity)\n",
    "texts = pd.concat([texts, sentence_df], axis=1)"
   ]
  },
  {
   "cell_type": "code",
   "execution_count": 27,
   "id": "ea5adb01",
   "metadata": {},
   "outputs": [],
   "source": [
    "def compute_sentence_variation_features(token_list):\n",
    "    doc = nlp_fr(\" \".join(token_list))\n",
    "    sentences = list(doc.sents)\n",
    "    sentence_lengths = [len([tok for tok in sent if not tok.is_punct]) for sent in sentences]\n",
    "    sent_count = len(sentences)\n",
    "    total_words = sum(sentence_lengths)\n",
    "\n",
    "    avg_len = total_words / sent_count if sent_count > 0 else 0.0\n",
    "    std_len = np.std(sentence_lengths) if sentence_lengths else 0.0\n",
    "    min_len = min(sentence_lengths) if sentence_lengths else 0\n",
    "    max_len = max(sentence_lengths) if sentence_lengths else 0\n",
    "\n",
    "    passive_count = sum(\n",
    "        1 for tok in doc\n",
    "        if tok.dep_ == \"aux:pass\" or \n",
    "           (tok.head.lemma_ == \"être\" and tok.pos_ == \"VERB\" and \"VerbForm=Part\" in tok.morph)\n",
    "    )\n",
    "\n",
    "    intj_start = sum(1 for sent in sentences if len(sent) > 0 and sent[0].pos_ == \"INTJ\")\n",
    "    questions = sum(1 for sent in sentences if any(tok.text == \"?\" for tok in sent))\n",
    "    exclamations = sum(1 for sent in sentences if any(tok.text == \"!\" for tok in sent))\n",
    "\n",
    "    return pd.Series({\n",
    "        \"sent_MinLength\": min_len,\n",
    "        \"sent_MaxLength\": max_len,\n",
    "        \"sent_StdLength\": std_len,\n",
    "        \"sent_PassiveRatio\": passive_count / sent_count if sent_count > 0 else 0.0,\n",
    "        \"sent_Interrogative\": questions / sent_count if sent_count > 0 else 0.0,\n",
    "        \"sent_Exclamative\": exclamations / sent_count if sent_count > 0 else 0.0,\n",
    "        \"sent_Exclamative_INTJ\": intj_start / sent_count if sent_count > 0 else 0.0\n",
    "    })\n",
    "\n",
    "texts = pd.concat([texts, texts['Tokens'].apply(compute_sentence_variation_features)], axis=1)"
   ]
  },
  {
   "cell_type": "code",
   "execution_count": 28,
   "id": "b704c458",
   "metadata": {},
   "outputs": [
    {
     "name": "stdout",
     "output_type": "stream",
     "text": [
      "<class 'pandas.core.frame.DataFrame'>\n",
      "RangeIndex: 3858 entries, 0 to 3857\n",
      "Columns: 213 entries, Author to sent_Exclamative_INTJ\n",
      "dtypes: float64(193), int64(13), object(7)\n",
      "memory usage: 6.3+ MB\n"
     ]
    }
   ],
   "source": [
    "texts.info()"
   ]
  },
  {
   "cell_type": "markdown",
   "id": "6839461a",
   "metadata": {},
   "source": [
    "## Verb Tenses"
   ]
  },
  {
   "cell_type": "code",
   "execution_count": 29,
   "id": "d4aeb671",
   "metadata": {},
   "outputs": [],
   "source": [
    "# Define tense/mood patterns to track\n",
    "tense_patterns = {\n",
    "    \"tense_pres_ind\": (\"Tense=Pres\", \"Mood=Ind\"),\n",
    "    \"tense_past_ind\": (\"Tense=Past\", \"Mood=Ind\"),\n",
    "    \"tense_imp_ind\": (\"Tense=Imp\", \"Mood=Ind\"),\n",
    "    \"tense_cond\": (\"Mood=Cnd\",),\n",
    "    \"tense_subj\": (\"Mood=Sub\",),\n",
    "    \"tense_inf\": (\"VerbForm=Inf\",)\n",
    "}\n",
    "\n",
    "# Initialize dict of lists\n",
    "tense_counts = {k: [] for k in tense_patterns.keys()}\n",
    "\n",
    "for tokens in texts['Tokens']:\n",
    "    doc = nlp_fr(\" \".join(tokens))\n",
    "    verb_tokens = [t for t in doc if t.pos_ in {\"VERB\", \"AUX\"}]\n",
    "    total_verbs = len(verb_tokens)\n",
    "    \n",
    "    for label, conditions in tense_patterns.items():\n",
    "        count = sum(\n",
    "            all(cond in t.morph.to_json() for cond in conditions)\n",
    "            for t in verb_tokens\n",
    "        )\n",
    "        tense_counts[label].append(count / total_verbs if total_verbs > 0 else 0.0)\n",
    "\n",
    "# Add to DataFrame\n",
    "for label, vals in tense_counts.items():\n",
    "    texts[label] = vals\n"
   ]
  },
  {
   "cell_type": "code",
   "execution_count": 30,
   "id": "4c0f9247",
   "metadata": {},
   "outputs": [
    {
     "name": "stdout",
     "output_type": "stream",
     "text": [
      "<class 'pandas.core.frame.DataFrame'>\n",
      "RangeIndex: 3858 entries, 0 to 3857\n",
      "Columns: 219 entries, Author to tense_inf\n",
      "dtypes: float64(199), int64(13), object(7)\n",
      "memory usage: 6.4+ MB\n",
      "None\n"
     ]
    }
   ],
   "source": [
    "print(texts.info())"
   ]
  },
  {
   "cell_type": "markdown",
   "id": "3ee2dc03",
   "metadata": {},
   "source": [
    "## Others"
   ]
  },
  {
   "cell_type": "code",
   "execution_count": 31,
   "id": "ad45c021",
   "metadata": {},
   "outputs": [],
   "source": [
    "coord_conjs = {\"et\", \"ou\", \"mais\", \"ni\", \"donc\", \"or\", \"car\"}\n",
    "subord_conjs = {\"que\", \"quand\", \"si\", \"comme\", \"lorsque\", \"puisque\", \"bien que\", \"afin que\", \"parce que\"}\n",
    "discursive_markers = {\"donc\", \"cependant\", \"toutefois\", \"néanmoins\", \"ainsi\", \"en effet\", \"or\", \"en revanche\", \"par conséquent\", \"en outre\"}\n",
    "\n",
    "def compute_discursive_features(token_list):\n",
    "    coord_count = sum(1 for t in token_list if t.lower() in coord_conjs)\n",
    "    subord_count = sum(1 for t in token_list if t.lower() in subord_conjs)\n",
    "    disc_count = sum(1 for t in token_list if t.lower() in discursive_markers)\n",
    "    ratio = subord_count / (coord_count + 1)\n",
    "    return pd.Series({\n",
    "        \"syn_CoordCount\": coord_count,\n",
    "        \"syn_SubordCount\": subord_count,\n",
    "        \"syn_SubCoordRatio\": ratio,\n",
    "        \"lex_MarkerCount\": disc_count\n",
    "    })\n",
    "\n",
    "texts = pd.concat([texts, texts['Tokens'].apply(compute_discursive_features)], axis=1)"
   ]
  },
  {
   "cell_type": "markdown",
   "id": "d1b91c31",
   "metadata": {},
   "source": [
    "## Character Metrics - ngrams"
   ]
  },
  {
   "cell_type": "code",
   "execution_count": 29,
   "id": "22bc7b27",
   "metadata": {},
   "outputs": [
    {
     "data": {
      "text/plain": [
       "'\\n\\ndef reconstruct_text(token_list):\\n    \"\"\"Reconstruct text string from tokens, inserting spaces appropriately.\"\"\"\\n    text = \"\"\\n    for token in token_list:\\n        if token in punct_set:\\n            # Attach punctuation directly to the text (no preceding space)\\n            text += token\\n        else:\\n            # If not the first token, add a space before adding the word\\n            if text:\\n                text += \" \"\\n            text += token\\n    return text\\n\\n# List to collect n-gram frequency dictionaries for each text\\nchar_ngram_features = []\\n\\nfor token_list in texts[\\'Tokens\\']:\\n    text = reconstruct_text(token_list)\\n    # Initialize a dict for this text\\'s n-grams\\n    ngram_counts = {}\\n    # Character bigrams (2-grams)\\n    for i in range(len(text) - 1):\\n        bigram = text[i:i+2]\\n        # Use an underscore to represent spaces in feature names for clarity\\n        feat_name = \"bi_\" + bigram.replace(\" \", \"_\")\\n        ngram_counts[feat_name] = ngram_counts.get(feat_name, 0) + 1\\n    # Character trigrams (3-grams)\\n    for i in range(len(text) - 2):\\n        trigram = text[i:i+3]\\n        feat_name = \"tri_\" + trigram.replace(\" \", \"_\")\\n        ngram_counts[feat_name] = ngram_counts.get(feat_name, 0) + 1\\n    char_ngram_features.append(ngram_counts)\\n\\n# Convert list of dicts to DataFrame (each n-gram becomes a column, fill missing with 0)\\nchar_ngram_df = pd.DataFrame(char_ngram_features).fillna(0).astype(int)\\n# Merge the n-gram features into the main DataFrame\\ntexts = pd.concat([texts, char_ngram_df], axis=1)\\n\\n# Example: number of character n-gram feature columns\\nprint(f\"Total character n-gram features: {char_ngram_df.shape[1]}\")\\n# Show a small sample of character n-gram features for the first text\\nprint(texts.loc[0, [col for col in texts.columns if col.startswith(\\'bi_\\')][:5]])\\n\\n\\n\\n'"
      ]
     },
     "execution_count": 29,
     "metadata": {},
     "output_type": "execute_result"
    }
   ],
   "source": [
    "# Commented out as it added too much features for too little gain\n",
    "\n",
    "'''\n",
    "\n",
    "def reconstruct_text(token_list):\n",
    "    \"\"\"Reconstruct text string from tokens, inserting spaces appropriately.\"\"\"\n",
    "    text = \"\"\n",
    "    for token in token_list:\n",
    "        if token in punct_set:\n",
    "            # Attach punctuation directly to the text (no preceding space)\n",
    "            text += token\n",
    "        else:\n",
    "            # If not the first token, add a space before adding the word\n",
    "            if text:\n",
    "                text += \" \"\n",
    "            text += token\n",
    "    return text\n",
    "\n",
    "# List to collect n-gram frequency dictionaries for each text\n",
    "char_ngram_features = []\n",
    "\n",
    "for token_list in texts['Tokens']:\n",
    "    text = reconstruct_text(token_list)\n",
    "    # Initialize a dict for this text's n-grams\n",
    "    ngram_counts = {}\n",
    "    # Character bigrams (2-grams)\n",
    "    for i in range(len(text) - 1):\n",
    "        bigram = text[i:i+2]\n",
    "        # Use an underscore to represent spaces in feature names for clarity\n",
    "        feat_name = \"bi_\" + bigram.replace(\" \", \"_\")\n",
    "        ngram_counts[feat_name] = ngram_counts.get(feat_name, 0) + 1\n",
    "    # Character trigrams (3-grams)\n",
    "    for i in range(len(text) - 2):\n",
    "        trigram = text[i:i+3]\n",
    "        feat_name = \"tri_\" + trigram.replace(\" \", \"_\")\n",
    "        ngram_counts[feat_name] = ngram_counts.get(feat_name, 0) + 1\n",
    "    char_ngram_features.append(ngram_counts)\n",
    "\n",
    "# Convert list of dicts to DataFrame (each n-gram becomes a column, fill missing with 0)\n",
    "char_ngram_df = pd.DataFrame(char_ngram_features).fillna(0).astype(int)\n",
    "# Merge the n-gram features into the main DataFrame\n",
    "texts = pd.concat([texts, char_ngram_df], axis=1)\n",
    "\n",
    "# Example: number of character n-gram feature columns\n",
    "print(f\"Total character n-gram features: {char_ngram_df.shape[1]}\")\n",
    "# Show a small sample of character n-gram features for the first text\n",
    "print(texts.loc[0, [col for col in texts.columns if col.startswith('bi_')][:5]])\n",
    "\n",
    "\n",
    "\n",
    "'''\n",
    "\n"
   ]
  },
  {
   "cell_type": "markdown",
   "id": "c4e2566b",
   "metadata": {},
   "source": [
    "## Figure of Speech Tagging"
   ]
  },
  {
   "cell_type": "markdown",
   "id": "50e3f82e",
   "metadata": {},
   "source": [
    "### Create function for LLM Figure of Speech labeling"
   ]
  },
  {
   "cell_type": "code",
   "execution_count": 32,
   "id": "d77d534f",
   "metadata": {},
   "outputs": [],
   "source": [
    "load_dotenv()\n",
    "openai.api_key = os.getenv(\"OPENAI_API_KEY\")"
   ]
  },
  {
   "cell_type": "code",
   "execution_count": 33,
   "id": "6515d294",
   "metadata": {},
   "outputs": [],
   "source": [
    "def call_llm(phrases_input: List[str], retry_context: str = None) -> str:\n",
    "   if retry_context:\n",
    "      prompt = (\n",
    "         f\"J'ai tenté d'analyser ta réponse comme un JSON, mais j'ai obtenu l'erreur suivante :\\n\"\n",
    "         f\"{retry_context}\\n\\n\"\n",
    "         \"Corrige uniquement le **format JSON** de ta réponse précédente. Ne modifie en rien le contenu, même s'il contient des erreurs logiques.\\n\\n\"\n",
    "         \"La structure attendue est une **liste de dictionnaires**, comme ceci :\\n\"\n",
    "         '[\\n'\n",
    "         '  {\"phrase\": \"...\", \"Comparaison\": ..., \"Métaphore\": ..., \"Personnification\": ..., ..., \"Euphémisme\": ...},\\n'\n",
    "         '  ...\\n'\n",
    "         ']\\n\\n'\n",
    "         \"⚠️ Important : Ne renvoie **aucun texte en dehors du JSON**. Pas d'explication, pas d'introduction, pas de commentaire. Juste un JSON pur et bien formé.\"\n",
    "      )\n",
    "   else:\n",
    "      prompt = f\"\"\"\n",
    "Tu es un expert en analyse littéraire. Analyse les phrases suivantes et indique pour chacune quelles figures de style elle contient, en te basant sur cette liste. Pour chaque phrase, renvoie un dictionnaire avec les figures suivantes comme clés, et `true` ou `false` comme valeur.\n",
    "\n",
    "Voici les figures à analyser avec à chaque fois leur définition et un exemple :\n",
    "1. **Comparaison** : Mise en relation d’un comparé et d’un comparant avec un outil (comme, tel, semblable à, etc.).\n",
    "   Exemple : « Cet homme est bête comme ses pieds »\n",
    "2. **Métaphore** : Comparaison sans outil de comparaison.\n",
    "   Exemple : « Ses cheveux de miel. »\n",
    "3. **Personnification** : Attribution de caractéristiques humaines à un objet ou un animal.\n",
    "   Exemple : « Le stylo saute de la table »\n",
    "4. **Hyperbole** : Exagération dans le but de frapper l’imagination.\n",
    "   Exemple : « Je meurs de faim »\n",
    "5. **Litote** : Dire moins pour faire entendre plus.\n",
    "   Exemple : « Je ne te hais point »\n",
    "6. **Antithèse** : Opposition très forte entre deux idées.\n",
    "   Exemple : « Je vis, je meurs »\n",
    "7. **Oxymore** : Réunion de deux termes opposés dans un même groupe de mots.\n",
    "   Exemple : « Une obscure clarté »\n",
    "8. **Répétition** : Reprise d’un même mot plusieurs fois.\n",
    "   Exemple : « La guerre, la guerre, la guerre ! »\n",
    "9. **Énumération** : Accumulation de mots de même nature grammaticale.\n",
    "   Exemple : « Il mange des pommes, des poires, des bananes et des kiwis. »\n",
    "10. **Euphémisme** : Expression atténuée d’une idée jugée brutale.\n",
    "   Exemple : « Il nous a quittés » (pour \"il est mort\")\n",
    "\n",
    "Exemple de sortie attendue pour une phrase :\n",
    "{{\"phrase\": \"Je meurs de faim\", \"Hyperbole\": true, \"Comparaison\": false, ..., \"Euphémisme\": false}}\n",
    "\n",
    "Analyse les phrases suivantes :\n",
    "{json.dumps(phrases_input, ensure_ascii=False, indent=2)}\n",
    "\n",
    "Réponds uniquement avec une liste de dictionnaires JSON, un par phrase, au format :\n",
    "[\n",
    "  {{\"phrase\": \"...\", \"Comparaison\": ..., \"Métaphore\": ..., ...}},\n",
    "  ...\n",
    "]\n",
    "\n",
    "Réponds uniquement avec une liste JSON sans aucun commentaire ni explication. Chaque élément doit être un dictionnaire contenant les clés demandées.\n",
    "\"\"\"\n",
    "   response = openai.chat.completions.create(\n",
    "      model=\"gpt-4.1-nano-2025-04-14\",\n",
    "      messages=[{\"role\": \"user\", \"content\": prompt}],\n",
    "      temperature=0,\n",
    "      max_tokens=2000\n",
    "   )\n",
    "   return response.choices[0].message.content\n",
    "     \n",
    "def detect_figures_batch(phrases: List[str]) -> List[dict]:\n",
    "\n",
    "   retries = 3\n",
    "   generated = \"\"\n",
    "   error_message = \"\"\n",
    "\n",
    "   for attempt in range(retries):\n",
    "      try:\n",
    "         generated = call_llm(phrases, error_message if attempt > 0 else None)\n",
    "         result = json.loads(generated)\n",
    "\n",
    "         # ✅ Vérifie que chaque élément de la liste est bien un dict\n",
    "         if isinstance(result, list) and all(isinstance(x, dict) for x in result):\n",
    "               return result  # ✅ Parsing réussi\n",
    "         else:\n",
    "               raise json.JSONDecodeError(\n",
    "                  \"Certains éléments ne sont pas des dictionnaires\", generated, 0\n",
    "               )\n",
    "\n",
    "      except json.JSONDecodeError as e:\n",
    "         error_message = f\"JSONDecodeError: {str(e)}\\nContenu reçu :\\n{generated}\"\n",
    "         print(f\"⚠️ Tentative {attempt+1} — erreur de parsing : {str(e)}\")\n",
    "\n",
    "   # ❌ Si toujours pas bon après 3 tentatives, stocke pour inspection\n",
    "   print(\"❌ Parsing échoué après 3 tentatives. Contenu mis de côté pour inspection.\")\n",
    "   with open(\"parsing_failures.log\", \"a\", encoding=\"utf-8\") as f:\n",
    "      f.write(f\"\\n\\n--- Échec sur batch ---\\nEntrée :\\n{json.dumps(phrases, ensure_ascii=False)}\\nSortie brute :\\n{generated}\\n\")\n",
    "\n",
    "   return []\n"
   ]
  },
  {
   "cell_type": "code",
   "execution_count": 34,
   "id": "011d07eb",
   "metadata": {},
   "outputs": [
    {
     "name": "stdout",
     "output_type": "stream",
     "text": [
      "                                              phrase  Comparaison  Métaphore  \\\n",
      "0                               Je ne te hais point.        False      False   \n",
      "1                La terre est ronde comme un orange.         True      False   \n",
      "2          Son regard sombre est un soleil nocturne.        False       True   \n",
      "3                              Il est parti au ciel.        False       True   \n",
      "4             Je n'ai jamais rien mangé d'aussi bon!        False      False   \n",
      "5            Je suis français, polonais et français.        False      False   \n",
      "6   Le chien me parla de ses impots, puis il se tut.        False      False   \n",
      "7                                     C'est un test.        False      False   \n",
      "8  Un petit pas pour l'homme, un grand pas pour l...        False      False   \n",
      "9                         Elle a les yeux revolvers.        False       True   \n",
      "\n",
      "   Personnification  Hyperbole  Litote  Antithèse  Oxymore  Répétition  \\\n",
      "0             False      False    True      False    False       False   \n",
      "1             False      False   False      False    False       False   \n",
      "2             False      False   False      False    False       False   \n",
      "3             False      False   False      False    False       False   \n",
      "4             False       True   False      False    False       False   \n",
      "5             False      False   False      False    False        True   \n",
      "6              True      False   False      False    False       False   \n",
      "7             False      False   False      False    False       False   \n",
      "8             False      False   False       True    False       False   \n",
      "9             False      False   False      False    False       False   \n",
      "\n",
      "   Énumération  Euphémisme  \n",
      "0        False       False  \n",
      "1        False       False  \n",
      "2        False       False  \n",
      "3        False       False  \n",
      "4        False       False  \n",
      "5         True       False  \n",
      "6        False       False  \n",
      "7        False       False  \n",
      "8        False       False  \n",
      "9        False       False  \n"
     ]
    }
   ],
   "source": [
    "print(pd.DataFrame(detect_figures_batch(['Je ne te hais point.', 'La terre est ronde comme un orange.', \n",
    "                      'Son regard sombre est un soleil nocturne.', 'Il est parti au ciel.',\n",
    "                      'Je n\\'ai jamais rien mangé d\\'aussi bon!', 'Je suis français, polonais et français.',\n",
    "                      'Le chien me parla de ses impots, puis il se tut.', 'C\\'est un test.',\n",
    "                      'Un petit pas pour l\\'homme, un grand pas pour l\\'humanité.', 'Elle a les yeux revolvers.'])))  # Example usage"
   ]
  },
  {
   "cell_type": "markdown",
   "id": "08c6eba7",
   "metadata": {},
   "source": [
    "### Evaluate the LLM labeling function"
   ]
  },
  {
   "cell_type": "code",
   "execution_count": 35,
   "id": "cb7473cf",
   "metadata": {},
   "outputs": [
    {
     "name": "stdout",
     "output_type": "stream",
     "text": [
      "28\n",
      "<class 'pandas.core.frame.DataFrame'>\n",
      "RangeIndex: 28 entries, 0 to 27\n",
      "Data columns (total 2 columns):\n",
      " #   Column    Non-Null Count  Dtype \n",
      "---  ------    --------------  ----- \n",
      " 0   ÔªøTexte  28 non-null     object\n",
      " 1   Figure    28 non-null     object\n",
      "dtypes: object(2)\n",
      "memory usage: 580.0+ bytes\n",
      "None\n",
      "                                            ÔªøTexte            Figure\n",
      "0             Cette journ√©e a dur√© une √©ternit√©.         Hyperbole\n",
      "1  C'est un coin de verdure o√π chante une rivi√®re.  Personnification\n",
      "2       Tu n'as pas √©t√© malchanceux √† ce jeu-l√†.            Litote\n",
      "3                Pierre est rouge comme une pivoine.       Comparaison\n",
      "4  Paris est tout petit, c'est l√† sa vraie grand...        Antith√®se\n",
      "                                      ÔªøTexte       Figure\n",
      "count                                       28           28\n",
      "unique                                      28           10\n",
      "top     Cette journ√©e a dur√© une √©ternit√©.  Comparaison\n",
      "freq                                         1            5\n"
     ]
    }
   ],
   "source": [
    "# Load the test dataset\n",
    "fig_df = pd.read_csv(\"../Data/figures.csv\", encoding=\"MacRoman\", sep=\";\",)\n",
    "print(len(fig_df))\n",
    "print(fig_df.info())\n",
    "print(fig_df.head())\n",
    "print(fig_df.describe())"
   ]
  },
  {
   "cell_type": "code",
   "execution_count": 36,
   "id": "1edff8ed",
   "metadata": {},
   "outputs": [],
   "source": [
    "# En attendant le vrai fig_df\n",
    "\n",
    "fig_df = pd.DataFrame(detect_figures_batch(['Je ne te hais point.', 'La terre est ronde comme un orange.', \n",
    "                      'Son regard sombre est un soleil nocturne.', 'Il est parti au ciel.',\n",
    "                      'Je n\\'ai jamais rien mangé d\\'aussi bon!', 'Je suis français, polonais et français.',\n",
    "                      'Le chien me parla de ses impots, puis il se tut.', 'C\\'est un test.',\n",
    "                      'Un petit pas pour l\\'homme, un grand pas pour l\\'humanité.', 'Elle a les yeux revolvers.']))"
   ]
  },
  {
   "cell_type": "code",
   "execution_count": 37,
   "id": "4396a837",
   "metadata": {},
   "outputs": [
    {
     "name": "stdout",
     "output_type": "stream",
     "text": [
      "10\n",
      "<class 'pandas.core.frame.DataFrame'>\n",
      "RangeIndex: 10 entries, 0 to 9\n",
      "Data columns (total 11 columns):\n",
      " #   Column            Non-Null Count  Dtype \n",
      "---  ------            --------------  ----- \n",
      " 0   phrase            10 non-null     object\n",
      " 1   Comparaison       10 non-null     bool  \n",
      " 2   Métaphore         10 non-null     bool  \n",
      " 3   Personnification  10 non-null     bool  \n",
      " 4   Hyperbole         10 non-null     bool  \n",
      " 5   Litote            10 non-null     bool  \n",
      " 6   Antithèse         10 non-null     bool  \n",
      " 7   Oxymore           10 non-null     bool  \n",
      " 8   Répétition        10 non-null     bool  \n",
      " 9   Énumération       10 non-null     bool  \n",
      " 10  Euphémisme        10 non-null     bool  \n",
      "dtypes: bool(10), object(1)\n",
      "memory usage: 312.0+ bytes\n",
      "None\n",
      "                                      phrase  Comparaison  Métaphore  \\\n",
      "0                       Je ne te hais point.        False      False   \n",
      "1        La terre est ronde comme un orange.         True      False   \n",
      "2  Son regard sombre est un soleil nocturne.        False       True   \n",
      "3                      Il est parti au ciel.        False      False   \n",
      "4     Je n'ai jamais rien mangé d'aussi bon!        False      False   \n",
      "\n",
      "   Personnification  Hyperbole  Litote  Antithèse  Oxymore  Répétition  \\\n",
      "0             False      False    True      False    False       False   \n",
      "1             False      False   False      False    False       False   \n",
      "2             False      False   False      False    False       False   \n",
      "3             False      False   False      False    False       False   \n",
      "4             False       True   False      False    False       False   \n",
      "\n",
      "   Énumération  Euphémisme  \n",
      "0        False        True  \n",
      "1        False       False  \n",
      "2        False       False  \n",
      "3        False        True  \n",
      "4        False       False  \n",
      "                      phrase Comparaison Métaphore Personnification Hyperbole  \\\n",
      "count                     10          10        10               10        10   \n",
      "unique                    10           2         2                2         2   \n",
      "top     Je ne te hais point.       False     False            False     False   \n",
      "freq                       1           9         8                9         9   \n",
      "\n",
      "       Litote Antithèse Oxymore Répétition Énumération Euphémisme  \n",
      "count      10        10      10         10          10         10  \n",
      "unique      2         2       1          2           2          2  \n",
      "top     False     False   False      False       False      False  \n",
      "freq        9         9      10          9           9          8  \n"
     ]
    }
   ],
   "source": [
    "print(len(fig_df))\n",
    "print(fig_df.info())\n",
    "print(fig_df.head())\n",
    "print(fig_df.describe())"
   ]
  },
  {
   "cell_type": "code",
   "execution_count": 38,
   "id": "608402ec",
   "metadata": {},
   "outputs": [],
   "source": [
    "# List of figures (columns, excluding 'phrase')\n",
    "FIGURES = [\n",
    "    \"Comparaison\", \"Métaphore\", \"Personnification\", \"Hyperbole\", \"Litote\",\n",
    "    \"Antithèse\", \"Oxymore\", \"Répétition\", \"Énumération\", \"Euphémisme\"\n",
    "]\n",
    "\n",
    "# Evaluation function\n",
    "def evaluate_figure_detector(fig_df: pd.DataFrame, batch_size: int = 10):\n",
    "    all_preds = []\n",
    "    all_truths = []\n",
    "\n",
    "    for i in tqdm(range(0, len(fig_df), batch_size)):\n",
    "        batch = fig_df.iloc[i:i+batch_size]\n",
    "        phrases = batch[\"phrase\"].tolist()\n",
    "        truths = batch[FIGURES].astype(bool).values.tolist()\n",
    "\n",
    "        try:\n",
    "            preds = detect_figures_batch(phrases)\n",
    "        except Exception as e:\n",
    "            print(f\"Error during prediction for batch {i}: {e}\")\n",
    "            continue\n",
    "\n",
    "        # Ensure alignment of predictions and formatting\n",
    "        pred_values = [[pred[fig] for fig in FIGURES] for pred in preds]\n",
    "        all_preds.extend(pred_values)\n",
    "        all_truths.extend(truths)\n",
    "\n",
    "    # Convert to numpy arrays\n",
    "    y_true = np.array(all_truths, dtype=bool)\n",
    "    y_pred = np.array(all_preds, dtype=bool)\n",
    "\n",
    "    # Overall macro metrics\n",
    "    macro_accuracy = accuracy_score(y_true, y_pred)\n",
    "    macro_f1 = f1_score(y_true, y_pred, average='macro')\n",
    "\n",
    "    # Per-label metrics\n",
    "    report = classification_report(y_true, y_pred, target_names=FIGURES, output_dict=True)\n",
    "\n",
    "    return {\n",
    "        \"macro_accuracy\": macro_accuracy,\n",
    "        \"macro_f1\": macro_f1,\n",
    "        \"per_figure_metrics\": report\n",
    "    }\n",
    "\n",
    "def print_evaluation_results(results, figures):\n",
    "    print(\"\\n🔍 Evaluation Results\")\n",
    "    print(\"-\" * 40)\n",
    "    print(f\"✅ Macro Accuracy: {results['macro_accuracy']:.2f}\")\n",
    "    print(f\"✅ Macro F1 Score: {results['macro_f1']:.2f}\")\n",
    "    print(\"-\" * 40)\n",
    "\n",
    "    print(\"\\n📊 Per-Figure Metrics:\")\n",
    "    rows = []\n",
    "    for fig in figures:\n",
    "        fig_metrics = results[\"per_figure_metrics\"].get(fig, {})\n",
    "        precision = fig_metrics.get(\"precision\", 0.0)\n",
    "        recall = fig_metrics.get(\"recall\", 0.0)\n",
    "        f1 = fig_metrics.get(\"f1-score\", 0.0)\n",
    "        support = fig_metrics.get(\"support\", 0)\n",
    "        rows.append({\n",
    "            \"Figure\": fig,\n",
    "            \"Precision\": f\"{precision:.2f}\",\n",
    "            \"Recall\": f\"{recall:.2f}\",\n",
    "            \"F1-Score\": f\"{f1:.2f}\",\n",
    "            \"Support\": int(support),\n",
    "        })\n",
    "\n",
    "    df = pd.DataFrame(rows)\n",
    "    print(df.to_markdown(index=False))\n"
   ]
  },
  {
   "cell_type": "code",
   "execution_count": 39,
   "id": "e6a33d50",
   "metadata": {},
   "outputs": [
    {
     "name": "stderr",
     "output_type": "stream",
     "text": [
      "100%|██████████| 1/1 [00:05<00:00,  5.19s/it]"
     ]
    },
    {
     "name": "stdout",
     "output_type": "stream",
     "text": [
      "\n",
      "🔍 Evaluation Results\n",
      "----------------------------------------\n",
      "✅ Macro Accuracy: 0.80\n",
      "✅ Macro F1 Score: 0.77\n",
      "----------------------------------------\n",
      "\n",
      "📊 Per-Figure Metrics:\n",
      "| Figure           |   Precision |   Recall |   F1-Score |   Support |\n",
      "|:-----------------|------------:|---------:|-----------:|----------:|\n",
      "| Comparaison      |           1 |      1   |       1    |         1 |\n",
      "| Métaphore        |           1 |      1   |       1    |         2 |\n",
      "| Personnification |           1 |      1   |       1    |         1 |\n",
      "| Hyperbole        |           1 |      1   |       1    |         1 |\n",
      "| Litote           |           1 |      1   |       1    |         1 |\n",
      "| Antithèse        |           0 |      0   |       0    |         1 |\n",
      "| Oxymore          |           0 |      0   |       0    |         0 |\n",
      "| Répétition       |           1 |      1   |       1    |         1 |\n",
      "| Énumération      |           1 |      1   |       1    |         1 |\n",
      "| Euphémisme       |           1 |      0.5 |       0.67 |         2 |\n"
     ]
    },
    {
     "name": "stderr",
     "output_type": "stream",
     "text": [
      "\n",
      "/Users/hadrienstrichard/Library/Caches/pypoetry/virtualenvs/research-paper-9dnSQuhV-py3.12/lib/python3.12/site-packages/sklearn/metrics/_classification.py:1565: UndefinedMetricWarning: F-score is ill-defined and being set to 0.0 in labels with no true nor predicted samples. Use `zero_division` parameter to control this behavior.\n",
      "  _warn_prf(average, modifier, f\"{metric.capitalize()} is\", len(result))\n",
      "/Users/hadrienstrichard/Library/Caches/pypoetry/virtualenvs/research-paper-9dnSQuhV-py3.12/lib/python3.12/site-packages/sklearn/metrics/_classification.py:1565: UndefinedMetricWarning: Precision is ill-defined and being set to 0.0 in labels with no predicted samples. Use `zero_division` parameter to control this behavior.\n",
      "  _warn_prf(average, modifier, f\"{metric.capitalize()} is\", len(result))\n",
      "/Users/hadrienstrichard/Library/Caches/pypoetry/virtualenvs/research-paper-9dnSQuhV-py3.12/lib/python3.12/site-packages/sklearn/metrics/_classification.py:1565: UndefinedMetricWarning: Recall is ill-defined and being set to 0.0 in labels with no true samples. Use `zero_division` parameter to control this behavior.\n",
      "  _warn_prf(average, modifier, f\"{metric.capitalize()} is\", len(result))\n",
      "/Users/hadrienstrichard/Library/Caches/pypoetry/virtualenvs/research-paper-9dnSQuhV-py3.12/lib/python3.12/site-packages/sklearn/metrics/_classification.py:1565: UndefinedMetricWarning: F-score is ill-defined and being set to 0.0 in labels with no true nor predicted samples. Use `zero_division` parameter to control this behavior.\n",
      "  _warn_prf(average, modifier, f\"{metric.capitalize()} is\", len(result))\n",
      "/Users/hadrienstrichard/Library/Caches/pypoetry/virtualenvs/research-paper-9dnSQuhV-py3.12/lib/python3.12/site-packages/sklearn/metrics/_classification.py:1565: UndefinedMetricWarning: Precision is ill-defined and being set to 0.0 in samples with no predicted labels. Use `zero_division` parameter to control this behavior.\n",
      "  _warn_prf(average, modifier, f\"{metric.capitalize()} is\", len(result))\n",
      "/Users/hadrienstrichard/Library/Caches/pypoetry/virtualenvs/research-paper-9dnSQuhV-py3.12/lib/python3.12/site-packages/sklearn/metrics/_classification.py:1565: UndefinedMetricWarning: Recall is ill-defined and being set to 0.0 in samples with no true labels. Use `zero_division` parameter to control this behavior.\n",
      "  _warn_prf(average, modifier, f\"{metric.capitalize()} is\", len(result))\n",
      "/Users/hadrienstrichard/Library/Caches/pypoetry/virtualenvs/research-paper-9dnSQuhV-py3.12/lib/python3.12/site-packages/sklearn/metrics/_classification.py:1565: UndefinedMetricWarning: F-score is ill-defined and being set to 0.0 in samples with no true nor predicted labels. Use `zero_division` parameter to control this behavior.\n",
      "  _warn_prf(average, modifier, f\"{metric.capitalize()} is\", len(result))\n"
     ]
    }
   ],
   "source": [
    "results = evaluate_figure_detector(fig_df, batch_size=10)\n",
    "print_evaluation_results(results, FIGURES)"
   ]
  },
  {
   "cell_type": "markdown",
   "id": "ed22bbaf",
   "metadata": {},
   "source": [
    "### Tuning batch size"
   ]
  },
  {
   "cell_type": "code",
   "execution_count": 40,
   "id": "38b0eddd",
   "metadata": {},
   "outputs": [],
   "source": [
    "def batch_size_tuning(fig_df, max_batch_size=10):\n",
    "    batch_sizes = list(range(1, max_batch_size + 1))\n",
    "    accuracies = []\n",
    "    f1_scores = []\n",
    "\n",
    "    for bsize in batch_sizes:\n",
    "        print(f\"🔄 Evaluating with batch_size = {bsize}\")\n",
    "        results = evaluate_figure_detector(fig_df, batch_size=bsize)\n",
    "        accuracies.append(results[\"macro_accuracy\"])\n",
    "        f1_scores.append(results[\"macro_f1\"])\n",
    "\n",
    "    # Plot results\n",
    "    plt.figure(figsize=(10, 5))\n",
    "    plt.plot(batch_sizes, accuracies, marker='o', label=\"Macro Accuracy\")\n",
    "    plt.plot(batch_sizes, f1_scores, marker='s', label=\"Macro F1 Score\")\n",
    "    plt.title(\"Impact of Batch Size on Evaluation Metrics\")\n",
    "    plt.xlabel(\"Batch Size\")\n",
    "    plt.ylabel(\"Score\")\n",
    "    plt.xticks(batch_sizes)\n",
    "    plt.ylim(0, 1.05)\n",
    "    plt.grid(True)\n",
    "    plt.legend()\n",
    "    plt.tight_layout()\n",
    "    plt.show()\n",
    "\n",
    "    return {\n",
    "        \"batch_sizes\": batch_sizes,\n",
    "        \"macro_accuracy\": accuracies,\n",
    "        \"macro_f1\": f1_scores\n",
    "    }\n"
   ]
  },
  {
   "cell_type": "code",
   "execution_count": 41,
   "id": "b4eca6cb",
   "metadata": {},
   "outputs": [
    {
     "name": "stdout",
     "output_type": "stream",
     "text": [
      "🔄 Evaluating with batch_size = 1\n"
     ]
    },
    {
     "name": "stderr",
     "output_type": "stream",
     "text": [
      "100%|██████████| 10/10 [00:10<00:00,  1.02s/it]\n",
      "/Users/hadrienstrichard/Library/Caches/pypoetry/virtualenvs/research-paper-9dnSQuhV-py3.12/lib/python3.12/site-packages/sklearn/metrics/_classification.py:1565: UndefinedMetricWarning: Precision is ill-defined and being set to 0.0 in labels with no predicted samples. Use `zero_division` parameter to control this behavior.\n",
      "  _warn_prf(average, modifier, f\"{metric.capitalize()} is\", len(result))\n",
      "/Users/hadrienstrichard/Library/Caches/pypoetry/virtualenvs/research-paper-9dnSQuhV-py3.12/lib/python3.12/site-packages/sklearn/metrics/_classification.py:1565: UndefinedMetricWarning: Recall is ill-defined and being set to 0.0 in labels with no true samples. Use `zero_division` parameter to control this behavior.\n",
      "  _warn_prf(average, modifier, f\"{metric.capitalize()} is\", len(result))\n",
      "/Users/hadrienstrichard/Library/Caches/pypoetry/virtualenvs/research-paper-9dnSQuhV-py3.12/lib/python3.12/site-packages/sklearn/metrics/_classification.py:1565: UndefinedMetricWarning: Precision is ill-defined and being set to 0.0 in samples with no predicted labels. Use `zero_division` parameter to control this behavior.\n",
      "  _warn_prf(average, modifier, f\"{metric.capitalize()} is\", len(result))\n",
      "/Users/hadrienstrichard/Library/Caches/pypoetry/virtualenvs/research-paper-9dnSQuhV-py3.12/lib/python3.12/site-packages/sklearn/metrics/_classification.py:1565: UndefinedMetricWarning: Recall is ill-defined and being set to 0.0 in samples with no true labels. Use `zero_division` parameter to control this behavior.\n",
      "  _warn_prf(average, modifier, f\"{metric.capitalize()} is\", len(result))\n",
      "/Users/hadrienstrichard/Library/Caches/pypoetry/virtualenvs/research-paper-9dnSQuhV-py3.12/lib/python3.12/site-packages/sklearn/metrics/_classification.py:1565: UndefinedMetricWarning: F-score is ill-defined and being set to 0.0 in samples with no true nor predicted labels. Use `zero_division` parameter to control this behavior.\n",
      "  _warn_prf(average, modifier, f\"{metric.capitalize()} is\", len(result))\n"
     ]
    },
    {
     "name": "stdout",
     "output_type": "stream",
     "text": [
      "🔄 Evaluating with batch_size = 2\n"
     ]
    },
    {
     "name": "stderr",
     "output_type": "stream",
     "text": [
      "100%|██████████| 5/5 [00:07<00:00,  1.44s/it]\n",
      "/Users/hadrienstrichard/Library/Caches/pypoetry/virtualenvs/research-paper-9dnSQuhV-py3.12/lib/python3.12/site-packages/sklearn/metrics/_classification.py:1565: UndefinedMetricWarning: Precision is ill-defined and being set to 0.0 in labels with no predicted samples. Use `zero_division` parameter to control this behavior.\n",
      "  _warn_prf(average, modifier, f\"{metric.capitalize()} is\", len(result))\n",
      "/Users/hadrienstrichard/Library/Caches/pypoetry/virtualenvs/research-paper-9dnSQuhV-py3.12/lib/python3.12/site-packages/sklearn/metrics/_classification.py:1565: UndefinedMetricWarning: Recall is ill-defined and being set to 0.0 in labels with no true samples. Use `zero_division` parameter to control this behavior.\n",
      "  _warn_prf(average, modifier, f\"{metric.capitalize()} is\", len(result))\n",
      "/Users/hadrienstrichard/Library/Caches/pypoetry/virtualenvs/research-paper-9dnSQuhV-py3.12/lib/python3.12/site-packages/sklearn/metrics/_classification.py:1565: UndefinedMetricWarning: Precision is ill-defined and being set to 0.0 in samples with no predicted labels. Use `zero_division` parameter to control this behavior.\n",
      "  _warn_prf(average, modifier, f\"{metric.capitalize()} is\", len(result))\n",
      "/Users/hadrienstrichard/Library/Caches/pypoetry/virtualenvs/research-paper-9dnSQuhV-py3.12/lib/python3.12/site-packages/sklearn/metrics/_classification.py:1565: UndefinedMetricWarning: Recall is ill-defined and being set to 0.0 in samples with no true labels. Use `zero_division` parameter to control this behavior.\n",
      "  _warn_prf(average, modifier, f\"{metric.capitalize()} is\", len(result))\n",
      "/Users/hadrienstrichard/Library/Caches/pypoetry/virtualenvs/research-paper-9dnSQuhV-py3.12/lib/python3.12/site-packages/sklearn/metrics/_classification.py:1565: UndefinedMetricWarning: F-score is ill-defined and being set to 0.0 in samples with no true nor predicted labels. Use `zero_division` parameter to control this behavior.\n",
      "  _warn_prf(average, modifier, f\"{metric.capitalize()} is\", len(result))\n"
     ]
    },
    {
     "name": "stdout",
     "output_type": "stream",
     "text": [
      "🔄 Evaluating with batch_size = 3\n"
     ]
    },
    {
     "name": "stderr",
     "output_type": "stream",
     "text": [
      "100%|██████████| 4/4 [00:07<00:00,  1.75s/it]\n",
      "/Users/hadrienstrichard/Library/Caches/pypoetry/virtualenvs/research-paper-9dnSQuhV-py3.12/lib/python3.12/site-packages/sklearn/metrics/_classification.py:1565: UndefinedMetricWarning: F-score is ill-defined and being set to 0.0 in labels with no true nor predicted samples. Use `zero_division` parameter to control this behavior.\n",
      "  _warn_prf(average, modifier, f\"{metric.capitalize()} is\", len(result))\n",
      "/Users/hadrienstrichard/Library/Caches/pypoetry/virtualenvs/research-paper-9dnSQuhV-py3.12/lib/python3.12/site-packages/sklearn/metrics/_classification.py:1565: UndefinedMetricWarning: Precision is ill-defined and being set to 0.0 in labels with no predicted samples. Use `zero_division` parameter to control this behavior.\n",
      "  _warn_prf(average, modifier, f\"{metric.capitalize()} is\", len(result))\n",
      "/Users/hadrienstrichard/Library/Caches/pypoetry/virtualenvs/research-paper-9dnSQuhV-py3.12/lib/python3.12/site-packages/sklearn/metrics/_classification.py:1565: UndefinedMetricWarning: Recall is ill-defined and being set to 0.0 in labels with no true samples. Use `zero_division` parameter to control this behavior.\n",
      "  _warn_prf(average, modifier, f\"{metric.capitalize()} is\", len(result))\n",
      "/Users/hadrienstrichard/Library/Caches/pypoetry/virtualenvs/research-paper-9dnSQuhV-py3.12/lib/python3.12/site-packages/sklearn/metrics/_classification.py:1565: UndefinedMetricWarning: F-score is ill-defined and being set to 0.0 in labels with no true nor predicted samples. Use `zero_division` parameter to control this behavior.\n",
      "  _warn_prf(average, modifier, f\"{metric.capitalize()} is\", len(result))\n",
      "/Users/hadrienstrichard/Library/Caches/pypoetry/virtualenvs/research-paper-9dnSQuhV-py3.12/lib/python3.12/site-packages/sklearn/metrics/_classification.py:1565: UndefinedMetricWarning: Precision is ill-defined and being set to 0.0 in samples with no predicted labels. Use `zero_division` parameter to control this behavior.\n",
      "  _warn_prf(average, modifier, f\"{metric.capitalize()} is\", len(result))\n",
      "/Users/hadrienstrichard/Library/Caches/pypoetry/virtualenvs/research-paper-9dnSQuhV-py3.12/lib/python3.12/site-packages/sklearn/metrics/_classification.py:1565: UndefinedMetricWarning: Recall is ill-defined and being set to 0.0 in samples with no true labels. Use `zero_division` parameter to control this behavior.\n",
      "  _warn_prf(average, modifier, f\"{metric.capitalize()} is\", len(result))\n",
      "/Users/hadrienstrichard/Library/Caches/pypoetry/virtualenvs/research-paper-9dnSQuhV-py3.12/lib/python3.12/site-packages/sklearn/metrics/_classification.py:1565: UndefinedMetricWarning: F-score is ill-defined and being set to 0.0 in samples with no true nor predicted labels. Use `zero_division` parameter to control this behavior.\n",
      "  _warn_prf(average, modifier, f\"{metric.capitalize()} is\", len(result))\n"
     ]
    },
    {
     "name": "stdout",
     "output_type": "stream",
     "text": [
      "🔄 Evaluating with batch_size = 4\n"
     ]
    },
    {
     "name": "stderr",
     "output_type": "stream",
     "text": [
      "100%|██████████| 3/3 [00:06<00:00,  2.32s/it]\n",
      "/Users/hadrienstrichard/Library/Caches/pypoetry/virtualenvs/research-paper-9dnSQuhV-py3.12/lib/python3.12/site-packages/sklearn/metrics/_classification.py:1565: UndefinedMetricWarning: F-score is ill-defined and being set to 0.0 in labels with no true nor predicted samples. Use `zero_division` parameter to control this behavior.\n",
      "  _warn_prf(average, modifier, f\"{metric.capitalize()} is\", len(result))\n",
      "/Users/hadrienstrichard/Library/Caches/pypoetry/virtualenvs/research-paper-9dnSQuhV-py3.12/lib/python3.12/site-packages/sklearn/metrics/_classification.py:1565: UndefinedMetricWarning: Precision is ill-defined and being set to 0.0 in labels with no predicted samples. Use `zero_division` parameter to control this behavior.\n",
      "  _warn_prf(average, modifier, f\"{metric.capitalize()} is\", len(result))\n",
      "/Users/hadrienstrichard/Library/Caches/pypoetry/virtualenvs/research-paper-9dnSQuhV-py3.12/lib/python3.12/site-packages/sklearn/metrics/_classification.py:1565: UndefinedMetricWarning: Recall is ill-defined and being set to 0.0 in labels with no true samples. Use `zero_division` parameter to control this behavior.\n",
      "  _warn_prf(average, modifier, f\"{metric.capitalize()} is\", len(result))\n",
      "/Users/hadrienstrichard/Library/Caches/pypoetry/virtualenvs/research-paper-9dnSQuhV-py3.12/lib/python3.12/site-packages/sklearn/metrics/_classification.py:1565: UndefinedMetricWarning: F-score is ill-defined and being set to 0.0 in labels with no true nor predicted samples. Use `zero_division` parameter to control this behavior.\n",
      "  _warn_prf(average, modifier, f\"{metric.capitalize()} is\", len(result))\n",
      "/Users/hadrienstrichard/Library/Caches/pypoetry/virtualenvs/research-paper-9dnSQuhV-py3.12/lib/python3.12/site-packages/sklearn/metrics/_classification.py:1565: UndefinedMetricWarning: Precision is ill-defined and being set to 0.0 in samples with no predicted labels. Use `zero_division` parameter to control this behavior.\n",
      "  _warn_prf(average, modifier, f\"{metric.capitalize()} is\", len(result))\n",
      "/Users/hadrienstrichard/Library/Caches/pypoetry/virtualenvs/research-paper-9dnSQuhV-py3.12/lib/python3.12/site-packages/sklearn/metrics/_classification.py:1565: UndefinedMetricWarning: Recall is ill-defined and being set to 0.0 in samples with no true labels. Use `zero_division` parameter to control this behavior.\n",
      "  _warn_prf(average, modifier, f\"{metric.capitalize()} is\", len(result))\n",
      "/Users/hadrienstrichard/Library/Caches/pypoetry/virtualenvs/research-paper-9dnSQuhV-py3.12/lib/python3.12/site-packages/sklearn/metrics/_classification.py:1565: UndefinedMetricWarning: F-score is ill-defined and being set to 0.0 in samples with no true nor predicted labels. Use `zero_division` parameter to control this behavior.\n",
      "  _warn_prf(average, modifier, f\"{metric.capitalize()} is\", len(result))\n"
     ]
    },
    {
     "name": "stdout",
     "output_type": "stream",
     "text": [
      "🔄 Evaluating with batch_size = 5\n"
     ]
    },
    {
     "name": "stderr",
     "output_type": "stream",
     "text": [
      "100%|██████████| 2/2 [00:05<00:00,  2.76s/it]\n",
      "/Users/hadrienstrichard/Library/Caches/pypoetry/virtualenvs/research-paper-9dnSQuhV-py3.12/lib/python3.12/site-packages/sklearn/metrics/_classification.py:1565: UndefinedMetricWarning: Precision is ill-defined and being set to 0.0 in labels with no predicted samples. Use `zero_division` parameter to control this behavior.\n",
      "  _warn_prf(average, modifier, f\"{metric.capitalize()} is\", len(result))\n",
      "/Users/hadrienstrichard/Library/Caches/pypoetry/virtualenvs/research-paper-9dnSQuhV-py3.12/lib/python3.12/site-packages/sklearn/metrics/_classification.py:1565: UndefinedMetricWarning: Recall is ill-defined and being set to 0.0 in labels with no true samples. Use `zero_division` parameter to control this behavior.\n",
      "  _warn_prf(average, modifier, f\"{metric.capitalize()} is\", len(result))\n",
      "/Users/hadrienstrichard/Library/Caches/pypoetry/virtualenvs/research-paper-9dnSQuhV-py3.12/lib/python3.12/site-packages/sklearn/metrics/_classification.py:1565: UndefinedMetricWarning: Precision is ill-defined and being set to 0.0 in samples with no predicted labels. Use `zero_division` parameter to control this behavior.\n",
      "  _warn_prf(average, modifier, f\"{metric.capitalize()} is\", len(result))\n",
      "/Users/hadrienstrichard/Library/Caches/pypoetry/virtualenvs/research-paper-9dnSQuhV-py3.12/lib/python3.12/site-packages/sklearn/metrics/_classification.py:1565: UndefinedMetricWarning: Recall is ill-defined and being set to 0.0 in samples with no true labels. Use `zero_division` parameter to control this behavior.\n",
      "  _warn_prf(average, modifier, f\"{metric.capitalize()} is\", len(result))\n",
      "/Users/hadrienstrichard/Library/Caches/pypoetry/virtualenvs/research-paper-9dnSQuhV-py3.12/lib/python3.12/site-packages/sklearn/metrics/_classification.py:1565: UndefinedMetricWarning: F-score is ill-defined and being set to 0.0 in samples with no true nor predicted labels. Use `zero_division` parameter to control this behavior.\n",
      "  _warn_prf(average, modifier, f\"{metric.capitalize()} is\", len(result))\n"
     ]
    },
    {
     "name": "stdout",
     "output_type": "stream",
     "text": [
      "🔄 Evaluating with batch_size = 6\n"
     ]
    },
    {
     "name": "stderr",
     "output_type": "stream",
     "text": [
      "100%|██████████| 2/2 [00:05<00:00,  2.65s/it]\n",
      "/Users/hadrienstrichard/Library/Caches/pypoetry/virtualenvs/research-paper-9dnSQuhV-py3.12/lib/python3.12/site-packages/sklearn/metrics/_classification.py:1565: UndefinedMetricWarning: F-score is ill-defined and being set to 0.0 in labels with no true nor predicted samples. Use `zero_division` parameter to control this behavior.\n",
      "  _warn_prf(average, modifier, f\"{metric.capitalize()} is\", len(result))\n",
      "/Users/hadrienstrichard/Library/Caches/pypoetry/virtualenvs/research-paper-9dnSQuhV-py3.12/lib/python3.12/site-packages/sklearn/metrics/_classification.py:1565: UndefinedMetricWarning: Precision is ill-defined and being set to 0.0 in labels with no predicted samples. Use `zero_division` parameter to control this behavior.\n",
      "  _warn_prf(average, modifier, f\"{metric.capitalize()} is\", len(result))\n",
      "/Users/hadrienstrichard/Library/Caches/pypoetry/virtualenvs/research-paper-9dnSQuhV-py3.12/lib/python3.12/site-packages/sklearn/metrics/_classification.py:1565: UndefinedMetricWarning: Recall is ill-defined and being set to 0.0 in labels with no true samples. Use `zero_division` parameter to control this behavior.\n",
      "  _warn_prf(average, modifier, f\"{metric.capitalize()} is\", len(result))\n",
      "/Users/hadrienstrichard/Library/Caches/pypoetry/virtualenvs/research-paper-9dnSQuhV-py3.12/lib/python3.12/site-packages/sklearn/metrics/_classification.py:1565: UndefinedMetricWarning: F-score is ill-defined and being set to 0.0 in labels with no true nor predicted samples. Use `zero_division` parameter to control this behavior.\n",
      "  _warn_prf(average, modifier, f\"{metric.capitalize()} is\", len(result))\n",
      "/Users/hadrienstrichard/Library/Caches/pypoetry/virtualenvs/research-paper-9dnSQuhV-py3.12/lib/python3.12/site-packages/sklearn/metrics/_classification.py:1565: UndefinedMetricWarning: Precision is ill-defined and being set to 0.0 in samples with no predicted labels. Use `zero_division` parameter to control this behavior.\n",
      "  _warn_prf(average, modifier, f\"{metric.capitalize()} is\", len(result))\n",
      "/Users/hadrienstrichard/Library/Caches/pypoetry/virtualenvs/research-paper-9dnSQuhV-py3.12/lib/python3.12/site-packages/sklearn/metrics/_classification.py:1565: UndefinedMetricWarning: Recall is ill-defined and being set to 0.0 in samples with no true labels. Use `zero_division` parameter to control this behavior.\n",
      "  _warn_prf(average, modifier, f\"{metric.capitalize()} is\", len(result))\n",
      "/Users/hadrienstrichard/Library/Caches/pypoetry/virtualenvs/research-paper-9dnSQuhV-py3.12/lib/python3.12/site-packages/sklearn/metrics/_classification.py:1565: UndefinedMetricWarning: F-score is ill-defined and being set to 0.0 in samples with no true nor predicted labels. Use `zero_division` parameter to control this behavior.\n",
      "  _warn_prf(average, modifier, f\"{metric.capitalize()} is\", len(result))\n"
     ]
    },
    {
     "name": "stdout",
     "output_type": "stream",
     "text": [
      "🔄 Evaluating with batch_size = 7\n"
     ]
    },
    {
     "name": "stderr",
     "output_type": "stream",
     "text": [
      "100%|██████████| 2/2 [00:05<00:00,  2.72s/it]\n",
      "/Users/hadrienstrichard/Library/Caches/pypoetry/virtualenvs/research-paper-9dnSQuhV-py3.12/lib/python3.12/site-packages/sklearn/metrics/_classification.py:1565: UndefinedMetricWarning: F-score is ill-defined and being set to 0.0 in labels with no true nor predicted samples. Use `zero_division` parameter to control this behavior.\n",
      "  _warn_prf(average, modifier, f\"{metric.capitalize()} is\", len(result))\n",
      "/Users/hadrienstrichard/Library/Caches/pypoetry/virtualenvs/research-paper-9dnSQuhV-py3.12/lib/python3.12/site-packages/sklearn/metrics/_classification.py:1565: UndefinedMetricWarning: Precision is ill-defined and being set to 0.0 in labels with no predicted samples. Use `zero_division` parameter to control this behavior.\n",
      "  _warn_prf(average, modifier, f\"{metric.capitalize()} is\", len(result))\n",
      "/Users/hadrienstrichard/Library/Caches/pypoetry/virtualenvs/research-paper-9dnSQuhV-py3.12/lib/python3.12/site-packages/sklearn/metrics/_classification.py:1565: UndefinedMetricWarning: Recall is ill-defined and being set to 0.0 in labels with no true samples. Use `zero_division` parameter to control this behavior.\n",
      "  _warn_prf(average, modifier, f\"{metric.capitalize()} is\", len(result))\n",
      "/Users/hadrienstrichard/Library/Caches/pypoetry/virtualenvs/research-paper-9dnSQuhV-py3.12/lib/python3.12/site-packages/sklearn/metrics/_classification.py:1565: UndefinedMetricWarning: F-score is ill-defined and being set to 0.0 in labels with no true nor predicted samples. Use `zero_division` parameter to control this behavior.\n",
      "  _warn_prf(average, modifier, f\"{metric.capitalize()} is\", len(result))\n",
      "/Users/hadrienstrichard/Library/Caches/pypoetry/virtualenvs/research-paper-9dnSQuhV-py3.12/lib/python3.12/site-packages/sklearn/metrics/_classification.py:1565: UndefinedMetricWarning: Precision is ill-defined and being set to 0.0 in samples with no predicted labels. Use `zero_division` parameter to control this behavior.\n",
      "  _warn_prf(average, modifier, f\"{metric.capitalize()} is\", len(result))\n",
      "/Users/hadrienstrichard/Library/Caches/pypoetry/virtualenvs/research-paper-9dnSQuhV-py3.12/lib/python3.12/site-packages/sklearn/metrics/_classification.py:1565: UndefinedMetricWarning: Recall is ill-defined and being set to 0.0 in samples with no true labels. Use `zero_division` parameter to control this behavior.\n",
      "  _warn_prf(average, modifier, f\"{metric.capitalize()} is\", len(result))\n",
      "/Users/hadrienstrichard/Library/Caches/pypoetry/virtualenvs/research-paper-9dnSQuhV-py3.12/lib/python3.12/site-packages/sklearn/metrics/_classification.py:1565: UndefinedMetricWarning: F-score is ill-defined and being set to 0.0 in samples with no true nor predicted labels. Use `zero_division` parameter to control this behavior.\n",
      "  _warn_prf(average, modifier, f\"{metric.capitalize()} is\", len(result))\n"
     ]
    },
    {
     "name": "stdout",
     "output_type": "stream",
     "text": [
      "🔄 Evaluating with batch_size = 8\n"
     ]
    },
    {
     "name": "stderr",
     "output_type": "stream",
     "text": [
      "100%|██████████| 2/2 [00:05<00:00,  2.65s/it]\n",
      "/Users/hadrienstrichard/Library/Caches/pypoetry/virtualenvs/research-paper-9dnSQuhV-py3.12/lib/python3.12/site-packages/sklearn/metrics/_classification.py:1565: UndefinedMetricWarning: F-score is ill-defined and being set to 0.0 in labels with no true nor predicted samples. Use `zero_division` parameter to control this behavior.\n",
      "  _warn_prf(average, modifier, f\"{metric.capitalize()} is\", len(result))\n",
      "/Users/hadrienstrichard/Library/Caches/pypoetry/virtualenvs/research-paper-9dnSQuhV-py3.12/lib/python3.12/site-packages/sklearn/metrics/_classification.py:1565: UndefinedMetricWarning: Precision is ill-defined and being set to 0.0 in labels with no predicted samples. Use `zero_division` parameter to control this behavior.\n",
      "  _warn_prf(average, modifier, f\"{metric.capitalize()} is\", len(result))\n",
      "/Users/hadrienstrichard/Library/Caches/pypoetry/virtualenvs/research-paper-9dnSQuhV-py3.12/lib/python3.12/site-packages/sklearn/metrics/_classification.py:1565: UndefinedMetricWarning: Recall is ill-defined and being set to 0.0 in labels with no true samples. Use `zero_division` parameter to control this behavior.\n",
      "  _warn_prf(average, modifier, f\"{metric.capitalize()} is\", len(result))\n",
      "/Users/hadrienstrichard/Library/Caches/pypoetry/virtualenvs/research-paper-9dnSQuhV-py3.12/lib/python3.12/site-packages/sklearn/metrics/_classification.py:1565: UndefinedMetricWarning: F-score is ill-defined and being set to 0.0 in labels with no true nor predicted samples. Use `zero_division` parameter to control this behavior.\n",
      "  _warn_prf(average, modifier, f\"{metric.capitalize()} is\", len(result))\n",
      "/Users/hadrienstrichard/Library/Caches/pypoetry/virtualenvs/research-paper-9dnSQuhV-py3.12/lib/python3.12/site-packages/sklearn/metrics/_classification.py:1565: UndefinedMetricWarning: Precision is ill-defined and being set to 0.0 in samples with no predicted labels. Use `zero_division` parameter to control this behavior.\n",
      "  _warn_prf(average, modifier, f\"{metric.capitalize()} is\", len(result))\n",
      "/Users/hadrienstrichard/Library/Caches/pypoetry/virtualenvs/research-paper-9dnSQuhV-py3.12/lib/python3.12/site-packages/sklearn/metrics/_classification.py:1565: UndefinedMetricWarning: Recall is ill-defined and being set to 0.0 in samples with no true labels. Use `zero_division` parameter to control this behavior.\n",
      "  _warn_prf(average, modifier, f\"{metric.capitalize()} is\", len(result))\n",
      "/Users/hadrienstrichard/Library/Caches/pypoetry/virtualenvs/research-paper-9dnSQuhV-py3.12/lib/python3.12/site-packages/sklearn/metrics/_classification.py:1565: UndefinedMetricWarning: F-score is ill-defined and being set to 0.0 in samples with no true nor predicted labels. Use `zero_division` parameter to control this behavior.\n",
      "  _warn_prf(average, modifier, f\"{metric.capitalize()} is\", len(result))\n"
     ]
    },
    {
     "name": "stdout",
     "output_type": "stream",
     "text": [
      "🔄 Evaluating with batch_size = 9\n"
     ]
    },
    {
     "name": "stderr",
     "output_type": "stream",
     "text": [
      "100%|██████████| 2/2 [00:08<00:00,  4.37s/it]\n",
      "/Users/hadrienstrichard/Library/Caches/pypoetry/virtualenvs/research-paper-9dnSQuhV-py3.12/lib/python3.12/site-packages/sklearn/metrics/_classification.py:1565: UndefinedMetricWarning: F-score is ill-defined and being set to 0.0 in labels with no true nor predicted samples. Use `zero_division` parameter to control this behavior.\n",
      "  _warn_prf(average, modifier, f\"{metric.capitalize()} is\", len(result))\n",
      "/Users/hadrienstrichard/Library/Caches/pypoetry/virtualenvs/research-paper-9dnSQuhV-py3.12/lib/python3.12/site-packages/sklearn/metrics/_classification.py:1565: UndefinedMetricWarning: Precision is ill-defined and being set to 0.0 in labels with no predicted samples. Use `zero_division` parameter to control this behavior.\n",
      "  _warn_prf(average, modifier, f\"{metric.capitalize()} is\", len(result))\n",
      "/Users/hadrienstrichard/Library/Caches/pypoetry/virtualenvs/research-paper-9dnSQuhV-py3.12/lib/python3.12/site-packages/sklearn/metrics/_classification.py:1565: UndefinedMetricWarning: Recall is ill-defined and being set to 0.0 in labels with no true samples. Use `zero_division` parameter to control this behavior.\n",
      "  _warn_prf(average, modifier, f\"{metric.capitalize()} is\", len(result))\n",
      "/Users/hadrienstrichard/Library/Caches/pypoetry/virtualenvs/research-paper-9dnSQuhV-py3.12/lib/python3.12/site-packages/sklearn/metrics/_classification.py:1565: UndefinedMetricWarning: F-score is ill-defined and being set to 0.0 in labels with no true nor predicted samples. Use `zero_division` parameter to control this behavior.\n",
      "  _warn_prf(average, modifier, f\"{metric.capitalize()} is\", len(result))\n",
      "/Users/hadrienstrichard/Library/Caches/pypoetry/virtualenvs/research-paper-9dnSQuhV-py3.12/lib/python3.12/site-packages/sklearn/metrics/_classification.py:1565: UndefinedMetricWarning: Precision is ill-defined and being set to 0.0 in samples with no predicted labels. Use `zero_division` parameter to control this behavior.\n",
      "  _warn_prf(average, modifier, f\"{metric.capitalize()} is\", len(result))\n",
      "/Users/hadrienstrichard/Library/Caches/pypoetry/virtualenvs/research-paper-9dnSQuhV-py3.12/lib/python3.12/site-packages/sklearn/metrics/_classification.py:1565: UndefinedMetricWarning: Recall is ill-defined and being set to 0.0 in samples with no true labels. Use `zero_division` parameter to control this behavior.\n",
      "  _warn_prf(average, modifier, f\"{metric.capitalize()} is\", len(result))\n",
      "/Users/hadrienstrichard/Library/Caches/pypoetry/virtualenvs/research-paper-9dnSQuhV-py3.12/lib/python3.12/site-packages/sklearn/metrics/_classification.py:1565: UndefinedMetricWarning: F-score is ill-defined and being set to 0.0 in samples with no true nor predicted labels. Use `zero_division` parameter to control this behavior.\n",
      "  _warn_prf(average, modifier, f\"{metric.capitalize()} is\", len(result))\n"
     ]
    },
    {
     "name": "stdout",
     "output_type": "stream",
     "text": [
      "🔄 Evaluating with batch_size = 10\n"
     ]
    },
    {
     "name": "stderr",
     "output_type": "stream",
     "text": [
      "100%|██████████| 1/1 [00:05<00:00,  5.06s/it]\n",
      "/Users/hadrienstrichard/Library/Caches/pypoetry/virtualenvs/research-paper-9dnSQuhV-py3.12/lib/python3.12/site-packages/sklearn/metrics/_classification.py:1565: UndefinedMetricWarning: F-score is ill-defined and being set to 0.0 in labels with no true nor predicted samples. Use `zero_division` parameter to control this behavior.\n",
      "  _warn_prf(average, modifier, f\"{metric.capitalize()} is\", len(result))\n",
      "/Users/hadrienstrichard/Library/Caches/pypoetry/virtualenvs/research-paper-9dnSQuhV-py3.12/lib/python3.12/site-packages/sklearn/metrics/_classification.py:1565: UndefinedMetricWarning: Precision is ill-defined and being set to 0.0 in labels with no predicted samples. Use `zero_division` parameter to control this behavior.\n",
      "  _warn_prf(average, modifier, f\"{metric.capitalize()} is\", len(result))\n",
      "/Users/hadrienstrichard/Library/Caches/pypoetry/virtualenvs/research-paper-9dnSQuhV-py3.12/lib/python3.12/site-packages/sklearn/metrics/_classification.py:1565: UndefinedMetricWarning: Recall is ill-defined and being set to 0.0 in labels with no true samples. Use `zero_division` parameter to control this behavior.\n",
      "  _warn_prf(average, modifier, f\"{metric.capitalize()} is\", len(result))\n",
      "/Users/hadrienstrichard/Library/Caches/pypoetry/virtualenvs/research-paper-9dnSQuhV-py3.12/lib/python3.12/site-packages/sklearn/metrics/_classification.py:1565: UndefinedMetricWarning: F-score is ill-defined and being set to 0.0 in labels with no true nor predicted samples. Use `zero_division` parameter to control this behavior.\n",
      "  _warn_prf(average, modifier, f\"{metric.capitalize()} is\", len(result))\n",
      "/Users/hadrienstrichard/Library/Caches/pypoetry/virtualenvs/research-paper-9dnSQuhV-py3.12/lib/python3.12/site-packages/sklearn/metrics/_classification.py:1565: UndefinedMetricWarning: Precision is ill-defined and being set to 0.0 in samples with no predicted labels. Use `zero_division` parameter to control this behavior.\n",
      "  _warn_prf(average, modifier, f\"{metric.capitalize()} is\", len(result))\n",
      "/Users/hadrienstrichard/Library/Caches/pypoetry/virtualenvs/research-paper-9dnSQuhV-py3.12/lib/python3.12/site-packages/sklearn/metrics/_classification.py:1565: UndefinedMetricWarning: Recall is ill-defined and being set to 0.0 in samples with no true labels. Use `zero_division` parameter to control this behavior.\n",
      "  _warn_prf(average, modifier, f\"{metric.capitalize()} is\", len(result))\n",
      "/Users/hadrienstrichard/Library/Caches/pypoetry/virtualenvs/research-paper-9dnSQuhV-py3.12/lib/python3.12/site-packages/sklearn/metrics/_classification.py:1565: UndefinedMetricWarning: F-score is ill-defined and being set to 0.0 in samples with no true nor predicted labels. Use `zero_division` parameter to control this behavior.\n",
      "  _warn_prf(average, modifier, f\"{metric.capitalize()} is\", len(result))\n"
     ]
    },
    {
     "data": {
      "image/png": "[encoded data removed]",
      "text/plain": [
       "<Figure size 1000x500 with 1 Axes>"
      ]
     },
     "metadata": {},
     "output_type": "display_data"
    }
   ],
   "source": [
    "tuning_results = batch_size_tuning(fig_df, max_batch_size=10)\n"
   ]
  },
  {
   "cell_type": "markdown",
   "id": "ff166778",
   "metadata": {},
   "source": [
    "### Apply Figure of Speech tagging to the text corpus"
   ]
  },
  {
   "cell_type": "code",
   "execution_count": 42,
   "id": "3ccd0366",
   "metadata": {},
   "outputs": [
    {
     "name": "stderr",
     "output_type": "stream",
     "text": [
      "[nltk_data] Downloading package punkt to\n",
      "[nltk_data]     /Users/hadrienstrichard/nltk_data...\n",
      "[nltk_data]   Package punkt is already up-to-date!\n"
     ]
    },
    {
     "data": {
      "text/plain": [
       "True"
      ]
     },
     "execution_count": 42,
     "metadata": {},
     "output_type": "execute_result"
    }
   ],
   "source": [
    "nltk.download('punkt')"
   ]
  },
  {
   "cell_type": "code",
   "execution_count": 46,
   "id": "ac5c623d",
   "metadata": {},
   "outputs": [],
   "source": [
    "def detect_figures_in_text_batched(text: str, batch_size: int = 10) -> dict:\n",
    "    \"\"\"\n",
    "    Tokenizes text into sentences, processes them in batches, and returns figure counts.\n",
    "    \"\"\"\n",
    "    sentences = sent_tokenize(text, language='french')\n",
    "    counts = {f\"fig_{fig}\": 0 for fig in FIGURES}\n",
    "\n",
    "    for i in range(0, len(sentences), batch_size):\n",
    "        batch = sentences[i:i + batch_size]\n",
    "        try:\n",
    "            results = detect_figures_batch(batch)\n",
    "        except Exception as e:\n",
    "            print(f\"❌ Erreur API sur le batch {i}-{i + batch_size}: {e}\")\n",
    "            continue\n",
    "\n",
    "        for result in results:\n",
    "            if isinstance(result, dict):\n",
    "                for fig in FIGURES:\n",
    "                    try:\n",
    "                        if result.get(fig, False):\n",
    "                            counts[f\"fig_{fig}\"] += 1\n",
    "                    except Exception as e:\n",
    "                        print(f\"⚠️ Erreur lors du comptage sur '{fig}': {e}\")\n",
    "            else:\n",
    "                print(f\"⚠️ Résultat inattendu ignoré (non-dict): {result}\")\n",
    "\n",
    "    return counts\n",
    "\n",
    "\n",
    "def add_figure_counts_to_df_batched(df, text_column=\"Cleaned_Text\", batch_size=10, output_path=\"figures_results.csv\"):\n",
    "    \"\"\"\n",
    "    Applies batched figure detection to each row of the DataFrame.\n",
    "    Returns full DataFrame with detection columns.\n",
    "    Uses output_path to save partial progress and support resume.\n",
    "    \"\"\"\n",
    "    tqdm.pandas()\n",
    "\n",
    "    # Charger les données déjà traitées si elles existent\n",
    "    if os.path.exists(output_path):\n",
    "        processed_df = pd.read_csv(output_path)\n",
    "                # ✅ Identifier les colonnes de figures\n",
    "        fig_cols = [col for col in processed_df.columns if col.startswith(\"fig_\")]\n",
    "        # ✅ Supprimer les dernières lignes vides (somme des fig = 0 ou NaN)\n",
    "        while len(processed_df) > 0 and (\n",
    "            processed_df[fig_cols].iloc[-1].fillna(0).sum() == 0\n",
    "        ):\n",
    "            processed_df = processed_df.iloc[:-1]\n",
    "        already_processed_ids = set(processed_df.index)\n",
    "        print(f\"✅ Reprise : {len(already_processed_ids)} lignes déjà traitées.\")\n",
    "    else:\n",
    "        processed_df = pd.DataFrame()\n",
    "        already_processed_ids = set()\n",
    "\n",
    "    results = []\n",
    "\n",
    "    for idx, row in tqdm(df.iterrows(), total=len(df), desc=\"🔍 Détection figures\"):\n",
    "        if idx in already_processed_ids:\n",
    "            continue\n",
    "\n",
    "        try:\n",
    "            result = detect_figures_in_text_batched(row[text_column], batch_size=batch_size)\n",
    "        except Exception as e:\n",
    "            print(f\"❌ Erreur sur index {idx}: {e}\")\n",
    "            result = {f\"fig_{fig}\": None for fig in FIGURES}  # ou 0 si tu préfères\n",
    "\n",
    "        result[\"index\"] = idx\n",
    "        results.append(result)\n",
    "\n",
    "        # Sauvegarder en temps réel\n",
    "        if len(results) >= 1:\n",
    "            partial_df = pd.DataFrame(results).set_index(\"index\")\n",
    "            processed_df = pd.concat([processed_df, partial_df])\n",
    "            processed_df.to_csv(output_path)\n",
    "            results = []  # vider pour ne pas re-sauvegarder\n",
    "\n",
    "    # Fusion finale\n",
    "    full_df = df.copy()\n",
    "    processed_df = processed_df.sort_index()\n",
    "    for col in processed_df.columns:\n",
    "        full_df[col] = processed_df[col]\n",
    "\n",
    "    return full_df\n"
   ]
  },
  {
   "cell_type": "code",
   "execution_count": 47,
   "id": "c36c2101",
   "metadata": {},
   "outputs": [
    {
     "name": "stdout",
     "output_type": "stream",
     "text": [
      "✅ Reprise : 3237 lignes déjà traitées.\n"
     ]
    },
    {
     "name": "stderr",
     "output_type": "stream",
     "text": [
      "🔍 Détection figures:  84%|████████▍ | 3245/3858 [05:23<04:38,  2.20it/s]"
     ]
    },
    {
     "name": "stdout",
     "output_type": "stream",
     "text": [
      "⚠️ Tentative 1 — erreur de parsing : Expecting ',' delimiter: line 8 column 459 (char 2044)\n"
     ]
    },
    {
     "name": "stderr",
     "output_type": "stream",
     "text": [
      "🔍 Détection figures:  85%|████████▍ | 3264/3858 [17:50<6:17:51, 38.17s/it]"
     ]
    },
    {
     "name": "stdout",
     "output_type": "stream",
     "text": [
      "⚠️ Tentative 1 — erreur de parsing : Expecting ',' delimiter: line 4 column 20 (char 605)\n"
     ]
    },
    {
     "name": "stderr",
     "output_type": "stream",
     "text": [
      "🔍 Détection figures:  85%|████████▍ | 3273/3858 [24:17<6:37:00, 40.72s/it]"
     ]
    },
    {
     "name": "stdout",
     "output_type": "stream",
     "text": [
      "⚠️ Tentative 1 — erreur de parsing : Expecting property name enclosed in double quotes: line 127 column 1 (char 7122)\n",
      "⚠️ Tentative 2 — erreur de parsing : Expecting property name enclosed in double quotes: line 127 column 1 (char 7122)\n",
      "⚠️ Tentative 3 — erreur de parsing : Expecting property name enclosed in double quotes: line 127 column 1 (char 7122)\n",
      "❌ Parsing échoué après 3 tentatives. Contenu mis de côté pour inspection.\n"
     ]
    },
    {
     "name": "stderr",
     "output_type": "stream",
     "text": [
      "🔍 Détection figures:  85%|████████▍ | 3275/3858 [25:54<7:06:25, 43.89s/it]"
     ]
    },
    {
     "name": "stdout",
     "output_type": "stream",
     "text": [
      "⚠️ Tentative 1 — erreur de parsing : Expecting ',' delimiter: line 121 column 5 (char 4752)\n",
      "⚠️ Tentative 2 — erreur de parsing : Expecting ',' delimiter: line 121 column 5 (char 4752)\n",
      "⚠️ Tentative 3 — erreur de parsing : Expecting ',' delimiter: line 121 column 5 (char 4752)\n",
      "❌ Parsing échoué après 3 tentatives. Contenu mis de côté pour inspection.\n"
     ]
    },
    {
     "name": "stderr",
     "output_type": "stream",
     "text": [
      "🔍 Détection figures:  85%|████████▌ | 3286/3858 [32:51<4:59:22, 31.40s/it]"
     ]
    },
    {
     "name": "stdout",
     "output_type": "stream",
     "text": [
      "⚠️ Tentative 1 — erreur de parsing : Expecting ',' delimiter: line 121 column 5 (char 5094)\n"
     ]
    },
    {
     "name": "stderr",
     "output_type": "stream",
     "text": [
      "🔍 Détection figures:  86%|████████▌ | 3325/3858 [1:02:34<7:26:35, 50.27s/it]"
     ]
    },
    {
     "name": "stdout",
     "output_type": "stream",
     "text": [
      "⚠️ Tentative 1 — erreur de parsing : Expecting ',' delimiter: line 120 column 483 (char 4330)\n"
     ]
    },
    {
     "name": "stderr",
     "output_type": "stream",
     "text": [
      "🔍 Détection figures:  86%|████████▋ | 3329/3858 [1:05:27<6:19:12, 43.01s/it]"
     ]
    },
    {
     "name": "stdout",
     "output_type": "stream",
     "text": [
      "⚠️ Tentative 1 — erreur de parsing : Expecting ',' delimiter: line 15 column 3 (char 818)\n"
     ]
    },
    {
     "name": "stderr",
     "output_type": "stream",
     "text": [
      "🔍 Détection figures:  87%|████████▋ | 3343/3858 [1:17:40<7:41:23, 53.75s/it]"
     ]
    },
    {
     "name": "stdout",
     "output_type": "stream",
     "text": [
      "⚠️ Tentative 1 — erreur de parsing : Expecting property name enclosed in double quotes: line 55 column 46 (char 1544)\n",
      "⚠️ Tentative 2 — erreur de parsing : Expecting property name enclosed in double quotes: line 55 column 46 (char 1544)\n"
     ]
    },
    {
     "name": "stderr",
     "output_type": "stream",
     "text": [
      "🔍 Détection figures:  87%|████████▋ | 3368/3858 [1:37:52<6:44:57, 49.59s/it]"
     ]
    },
    {
     "name": "stdout",
     "output_type": "stream",
     "text": [
      "⚠️ Tentative 1 — erreur de parsing : Expecting ',' delimiter: line 10 column 46 (char 2453)\n"
     ]
    },
    {
     "name": "stderr",
     "output_type": "stream",
     "text": [
      "🔍 Détection figures:  89%|████████▉ | 3434/3858 [2:29:41<5:00:24, 42.51s/it]"
     ]
    },
    {
     "name": "stdout",
     "output_type": "stream",
     "text": [
      "⚠️ Tentative 1 — erreur de parsing : Expecting ',' delimiter: line 6 column 427 (char 1528)\n"
     ]
    },
    {
     "name": "stderr",
     "output_type": "stream",
     "text": [
      "🔍 Détection figures:  90%|█████████ | 3485/3858 [3:14:28<6:21:02, 61.29s/it]"
     ]
    },
    {
     "name": "stdout",
     "output_type": "stream",
     "text": [
      "⚠️ Tentative 1 — erreur de parsing : Expecting ',' delimiter: line 7 column 195 (char 1539)\n",
      "⚠️ Tentative 2 — erreur de parsing : Expecting ',' delimiter: line 7 column 195 (char 1539)\n",
      "⚠️ Tentative 3 — erreur de parsing : Expecting ',' delimiter: line 7 column 195 (char 1539)\n",
      "❌ Parsing échoué après 3 tentatives. Contenu mis de côté pour inspection.\n"
     ]
    },
    {
     "name": "stderr",
     "output_type": "stream",
     "text": [
      "🔍 Détection figures:  91%|█████████ | 3511/3858 [3:40:31<4:13:40, 43.86s/it]"
     ]
    },
    {
     "name": "stdout",
     "output_type": "stream",
     "text": [
      "⚠️ Tentative 1 — erreur de parsing : Expecting ',' delimiter: line 8 column 586 (char 2275)\n",
      "⚠️ Tentative 2 — erreur de parsing : Expecting ',' delimiter: line 8 column 586 (char 2275)\n"
     ]
    },
    {
     "name": "stderr",
     "output_type": "stream",
     "text": [
      "🔍 Détection figures:  92%|█████████▏| 3547/3858 [4:09:59<4:37:48, 53.60s/it]"
     ]
    },
    {
     "name": "stdout",
     "output_type": "stream",
     "text": [
      "⚠️ Tentative 1 — erreur de parsing : Expecting ',' delimiter: line 55 column 18 (char 1432)\n"
     ]
    },
    {
     "name": "stderr",
     "output_type": "stream",
     "text": [
      "🔍 Détection figures:  93%|█████████▎| 3592/3858 [4:46:21<3:51:27, 52.21s/it]"
     ]
    },
    {
     "name": "stdout",
     "output_type": "stream",
     "text": [
      "⚠️ Tentative 1 — erreur de parsing : Expecting ',' delimiter: line 4 column 57 (char 655)\n"
     ]
    },
    {
     "name": "stderr",
     "output_type": "stream",
     "text": [
      "🔍 Détection figures:  94%|█████████▍| 3644/3858 [5:32:37<3:11:55, 53.81s/it]"
     ]
    },
    {
     "name": "stdout",
     "output_type": "stream",
     "text": [
      "⚠️ Tentative 1 — erreur de parsing : Expecting ',' delimiter: line 9 column 6 (char 2247)\n"
     ]
    },
    {
     "name": "stderr",
     "output_type": "stream",
     "text": [
      "🔍 Détection figures:  95%|█████████▍| 3647/3858 [5:35:38<3:26:06, 58.61s/it]"
     ]
    },
    {
     "name": "stdout",
     "output_type": "stream",
     "text": [
      "⚠️ Tentative 1 — erreur de parsing : Expecting ',' delimiter: line 6 column 105 (char 1601)\n"
     ]
    },
    {
     "name": "stderr",
     "output_type": "stream",
     "text": [
      "🔍 Détection figures:  95%|█████████▍| 3658/3858 [5:45:42<3:06:02, 55.81s/it]"
     ]
    },
    {
     "name": "stdout",
     "output_type": "stream",
     "text": [
      "⚠️ Tentative 1 — erreur de parsing : Expecting ',' delimiter: line 120 column 18 (char 3919)\n"
     ]
    },
    {
     "name": "stderr",
     "output_type": "stream",
     "text": [
      "🔍 Détection figures:  95%|█████████▍| 3662/3858 [5:49:48<3:15:57, 59.99s/it]"
     ]
    },
    {
     "name": "stdout",
     "output_type": "stream",
     "text": [
      "⚠️ Tentative 1 — erreur de parsing : Expecting ',' delimiter: line 55 column 18 (char 2122)\n"
     ]
    },
    {
     "name": "stderr",
     "output_type": "stream",
     "text": [
      "🔍 Détection figures:  95%|█████████▌| 3681/3858 [6:08:00<2:51:42, 58.21s/it]"
     ]
    },
    {
     "name": "stdout",
     "output_type": "stream",
     "text": [
      "⚠️ Tentative 1 — erreur de parsing : Expecting ',' delimiter: line 121 column 5 (char 5187)\n"
     ]
    },
    {
     "name": "stderr",
     "output_type": "stream",
     "text": [
      "🔍 Détection figures:  95%|█████████▌| 3683/3858 [6:09:34<2:33:09, 52.51s/it]"
     ]
    },
    {
     "name": "stdout",
     "output_type": "stream",
     "text": [
      "⚠️ Tentative 1 — erreur de parsing : Expecting ',' delimiter: line 11 column 811 (char 4120)\n"
     ]
    },
    {
     "name": "stderr",
     "output_type": "stream",
     "text": [
      "🔍 Détection figures:  96%|█████████▌| 3691/3858 [6:16:50<2:45:03, 59.30s/it]"
     ]
    },
    {
     "name": "stdout",
     "output_type": "stream",
     "text": [
      "⚠️ Tentative 1 — erreur de parsing : Expecting ',' delimiter: line 10 column 302 (char 2490)\n"
     ]
    },
    {
     "name": "stderr",
     "output_type": "stream",
     "text": [
      "🔍 Détection figures:  96%|█████████▌| 3700/3858 [6:26:02<2:54:06, 66.11s/it]"
     ]
    },
    {
     "name": "stdout",
     "output_type": "stream",
     "text": [
      "⚠️ Tentative 1 — erreur de parsing : Expecting ',' delimiter: line 4 column 118 (char 780)\n"
     ]
    },
    {
     "name": "stderr",
     "output_type": "stream",
     "text": [
      "🔍 Détection figures:  96%|█████████▌| 3710/3858 [6:34:58<2:00:47, 48.97s/it]"
     ]
    },
    {
     "name": "stdout",
     "output_type": "stream",
     "text": [
      "⚠️ Tentative 1 — erreur de parsing : Expecting ',' delimiter: line 4 column 102 (char 670)\n"
     ]
    },
    {
     "name": "stderr",
     "output_type": "stream",
     "text": [
      "🔍 Détection figures:  97%|█████████▋| 3731/3858 [6:52:34<1:59:23, 56.40s/it]"
     ]
    },
    {
     "name": "stdout",
     "output_type": "stream",
     "text": [
      "⚠️ Tentative 1 — erreur de parsing : Expecting ',' delimiter: line 15 column 3 (char 878)\n"
     ]
    },
    {
     "name": "stderr",
     "output_type": "stream",
     "text": [
      "🔍 Détection figures:  98%|█████████▊| 3782/3858 [7:33:29<1:17:37, 61.29s/it]"
     ]
    },
    {
     "name": "stdout",
     "output_type": "stream",
     "text": [
      "⚠️ Tentative 1 — erreur de parsing : Expecting ',' delimiter: line 3 column 715 (char 720)\n"
     ]
    },
    {
     "name": "stderr",
     "output_type": "stream",
     "text": [
      "🔍 Détection figures:  99%|█████████▊| 3804/3858 [7:53:17<54:53, 61.00s/it]  "
     ]
    },
    {
     "name": "stdout",
     "output_type": "stream",
     "text": [
      "⚠️ Tentative 1 — erreur de parsing : Certains éléments ne sont pas des dictionnaires: line 1 column 1 (char 0)\n"
     ]
    },
    {
     "name": "stderr",
     "output_type": "stream",
     "text": [
      "🔍 Détection figures:  99%|█████████▊| 3808/3858 [7:58:19<1:00:29, 72.58s/it]"
     ]
    },
    {
     "name": "stdout",
     "output_type": "stream",
     "text": [
      "⚠️ Tentative 1 — erreur de parsing : Expecting ',' delimiter: line 8 column 335 (char 1773)\n"
     ]
    },
    {
     "name": "stderr",
     "output_type": "stream",
     "text": [
      "🔍 Détection figures:  99%|█████████▉| 3824/3858 [8:14:37<41:50, 73.83s/it]  "
     ]
    },
    {
     "name": "stdout",
     "output_type": "stream",
     "text": [
      "⚠️ Tentative 1 — erreur de parsing : Expecting ',' delimiter: line 7 column 60 (char 1688)\n"
     ]
    },
    {
     "name": "stderr",
     "output_type": "stream",
     "text": [
      "🔍 Détection figures: 100%|█████████▉| 3845/3858 [8:36:45<12:24, 57.29s/it]"
     ]
    },
    {
     "name": "stdout",
     "output_type": "stream",
     "text": [
      "⚠️ Tentative 1 — erreur de parsing : Expecting value: line 3 column 15 (char 20)\n"
     ]
    },
    {
     "name": "stderr",
     "output_type": "stream",
     "text": [
      "🔍 Détection figures: 100%|█████████▉| 3846/3858 [8:37:30<10:43, 53.62s/it]"
     ]
    },
    {
     "name": "stdout",
     "output_type": "stream",
     "text": [
      "⚠️ Tentative 1 — erreur de parsing : Expecting ',' delimiter: line 121 column 5 (char 3743)\n"
     ]
    },
    {
     "name": "stderr",
     "output_type": "stream",
     "text": [
      "🔍 Détection figures: 100%|██████████| 3858/3858 [8:49:41<00:00,  8.24s/it]\n"
     ]
    }
   ],
   "source": [
    "fos_df = add_figure_counts_to_df_batched(texts, text_column=\"Cleaned_Text\", batch_size=10)"
   ]
  },
  {
   "cell_type": "code",
   "execution_count": 48,
   "id": "6324940d",
   "metadata": {},
   "outputs": [
    {
     "name": "stdout",
     "output_type": "stream",
     "text": [
      "Nombre de failures détectés : 26\n"
     ]
    }
   ],
   "source": [
    "# Check the number of failed sentences\n",
    "\n",
    "failure_marker = \"--- Échec sur batch ---\"\n",
    "count = 0\n",
    "\n",
    "with open(\"parsing_failures.log\", \"r\", encoding=\"utf-8\") as f:\n",
    "    for line in f:\n",
    "        if line.strip() == failure_marker:\n",
    "            count += 1\n",
    "\n",
    "print(f\"Nombre de failures détectés : {count}\")"
   ]
  },
  {
   "cell_type": "code",
   "execution_count": 49,
   "id": "2b6e9dd1",
   "metadata": {},
   "outputs": [
    {
     "data": {
      "text/html": [
       "<div>\n",
       "<style scoped>\n",
       "    .dataframe tbody tr th:only-of-type {\n",
       "        vertical-align: middle;\n",
       "    }\n",
       "\n",
       "    .dataframe tbody tr th {\n",
       "        vertical-align: top;\n",
       "    }\n",
       "\n",
       "    .dataframe thead th {\n",
       "        text-align: right;\n",
       "    }\n",
       "</style>\n",
       "<table border=\"1\" class=\"dataframe\">\n",
       "  <thead>\n",
       "    <tr style=\"text-align: right;\">\n",
       "      <th></th>\n",
       "      <th>Author</th>\n",
       "      <th>Title</th>\n",
       "      <th>URL</th>\n",
       "      <th>Excerpt_ID</th>\n",
       "      <th>Excerpt_Text</th>\n",
       "      <th>Cleaned_Text</th>\n",
       "      <th>Tokens</th>\n",
       "      <th>lex_WordCount</th>\n",
       "      <th>fw_étés</th>\n",
       "      <th>fw_moi</th>\n",
       "      <th>...</th>\n",
       "      <th>fig_Comparaison</th>\n",
       "      <th>fig_Métaphore</th>\n",
       "      <th>fig_Personnification</th>\n",
       "      <th>fig_Hyperbole</th>\n",
       "      <th>fig_Litote</th>\n",
       "      <th>fig_Antithèse</th>\n",
       "      <th>fig_Oxymore</th>\n",
       "      <th>fig_Répétition</th>\n",
       "      <th>fig_Énumération</th>\n",
       "      <th>fig_Euphémisme</th>\n",
       "    </tr>\n",
       "  </thead>\n",
       "  <tbody>\n",
       "    <tr>\n",
       "      <th>0</th>\n",
       "      <td>George Sand</td>\n",
       "      <td>Le péché de Monsieur Antoine, Tome 1</td>\n",
       "      <td>https://www.gutenberg.org/ebooks/12367</td>\n",
       "      <td>12367_21</td>\n",
       "      <td>«--Hé! hé! monsieur Antoine; voulez-vous venir...</td>\n",
       "      <td>\"--hé! hé! monsieur antoine; voulez-vous venir...</td>\n",
       "      <td>[``, --, hé, !, hé, !, monsieur, antoine, ;, v...</td>\n",
       "      <td>1622</td>\n",
       "      <td>0.0</td>\n",
       "      <td>0.001850</td>\n",
       "      <td>...</td>\n",
       "      <td>4</td>\n",
       "      <td>2</td>\n",
       "      <td>0</td>\n",
       "      <td>1</td>\n",
       "      <td>3</td>\n",
       "      <td>0</td>\n",
       "      <td>0</td>\n",
       "      <td>2</td>\n",
       "      <td>14</td>\n",
       "      <td>0</td>\n",
       "    </tr>\n",
       "    <tr>\n",
       "      <th>1</th>\n",
       "      <td>George Sand</td>\n",
       "      <td>Le péché de Monsieur Antoine, Tome 1</td>\n",
       "      <td>https://www.gutenberg.org/ebooks/12367</td>\n",
       "      <td>12367_51</td>\n",
       "      <td>«Cette demoiselle est fort taquine, pensa-t-il...</td>\n",
       "      <td>\"cette demoiselle est fort taquine, pensa-t-il...</td>\n",
       "      <td>[``, cette, demoiselle, est, fort, taquine, ,,...</td>\n",
       "      <td>1644</td>\n",
       "      <td>0.0</td>\n",
       "      <td>0.001217</td>\n",
       "      <td>...</td>\n",
       "      <td>10</td>\n",
       "      <td>1</td>\n",
       "      <td>1</td>\n",
       "      <td>1</td>\n",
       "      <td>1</td>\n",
       "      <td>1</td>\n",
       "      <td>0</td>\n",
       "      <td>1</td>\n",
       "      <td>9</td>\n",
       "      <td>0</td>\n",
       "    </tr>\n",
       "    <tr>\n",
       "      <th>2</th>\n",
       "      <td>George Sand</td>\n",
       "      <td>Le péché de Monsieur Antoine, Tome 1</td>\n",
       "      <td>https://www.gutenberg.org/ebooks/12367</td>\n",
       "      <td>12367_50</td>\n",
       "      <td>Mais l'accent, mais le regard, trouvent dans l...</td>\n",
       "      <td>mais l'accent, mais le regard, trouvent dans l...</td>\n",
       "      <td>[mais, l'accent, ,, mais, le, regard, ,, trouv...</td>\n",
       "      <td>1660</td>\n",
       "      <td>0.0</td>\n",
       "      <td>0.001205</td>\n",
       "      <td>...</td>\n",
       "      <td>8</td>\n",
       "      <td>1</td>\n",
       "      <td>1</td>\n",
       "      <td>0</td>\n",
       "      <td>3</td>\n",
       "      <td>1</td>\n",
       "      <td>0</td>\n",
       "      <td>2</td>\n",
       "      <td>7</td>\n",
       "      <td>1</td>\n",
       "    </tr>\n",
       "    <tr>\n",
       "      <th>3</th>\n",
       "      <td>George Sand</td>\n",
       "      <td>Le péché de Monsieur Antoine, Tome 1</td>\n",
       "      <td>https://www.gutenberg.org/ebooks/12367</td>\n",
       "      <td>12367_14</td>\n",
       "      <td>--Qu'il s'en aille! et toi ... garde ta place,...</td>\n",
       "      <td>--qu'il s'en aille! et toi ... garde ta place,...</td>\n",
       "      <td>[--, qu'il, s'en, aille, !, et, toi, ..., gard...</td>\n",
       "      <td>1510</td>\n",
       "      <td>0.0</td>\n",
       "      <td>0.001987</td>\n",
       "      <td>...</td>\n",
       "      <td>7</td>\n",
       "      <td>2</td>\n",
       "      <td>0</td>\n",
       "      <td>3</td>\n",
       "      <td>0</td>\n",
       "      <td>0</td>\n",
       "      <td>0</td>\n",
       "      <td>0</td>\n",
       "      <td>4</td>\n",
       "      <td>1</td>\n",
       "    </tr>\n",
       "    <tr>\n",
       "      <th>4</th>\n",
       "      <td>George Sand</td>\n",
       "      <td>Pauline</td>\n",
       "      <td>https://www.gutenberg.org/ebooks/12447</td>\n",
       "      <td>12447_11</td>\n",
       "      <td>Mais, quoiqu'elle y mît de l'affection et de l...</td>\n",
       "      <td>mais, quoiqu'elle y mît de l'affection et de l...</td>\n",
       "      <td>[mais, ,, quoiqu'elle, y, mît, de, l'affection...</td>\n",
       "      <td>1639</td>\n",
       "      <td>0.0</td>\n",
       "      <td>0.002441</td>\n",
       "      <td>...</td>\n",
       "      <td>6</td>\n",
       "      <td>1</td>\n",
       "      <td>2</td>\n",
       "      <td>1</td>\n",
       "      <td>3</td>\n",
       "      <td>2</td>\n",
       "      <td>0</td>\n",
       "      <td>0</td>\n",
       "      <td>2</td>\n",
       "      <td>1</td>\n",
       "    </tr>\n",
       "  </tbody>\n",
       "</table>\n",
       "<p>5 rows × 237 columns</p>\n",
       "</div>"
      ],
      "text/plain": [
       "        Author                                 Title  \\\n",
       "0  George Sand  Le péché de Monsieur Antoine, Tome 1   \n",
       "1  George Sand  Le péché de Monsieur Antoine, Tome 1   \n",
       "2  George Sand  Le péché de Monsieur Antoine, Tome 1   \n",
       "3  George Sand  Le péché de Monsieur Antoine, Tome 1   \n",
       "4  George Sand                               Pauline   \n",
       "\n",
       "                                      URL Excerpt_ID  \\\n",
       "0  https://www.gutenberg.org/ebooks/12367   12367_21   \n",
       "1  https://www.gutenberg.org/ebooks/12367   12367_51   \n",
       "2  https://www.gutenberg.org/ebooks/12367   12367_50   \n",
       "3  https://www.gutenberg.org/ebooks/12367   12367_14   \n",
       "4  https://www.gutenberg.org/ebooks/12447   12447_11   \n",
       "\n",
       "                                        Excerpt_Text  \\\n",
       "0  «--Hé! hé! monsieur Antoine; voulez-vous venir...   \n",
       "1  «Cette demoiselle est fort taquine, pensa-t-il...   \n",
       "2  Mais l'accent, mais le regard, trouvent dans l...   \n",
       "3  --Qu'il s'en aille! et toi ... garde ta place,...   \n",
       "4  Mais, quoiqu'elle y mît de l'affection et de l...   \n",
       "\n",
       "                                        Cleaned_Text  \\\n",
       "0  \"--hé! hé! monsieur antoine; voulez-vous venir...   \n",
       "1  \"cette demoiselle est fort taquine, pensa-t-il...   \n",
       "2  mais l'accent, mais le regard, trouvent dans l...   \n",
       "3  --qu'il s'en aille! et toi ... garde ta place,...   \n",
       "4  mais, quoiqu'elle y mît de l'affection et de l...   \n",
       "\n",
       "                                              Tokens  lex_WordCount  fw_étés  \\\n",
       "0  [``, --, hé, !, hé, !, monsieur, antoine, ;, v...           1622      0.0   \n",
       "1  [``, cette, demoiselle, est, fort, taquine, ,,...           1644      0.0   \n",
       "2  [mais, l'accent, ,, mais, le, regard, ,, trouv...           1660      0.0   \n",
       "3  [--, qu'il, s'en, aille, !, et, toi, ..., gard...           1510      0.0   \n",
       "4  [mais, ,, quoiqu'elle, y, mît, de, l'affection...           1639      0.0   \n",
       "\n",
       "     fw_moi  ...  fig_Comparaison  fig_Métaphore  fig_Personnification  \\\n",
       "0  0.001850  ...                4              2                     0   \n",
       "1  0.001217  ...               10              1                     1   \n",
       "2  0.001205  ...                8              1                     1   \n",
       "3  0.001987  ...                7              2                     0   \n",
       "4  0.002441  ...                6              1                     2   \n",
       "\n",
       "   fig_Hyperbole  fig_Litote  fig_Antithèse  fig_Oxymore  fig_Répétition  \\\n",
       "0              1           3              0            0               2   \n",
       "1              1           1              1            0               1   \n",
       "2              0           3              1            0               2   \n",
       "3              3           0              0            0               0   \n",
       "4              1           3              2            0               0   \n",
       "\n",
       "   fig_Énumération  fig_Euphémisme  \n",
       "0               14               0  \n",
       "1                9               0  \n",
       "2                7               1  \n",
       "3                4               1  \n",
       "4                2               1  \n",
       "\n",
       "[5 rows x 237 columns]"
      ]
     },
     "execution_count": 49,
     "metadata": {},
     "output_type": "execute_result"
    }
   ],
   "source": [
    "fos_df.head()"
   ]
  },
  {
   "cell_type": "code",
   "execution_count": 61,
   "id": "68e8ea93",
   "metadata": {},
   "outputs": [
    {
     "data": {
      "image/png": "[encoded data removed]",
      "text/plain": [
       "<Figure size 1600x1000 with 2 Axes>"
      ]
     },
     "metadata": {},
     "output_type": "display_data"
    }
   ],
   "source": [
    "# 1. Colonnes de figures de style\n",
    "fig_cols = [col for col in fos_df.columns if col.startswith('fig_')]\n",
    "\n",
    "# 2. Moyennes par auteur\n",
    "heatmap_data = fos_df.groupby('Author')[fig_cols].mean()\n",
    "\n",
    "# 3. Ajout de la colonne Total\n",
    "heatmap_data['Total'] = heatmap_data.sum(axis=1)\n",
    "\n",
    "# 4. Tri des auteurs par Total décroissant\n",
    "heatmap_data = heatmap_data.sort_values(by='Total', ascending=False)\n",
    "\n",
    "# 5. Statistiques globales (moyenne, écart type, médiane) pour chaque figure\n",
    "stats = fos_df[fig_cols].agg(['mean', 'std', 'median'])\n",
    "\n",
    "# 6. Ajout d'une colonne \"Total\" pour les stats\n",
    "stats['Total'] = stats.sum(axis=1)\n",
    "\n",
    "# 7. Réindexer pour être compatible avec la heatmap (même ordre de colonnes)\n",
    "stats = stats[heatmap_data.columns]\n",
    "\n",
    "# 8. Fusion des deux : auteurs + stats comme lignes\n",
    "combined = pd.concat([heatmap_data, stats.rename(index={\n",
    "    'mean': '# Moyenne',\n",
    "    'std': '# Écart type',\n",
    "    'median': '# Médiane'\n",
    "})])\n",
    "\n",
    "# 9. Affichage de la heatmap\n",
    "plt.figure(figsize=(16, 10))\n",
    "sns.heatmap(combined, annot=True, cmap='YlGnBu', linewidths=0.5)\n",
    "\n",
    "plt.title(\"Utilisation moyenne des figures de style par auteur + statistiques globales\")\n",
    "plt.xlabel(\"Figure de style\")\n",
    "plt.ylabel(\"Auteur / Statistiques\")\n",
    "plt.xticks(rotation=45, ha='right')\n",
    "plt.tight_layout()\n",
    "plt.show()\n"
   ]
  },
  {
   "cell_type": "code",
   "execution_count": 56,
   "id": "ef21ab46",
   "metadata": {},
   "outputs": [
    {
     "name": "stdout",
     "output_type": "stream",
     "text": [
      "<class 'pandas.core.frame.DataFrame'>\n",
      "RangeIndex: 3858 entries, 0 to 3857\n",
      "Data columns (total 10 columns):\n",
      " #   Column                Non-Null Count  Dtype\n",
      "---  ------                --------------  -----\n",
      " 0   fig_Comparaison       3858 non-null   int64\n",
      " 1   fig_Métaphore         3858 non-null   int64\n",
      " 2   fig_Personnification  3858 non-null   int64\n",
      " 3   fig_Hyperbole         3858 non-null   int64\n",
      " 4   fig_Litote            3858 non-null   int64\n",
      " 5   fig_Antithèse         3858 non-null   int64\n",
      " 6   fig_Oxymore           3858 non-null   int64\n",
      " 7   fig_Répétition        3858 non-null   int64\n",
      " 8   fig_Énumération       3858 non-null   int64\n",
      " 9   fig_Euphémisme        3858 non-null   int64\n",
      "dtypes: int64(10)\n",
      "memory usage: 301.5 KB\n"
     ]
    }
   ],
   "source": [
    "fos_df.filter(like=\"fig_\").info()"
   ]
  },
  {
   "cell_type": "code",
   "execution_count": 51,
   "id": "54a31ab4",
   "metadata": {},
   "outputs": [
    {
     "data": {
      "text/html": [
       "<div>\n",
       "<style scoped>\n",
       "    .dataframe tbody tr th:only-of-type {\n",
       "        vertical-align: middle;\n",
       "    }\n",
       "\n",
       "    .dataframe tbody tr th {\n",
       "        vertical-align: top;\n",
       "    }\n",
       "\n",
       "    .dataframe thead th {\n",
       "        text-align: right;\n",
       "    }\n",
       "</style>\n",
       "<table border=\"1\" class=\"dataframe\">\n",
       "  <thead>\n",
       "    <tr style=\"text-align: right;\">\n",
       "      <th></th>\n",
       "      <th>fig_Comparaison</th>\n",
       "      <th>fig_Métaphore</th>\n",
       "      <th>fig_Personnification</th>\n",
       "      <th>fig_Hyperbole</th>\n",
       "      <th>fig_Litote</th>\n",
       "      <th>fig_Antithèse</th>\n",
       "      <th>fig_Oxymore</th>\n",
       "      <th>fig_Répétition</th>\n",
       "      <th>fig_Énumération</th>\n",
       "      <th>fig_Euphémisme</th>\n",
       "    </tr>\n",
       "  </thead>\n",
       "  <tbody>\n",
       "    <tr>\n",
       "      <th>count</th>\n",
       "      <td>3858.000000</td>\n",
       "      <td>3858.000000</td>\n",
       "      <td>3858.000000</td>\n",
       "      <td>3858.000000</td>\n",
       "      <td>3858.000000</td>\n",
       "      <td>3858.000000</td>\n",
       "      <td>3858.000000</td>\n",
       "      <td>3858.000000</td>\n",
       "      <td>3858.000000</td>\n",
       "      <td>3858.000000</td>\n",
       "    </tr>\n",
       "    <tr>\n",
       "      <th>mean</th>\n",
       "      <td>5.749611</td>\n",
       "      <td>3.522291</td>\n",
       "      <td>2.923017</td>\n",
       "      <td>1.406169</td>\n",
       "      <td>3.114567</td>\n",
       "      <td>0.791602</td>\n",
       "      <td>0.016589</td>\n",
       "      <td>1.984448</td>\n",
       "      <td>11.306636</td>\n",
       "      <td>0.432867</td>\n",
       "    </tr>\n",
       "    <tr>\n",
       "      <th>std</th>\n",
       "      <td>3.301312</td>\n",
       "      <td>3.234207</td>\n",
       "      <td>2.646885</td>\n",
       "      <td>1.384058</td>\n",
       "      <td>2.327890</td>\n",
       "      <td>1.040339</td>\n",
       "      <td>0.131738</td>\n",
       "      <td>2.021345</td>\n",
       "      <td>5.221916</td>\n",
       "      <td>0.731015</td>\n",
       "    </tr>\n",
       "    <tr>\n",
       "      <th>min</th>\n",
       "      <td>0.000000</td>\n",
       "      <td>0.000000</td>\n",
       "      <td>0.000000</td>\n",
       "      <td>0.000000</td>\n",
       "      <td>0.000000</td>\n",
       "      <td>0.000000</td>\n",
       "      <td>0.000000</td>\n",
       "      <td>0.000000</td>\n",
       "      <td>0.000000</td>\n",
       "      <td>0.000000</td>\n",
       "    </tr>\n",
       "    <tr>\n",
       "      <th>25%</th>\n",
       "      <td>3.000000</td>\n",
       "      <td>1.000000</td>\n",
       "      <td>1.000000</td>\n",
       "      <td>0.000000</td>\n",
       "      <td>1.000000</td>\n",
       "      <td>0.000000</td>\n",
       "      <td>0.000000</td>\n",
       "      <td>1.000000</td>\n",
       "      <td>7.000000</td>\n",
       "      <td>0.000000</td>\n",
       "    </tr>\n",
       "    <tr>\n",
       "      <th>50%</th>\n",
       "      <td>5.000000</td>\n",
       "      <td>3.000000</td>\n",
       "      <td>2.000000</td>\n",
       "      <td>1.000000</td>\n",
       "      <td>3.000000</td>\n",
       "      <td>1.000000</td>\n",
       "      <td>0.000000</td>\n",
       "      <td>2.000000</td>\n",
       "      <td>11.000000</td>\n",
       "      <td>0.000000</td>\n",
       "    </tr>\n",
       "    <tr>\n",
       "      <th>75%</th>\n",
       "      <td>8.000000</td>\n",
       "      <td>5.000000</td>\n",
       "      <td>4.000000</td>\n",
       "      <td>2.000000</td>\n",
       "      <td>4.000000</td>\n",
       "      <td>1.000000</td>\n",
       "      <td>0.000000</td>\n",
       "      <td>3.000000</td>\n",
       "      <td>15.000000</td>\n",
       "      <td>1.000000</td>\n",
       "    </tr>\n",
       "    <tr>\n",
       "      <th>max</th>\n",
       "      <td>23.000000</td>\n",
       "      <td>33.000000</td>\n",
       "      <td>21.000000</td>\n",
       "      <td>13.000000</td>\n",
       "      <td>14.000000</td>\n",
       "      <td>8.000000</td>\n",
       "      <td>2.000000</td>\n",
       "      <td>31.000000</td>\n",
       "      <td>37.000000</td>\n",
       "      <td>7.000000</td>\n",
       "    </tr>\n",
       "  </tbody>\n",
       "</table>\n",
       "</div>"
      ],
      "text/plain": [
       "       fig_Comparaison  fig_Métaphore  fig_Personnification  fig_Hyperbole  \\\n",
       "count      3858.000000    3858.000000           3858.000000    3858.000000   \n",
       "mean          5.749611       3.522291              2.923017       1.406169   \n",
       "std           3.301312       3.234207              2.646885       1.384058   \n",
       "min           0.000000       0.000000              0.000000       0.000000   \n",
       "25%           3.000000       1.000000              1.000000       0.000000   \n",
       "50%           5.000000       3.000000              2.000000       1.000000   \n",
       "75%           8.000000       5.000000              4.000000       2.000000   \n",
       "max          23.000000      33.000000             21.000000      13.000000   \n",
       "\n",
       "        fig_Litote  fig_Antithèse  fig_Oxymore  fig_Répétition  \\\n",
       "count  3858.000000    3858.000000  3858.000000     3858.000000   \n",
       "mean      3.114567       0.791602     0.016589        1.984448   \n",
       "std       2.327890       1.040339     0.131738        2.021345   \n",
       "min       0.000000       0.000000     0.000000        0.000000   \n",
       "25%       1.000000       0.000000     0.000000        1.000000   \n",
       "50%       3.000000       1.000000     0.000000        2.000000   \n",
       "75%       4.000000       1.000000     0.000000        3.000000   \n",
       "max      14.000000       8.000000     2.000000       31.000000   \n",
       "\n",
       "       fig_Énumération  fig_Euphémisme  \n",
       "count      3858.000000     3858.000000  \n",
       "mean         11.306636        0.432867  \n",
       "std           5.221916        0.731015  \n",
       "min           0.000000        0.000000  \n",
       "25%           7.000000        0.000000  \n",
       "50%          11.000000        0.000000  \n",
       "75%          15.000000        1.000000  \n",
       "max          37.000000        7.000000  "
      ]
     },
     "execution_count": 51,
     "metadata": {},
     "output_type": "execute_result"
    }
   ],
   "source": [
    "fos_df.filter(like=\"fig_\").describe()"
   ]
  },
  {
   "cell_type": "markdown",
   "id": "79497473",
   "metadata": {},
   "source": [
    "## Final DF"
   ]
  },
  {
   "cell_type": "code",
   "execution_count": null,
   "id": "b51cfc4c",
   "metadata": {},
   "outputs": [
    {
     "name": "stdout",
     "output_type": "stream",
     "text": [
      "<class 'pandas.core.frame.DataFrame'>\n",
      "RangeIndex: 3858 entries, 0 to 3857\n",
      "Columns: 223 entries, Author to lex_MarkerCount\n",
      "dtypes: float64(203), int64(13), object(7)\n",
      "memory usage: 6.6+ MB\n"
     ]
    }
   ],
   "source": [
    "texts.info()"
   ]
  },
  {
   "cell_type": "code",
   "execution_count": null,
   "id": "977a4b34",
   "metadata": {},
   "outputs": [
    {
     "name": "stdout",
     "output_type": "stream",
     "text": [
      "Shape: (3858, 223)\n",
      "float64    203\n",
      "int64       13\n",
      "object       7\n",
      "Name: count, dtype: int64\n",
      "Missing values total: 0\n",
      "0.0 % of total values are missing\n"
     ]
    }
   ],
   "source": [
    "# Taille du dataset\n",
    "print(\"Shape:\", texts.shape)\n",
    "\n",
    "# Types de données\n",
    "print(texts.dtypes.value_counts())\n",
    "\n",
    "# Nombre total de valeurs manquantes\n",
    "print(\"Missing values total:\", texts.isna().sum().sum())\n",
    "\n",
    "print(texts.isna().sum().sum() / (texts.shape[0] * texts.shape[1]) * 100, \"% of total values are missing\")\n"
   ]
  },
  {
   "cell_type": "code",
   "execution_count": null,
   "id": "b0e84805",
   "metadata": {},
   "outputs": [
    {
     "name": "stdout",
     "output_type": "stream",
     "text": [
      "New shape after column filtering: (3858, 217)\n",
      "Total remaining NaNs: 0\n"
     ]
    }
   ],
   "source": [
    "# Étape 1 : Ne garder que les features + la colonne \"Author\"\n",
    "# On supprime tout sauf \"Author\" et les colonnes de type numérique (features)\n",
    "cols_to_keep = ['Author'] + [col for col in texts.columns if col not in ['Title', 'URL', 'Excerpt_ID', 'Excerpt_Text', 'Cleaned_Text', 'Tokens'] and col != 'Author']\n",
    "texts = texts[cols_to_keep]\n",
    "\n",
    "# Vérification\n",
    "print(\"New shape after column filtering:\", texts.shape)\n",
    "\n",
    "# Étape 2 : Remplir les NaN par la moyenne PAR CLASSE (par 'Author')\n",
    "# Cela suppose que toutes les colonnes sauf 'Author' sont numériques\n",
    "feature_cols = [col for col in texts.columns if col != 'Author']\n",
    "\n",
    "# On remplit les NaN par la moyenne des valeurs pour chaque auteur\n",
    "texts[feature_cols] = texts.groupby('Author')[feature_cols].transform(lambda x: x.fillna(x.mean()))\n",
    "\n",
    "# Vérification post-traitement\n",
    "print(\"Total remaining NaNs:\", texts.isna().sum().sum())\n"
   ]
  },
  {
   "cell_type": "code",
   "execution_count": null,
   "id": "cc819cb1",
   "metadata": {},
   "outputs": [
    {
     "name": "stdout",
     "output_type": "stream",
     "text": [
      "Nombre de colonnes entièrement nulles ou égales à zéro : 9\n",
      "Shape finale du dataset : (3858, 208)\n"
     ]
    }
   ],
   "source": [
    "# Étape 1 : supprimer les colonnes avec uniquement des NaN\n",
    "nan_cols = texts.columns[texts.isna().all()].tolist()\n",
    "print(\"Colonnes supprimées car entièrement nulles (NaN) :\")\n",
    "print(nan_cols)\n",
    "texts = texts.dropna(axis=1, how='all')\n",
    "\n",
    "# Étape 2 : supprimer les colonnes avec uniquement des zéros (sauf colonne 'Author')\n",
    "feature_cols = [col for col in texts.columns if col != 'Author']\n",
    "zero_cols = [col for col in feature_cols if (texts[col] == 0).all()]\n",
    "\n",
    "print(f\"Nombre de colonnes entièrement nulles ou égales à zéro : {len(zero_cols)}\")\n",
    "print(\"Colonnes supprimées car uniquement constituées de zéros :\")\n",
    "print(zero_cols)\n",
    "\n",
    "# Drop them\n",
    "texts.drop(columns=zero_cols, inplace=True)\n",
    "\n",
    "# Vérification\n",
    "print(\"Shape finale du dataset :\", texts.shape)\n"
   ]
  },
  {
   "cell_type": "code",
   "execution_count": null,
   "id": "b521d158",
   "metadata": {},
   "outputs": [],
   "source": [
    "texts.to_parquet(\"../Data/stylo_embedds.parquet\", index=False)"
   ]
  },
  {
   "cell_type": "code",
   "execution_count": null,
   "id": "31a36d7a",
   "metadata": {},
   "outputs": [
    {
     "name": "stdout",
     "output_type": "stream",
     "text": [
      "0\n",
      "fw       149\n",
      "POS       11\n",
      "sent       9\n",
      "lex        8\n",
      "syn        8\n",
      "pun        6\n",
      "tense      6\n",
      "gfw        5\n",
      "dep        5\n",
      "autre      1\n",
      "Name: count, dtype: int64\n",
      "['Author', 'lex_WordCount', 'gfw_article', 'gfw_preposition', 'gfw_pronoun', 'gfw_conjunction', 'gfw_auxiliary', 'POS_NOUN', 'POS_VERB', 'POS_AUX', 'POS_ADJ', 'POS_ADV', 'POS_PRON', 'POS_DET', 'POS_ADP', 'POS_CCONJ', 'POS_SCONJ', 'POS_INTJ', 'lex_TTR', 'lex_Hapax_Ratio', 'lex_AvgWordLen', 'lex_YuleK', 'lex_SimpsonD', 'lex_Entropy', 'syn_Complexity', 'syn_NomVerbRatio', 'syn_AdjNounRatio', 'syn_AdvVerbRatio', 'syn_AlternanceRate', 'pun_Period_Count', 'pun_Comma_Count', 'pun_Semicolon_Count', 'pun_QuestionMark_Count', 'pun_ExclamationMark_Count', 'pun_Colon_Count', 'dep_advcl', 'dep_acl', 'dep_ccomp', 'dep_xcomp', 'dep_mark', 'sent_Count', 'sent_AvgLength', 'sent_MinLength', 'sent_MaxLength', 'sent_StdLength', 'sent_PassiveRatio', 'sent_Interrogative', 'sent_Exclamative', 'sent_Exclamative_INTJ', 'tense_pres_ind', 'tense_past_ind', 'tense_imp_ind', 'tense_cond', 'tense_subj', 'tense_inf', 'syn_CoordCount', 'syn_SubordCount', 'syn_SubCoordRatio', 'lex_MarkerCount']\n"
     ]
    }
   ],
   "source": [
    "# Extraire les préfixes avant le premier underscore\n",
    "prefixes = texts.columns.str.extract(r'^([^_]+)_')[0]\n",
    "\n",
    "# Remplacer les NaN (pas de préfixe) par \"autre\"\n",
    "prefixes = prefixes.fillna(\"autre\")\n",
    "\n",
    "# Compter les occurrences de chaque préfixe (ou \"autre\")\n",
    "prefix_counts = prefixes.value_counts()\n",
    "\n",
    "print(prefix_counts)\n",
    "\n",
    "# Filtrer les colonnes qui ne commencent PAS par \"fw_\"\n",
    "non_fw_columns = [col for col in texts.columns if not col.startswith('fw_')]\n",
    "\n",
    "# Afficher la liste\n",
    "print(non_fw_columns)"
   ]
  },
  {
   "cell_type": "code",
   "execution_count": null,
   "id": "0646dedb",
   "metadata": {},
   "outputs": [
    {
     "data": {
      "image/png": "[encoded data removed]",
      "text/plain": [
       "<Figure size 1000x800 with 1 Axes>"
      ]
     },
     "metadata": {},
     "output_type": "display_data"
    }
   ],
   "source": [
    "from sklearn.decomposition import PCA\n",
    "import matplotlib.pyplot as plt\n",
    "\n",
    "df = texts.copy()\n",
    "\n",
    "# Supposons df est ton DataFrame\n",
    "X = df.drop(columns=[\"Author\"])\n",
    "y = df[\"Author\"]\n",
    "\n",
    "# Réduction à 2 dimensions avec PCA\n",
    "pca = PCA(n_components=2)\n",
    "X_pca = pca.fit_transform(X)\n",
    "\n",
    "# Créer un DataFrame avec les coordonnées PCA et l'auteur\n",
    "df_pca = pd.DataFrame(X_pca, columns=[\"PC1\", \"PC2\"])\n",
    "df_pca[\"Author\"] = y\n",
    "\n",
    "# Moyenne des livres par auteur\n",
    "author_centroids = df_pca.groupby(\"Author\")[[\"PC1\", \"PC2\"]].mean().reset_index()\n",
    "\n",
    "# Affichage\n",
    "plt.figure(figsize=(10, 8))\n",
    "plt.scatter(author_centroids[\"PC1\"], author_centroids[\"PC2\"])\n",
    "\n",
    "for _, row in author_centroids.iterrows():\n",
    "    plt.text(row[\"PC1\"], row[\"PC2\"], row[\"Author\"], fontsize=9)\n",
    "\n",
    "plt.title(\"Projection 2D des auteurs (via PCA + moyenne)\")\n",
    "plt.xlabel(\"PC1\")\n",
    "plt.ylabel(\"PC2\")\n",
    "plt.grid(True)\n",
    "plt.show()"
   ]
  },
  {
   "cell_type": "markdown",
   "id": "fc6febaa",
   "metadata": {},
   "source": [
    "## Final DF with Figure of Speech tagging"
   ]
  },
  {
   "cell_type": "code",
   "execution_count": 69,
   "id": "48a4545f",
   "metadata": {},
   "outputs": [
    {
     "data": {
      "text/html": [
       "<div>\n",
       "<style scoped>\n",
       "    .dataframe tbody tr th:only-of-type {\n",
       "        vertical-align: middle;\n",
       "    }\n",
       "\n",
       "    .dataframe tbody tr th {\n",
       "        vertical-align: top;\n",
       "    }\n",
       "\n",
       "    .dataframe thead th {\n",
       "        text-align: right;\n",
       "    }\n",
       "</style>\n",
       "<table border=\"1\" class=\"dataframe\">\n",
       "  <thead>\n",
       "    <tr style=\"text-align: right;\">\n",
       "      <th></th>\n",
       "      <th>Author</th>\n",
       "      <th>lex_WordCount</th>\n",
       "      <th>fw_étés</th>\n",
       "      <th>fw_moi</th>\n",
       "      <th>fw_étions</th>\n",
       "      <th>fw_ont</th>\n",
       "      <th>fw_auront</th>\n",
       "      <th>fw_en</th>\n",
       "      <th>fw_eusse</th>\n",
       "      <th>fw_nous</th>\n",
       "      <th>...</th>\n",
       "      <th>fig_Comparaison</th>\n",
       "      <th>fig_Métaphore</th>\n",
       "      <th>fig_Personnification</th>\n",
       "      <th>fig_Hyperbole</th>\n",
       "      <th>fig_Litote</th>\n",
       "      <th>fig_Antithèse</th>\n",
       "      <th>fig_Oxymore</th>\n",
       "      <th>fig_Répétition</th>\n",
       "      <th>fig_Énumération</th>\n",
       "      <th>fig_Euphémisme</th>\n",
       "    </tr>\n",
       "  </thead>\n",
       "  <tbody>\n",
       "    <tr>\n",
       "      <th>0</th>\n",
       "      <td>George Sand</td>\n",
       "      <td>1622</td>\n",
       "      <td>0.0</td>\n",
       "      <td>0.001850</td>\n",
       "      <td>0.0</td>\n",
       "      <td>0.000000</td>\n",
       "      <td>0.0</td>\n",
       "      <td>0.011097</td>\n",
       "      <td>0.0</td>\n",
       "      <td>0.005549</td>\n",
       "      <td>...</td>\n",
       "      <td>4</td>\n",
       "      <td>2</td>\n",
       "      <td>0</td>\n",
       "      <td>1</td>\n",
       "      <td>3</td>\n",
       "      <td>0</td>\n",
       "      <td>0</td>\n",
       "      <td>2</td>\n",
       "      <td>14</td>\n",
       "      <td>0</td>\n",
       "    </tr>\n",
       "    <tr>\n",
       "      <th>1</th>\n",
       "      <td>George Sand</td>\n",
       "      <td>1644</td>\n",
       "      <td>0.0</td>\n",
       "      <td>0.001217</td>\n",
       "      <td>0.0</td>\n",
       "      <td>0.000000</td>\n",
       "      <td>0.0</td>\n",
       "      <td>0.012774</td>\n",
       "      <td>0.0</td>\n",
       "      <td>0.000000</td>\n",
       "      <td>...</td>\n",
       "      <td>10</td>\n",
       "      <td>1</td>\n",
       "      <td>1</td>\n",
       "      <td>1</td>\n",
       "      <td>1</td>\n",
       "      <td>1</td>\n",
       "      <td>0</td>\n",
       "      <td>1</td>\n",
       "      <td>9</td>\n",
       "      <td>0</td>\n",
       "    </tr>\n",
       "    <tr>\n",
       "      <th>2</th>\n",
       "      <td>George Sand</td>\n",
       "      <td>1660</td>\n",
       "      <td>0.0</td>\n",
       "      <td>0.001205</td>\n",
       "      <td>0.0</td>\n",
       "      <td>0.000602</td>\n",
       "      <td>0.0</td>\n",
       "      <td>0.007831</td>\n",
       "      <td>0.0</td>\n",
       "      <td>0.011446</td>\n",
       "      <td>...</td>\n",
       "      <td>8</td>\n",
       "      <td>1</td>\n",
       "      <td>1</td>\n",
       "      <td>0</td>\n",
       "      <td>3</td>\n",
       "      <td>1</td>\n",
       "      <td>0</td>\n",
       "      <td>2</td>\n",
       "      <td>7</td>\n",
       "      <td>1</td>\n",
       "    </tr>\n",
       "    <tr>\n",
       "      <th>3</th>\n",
       "      <td>George Sand</td>\n",
       "      <td>1510</td>\n",
       "      <td>0.0</td>\n",
       "      <td>0.001987</td>\n",
       "      <td>0.0</td>\n",
       "      <td>0.000662</td>\n",
       "      <td>0.0</td>\n",
       "      <td>0.015232</td>\n",
       "      <td>0.0</td>\n",
       "      <td>0.001987</td>\n",
       "      <td>...</td>\n",
       "      <td>7</td>\n",
       "      <td>2</td>\n",
       "      <td>0</td>\n",
       "      <td>3</td>\n",
       "      <td>0</td>\n",
       "      <td>0</td>\n",
       "      <td>0</td>\n",
       "      <td>0</td>\n",
       "      <td>4</td>\n",
       "      <td>1</td>\n",
       "    </tr>\n",
       "    <tr>\n",
       "      <th>4</th>\n",
       "      <td>George Sand</td>\n",
       "      <td>1639</td>\n",
       "      <td>0.0</td>\n",
       "      <td>0.002441</td>\n",
       "      <td>0.0</td>\n",
       "      <td>0.000000</td>\n",
       "      <td>0.0</td>\n",
       "      <td>0.010372</td>\n",
       "      <td>0.0</td>\n",
       "      <td>0.001220</td>\n",
       "      <td>...</td>\n",
       "      <td>6</td>\n",
       "      <td>1</td>\n",
       "      <td>2</td>\n",
       "      <td>1</td>\n",
       "      <td>3</td>\n",
       "      <td>2</td>\n",
       "      <td>0</td>\n",
       "      <td>0</td>\n",
       "      <td>2</td>\n",
       "      <td>1</td>\n",
       "    </tr>\n",
       "  </tbody>\n",
       "</table>\n",
       "<p>5 rows × 231 columns</p>\n",
       "</div>"
      ],
      "text/plain": [
       "        Author  lex_WordCount  fw_étés    fw_moi  fw_étions    fw_ont  \\\n",
       "0  George Sand           1622      0.0  0.001850        0.0  0.000000   \n",
       "1  George Sand           1644      0.0  0.001217        0.0  0.000000   \n",
       "2  George Sand           1660      0.0  0.001205        0.0  0.000602   \n",
       "3  George Sand           1510      0.0  0.001987        0.0  0.000662   \n",
       "4  George Sand           1639      0.0  0.002441        0.0  0.000000   \n",
       "\n",
       "   fw_auront     fw_en  fw_eusse   fw_nous  ...  fig_Comparaison  \\\n",
       "0        0.0  0.011097       0.0  0.005549  ...                4   \n",
       "1        0.0  0.012774       0.0  0.000000  ...               10   \n",
       "2        0.0  0.007831       0.0  0.011446  ...                8   \n",
       "3        0.0  0.015232       0.0  0.001987  ...                7   \n",
       "4        0.0  0.010372       0.0  0.001220  ...                6   \n",
       "\n",
       "   fig_Métaphore  fig_Personnification  fig_Hyperbole  fig_Litote  \\\n",
       "0              2                     0              1           3   \n",
       "1              1                     1              1           1   \n",
       "2              1                     1              0           3   \n",
       "3              2                     0              3           0   \n",
       "4              1                     2              1           3   \n",
       "\n",
       "   fig_Antithèse  fig_Oxymore  fig_Répétition  fig_Énumération  fig_Euphémisme  \n",
       "0              0            0               2               14               0  \n",
       "1              1            0               1                9               0  \n",
       "2              1            0               2                7               1  \n",
       "3              0            0               0                4               1  \n",
       "4              2            0               0                2               1  \n",
       "\n",
       "[5 rows x 231 columns]"
      ]
     },
     "execution_count": 69,
     "metadata": {},
     "output_type": "execute_result"
    }
   ],
   "source": [
    "fos_df.head()"
   ]
  },
  {
   "cell_type": "code",
   "execution_count": 84,
   "id": "2017b82a",
   "metadata": {},
   "outputs": [
    {
     "name": "stdout",
     "output_type": "stream",
     "text": [
      "Shape: (3858, 227)\n",
      "float64    203\n",
      "int64       23\n",
      "object       1\n",
      "Name: count, dtype: int64\n",
      "Missing values total: 0\n",
      "0.0 % of total values are missing\n"
     ]
    }
   ],
   "source": [
    "# Taille du dataset\n",
    "print(\"Shape:\", fos_df.shape)\n",
    "\n",
    "# Types de données\n",
    "print(fos_df.dtypes.value_counts())\n",
    "\n",
    "# Nombre total de valeurs manquantes\n",
    "print(\"Missing values total:\", fos_df.isna().sum().sum())\n",
    "\n",
    "print(fos_df.isna().sum().sum() / (fos_df.shape[0] * fos_df.shape[1]) * 100, \"% of total values are missing\")\n"
   ]
  },
  {
   "cell_type": "code",
   "execution_count": 87,
   "id": "e847a762",
   "metadata": {},
   "outputs": [
    {
     "name": "stdout",
     "output_type": "stream",
     "text": [
      "New shape after column filtering: (3858, 227)\n",
      "Total remaining NaNs: 0\n"
     ]
    }
   ],
   "source": [
    "# Étape 1 : Ne garder que les features + la colonne \"Author\"\n",
    "# On supprime tout sauf \"Author\" et les colonnes de type numérique (features)\n",
    "cols_to_keep = ['Author'] + [col for col in fos_df.columns if col not in ['Title', 'URL', 'Excerpt_ID', 'Excerpt_Text', 'Cleaned_Text', 'Tokens'] and col != 'Author']\n",
    "fos_df = fos_df[cols_to_keep]\n",
    "\n",
    "# Vérification\n",
    "print(\"New shape after column filtering:\", fos_df.shape)\n",
    "\n",
    "# Étape 2 : Remplir les NaN par la moyenne PAR CLASSE (par 'Author')\n",
    "# Cela suppose que toutes les colonnes sauf 'Author' sont numériques\n",
    "feature_cols = [col for col in fos_df.columns if col != 'Author']\n",
    "\n",
    "# On remplit les NaN par la moyenne des valeurs pour chaque auteur\n",
    "fos_df[feature_cols] = fos_df.groupby('Author')[feature_cols].transform(lambda x: x.fillna(x.mean()))\n",
    "\n",
    "# Vérification post-traitement\n",
    "print(\"Total remaining NaNs:\", fos_df.isna().sum().sum())\n"
   ]
  },
  {
   "cell_type": "code",
   "execution_count": 88,
   "id": "1fff4bf3",
   "metadata": {},
   "outputs": [
    {
     "name": "stdout",
     "output_type": "stream",
     "text": [
      "Colonnes supprimées car entièrement nulles (NaN) :\n",
      "[]\n",
      "Nombre de colonnes entièrement nulles ou égales à zéro : 9\n",
      "Colonnes supprimées car uniquement constituées de zéros :\n",
      "['fw_ayants', 'fw_étantes', 'fw_ayantes', 'fw_étée', 'fw_étants', 'fw_ayante', 'fw_étante', 'fw_étées', 'dep_relcl']\n",
      "Shape finale du dataset : (3858, 218)\n"
     ]
    }
   ],
   "source": [
    "# Étape 1 : supprimer les colonnes avec uniquement des NaN\n",
    "nan_cols = fos_df.columns[fos_df.isna().all()].tolist()\n",
    "print(\"Colonnes supprimées car entièrement nulles (NaN) :\")\n",
    "print(nan_cols)\n",
    "fos_df = fos_df.dropna(axis=1, how='all')\n",
    "\n",
    "# Étape 2 : supprimer les colonnes avec uniquement des zéros (sauf colonne 'Author')\n",
    "feature_cols = [col for col in fos_df.columns if col != 'Author']\n",
    "zero_cols = [col for col in feature_cols if (fos_df[col] == 0).all()]\n",
    "\n",
    "print(f\"Nombre de colonnes entièrement nulles ou égales à zéro : {len(zero_cols)}\")\n",
    "print(\"Colonnes supprimées car uniquement constituées de zéros :\")\n",
    "print(zero_cols)\n",
    "\n",
    "# Drop them\n",
    "fos_df.drop(columns=zero_cols, inplace=True)\n",
    "\n",
    "# Vérification\n",
    "print(\"Shape finale du dataset :\", fos_df.shape)\n"
   ]
  },
  {
   "cell_type": "code",
   "execution_count": 89,
   "id": "2e959e69",
   "metadata": {},
   "outputs": [],
   "source": [
    "fos_df.to_parquet(\"../Data/stylo_embedds_with_fos.parquet\", index=False)"
   ]
  },
  {
   "cell_type": "code",
   "execution_count": 90,
   "id": "e0132dfe",
   "metadata": {},
   "outputs": [
    {
     "name": "stdout",
     "output_type": "stream",
     "text": [
      "0\n",
      "fw       149\n",
      "POS       11\n",
      "fig       10\n",
      "sent       9\n",
      "lex        8\n",
      "syn        8\n",
      "pun        6\n",
      "tense      6\n",
      "gfw        5\n",
      "dep        5\n",
      "autre      1\n",
      "Name: count, dtype: int64\n",
      "['Author', 'lex_WordCount', 'gfw_article', 'gfw_preposition', 'gfw_pronoun', 'gfw_conjunction', 'gfw_auxiliary', 'POS_NOUN', 'POS_VERB', 'POS_AUX', 'POS_ADJ', 'POS_ADV', 'POS_PRON', 'POS_DET', 'POS_ADP', 'POS_CCONJ', 'POS_SCONJ', 'POS_INTJ', 'lex_TTR', 'lex_Hapax_Ratio', 'lex_AvgWordLen', 'lex_YuleK', 'lex_SimpsonD', 'lex_Entropy', 'syn_Complexity', 'syn_NomVerbRatio', 'syn_AdjNounRatio', 'syn_AdvVerbRatio', 'syn_AlternanceRate', 'pun_Period_Count', 'pun_Comma_Count', 'pun_Semicolon_Count', 'pun_QuestionMark_Count', 'pun_ExclamationMark_Count', 'pun_Colon_Count', 'dep_advcl', 'dep_acl', 'dep_mark', 'dep_ccomp', 'dep_xcomp', 'sent_Count', 'sent_AvgLength', 'sent_MinLength', 'sent_MaxLength', 'sent_StdLength', 'sent_PassiveRatio', 'sent_Interrogative', 'sent_Exclamative', 'sent_Exclamative_INTJ', 'tense_pres_ind', 'tense_past_ind', 'tense_imp_ind', 'tense_cond', 'tense_subj', 'tense_inf', 'syn_CoordCount', 'syn_SubordCount', 'syn_SubCoordRatio', 'lex_MarkerCount', 'fig_Comparaison', 'fig_Métaphore', 'fig_Personnification', 'fig_Hyperbole', 'fig_Litote', 'fig_Antithèse', 'fig_Oxymore', 'fig_Répétition', 'fig_Énumération', 'fig_Euphémisme']\n"
     ]
    }
   ],
   "source": [
    "# Extraire les préfixes avant le premier underscore\n",
    "prefixes = fos_df.columns.str.extract(r'^([^_]+)_')[0]\n",
    "\n",
    "# Remplacer les NaN (pas de préfixe) par \"autre\"\n",
    "prefixes = prefixes.fillna(\"autre\")\n",
    "\n",
    "# Compter les occurrences de chaque préfixe (ou \"autre\")\n",
    "prefix_counts = prefixes.value_counts()\n",
    "\n",
    "print(prefix_counts)\n",
    "\n",
    "# Filtrer les colonnes qui ne commencent PAS par \"fw_\"\n",
    "non_fw_columns = [col for col in fos_df.columns if not col.startswith('fw_')]\n",
    "\n",
    "# Afficher la liste\n",
    "print(non_fw_columns)"
   ]
  },
  {
   "cell_type": "code",
   "execution_count": 92,
   "id": "5b4c82fa",
   "metadata": {},
   "outputs": [
    {
     "data": {
      "image/png": "[encoded data removed]",
      "text/plain": [
       "<Figure size 1000x800 with 1 Axes>"
      ]
     },
     "metadata": {},
     "output_type": "display_data"
    }
   ],
   "source": [
    "from sklearn.decomposition import PCA\n",
    "import matplotlib.pyplot as plt\n",
    "\n",
    "df = fos_df.copy()\n",
    "\n",
    "# Supposons df est ton DataFrame\n",
    "X = df.drop(columns=[\"Author\"])\n",
    "y = df[\"Author\"]\n",
    "\n",
    "# Réduction à 2 dimensions avec PCA\n",
    "pca = PCA(n_components=2)\n",
    "X_pca = pca.fit_transform(X)\n",
    "\n",
    "# Créer un DataFrame avec les coordonnées PCA et l'auteur\n",
    "df_pca = pd.DataFrame(X_pca, columns=[\"PC1\", \"PC2\"])\n",
    "df_pca[\"Author\"] = y\n",
    "\n",
    "# Moyenne des livres par auteur\n",
    "author_centroids = df_pca.groupby(\"Author\")[[\"PC1\", \"PC2\"]].mean().reset_index()\n",
    "\n",
    "# Affichage\n",
    "plt.figure(figsize=(10, 8))\n",
    "plt.scatter(author_centroids[\"PC1\"], author_centroids[\"PC2\"])\n",
    "\n",
    "for _, row in author_centroids.iterrows():\n",
    "    plt.text(row[\"PC1\"], row[\"PC2\"], row[\"Author\"], fontsize=9)\n",
    "\n",
    "plt.title(\"Projection 2D des auteurs (via PCA + moyenne)\")\n",
    "plt.xlabel(\"PC1\")\n",
    "plt.ylabel(\"PC2\")\n",
    "plt.grid(True)\n",
    "plt.show()"
   ]
  }
 ],
 "metadata": {
  "kernelspec": {
   "display_name": "research-paper-9dnSQuhV-py3.12",
   "language": "python",
   "name": "python3"
  },
  "language_info": {
   "codemirror_mode": {
    "name": "ipython",
    "version": 3
   },
   "file_extension": ".py",
   "mimetype": "text/x-python",
   "name": "python",
   "nbconvert_exporter": "python",
   "pygments_lexer": "ipython3",
   "version": "3.12.3"
  }
 },
 "nbformat": 4,
 "nbformat_minor": 5
}
